{
 "cells": [
  {
   "cell_type": "code",
   "execution_count": 4,
   "metadata": {},
   "outputs": [],
   "source": [
    "import pandas as pd"
   ]
  },
  {
   "cell_type": "code",
   "execution_count": 13,
   "metadata": {},
   "outputs": [],
   "source": [
    "sn = pd.Series(['3some text 5', 'with 4 numbers1', '3 inside 2 plu 3'])"
   ]
  },
  {
   "cell_type": "code",
   "execution_count": 29,
   "metadata": {},
   "outputs": [
    {
     "name": "stdout",
     "output_type": "stream",
     "text": [
      "       0      \n",
      "match  0  1  2\n",
      "0      3  5  0\n",
      "1      4  1  0\n",
      "2      3  2  3\n"
     ]
    }
   ],
   "source": [
    "# Extract the numbers from the string:\n",
    "# Unstack and concatenate the numbers:\n",
    "# Handle the missing values:\n",
    "# Sum the numbers in each string of text\n",
    "# sn.str.extractall(r'(\\d+)').unstack().fillna(0).astype(int).sum(axis=1)\n",
    "# sn.str.extractall(pat=r'(\\d+)').unstack(fill_value=0).sum(axis=1)\n",
    "columns_ex = sn.str.extractall(r'(\\d+)').unstack(fill_value=0).astype(str)\n",
    "\n",
    "print(columns_ex)\n"
   ]
  },
  {
   "cell_type": "code",
   "execution_count": 31,
   "metadata": {},
   "outputs": [
    {
     "data": {
      "text/plain": [
       "0    350\n",
       "1    410\n",
       "2    323\n",
       "dtype: int64"
      ]
     },
     "execution_count": 31,
     "metadata": {},
     "output_type": "execute_result"
    }
   ],
   "source": [
    "# concatenate the numbers in columns along the index:\n",
    "columns_ex.sum(axis=1).astype(int)"
   ]
  },
  {
   "cell_type": "code",
   "execution_count": 6,
   "metadata": {},
   "outputs": [
    {
     "data": {
      "text/plain": [
       "0    35\n",
       "1    41\n",
       "2    32\n",
       "dtype: int64"
      ]
     },
     "execution_count": 6,
     "metadata": {},
     "output_type": "execute_result"
    }
   ],
   "source": [
    "(sn.str\n",
    "    .extractall(pat=r'(\\d+)')\n",
    "    # .extractall(pat=r'(?P<letter>[ab])|(?P<digit>\\d)')\n",
    "    .unstack()\n",
    "    .sum(axis=1)\n",
    "    .astype(int))"
   ]
  },
  {
   "cell_type": "code",
   "execution_count": 32,
   "metadata": {},
   "outputs": [],
   "source": [
    "import re"
   ]
  },
  {
   "cell_type": "code",
   "execution_count": 64,
   "metadata": {},
   "outputs": [
    {
     "name": "stdout",
     "output_type": "stream",
     "text": [
      "(415) 555-1011\n",
      "['(415) 555-1011', '415-555-9999']\n"
     ]
    }
   ],
   "source": [
    "# Search for phone number patterns:\n",
    "phone_regex = re.compile(r'(\\d{3}?-\\d{3}?-\\d{4})')\n",
    "\n",
    "alt_phone_pat = re.compile(r'(\\(?\\d\\d\\d[- )(]+?\\d\\d\\d[- ]?\\d\\d\\d\\d)')\n",
    "\n",
    "message = 'Call me at (415) 555-1011 tomorrow. 415-555-9999 is my office.'\n",
    "\n",
    "mo = alt_phone_pat.search(message)\n",
    "\n",
    "print(mo.group())\n",
    "\n",
    "# Findall the phone numbers:\n",
    "mo1 = alt_phone_pat.findall(message)\n",
    "\n",
    "print(mo1)\n",
    "\n",
    "\n"
   ]
  },
  {
   "cell_type": "code",
   "execution_count": 84,
   "metadata": {},
   "outputs": [
    {
     "name": "stdout",
     "output_type": "stream",
     "text": [
      "Batman\n",
      "man\n"
     ]
    },
    {
     "data": {
      "text/plain": [
       "False"
      ]
     },
     "execution_count": 84,
     "metadata": {},
     "output_type": "execute_result"
    }
   ],
   "source": [
    "# Find one of serveral patterns in a string:\n",
    "batRegex = re.compile(r'Bat(man|mobile|copter|cave)')\n",
    "mo = batRegex.search('Batman lost a wheel')\n",
    "\n",
    "print(mo.group())\n",
    "\n",
    "print(mo.group(1))\n",
    "\n",
    "mo == None"
   ]
  },
  {
   "cell_type": "code",
   "execution_count": 83,
   "metadata": {},
   "outputs": [
    {
     "data": {
      "text/plain": [
       "True"
      ]
     },
     "execution_count": 83,
     "metadata": {},
     "output_type": "execute_result"
    }
   ],
   "source": [
    "mo = batRegex.search('Robin rode the Batmotorcycle')\n",
    "\n",
    "mo == None\n",
    "\n",
    "#     return print(mo.group())\n",
    "# else return print('No matching groups')"
   ]
  },
  {
   "cell_type": "code",
   "execution_count": 89,
   "metadata": {},
   "outputs": [
    {
     "name": "stdout",
     "output_type": "stream",
     "text": [
      "Batwoman\n",
      "wo\n"
     ]
    }
   ],
   "source": [
    "import re\n",
    "regex_bat = re.compile(r'Bat(wo)?man')\n",
    "# mo = regex_bat.search('Batman and Robin met on the street')\n",
    "mo = regex_bat.search('Batwoman and Robin met on the street')\n",
    "\n",
    "\n",
    "print(mo.group())\n",
    "print(mo.group(1))"
   ]
  },
  {
   "cell_type": "code",
   "execution_count": 102,
   "metadata": {},
   "outputs": [
    {
     "name": "stdout",
     "output_type": "stream",
     "text": [
      "555-4242\n",
      "614-555-4242\n"
     ]
    }
   ],
   "source": [
    "# Search for a phone number where the area code is optional:\n",
    "import re\n",
    "regexPhone = re.compile(r'(\\d{3}-|\\(\\d{3}\\))\\d{3}-\\d{4}')\n",
    "\n",
    "regexPhone = re.compile(r'(\\d\\d\\d\\-)?(\\d\\d\\d-\\d\\d\\d\\d)')\n",
    "\n",
    "mo = regexPhone.search('My number is 555-4242')\n",
    "mo2 = regexPhone.search('My number is 614-555-4242')\n",
    "\n",
    "mo == None\n",
    "\n",
    "print(mo.group())\n",
    "print(mo2.group())\n",
    "\n"
   ]
  },
  {
   "cell_type": "code",
   "execution_count": 107,
   "metadata": {},
   "outputs": [
    {
     "name": "stdout",
     "output_type": "stream",
     "text": [
      "Batwoman\n",
      "Batwowowowoman\n"
     ]
    }
   ],
   "source": [
    "# Match a group in a string one or more times (eg: wo in Batwoman):\n",
    "import re\n",
    "regex_one_or_more = re.compile(r'Bat(wo)+man')\n",
    "# regexOneormore = re.compile(r'(\\d+)(\\s*)(\\w+)')\n",
    "\n",
    "mo = regex_one_or_more.search('Batwoman')\n",
    "mo2 = regex_one_or_more.search('Batwowowowoman')\n",
    "\n",
    "print(mo.group())\n",
    "print(mo2.group())"
   ]
  },
  {
   "cell_type": "code",
   "execution_count": 108,
   "metadata": {},
   "outputs": [
    {
     "name": "stdout",
     "output_type": "stream",
     "text": [
      "Batwoman\n",
      "Batwowowowoman\n",
      "Batman\n"
     ]
    }
   ],
   "source": [
    "# Match a group in a string zero or more times (eg: wo in Batman):\n",
    "import re\n",
    "regex_zero_or_more = re.compile(r'Bat(wo)*man')\n",
    "# regexOneormore = re.compile(r'(\\d+)(\\s*)(\\w+)')\n",
    "\n",
    "mo = regex_zero_or_more.search('Batwoman')\n",
    "mo2 = regex_zero_or_more.search('Batwowowowoman')\n",
    "mo3 = regex_zero_or_more.search('Batman')\n",
    "\n",
    "print(mo.group())\n",
    "print(mo2.group())\n",
    "print(mo3.group())"
   ]
  },
  {
   "cell_type": "code",
   "execution_count": null,
   "metadata": {},
   "outputs": [],
   "source": []
  }
 ],
 "metadata": {
  "kernelspec": {
   "display_name": "Python 3.9.10",
   "language": "python",
   "name": "python3"
  },
  "language_info": {
   "codemirror_mode": {
    "name": "ipython",
    "version": 3
   },
   "file_extension": ".py",
   "mimetype": "text/x-python",
   "name": "python",
   "nbconvert_exporter": "python",
   "pygments_lexer": "ipython3",
   "version": "3.9.10"
  },
  "orig_nbformat": 4,
  "vscode": {
   "interpreter": {
    "hash": "b29df53a373a75f04ac216b720f486bfd73e41a5a0018838dedd490de94cf09c"
   }
  }
 },
 "nbformat": 4,
 "nbformat_minor": 2
}
