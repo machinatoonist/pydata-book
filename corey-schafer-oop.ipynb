{
 "cells": [
  {
   "cell_type": "markdown",
   "metadata": {},
   "source": [
    "## Class Variables"
   ]
  },
  {
   "cell_type": "code",
   "execution_count": 57,
   "metadata": {},
   "outputs": [
    {
     "name": "stdout",
     "output_type": "stream",
     "text": [
      "2\n"
     ]
    }
   ],
   "source": [
    "# Python Object-Oriented Programming\n",
    "\n",
    "# Represent employees in a company as a class\n",
    "# Create a class called Employee\n",
    "\n",
    "class Employee:\n",
    "    # Class variables\n",
    "    num_of_emps = 0\n",
    "    \n",
    "    # Instance variables\n",
    "    raise_amount = 1.04\n",
    "    \n",
    "    def __init__(self, first, last, pay):\n",
    "        self.first = first\n",
    "        self.last = last\n",
    "        self.pay = pay\n",
    "        self.email = first + '.' + last + '@company.com'\n",
    "        \n",
    "        Employee.num_of_emps += 1\n",
    "\n",
    "    def fullname(self):\n",
    "        return '{} {}'.format(self.first, self.last)\n",
    "    \n",
    "    def apply_raise(self):\n",
    "        # Instance variable when called on an instance. Gives us the \n",
    "        # ability to change the raise amount for a single instance\n",
    "        self.pay = int(self.pay * self.raise_amount)\n",
    "        # Class variable when called on the class\n",
    "        # self.pay = int(self.pay * Employee.raise_amount)\n",
    "\n",
    "    def __repr__(self):\n",
    "        return \"Employee('{}', '{}', {})\".format(self.first, self.last, self.pay)\n",
    "\n",
    "emp_1 = Employee('John', 'Smith', 90000)\n",
    "emp_2 = Employee('Corey', 'Schafer', 50000)\n",
    "\n",
    "# When we try to access an attribute on an instance it will look for the attribute on the instance\n",
    "# If it doesn't find it it will look for the attribute on the class\n",
    "\n",
    "print(Employee.num_of_emps)\n",
    "\n"
   ]
  },
  {
   "cell_type": "code",
   "execution_count": 58,
   "metadata": {},
   "outputs": [
    {
     "name": "stdout",
     "output_type": "stream",
     "text": [
      "{'first': 'John', 'last': 'Smith', 'pay': 90000, 'email': 'John.Smith@company.com'}\n"
     ]
    }
   ],
   "source": [
    "# The attribute is not found on the instance so it will look for it on the class\n",
    "print(emp_1.__dict__)"
   ]
  },
  {
   "cell_type": "code",
   "execution_count": 59,
   "metadata": {},
   "outputs": [
    {
     "name": "stdout",
     "output_type": "stream",
     "text": [
      "{'first': 'John', 'last': 'Smith', 'pay': 90000, 'email': 'John.Smith@company.com', 'raise_amount': 1.05}\n"
     ]
    }
   ],
   "source": [
    "# The attribute is now in the instance\n",
    "emp_1.raise_amount = 1.05\n",
    "print(emp_1.__dict__)"
   ]
  },
  {
   "cell_type": "code",
   "execution_count": 60,
   "metadata": {},
   "outputs": [
    {
     "name": "stdout",
     "output_type": "stream",
     "text": [
      "{'__module__': '__main__', 'num_of_emps': 2, 'raise_amount': 1.04, '__init__': <function Employee.__init__ at 0x105e150d0>, 'fullname': <function Employee.fullname at 0x105e151f0>, 'apply_raise': <function Employee.apply_raise at 0x105e15280>, '__repr__': <function Employee.__repr__ at 0x105e15310>, '__dict__': <attribute '__dict__' of 'Employee' objects>, '__weakref__': <attribute '__weakref__' of 'Employee' objects>, '__doc__': None}\n"
     ]
    }
   ],
   "source": [
    "print(Employee.__dict__)"
   ]
  },
  {
   "cell_type": "code",
   "execution_count": 61,
   "metadata": {},
   "outputs": [
    {
     "name": "stdout",
     "output_type": "stream",
     "text": [
      "{'first': 'Corey', 'last': 'Schafer', 'pay': 50000, 'email': 'Corey.Schafer@company.com'}\n"
     ]
    }
   ],
   "source": [
    "print(emp_2.__dict__)"
   ]
  },
  {
   "cell_type": "code",
   "execution_count": 62,
   "metadata": {},
   "outputs": [
    {
     "name": "stdout",
     "output_type": "stream",
     "text": [
      "John.Smith@company.com\n",
      "John Smith\n",
      "John Smith\n",
      "90000\n",
      "94500\n",
      "50000\n",
      "94500\n",
      "52000\n",
      "1.04\n",
      "1.05\n",
      "1.04\n"
     ]
    }
   ],
   "source": [
    "print(emp_1.email)\n",
    "print(emp_1.fullname())\n",
    "print(Employee.fullname(emp_1))\n",
    "\n",
    "emp_1.raise_amount = 1.05\n",
    "print(emp_1.pay)\n",
    "emp_1.apply_raise()\n",
    "print(emp_1.pay)\n",
    "print(emp_2.pay)\n",
    "Employee.apply_raise(emp_2)\n",
    "print(emp_1.pay)\n",
    "print(emp_2.pay)\n",
    "\n",
    "print(Employee.raise_amount)\n",
    "print(emp_1.raise_amount)\n",
    "print(emp_2.raise_amount)"
   ]
  },
  {
   "cell_type": "markdown",
   "metadata": {},
   "source": [
    "## Regular, Class Methods and Static Methods"
   ]
  },
  {
   "cell_type": "code",
   "execution_count": 88,
   "metadata": {},
   "outputs": [],
   "source": [
    "class Employee:\n",
    "    # Class variables\n",
    "    num_of_emps = 0\n",
    "    \n",
    "    # Instance variables\n",
    "    raise_amount = 1.04\n",
    "    \n",
    "    def __init__(self, first, last, pay):\n",
    "        self.first = first\n",
    "        self.last = last\n",
    "        self.pay = pay\n",
    "        self.email = first + '.' + last + '@company.com'\n",
    "        \n",
    "        Employee.num_of_emps += 1\n",
    "\n",
    "    # A regular method automatically take the instance as the first argument\n",
    "    def fullname(self):\n",
    "        return '{} {}'.format(self.first, self.last)\n",
    "    \n",
    "    def apply_raise(self):\n",
    "        self.pay = int(self.pay * self.raise_amount)\n",
    "    \n",
    "    # Alter the functionality to take the class as the first argument\n",
    "    @classmethod\n",
    "    def set_raise_amount(cls, amount):\n",
    "        cls.raise_amount = amount\n",
    "    \n",
    "    # Create a class method that parses the string and returns a new instance\n",
    "    # Alternative constructor for use case where we need to parse a string with hyphens\n",
    "    @classmethod\n",
    "    def from_string(cls, emp_str):\n",
    "        first, last, pay = emp_str.split('-')\n",
    "        # Create new employee instance\n",
    "        return cls(first, last, pay)\n",
    "    \n",
    "    # Create a static method that takes a date and returns whether or not the date is a weekday\n",
    "    # A static method doesn't take the instance or class as an argument\n",
    "    @staticmethod\n",
    "    def is_workday(day):\n",
    "        if day.weekday() == 5 or day.weekday() == 6:\n",
    "            return False\n",
    "        return True"
   ]
  },
  {
   "cell_type": "code",
   "execution_count": 89,
   "metadata": {},
   "outputs": [
    {
     "name": "stdout",
     "output_type": "stream",
     "text": [
      "1.05\n",
      "1.05\n",
      "1.05\n"
     ]
    }
   ],
   "source": [
    "emp_1 = Employee('John', 'Smith', 90000)\n",
    "emp_2 = Employee('Corey', 'Schafer', 50000)\n",
    "\n",
    "Employee.set_raise_amount(1.05)\n",
    "\n",
    "print(Employee.raise_amount)\n",
    "print(emp_1.raise_amount)\n",
    "print(emp_2.raise_amount)"
   ]
  },
  {
   "cell_type": "code",
   "execution_count": 90,
   "metadata": {},
   "outputs": [
    {
     "data": {
      "text/plain": [
       "{'first': 'John',\n",
       " 'last': 'Smith',\n",
       " 'pay': 90000,\n",
       " 'email': 'John.Smith@company.com'}"
      ]
     },
     "execution_count": 90,
     "metadata": {},
     "output_type": "execute_result"
    }
   ],
   "source": [
    "emp_1.__dict__"
   ]
  },
  {
   "cell_type": "code",
   "execution_count": 91,
   "metadata": {},
   "outputs": [
    {
     "data": {
      "text/plain": [
       "mappingproxy({'__module__': '__main__',\n",
       "              'num_of_emps': 2,\n",
       "              'raise_amount': 1.05,\n",
       "              '__init__': <function __main__.Employee.__init__(self, first, last, pay)>,\n",
       "              'fullname': <function __main__.Employee.fullname(self)>,\n",
       "              'apply_raise': <function __main__.Employee.apply_raise(self)>,\n",
       "              'set_raise_amount': <classmethod at 0x104f4d640>,\n",
       "              'from_string': <classmethod at 0x104f4ddf0>,\n",
       "              'is_workday': <staticmethod at 0x104f4d250>,\n",
       "              '__dict__': <attribute '__dict__' of 'Employee' objects>,\n",
       "              '__weakref__': <attribute '__weakref__' of 'Employee' objects>,\n",
       "              '__doc__': None})"
      ]
     },
     "execution_count": 91,
     "metadata": {},
     "output_type": "execute_result"
    }
   ],
   "source": [
    "Employee.__dict__"
   ]
  },
  {
   "cell_type": "code",
   "execution_count": 92,
   "metadata": {},
   "outputs": [
    {
     "name": "stdout",
     "output_type": "stream",
     "text": [
      "John.Doe@company.com\n",
      "90000\n",
      "Steve.Smith@company.com\n",
      "70000\n"
     ]
    }
   ],
   "source": [
    "emp_str_1 = 'John-Doe-90000'\n",
    "emp_str_2 = 'Steve-Smith-70000'\n",
    "emp_str_3 = 'Jane-Doe-100000'\n",
    "\n",
    "first, last, pay = emp_str_1.split('-')\n",
    "\n",
    "# Create new employee instance\n",
    "new_emp_1 = Employee(first, last, pay)\n",
    "\n",
    "# Create new employee instance using the alternative constructor\n",
    "new_emp_2 = Employee.from_string(emp_str_2)\n",
    "\n",
    "print(new_emp_1.email)\n",
    "print(new_emp_1.pay)\n",
    "print(new_emp_2.email)\n",
    "print(new_emp_2.pay)"
   ]
  },
  {
   "cell_type": "code",
   "execution_count": 94,
   "metadata": {},
   "outputs": [
    {
     "name": "stdout",
     "output_type": "stream",
     "text": [
      "True\n"
     ]
    }
   ],
   "source": [
    "# Test static method\n",
    "import datetime\n",
    "my_date = datetime.date(2022, 7, 7)\n",
    "\n",
    "print(Employee.is_workday(my_date))"
   ]
  },
  {
   "cell_type": "markdown",
   "metadata": {},
   "source": [
    "## Inheritance - Creating Subclasses"
   ]
  },
  {
   "cell_type": "markdown",
   "metadata": {},
   "source": [
    "Create a new class by inheriting from the Employee class"
   ]
  },
  {
   "cell_type": "code",
   "execution_count": 109,
   "metadata": {},
   "outputs": [
    {
     "name": "stdout",
     "output_type": "stream",
     "text": [
      "Sue.Smith@company.com\n",
      "--> Corey Schafer\n",
      "R\n",
      "Python\n",
      "90000\n",
      "99000\n"
     ]
    }
   ],
   "source": [
    "class Employee:\n",
    "    \n",
    "    raise_amount = 1.04\n",
    "    \n",
    "    def __init__(self, first, last, pay):\n",
    "        self.first = first\n",
    "        self.last = last\n",
    "        self.pay = pay\n",
    "        self.email = first + '.' + last + '@company.com'\n",
    "        \n",
    "    # A regular method automatically take the instance as the first argument\n",
    "    def fullname(self):\n",
    "        return '{} {}'.format(self.first, self.last)\n",
    "    \n",
    "    def apply_raise(self):\n",
    "        self.pay = int(self.pay * self.raise_amount)\n",
    "\n",
    "# We can make changes to the subclass without affecting the parent class\n",
    "class Developer(Employee):\n",
    "    raise_amount = 1.10\n",
    "    \n",
    "    # Initiate the subclass with more information\n",
    "    def __init__(self, first, last, pay, prog_lang):\n",
    "        # Don't repeat the Employee init method, use super().init\n",
    "        super().__init__(first, last, pay)\n",
    "        self.prog_lang = prog_lang\n",
    "\n",
    "# Code is specific to the manager class\n",
    "class Manager(Employee):\n",
    "    \n",
    "    # Pass in a list of employees to be managed\n",
    "    def __init__(self, first, last, pay, employees=None):\n",
    "        # Inherit from Employee\n",
    "        super().__init__(first, last, pay)\n",
    "        if employees is None:\n",
    "            self.employees = []\n",
    "        else:\n",
    "            self.employees = employees\n",
    "    \n",
    "    def add_employee(self, emp):\n",
    "        if emp not in self.employees:\n",
    "            self.employees.append(emp)\n",
    "    \n",
    "    def remove_employee(self, emp):\n",
    "        if emp in self.employees:\n",
    "            self.employees.remove(emp)\n",
    "    \n",
    "    def print_employees(self):\n",
    "        for emp in self.employees:\n",
    "            print('-->', emp.fullname())\n",
    "\n",
    "# Uses the method resolution order to find the method\n",
    "dev_1 = Developer('John', 'Smith', 90000, 'R')\n",
    "dev_2 = Developer('Corey', 'Schafer', 50000, 'Python')\n",
    "\n",
    "mgr_1 = Manager('Sue', 'Smith', 90000, [dev_1])\n",
    "\n",
    "print(mgr_1.email)\n",
    "\n",
    "mgr_1.add_employee(dev_2)\n",
    "mgr_1.remove_employee(dev_1)\n",
    "mgr_1.print_employees()\n",
    "\n",
    "# print(help(Developer))\n",
    "print(dev_1.prog_lang)\n",
    "print(dev_2.prog_lang)\n",
    "\n",
    "print(dev_1.pay)\n",
    "dev_1.apply_raise()\n",
    "print(dev_1.pay)"
   ]
  },
  {
   "cell_type": "code",
   "execution_count": 110,
   "metadata": {},
   "outputs": [
    {
     "name": "stdout",
     "output_type": "stream",
     "text": [
      "True\n"
     ]
    }
   ],
   "source": [
    "print(isinstance(mgr_1, Manager))"
   ]
  },
  {
   "cell_type": "code",
   "execution_count": 112,
   "metadata": {},
   "outputs": [
    {
     "name": "stdout",
     "output_type": "stream",
     "text": [
      "False\n"
     ]
    }
   ],
   "source": [
    "print(isinstance(mgr_1, Developer))"
   ]
  },
  {
   "cell_type": "code",
   "execution_count": 116,
   "metadata": {},
   "outputs": [
    {
     "name": "stdout",
     "output_type": "stream",
     "text": [
      "True\n"
     ]
    }
   ],
   "source": [
    "print(issubclass(Manager, Employee))"
   ]
  },
  {
   "cell_type": "markdown",
   "metadata": {},
   "source": [
    "## Special and Magic/Dunder Classes"
   ]
  },
  {
   "cell_type": "code",
   "execution_count": 164,
   "metadata": {},
   "outputs": [
    {
     "name": "stdout",
     "output_type": "stream",
     "text": [
      "Employee('Matt', 'Rosinski', 90000)\n",
      "Matt Rosinski - Matt.Rosinski@company.com\n",
      "Matt Rosinski - Matt.Rosinski@company.com\n",
      "<class '__main__.Employee'>\n",
      "Employee('Matt', 'Rosinski', 90000)\n",
      "Matt Rosinski - Matt.Rosinski@company.com\n",
      "140000\n",
      "13\n",
      "13\n"
     ]
    }
   ],
   "source": [
    "class Employee:\n",
    "    def __init__(self, first, last, pay):\n",
    "        self.first = first\n",
    "        self.last = last\n",
    "        self.pay = pay\n",
    "        self.email = first + '.' + last + '@company.com'\n",
    "    \n",
    "    def fullname(self):\n",
    "        return '{} {}'.format(self.first, self.last)\n",
    "    \n",
    "    def apply_raise(self):\n",
    "        self.pay = int(self.pay * self.raise_amount)\n",
    "    \n",
    "    # Create an unambiguous representation of the object for debugging\n",
    "    # Return code that can be copy and pasted to recreate the object from the string\n",
    "    def __repr__(self):\n",
    "        return \"Employee('{}', '{}', {})\".format(self.first, self.last, self.pay)\n",
    "    \n",
    "    # Create a readable representation of the object\n",
    "    def __str__(self):\n",
    "        return '{} - {}'.format(self.fullname(), self.email)\n",
    "    \n",
    "    # Add class objects together\n",
    "    def __add__(self, other):\n",
    "        return self.pay + other.pay\n",
    "    \n",
    "    # Return the length of the fullname\n",
    "    def __len__(self):\n",
    "        return len(self.fullname())\n",
    "    \n",
    "emp_1 = Employee('Matt', 'Rosinski', 90000)\n",
    "emp_2 = Employee('Corey', 'Schafer', 50000)\n",
    "\n",
    "print(repr(emp_1))\n",
    "print(str(emp_1))\n",
    "print(emp_1)\n",
    "print(type(emp_1))\n",
    "\n",
    "print(emp_1.__repr__())\n",
    "print(emp_1.__str__())\n",
    "\n",
    "print(emp_1 + emp_2)\n",
    "\n",
    "print(len(emp_1))\n",
    "print(len(emp_2))\n",
    "\n",
    "# print(dir(emp_1))\n",
    "\n",
    "# print(int.__add__(1, 2))\n",
    "# print(str.__add__('a', 'b'))\n",
    "\n",
    "# See dunder method examples in https://github.com/python/cpython/blob/3.10/Lib/datetime.py and Python documentation\n"
   ]
  },
  {
   "cell_type": "markdown",
   "metadata": {},
   "source": [
    "## Property Decorators - Getters, Setters and Deleters"
   ]
  },
  {
   "cell_type": "code",
   "execution_count": 140,
   "metadata": {},
   "outputs": [
    {
     "name": "stdout",
     "output_type": "stream",
     "text": [
      "Matt\n",
      "Matt.Rosinski@company.com\n",
      "Matt Rosinski\n",
      "Delete name!\n",
      "None\n"
     ]
    }
   ],
   "source": [
    "class Employee:\n",
    "    def __init__(self, first, last):\n",
    "        self.first = first\n",
    "        self.last = last\n",
    "        # Defining email here will not update if changes are made to first and last\n",
    "        # self.email = self.first + '.' + self.last + '@company.com'\n",
    "    \n",
    "    # The property decorator allows us to define a method that can be used as an attribute\n",
    "    @property\n",
    "    def email(self):\n",
    "        return self.first + '.' + self.last + '@company.com'\n",
    "    \n",
    "    @property\n",
    "    def fullname(self):\n",
    "        return '{} {}'.format(self.first, self.last)\n",
    "    \n",
    "    # Create a setter for fullname\n",
    "    @fullname.setter\n",
    "    def fullname(self, name):\n",
    "        first, last = name.split(' ')\n",
    "        self.first = first\n",
    "        self.last = last\n",
    "        \n",
    "    # Create a deleter for fullname\n",
    "    @fullname.deleter\n",
    "    def fullname(self):\n",
    "        print('Delete name!')\n",
    "        self.first = None\n",
    "        self.last = None\n",
    "\n",
    "emp_1 = Employee('John', 'Smith')\n",
    "\n",
    "emp_1.fullname = 'Matt Rosinski'\n",
    "\n",
    "# emp_1.first = 'Jim'\n",
    "\n",
    "print(emp_1.first)\n",
    "print(emp_1.email)\n",
    "print(emp_1.fullname)\n",
    "\n",
    "del emp_1.fullname\n",
    "\n",
    "\n"
   ]
  },
  {
   "cell_type": "code",
   "execution_count": null,
   "metadata": {},
   "outputs": [],
   "source": []
  }
 ],
 "metadata": {
  "kernelspec": {
   "display_name": "Python 3.9.10",
   "language": "python",
   "name": "python3"
  },
  "language_info": {
   "codemirror_mode": {
    "name": "ipython",
    "version": 3
   },
   "file_extension": ".py",
   "mimetype": "text/x-python",
   "name": "python",
   "nbconvert_exporter": "python",
   "pygments_lexer": "ipython3",
   "version": "3.9.10"
  },
  "orig_nbformat": 4,
  "vscode": {
   "interpreter": {
    "hash": "b29df53a373a75f04ac216b720f486bfd73e41a5a0018838dedd490de94cf09c"
   }
  }
 },
 "nbformat": 4,
 "nbformat_minor": 2
}
