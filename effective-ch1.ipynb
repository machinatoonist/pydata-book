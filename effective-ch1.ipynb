{
 "cells": [
  {
   "cell_type": "code",
   "execution_count": 1,
   "id": "45b20d8b-f3e0-4c82-a6ce-f3a993f1e81d",
   "metadata": {
    "tags": []
   },
   "outputs": [],
   "source": [
    "import pandas"
   ]
  },
  {
   "cell_type": "code",
   "execution_count": 2,
   "id": "3b84a29f-989f-4270-be46-6bea9eef3365",
   "metadata": {},
   "outputs": [
    {
     "name": "stdout",
     "output_type": "stream",
     "text": [
      "/Users/mattrosinski/mambaforge/bin/python\n"
     ]
    }
   ],
   "source": [
    "!which python"
   ]
  },
  {
   "cell_type": "code",
   "execution_count": 3,
   "id": "d0d7eb7d-bd3a-4ffa-8cac-8691292d6f75",
   "metadata": {},
   "outputs": [],
   "source": [
    "# pandas.show_versions()"
   ]
  },
  {
   "cell_type": "code",
   "execution_count": 4,
   "id": "e4c8660a-e590-4d26-a6e8-021301609768",
   "metadata": {},
   "outputs": [],
   "source": [
    "series = {\n",
    "    'index':[0, 1, 2, 3, 4],\n",
    "    'data':[148, 142, 5, 9, 21],\n",
    "    'name':'songs'\n",
    "}"
   ]
  },
  {
   "cell_type": "code",
   "execution_count": 5,
   "id": "cac35de9-a96b-4983-b6ae-713fae86cee2",
   "metadata": {},
   "outputs": [
    {
     "data": {
      "text/plain": [
       "dict"
      ]
     },
     "execution_count": 5,
     "metadata": {},
     "output_type": "execute_result"
    }
   ],
   "source": [
    "type(series)"
   ]
  },
  {
   "cell_type": "code",
   "execution_count": 6,
   "id": "cae12981-9ed9-4886-b8fe-f41298a63e9b",
   "metadata": {},
   "outputs": [],
   "source": [
    "def get(series, idx):\n",
    "    value_idx = series['index'].index(idx)\n",
    "    return series['data'][value_idx]"
   ]
  },
  {
   "cell_type": "code",
   "execution_count": 7,
   "id": "99800065-139f-4187-9862-8db880f83ab9",
   "metadata": {},
   "outputs": [
    {
     "data": {
      "text/plain": [
       "21"
      ]
     },
     "execution_count": 7,
     "metadata": {},
     "output_type": "execute_result"
    }
   ],
   "source": [
    "get(series, 4)"
   ]
  },
  {
   "cell_type": "markdown",
   "id": "7c5550b0-ab97-4278-8c36-6d03668d038c",
   "metadata": {},
   "source": [
    "This seems like a doubleup.  Why index into index with itself?"
   ]
  },
  {
   "cell_type": "code",
   "execution_count": 8,
   "id": "3bce7004-6726-47f2-a777-6f16724ca065",
   "metadata": {},
   "outputs": [
    {
     "data": {
      "text/plain": [
       "1"
      ]
     },
     "execution_count": 8,
     "metadata": {},
     "output_type": "execute_result"
    }
   ],
   "source": [
    "series['index'].index(1)"
   ]
  },
  {
   "cell_type": "code",
   "execution_count": 9,
   "id": "ea80438a-cf13-4327-94c1-9b844f403c93",
   "metadata": {},
   "outputs": [],
   "source": [
    "songs = {\n",
    "    'index':['Paul', 'John', 'George', 'Ringo'],\n",
    "    'data':[145, 142, 38, 13],\n",
    "    'name':'counts'\n",
    "}"
   ]
  },
  {
   "cell_type": "code",
   "execution_count": 10,
   "id": "20c76003-ddc5-4bef-8439-caafa72d3ff3",
   "metadata": {},
   "outputs": [
    {
     "data": {
      "text/plain": [
       "145"
      ]
     },
     "execution_count": 10,
     "metadata": {},
     "output_type": "execute_result"
    }
   ],
   "source": [
    "get(songs, 'Paul')"
   ]
  },
  {
   "cell_type": "code",
   "execution_count": 11,
   "id": "a25d9bfb-f4ed-4c4f-a4fb-db9d1d5e4fe0",
   "metadata": {},
   "outputs": [
    {
     "data": {
      "text/plain": [
       "13"
      ]
     },
     "execution_count": 11,
     "metadata": {},
     "output_type": "execute_result"
    }
   ],
   "source": [
    "get(songs, 'Ringo')"
   ]
  },
  {
   "cell_type": "markdown",
   "id": "5f0d8374-474e-4417-8bd5-568d3c6064b5",
   "metadata": {},
   "source": [
    "The trick is that now we have a way to convert any index to an integer key"
   ]
  },
  {
   "cell_type": "code",
   "execution_count": 12,
   "id": "97abb6b4-ba28-4174-a2cc-2d1d032fa2c6",
   "metadata": {
    "tags": []
   },
   "outputs": [
    {
     "data": {
      "text/plain": [
       "3"
      ]
     },
     "execution_count": 12,
     "metadata": {},
     "output_type": "execute_result"
    }
   ],
   "source": [
    "songs['index'].index('Ringo')"
   ]
  },
  {
   "cell_type": "code",
   "execution_count": 13,
   "id": "2157da72-8350-4f47-9c82-a1a9d043a823",
   "metadata": {},
   "outputs": [
    {
     "data": {
      "text/plain": [
       "0"
      ]
     },
     "execution_count": 13,
     "metadata": {},
     "output_type": "execute_result"
    }
   ],
   "source": [
    "songs['index'].index('Paul')"
   ]
  },
  {
   "cell_type": "markdown",
   "id": "869c050f-d29e-437d-a3bf-78f26c67d8c2",
   "metadata": {},
   "source": [
    "When there are duplicates in the index the first index is returned"
   ]
  },
  {
   "cell_type": "code",
   "execution_count": 14,
   "id": "5f9f4083-8b42-4241-9fdf-a07baf0353a3",
   "metadata": {},
   "outputs": [],
   "source": [
    "import pandas as pd"
   ]
  },
  {
   "cell_type": "code",
   "execution_count": 15,
   "id": "fc6f5b3c-a10d-4bee-8e74-d92b2d7a995a",
   "metadata": {},
   "outputs": [],
   "source": [
    "song2 = pd.Series([145, 142, 38, 13],\n",
    "                 name='counts')"
   ]
  },
  {
   "cell_type": "code",
   "execution_count": 16,
   "id": "4456966c-58d7-4eaa-87b9-ab0547ec5515",
   "metadata": {},
   "outputs": [
    {
     "data": {
      "text/plain": [
       "0    145\n",
       "1    142\n",
       "2     38\n",
       "3     13\n",
       "Name: counts, dtype: int64"
      ]
     },
     "execution_count": 16,
     "metadata": {},
     "output_type": "execute_result"
    }
   ],
   "source": [
    "song2"
   ]
  },
  {
   "cell_type": "code",
   "execution_count": 17,
   "id": "3330680a-d2ff-456a-8427-d939474d21c2",
   "metadata": {},
   "outputs": [
    {
     "data": {
      "text/plain": [
       "array([145, 142,  38,  13])"
      ]
     },
     "execution_count": 17,
     "metadata": {},
     "output_type": "execute_result"
    }
   ],
   "source": [
    "song2.values"
   ]
  },
  {
   "cell_type": "code",
   "execution_count": 18,
   "id": "5e554cd4-3afa-43ac-b893-802064da495e",
   "metadata": {},
   "outputs": [
    {
     "data": {
      "text/plain": [
       "'counts'"
      ]
     },
     "execution_count": 18,
     "metadata": {},
     "output_type": "execute_result"
    }
   ],
   "source": [
    "song2.name"
   ]
  },
  {
   "cell_type": "code",
   "execution_count": 19,
   "id": "5414d1cf-f267-40b8-9032-83d824e6d739",
   "metadata": {},
   "outputs": [
    {
     "data": {
      "text/plain": [
       "RangeIndex(start=0, stop=4, step=1)"
      ]
     },
     "execution_count": 19,
     "metadata": {},
     "output_type": "execute_result"
    }
   ],
   "source": [
    "song2.index"
   ]
  },
  {
   "cell_type": "code",
   "execution_count": 20,
   "id": "488473ba-384e-4b24-afbc-e58762dcb9c3",
   "metadata": {},
   "outputs": [],
   "source": [
    "songs3 = pd.Series([145, 142, 38, 13],\n",
    "                  name = 'counts',\n",
    "                  index = ['Paul', 'John', 'George', 'Ringo'])"
   ]
  },
  {
   "cell_type": "code",
   "execution_count": 21,
   "id": "c30195ec-59fa-468e-a66d-3cf80f6ea06f",
   "metadata": {},
   "outputs": [
    {
     "data": {
      "text/plain": [
       "array([145, 142,  38,  13])"
      ]
     },
     "execution_count": 21,
     "metadata": {},
     "output_type": "execute_result"
    }
   ],
   "source": [
    "songs3.values"
   ]
  },
  {
   "cell_type": "code",
   "execution_count": 22,
   "id": "ce5d9135-3d12-4610-b49a-9cb220b79a05",
   "metadata": {},
   "outputs": [
    {
     "data": {
      "text/plain": [
       "'counts'"
      ]
     },
     "execution_count": 22,
     "metadata": {},
     "output_type": "execute_result"
    }
   ],
   "source": [
    "songs3.name"
   ]
  },
  {
   "cell_type": "code",
   "execution_count": 23,
   "id": "9f593b7a-338c-4dad-a2ca-25743e9b8018",
   "metadata": {},
   "outputs": [
    {
     "data": {
      "text/plain": [
       "Index(['Paul', 'John', 'George', 'Ringo'], dtype='object')"
      ]
     },
     "execution_count": 23,
     "metadata": {},
     "output_type": "execute_result"
    }
   ],
   "source": [
    "songs3.index"
   ]
  },
  {
   "cell_type": "code",
   "execution_count": 24,
   "id": "ddc6b5df-798f-4454-b3a9-7b5c2ec6d40d",
   "metadata": {},
   "outputs": [
    {
     "data": {
      "text/plain": [
       "13"
      ]
     },
     "execution_count": 24,
     "metadata": {},
     "output_type": "execute_result"
    }
   ],
   "source": [
    "songs3['Ringo']"
   ]
  },
  {
   "cell_type": "code",
   "execution_count": 25,
   "id": "349d5295-bf4c-41a9-9cac-091da858208d",
   "metadata": {},
   "outputs": [],
   "source": [
    "class Foo:\n",
    "    pass"
   ]
  },
  {
   "cell_type": "code",
   "execution_count": 26,
   "id": "486daa4e-730d-4d49-9b7c-328923f5464d",
   "metadata": {},
   "outputs": [],
   "source": [
    "ringo = pd.Series(\n",
    "    ['Richard', 'Starkey', 13, Foo()],\n",
    "    name = 'ringo')"
   ]
  },
  {
   "cell_type": "code",
   "execution_count": 27,
   "id": "dc365fff-b032-4b34-bfdd-a9f425ec5323",
   "metadata": {},
   "outputs": [
    {
     "data": {
      "text/plain": [
       "0                                 Richard\n",
       "1                                 Starkey\n",
       "2                                      13\n",
       "3    <__main__.Foo object at 0x127bd2ca0>\n",
       "Name: ringo, dtype: object"
      ]
     },
     "execution_count": 27,
     "metadata": {},
     "output_type": "execute_result"
    }
   ],
   "source": [
    "ringo"
   ]
  },
  {
   "cell_type": "markdown",
   "id": "cdaef2a2-1fe4-4426-8a3a-4689620160f8",
   "metadata": {},
   "source": [
    "The NaN value"
   ]
  },
  {
   "cell_type": "code",
   "execution_count": 28,
   "id": "2fbdc6bb-ec0d-4023-963c-93bd3770f34a",
   "metadata": {},
   "outputs": [],
   "source": [
    "import numpy as np"
   ]
  },
  {
   "cell_type": "code",
   "execution_count": 29,
   "id": "69656831-683b-454b-b8b7-9e49af0f3d7c",
   "metadata": {},
   "outputs": [],
   "source": [
    "nan_series = pd.Series([2, np.nan],\n",
    "                      index=['Ono', 'Clapton'])"
   ]
  },
  {
   "cell_type": "code",
   "execution_count": 30,
   "id": "71afab2c-bb0a-44f4-9e37-afc365380816",
   "metadata": {},
   "outputs": [
    {
     "data": {
      "text/plain": [
       "Ono        2.0\n",
       "Clapton    NaN\n",
       "dtype: float64"
      ]
     },
     "execution_count": 30,
     "metadata": {},
     "output_type": "execute_result"
    }
   ],
   "source": [
    "nan_series"
   ]
  },
  {
   "cell_type": "code",
   "execution_count": 31,
   "id": "e81d4013-0add-4493-a7e0-1d0db705060e",
   "metadata": {},
   "outputs": [
    {
     "data": {
      "text/plain": [
       "1"
      ]
     },
     "execution_count": 31,
     "metadata": {},
     "output_type": "execute_result"
    }
   ],
   "source": [
    "nan_series.count()"
   ]
  },
  {
   "cell_type": "code",
   "execution_count": 32,
   "id": "0caceb68-e536-4d00-b24e-ba0d4d3ea9c1",
   "metadata": {},
   "outputs": [
    {
     "data": {
      "text/plain": [
       "Ono        False\n",
       "Clapton     True\n",
       "dtype: bool"
      ]
     },
     "execution_count": 32,
     "metadata": {},
     "output_type": "execute_result"
    }
   ],
   "source": [
    "nan_series.isna()"
   ]
  },
  {
   "cell_type": "code",
   "execution_count": 33,
   "id": "62106ed7-c990-411e-bc2e-a08c875d51d4",
   "metadata": {},
   "outputs": [
    {
     "data": {
      "text/plain": [
       "1"
      ]
     },
     "execution_count": 33,
     "metadata": {},
     "output_type": "execute_result"
    }
   ],
   "source": [
    "nan_series.isna().sum()"
   ]
  },
  {
   "cell_type": "code",
   "execution_count": 34,
   "id": "d0f251e5-7e28-4809-8503-f753e6a509f3",
   "metadata": {},
   "outputs": [
    {
     "data": {
      "text/plain": [
       "1"
      ]
     },
     "execution_count": 34,
     "metadata": {},
     "output_type": "execute_result"
    }
   ],
   "source": [
    "nan_series.notna().sum()"
   ]
  },
  {
   "cell_type": "code",
   "execution_count": 35,
   "id": "255634d3-a0e7-43a5-bd13-43bc3f18d933",
   "metadata": {},
   "outputs": [
    {
     "data": {
      "text/plain": [
       "2"
      ]
     },
     "execution_count": 35,
     "metadata": {},
     "output_type": "execute_result"
    }
   ],
   "source": [
    "nan_series.size"
   ]
  },
  {
   "cell_type": "markdown",
   "id": "1f20f6fa-45c9-4dc3-80b4-96f04e295dce",
   "metadata": {},
   "source": [
    "Regular integer types don't hold NaNs.  Capital Int64 does support nullable integers."
   ]
  },
  {
   "cell_type": "code",
   "execution_count": 36,
   "id": "053000f3-dec9-457a-8b87-807e506fbe95",
   "metadata": {},
   "outputs": [],
   "source": [
    "nan_series2 = pd.Series([2, None],\n",
    "                        index=['Ono', 'Clapton'],\n",
    "                        dtype='Int64')"
   ]
  },
  {
   "cell_type": "code",
   "execution_count": 37,
   "id": "687a0948-419e-40d0-a818-fa000986f902",
   "metadata": {},
   "outputs": [
    {
     "data": {
      "text/plain": [
       "Ono           2\n",
       "Clapton    <NA>\n",
       "dtype: Int64"
      ]
     },
     "execution_count": 37,
     "metadata": {},
     "output_type": "execute_result"
    }
   ],
   "source": [
    "nan_series2"
   ]
  },
  {
   "cell_type": "code",
   "execution_count": 38,
   "id": "21eb6442-e345-4740-8a85-96fe146c8bad",
   "metadata": {},
   "outputs": [
    {
     "data": {
      "text/plain": [
       "1"
      ]
     },
     "execution_count": 38,
     "metadata": {},
     "output_type": "execute_result"
    }
   ],
   "source": [
    "nan_series2.count()"
   ]
  },
  {
   "cell_type": "code",
   "execution_count": 39,
   "id": "6af0a811-d906-4409-8852-3bb3be6c85c8",
   "metadata": {},
   "outputs": [
    {
     "data": {
      "text/plain": [
       "Ono           2\n",
       "Clapton    <NA>\n",
       "dtype: Int64"
      ]
     },
     "execution_count": 39,
     "metadata": {},
     "output_type": "execute_result"
    }
   ],
   "source": [
    "nan_series.astype('Int64')"
   ]
  },
  {
   "cell_type": "markdown",
   "id": "3a950f91-09c6-4f00-9bb4-76b175f0fa32",
   "metadata": {},
   "source": [
    "Up to 4.5 Similar to Numpy in **Effective pandas**"
   ]
  },
  {
   "cell_type": "code",
   "execution_count": 40,
   "id": "8d646988-74d9-42a0-9661-75bed706f0c1",
   "metadata": {},
   "outputs": [],
   "source": [
    "import numpy as np"
   ]
  },
  {
   "cell_type": "code",
   "execution_count": 41,
   "id": "b5cf6eee-393a-4b12-9dce-f178c07fc1af",
   "metadata": {},
   "outputs": [],
   "source": [
    "numpy_ser = np.array([145, 142, 38, 13])"
   ]
  },
  {
   "cell_type": "code",
   "execution_count": 42,
   "id": "d7551242-b69f-4cae-956d-aac5fc5a88f4",
   "metadata": {},
   "outputs": [
    {
     "data": {
      "text/plain": [
       "142"
      ]
     },
     "execution_count": 42,
     "metadata": {},
     "output_type": "execute_result"
    }
   ],
   "source": [
    "songs3[1]"
   ]
  },
  {
   "cell_type": "code",
   "execution_count": 43,
   "id": "921f2d12-b1bc-4194-9b09-829f303bea45",
   "metadata": {},
   "outputs": [
    {
     "data": {
      "text/plain": [
       "142"
      ]
     },
     "execution_count": 43,
     "metadata": {},
     "output_type": "execute_result"
    }
   ],
   "source": [
    "numpy_ser[1]"
   ]
  },
  {
   "cell_type": "code",
   "execution_count": 44,
   "id": "dc8024ff-5cdb-4885-ba9f-7ca49797b688",
   "metadata": {},
   "outputs": [
    {
     "data": {
      "text/plain": [
       "84.5"
      ]
     },
     "execution_count": 44,
     "metadata": {},
     "output_type": "execute_result"
    }
   ],
   "source": [
    "songs3.mean()"
   ]
  },
  {
   "cell_type": "code",
   "execution_count": 45,
   "id": "e006cd3f-b995-421d-a1a4-f836eafcb774",
   "metadata": {},
   "outputs": [
    {
     "data": {
      "text/plain": [
       "84.5"
      ]
     },
     "execution_count": 45,
     "metadata": {},
     "output_type": "execute_result"
    }
   ],
   "source": [
    "numpy_ser.mean()"
   ]
  },
  {
   "cell_type": "code",
   "execution_count": 46,
   "id": "9986bc7a-32c0-4dd9-926d-4ba444d82982",
   "metadata": {},
   "outputs": [
    {
     "data": {
      "text/plain": [
       "Paul    145\n",
       "John    142\n",
       "Name: counts, dtype: int64"
      ]
     },
     "execution_count": 46,
     "metadata": {},
     "output_type": "execute_result"
    }
   ],
   "source": [
    "songs3[songs3 > 100]"
   ]
  },
  {
   "cell_type": "code",
   "execution_count": 47,
   "id": "b8541d37-9897-4376-a50a-6cf5f6ceb86a",
   "metadata": {},
   "outputs": [
    {
     "data": {
      "text/plain": [
       "array([145, 142])"
      ]
     },
     "execution_count": 47,
     "metadata": {},
     "output_type": "execute_result"
    }
   ],
   "source": [
    "numpy_ser[numpy_ser > 100]"
   ]
  },
  {
   "cell_type": "code",
   "execution_count": 48,
   "id": "a1bc8843-cdb3-4ff9-9161-60f0bf7f2598",
   "metadata": {},
   "outputs": [],
   "source": [
    "mask = songs3 > songs3.median()"
   ]
  },
  {
   "cell_type": "code",
   "execution_count": 49,
   "id": "1f3c8f8d-8405-4c64-a40f-6fe51cff9ff3",
   "metadata": {},
   "outputs": [
    {
     "data": {
      "text/plain": [
       "Paul       True\n",
       "John       True\n",
       "George    False\n",
       "Ringo     False\n",
       "Name: counts, dtype: bool"
      ]
     },
     "execution_count": 49,
     "metadata": {},
     "output_type": "execute_result"
    }
   ],
   "source": [
    "mask"
   ]
  },
  {
   "cell_type": "code",
   "execution_count": 50,
   "id": "86d4d5c3-cb63-4ddc-9330-91f74fe025b4",
   "metadata": {},
   "outputs": [
    {
     "data": {
      "text/plain": [
       "Paul    145\n",
       "John    142\n",
       "Name: counts, dtype: int64"
      ]
     },
     "execution_count": 50,
     "metadata": {},
     "output_type": "execute_result"
    }
   ],
   "source": [
    "songs3[mask]"
   ]
  },
  {
   "cell_type": "code",
   "execution_count": 51,
   "id": "7b558c52-7e9f-4642-ba2a-51d86fff0425",
   "metadata": {},
   "outputs": [
    {
     "data": {
      "text/plain": [
       "Paul    145\n",
       "John    142\n",
       "Name: counts, dtype: int64"
      ]
     },
     "execution_count": 51,
     "metadata": {},
     "output_type": "execute_result"
    }
   ],
   "source": [
    "songs3[songs3 > songs3.median()]"
   ]
  },
  {
   "cell_type": "code",
   "execution_count": 52,
   "id": "2c74dff4-f4f8-407f-be6d-8aa707f566c9",
   "metadata": {},
   "outputs": [
    {
     "data": {
      "text/plain": [
       "array([145, 142])"
      ]
     },
     "execution_count": 52,
     "metadata": {},
     "output_type": "execute_result"
    }
   ],
   "source": [
    "numpy_ser[numpy_ser > np.median(numpy_ser)]"
   ]
  },
  {
   "cell_type": "markdown",
   "id": "49062734-ab75-478c-95fa-01fe39a01463",
   "metadata": {},
   "source": [
    "## Categorical Data"
   ]
  },
  {
   "cell_type": "code",
   "execution_count": 53,
   "id": "34323412-150d-4fea-bfef-9b581a6fcce0",
   "metadata": {},
   "outputs": [
    {
     "name": "stdout",
     "output_type": "stream",
     "text": [
      "The Zen of Python, by Tim Peters\n",
      "\n",
      "Beautiful is better than ugly.\n",
      "Explicit is better than implicit.\n",
      "Simple is better than complex.\n",
      "Complex is better than complicated.\n",
      "Flat is better than nested.\n",
      "Sparse is better than dense.\n",
      "Readability counts.\n",
      "Special cases aren't special enough to break the rules.\n",
      "Although practicality beats purity.\n",
      "Errors should never pass silently.\n",
      "Unless explicitly silenced.\n",
      "In the face of ambiguity, refuse the temptation to guess.\n",
      "There should be one-- and preferably only one --obvious way to do it.\n",
      "Although that way may not be obvious at first unless you're Dutch.\n",
      "Now is better than never.\n",
      "Although never is often better than *right* now.\n",
      "If the implementation is hard to explain, it's a bad idea.\n",
      "If the implementation is easy to explain, it may be a good idea.\n",
      "Namespaces are one honking great idea -- let's do more of those!\n"
     ]
    }
   ],
   "source": [
    "import this"
   ]
  },
  {
   "cell_type": "code",
   "execution_count": 54,
   "id": "9ad48eea-12a4-494b-8299-94e6111826a5",
   "metadata": {},
   "outputs": [],
   "source": [
    "s = pd.Series(['m', 'l', 'xs', 's', 'xl'], dtype = 'category')"
   ]
  },
  {
   "cell_type": "code",
   "execution_count": 55,
   "id": "88c4ef96-26d7-48b8-bf36-3606e3db0954",
   "metadata": {},
   "outputs": [
    {
     "data": {
      "text/plain": [
       "0     m\n",
       "1     l\n",
       "2    xs\n",
       "3     s\n",
       "4    xl\n",
       "dtype: category\n",
       "Categories (5, object): ['l', 'm', 's', 'xl', 'xs']"
      ]
     },
     "execution_count": 55,
     "metadata": {},
     "output_type": "execute_result"
    }
   ],
   "source": [
    "s"
   ]
  },
  {
   "cell_type": "code",
   "execution_count": 56,
   "id": "64a574fd-3314-4108-a6d9-b9604b99c840",
   "metadata": {},
   "outputs": [
    {
     "data": {
      "text/plain": [
       "False"
      ]
     },
     "execution_count": 56,
     "metadata": {},
     "output_type": "execute_result"
    }
   ],
   "source": [
    "s.cat.ordered"
   ]
  },
  {
   "cell_type": "code",
   "execution_count": 57,
   "id": "547d5503-edf4-4735-92be-9e21124d2b51",
   "metadata": {},
   "outputs": [],
   "source": [
    "s2 = pd.Series(['m', 'l', 'xs', 's', 'xl'])"
   ]
  },
  {
   "cell_type": "code",
   "execution_count": 58,
   "id": "6c6c8fd9-a3c8-4021-93a8-5bc13060f07d",
   "metadata": {},
   "outputs": [],
   "source": [
    "size_type = pd.api.types.CategoricalDtype(\n",
    "    categories=['s', 'm', 'l'], ordered=True)"
   ]
  },
  {
   "cell_type": "code",
   "execution_count": 59,
   "id": "942ad522-adf7-4940-a04e-5839d4478ae6",
   "metadata": {},
   "outputs": [],
   "source": [
    "s3 = s2.astype(size_type)"
   ]
  },
  {
   "cell_type": "code",
   "execution_count": 60,
   "id": "f4ca7d1f-5ed2-4a5f-91b4-5c55846925aa",
   "metadata": {},
   "outputs": [
    {
     "data": {
      "text/plain": [
       "0      m\n",
       "1      l\n",
       "2    NaN\n",
       "3      s\n",
       "4    NaN\n",
       "dtype: category\n",
       "Categories (3, object): ['s' < 'm' < 'l']"
      ]
     },
     "execution_count": 60,
     "metadata": {},
     "output_type": "execute_result"
    }
   ],
   "source": [
    "s3"
   ]
  },
  {
   "cell_type": "code",
   "execution_count": 61,
   "id": "74c35eaf-445c-48df-bbd9-20bf9a6c6c99",
   "metadata": {},
   "outputs": [
    {
     "data": {
      "text/plain": [
       "0     True\n",
       "1     True\n",
       "2    False\n",
       "3    False\n",
       "4    False\n",
       "dtype: bool"
      ]
     },
     "execution_count": 61,
     "metadata": {},
     "output_type": "execute_result"
    }
   ],
   "source": [
    "s3 > 's'"
   ]
  },
  {
   "cell_type": "code",
   "execution_count": 62,
   "id": "1ed578a2-a9b2-4885-a3c4-068fb46510b6",
   "metadata": {},
   "outputs": [
    {
     "data": {
      "text/plain": [
       "0    False\n",
       "1    False\n",
       "2    False\n",
       "3     True\n",
       "4    False\n",
       "dtype: bool"
      ]
     },
     "execution_count": 62,
     "metadata": {},
     "output_type": "execute_result"
    }
   ],
   "source": [
    "s3 == 's'"
   ]
  },
  {
   "cell_type": "markdown",
   "id": "f0e3a539-e28c-4891-9523-f63f9c05c348",
   "metadata": {},
   "source": [
    "Reorder categories"
   ]
  },
  {
   "cell_type": "code",
   "execution_count": 63,
   "id": "da46a221-50bb-4d56-a48c-cf8c4c886295",
   "metadata": {},
   "outputs": [],
   "source": [
    "s4 = s.cat.reorder_categories(['xs', 's', 'm', 'l', 'xl'], ordered=True)"
   ]
  },
  {
   "cell_type": "code",
   "execution_count": 64,
   "id": "517b2d8c-9be5-4b43-a554-6ca246286f35",
   "metadata": {},
   "outputs": [
    {
     "data": {
      "text/plain": [
       "0     m\n",
       "1     l\n",
       "2    xs\n",
       "3     s\n",
       "4    xl\n",
       "dtype: category\n",
       "Categories (5, object): ['xs' < 's' < 'm' < 'l' < 'xl']"
      ]
     },
     "execution_count": 64,
     "metadata": {},
     "output_type": "execute_result"
    }
   ],
   "source": [
    "s4"
   ]
  },
  {
   "cell_type": "code",
   "execution_count": 65,
   "id": "85460ca9-0acc-4d00-8c05-5175e06fff5b",
   "metadata": {},
   "outputs": [
    {
     "data": {
      "text/plain": [
       "0    False\n",
       "1     True\n",
       "2    False\n",
       "3    False\n",
       "4     True\n",
       "dtype: bool"
      ]
     },
     "execution_count": 65,
     "metadata": {},
     "output_type": "execute_result"
    }
   ],
   "source": [
    "s4 > 'm'"
   ]
  },
  {
   "cell_type": "code",
   "execution_count": 66,
   "id": "bce0423c-f9eb-4858-9df3-1be4f7e88652",
   "metadata": {},
   "outputs": [
    {
     "data": {
      "text/plain": [
       "0    False\n",
       "1    False\n",
       "2    False\n",
       "3    False\n",
       "4    False\n",
       "dtype: bool"
      ]
     },
     "execution_count": 66,
     "metadata": {},
     "output_type": "execute_result"
    }
   ],
   "source": [
    "s4 == 'xxl'"
   ]
  },
  {
   "cell_type": "code",
   "execution_count": 67,
   "id": "1427308d-2ab1-4a39-a285-8fe674cdf9bb",
   "metadata": {},
   "outputs": [
    {
     "data": {
      "text/plain": [
       "0     True\n",
       "1    False\n",
       "2     True\n",
       "3     True\n",
       "4    False\n",
       "dtype: bool"
      ]
     },
     "execution_count": 67,
     "metadata": {},
     "output_type": "execute_result"
    }
   ],
   "source": [
    "s4 < 'l'"
   ]
  },
  {
   "cell_type": "code",
   "execution_count": 68,
   "id": "24286f4a-c00c-40cd-8349-b3b1c4f79e80",
   "metadata": {},
   "outputs": [
    {
     "data": {
      "text/plain": [
       "0      M\n",
       "1      L\n",
       "2    NaN\n",
       "3      S\n",
       "4    NaN\n",
       "dtype: object"
      ]
     },
     "execution_count": 68,
     "metadata": {},
     "output_type": "execute_result"
    }
   ],
   "source": [
    "s3.str.upper()"
   ]
  },
  {
   "cell_type": "code",
   "execution_count": 69,
   "id": "d18b7eb0-7862-4e9b-8bb8-dde3e367bfaa",
   "metadata": {},
   "outputs": [
    {
     "data": {
      "text/plain": [
       "0     M\n",
       "1     L\n",
       "2    XS\n",
       "3     S\n",
       "4    XL\n",
       "dtype: object"
      ]
     },
     "execution_count": 69,
     "metadata": {},
     "output_type": "execute_result"
    }
   ],
   "source": [
    "s4.str.upper()"
   ]
  },
  {
   "cell_type": "code",
   "execution_count": 70,
   "id": "41b3035d-13e0-4299-bee6-f54172b6765c",
   "metadata": {},
   "outputs": [],
   "source": [
    "colours = pd.Series(['blue', 'pink', 'green', 'yellow', 'red'], dtype = 'category')"
   ]
  },
  {
   "cell_type": "code",
   "execution_count": 71,
   "id": "f2997d08-9182-41e5-bf5c-d50657bec274",
   "metadata": {},
   "outputs": [
    {
     "data": {
      "text/plain": [
       "0      blue\n",
       "1      pink\n",
       "2     green\n",
       "3    yellow\n",
       "4       red\n",
       "dtype: category\n",
       "Categories (5, object): ['blue', 'green', 'pink', 'red', 'yellow']"
      ]
     },
     "execution_count": 71,
     "metadata": {},
     "output_type": "execute_result"
    }
   ],
   "source": [
    "colours"
   ]
  },
  {
   "cell_type": "code",
   "execution_count": 72,
   "id": "2808939c-4ce5-47c7-9a63-44b8620941f0",
   "metadata": {},
   "outputs": [],
   "source": [
    "c2 = colours.cat.reorder_categories(['blue', 'yellow', 'red', 'pink', 'green'], ordered=True)"
   ]
  },
  {
   "cell_type": "code",
   "execution_count": 73,
   "id": "b133ded7-27ee-4ca6-ad30-f46b542be326",
   "metadata": {},
   "outputs": [
    {
     "data": {
      "text/plain": [
       "0      blue\n",
       "1      pink\n",
       "2     green\n",
       "3    yellow\n",
       "4       red\n",
       "dtype: category\n",
       "Categories (5, object): ['blue' < 'yellow' < 'red' < 'pink' < 'green']"
      ]
     },
     "execution_count": 73,
     "metadata": {},
     "output_type": "execute_result"
    }
   ],
   "source": [
    "c2"
   ]
  },
  {
   "cell_type": "code",
   "execution_count": 74,
   "id": "8e5fee97-879a-4dd9-a9f2-7fa1a66eeb78",
   "metadata": {},
   "outputs": [
    {
     "data": {
      "text/plain": [
       "0    False\n",
       "1    False\n",
       "2     True\n",
       "3    False\n",
       "4    False\n",
       "dtype: bool"
      ]
     },
     "execution_count": 74,
     "metadata": {},
     "output_type": "execute_result"
    }
   ],
   "source": [
    "c2 > 'pink'"
   ]
  },
  {
   "cell_type": "code",
   "execution_count": 75,
   "id": "44da4b45-1603-4377-a181-3af9f2fc8adc",
   "metadata": {},
   "outputs": [],
   "source": [
    "temps = pd.Series([9, 11, 8, 14, 13, 20, 17],\n",
    "                 index = ['Mon', 'Tue', 'Wed', 'Thu', 'Fri', 'Sat', 'Sun'],\n",
    "                 name = 'temperatures')"
   ]
  },
  {
   "cell_type": "code",
   "execution_count": 76,
   "id": "3aab374a-bc34-4999-93b5-4db3ea89f052",
   "metadata": {},
   "outputs": [
    {
     "data": {
      "text/plain": [
       "Mon    False\n",
       "Tue    False\n",
       "Wed    False\n",
       "Thu     True\n",
       "Fri    False\n",
       "Sat     True\n",
       "Sun     True\n",
       "Name: temperatures, dtype: bool"
      ]
     },
     "execution_count": 76,
     "metadata": {},
     "output_type": "execute_result"
    }
   ],
   "source": [
    "temps > temps.mean()"
   ]
  },
  {
   "cell_type": "code",
   "execution_count": 77,
   "id": "60ff4749-3025-4ae3-8b7d-aae37384df17",
   "metadata": {},
   "outputs": [
    {
     "data": {
      "text/plain": [
       "Thu    14\n",
       "Sat    20\n",
       "Sun    17\n",
       "Name: temperatures, dtype: int64"
      ]
     },
     "execution_count": 77,
     "metadata": {},
     "output_type": "execute_result"
    }
   ],
   "source": [
    "temps[temps > temps.mean()]"
   ]
  },
  {
   "cell_type": "code",
   "execution_count": 78,
   "id": "d79b267c-9f46-4f75-a656-54efcc7ece6b",
   "metadata": {},
   "outputs": [
    {
     "data": {
      "text/plain": [
       "'temperatures'"
      ]
     },
     "execution_count": 78,
     "metadata": {},
     "output_type": "execute_result"
    }
   ],
   "source": [
    "temps.name"
   ]
  },
  {
   "cell_type": "code",
   "execution_count": 79,
   "id": "a45793d9-882f-4614-8de0-92016b80cec5",
   "metadata": {},
   "outputs": [
    {
     "data": {
      "text/plain": [
       "Mon     9\n",
       "Tue    11\n",
       "Wed     8\n",
       "Thu    14\n",
       "Fri    13\n",
       "Sat    20\n",
       "Sun    17\n",
       "Name: temperatures, dtype: int64"
      ]
     },
     "execution_count": 79,
     "metadata": {},
     "output_type": "execute_result"
    }
   ],
   "source": [
    "temps"
   ]
  },
  {
   "cell_type": "code",
   "execution_count": 80,
   "id": "5409b66c-a6f6-45cf-8a4f-b9d02ad3d3bf",
   "metadata": {},
   "outputs": [
    {
     "data": {
      "text/plain": [
       "Mon     9.0\n",
       "Tue    11.0\n",
       "Wed     8.0\n",
       "Thu    14.0\n",
       "Fri    13.0\n",
       "Sat    20.0\n",
       "Sun    17.0\n",
       "Name: temperatures, dtype: float64"
      ]
     },
     "execution_count": 80,
     "metadata": {},
     "output_type": "execute_result"
    }
   ],
   "source": [
    "temps.astype('float')"
   ]
  },
  {
   "cell_type": "code",
   "execution_count": 81,
   "id": "a9d95711-16fa-439d-9a80-7b7dd7fb8108",
   "metadata": {},
   "outputs": [
    {
     "data": {
      "text/plain": [
       "Mon     9\n",
       "Tue    11\n",
       "Wed     8\n",
       "Fri    13\n",
       "Name: temperatures, dtype: int64"
      ]
     },
     "execution_count": 81,
     "metadata": {},
     "output_type": "execute_result"
    }
   ],
   "source": [
    "temps[temps < temps.mean()]"
   ]
  },
  {
   "cell_type": "code",
   "execution_count": 82,
   "id": "db8fcab4-0823-449f-9157-611b4065c61d",
   "metadata": {},
   "outputs": [],
   "source": [
    "import pandas as pd"
   ]
  },
  {
   "cell_type": "code",
   "execution_count": 83,
   "id": "18cfb8b8-1664-430c-9ff0-d7d64baabf3d",
   "metadata": {},
   "outputs": [
    {
     "name": "stdout",
     "output_type": "stream",
     "text": [
      "--2022-07-05 06:27:46--  https://www.fueleconomy.gov/feg/epadata/vehicles.csv.zip\n",
      "Resolving www.fueleconomy.gov (www.fueleconomy.gov)... 2620:0:2b30:115:cb69:d91:c04e:ddcc, 160.91.94.41\n",
      "Connecting to www.fueleconomy.gov (www.fueleconomy.gov)|2620:0:2b30:115:cb69:d91:c04e:ddcc|:443... connected.\n",
      "HTTP request sent, awaiting response... 200 OK\n",
      "Length: 1772115 (1.7M) [application/x-zip-compressed]\n",
      "Saving to: ‘vehicles.csv.zip.2’\n",
      "\n",
      "vehicles.csv.zip.2  100%[===================>]   1.69M   189KB/s    in 35s     \n",
      "\n",
      "2022-07-05 06:28:25 (49.0 KB/s) - ‘vehicles.csv.zip.2’ saved [1772115/1772115]\n",
      "\n"
     ]
    }
   ],
   "source": [
    "!wget https://www.fueleconomy.gov/feg/epadata/vehicles.csv.zip"
   ]
  },
  {
   "cell_type": "code",
   "execution_count": 84,
   "id": "37b80cc6-8f7e-4c6e-8d1d-5480460a469c",
   "metadata": {},
   "outputs": [],
   "source": [
    "url = 'https://github.com/mattharrison/datasets/raw/master/data/' \\\n",
    "    'vehicles.csv.zip'"
   ]
  },
  {
   "cell_type": "code",
   "execution_count": 85,
   "id": "88ff9edc-58c5-483a-b1cb-73dcd0bbeef5",
   "metadata": {},
   "outputs": [],
   "source": [
    "from pathlib import Path"
   ]
  },
  {
   "cell_type": "code",
   "execution_count": 86,
   "id": "c3bf02ff-a00b-4c16-a2a3-2613ffb2ca58",
   "metadata": {},
   "outputs": [
    {
     "data": {
      "text/plain": [
       "PosixPath('.')"
      ]
     },
     "execution_count": 86,
     "metadata": {},
     "output_type": "execute_result"
    }
   ],
   "source": [
    "Path()"
   ]
  },
  {
   "cell_type": "code",
   "execution_count": 87,
   "id": "dc66af92-1c54-4923-a1fe-4c3736986cb1",
   "metadata": {},
   "outputs": [],
   "source": [
    "myFile = 'vehicles.csv.zip'"
   ]
  },
  {
   "cell_type": "code",
   "execution_count": 88,
   "id": "7af0d693-dced-4c7a-b171-9ce11fa54621",
   "metadata": {},
   "outputs": [
    {
     "data": {
      "text/plain": [
       "'vehicles.csv.zip'"
      ]
     },
     "execution_count": 88,
     "metadata": {},
     "output_type": "execute_result"
    }
   ],
   "source": [
    "myFile"
   ]
  },
  {
   "cell_type": "code",
   "execution_count": 89,
   "id": "df0a68b7-3d36-43ab-bf70-341cf23317f9",
   "metadata": {},
   "outputs": [
    {
     "data": {
      "text/plain": [
       "PosixPath('/Users/mattrosinski')"
      ]
     },
     "execution_count": 89,
     "metadata": {},
     "output_type": "execute_result"
    }
   ],
   "source": [
    "Path.home()"
   ]
  },
  {
   "cell_type": "code",
   "execution_count": 90,
   "id": "28422757-8833-4dfe-8c61-32a2fca07a68",
   "metadata": {},
   "outputs": [
    {
     "data": {
      "text/plain": [
       "PosixPath('/Users/mattrosinski/Documents/Repos/Demos/pydata-book')"
      ]
     },
     "execution_count": 90,
     "metadata": {},
     "output_type": "execute_result"
    }
   ],
   "source": [
    "Path.cwd()"
   ]
  },
  {
   "cell_type": "code",
   "execution_count": 91,
   "id": "75832fa1-9e33-4607-a424-10a543da403c",
   "metadata": {},
   "outputs": [
    {
     "data": {
      "text/plain": [
       "True"
      ]
     },
     "execution_count": 91,
     "metadata": {},
     "output_type": "execute_result"
    }
   ],
   "source": [
    "Path.cwd().is_absolute()"
   ]
  },
  {
   "cell_type": "code",
   "execution_count": 92,
   "id": "79f895d4-e56e-4597-8870-f8eec252cf80",
   "metadata": {},
   "outputs": [],
   "source": [
    "path = Path('datasets', myFile)"
   ]
  },
  {
   "cell_type": "code",
   "execution_count": 93,
   "id": "0827c625-046a-48ab-8a41-40b04989ce4e",
   "metadata": {
    "tags": []
   },
   "outputs": [
    {
     "data": {
      "text/plain": [
       "PosixPath('datasets/vehicles.csv.zip')"
      ]
     },
     "execution_count": 93,
     "metadata": {},
     "output_type": "execute_result"
    }
   ],
   "source": [
    "path"
   ]
  },
  {
   "cell_type": "code",
   "execution_count": 94,
   "id": "09f26654-1200-4c24-b4e6-87cf49713233",
   "metadata": {},
   "outputs": [
    {
     "data": {
      "text/plain": [
       "'vehicles.csv.zip'"
      ]
     },
     "execution_count": 94,
     "metadata": {},
     "output_type": "execute_result"
    }
   ],
   "source": [
    "path.name"
   ]
  },
  {
   "cell_type": "code",
   "execution_count": 95,
   "id": "58159a11-7d2e-450c-80f4-b7d974c4fb7f",
   "metadata": {},
   "outputs": [
    {
     "data": {
      "text/plain": [
       "PosixPath('datasets')"
      ]
     },
     "execution_count": 95,
     "metadata": {},
     "output_type": "execute_result"
    }
   ],
   "source": [
    "path.parent"
   ]
  },
  {
   "cell_type": "code",
   "execution_count": 96,
   "id": "59f7632f-ac1e-40c2-82aa-ed15540171b3",
   "metadata": {},
   "outputs": [
    {
     "data": {
      "text/plain": [
       "'vehicles.csv'"
      ]
     },
     "execution_count": 96,
     "metadata": {},
     "output_type": "execute_result"
    }
   ],
   "source": [
    "path.stem"
   ]
  },
  {
   "cell_type": "code",
   "execution_count": 97,
   "id": "1ddb3f36-974a-4ba5-885f-b73de1b31c52",
   "metadata": {},
   "outputs": [
    {
     "data": {
      "text/plain": [
       "''"
      ]
     },
     "execution_count": 97,
     "metadata": {},
     "output_type": "execute_result"
    }
   ],
   "source": [
    "path.anchor"
   ]
  },
  {
   "cell_type": "markdown",
   "id": "f148624d-9324-4a6c-9bac-7cd68d588da0",
   "metadata": {},
   "source": [
    "## Opening csv files"
   ]
  },
  {
   "cell_type": "code",
   "execution_count": 98,
   "id": "163435bb-5679-41fe-a686-ccab82ca6166",
   "metadata": {},
   "outputs": [
    {
     "name": "stderr",
     "output_type": "stream",
     "text": [
      "/var/folders/xh/wmkr9jls0634tfc2zgq5yzk40000gn/T/ipykernel_23392/3280352130.py:1: DtypeWarning: Columns (70,71,72,73,74,76,79) have mixed types. Specify dtype option on import or set low_memory=False.\n",
      "  df = pd.read_csv(path)\n"
     ]
    }
   ],
   "source": [
    "df = pd.read_csv(path)"
   ]
  },
  {
   "cell_type": "code",
   "execution_count": 99,
   "id": "d7f7126c-ac98-4251-bf8a-8addb042cd57",
   "metadata": {},
   "outputs": [
    {
     "data": {
      "text/html": [
       "<div>\n",
       "<style scoped>\n",
       "    .dataframe tbody tr th:only-of-type {\n",
       "        vertical-align: middle;\n",
       "    }\n",
       "\n",
       "    .dataframe tbody tr th {\n",
       "        vertical-align: top;\n",
       "    }\n",
       "\n",
       "    .dataframe thead th {\n",
       "        text-align: right;\n",
       "    }\n",
       "</style>\n",
       "<table border=\"1\" class=\"dataframe\">\n",
       "  <thead>\n",
       "    <tr style=\"text-align: right;\">\n",
       "      <th></th>\n",
       "      <th>barrels08</th>\n",
       "      <th>barrelsA08</th>\n",
       "      <th>charge120</th>\n",
       "      <th>charge240</th>\n",
       "      <th>city08</th>\n",
       "      <th>city08U</th>\n",
       "      <th>cityA08</th>\n",
       "      <th>cityA08U</th>\n",
       "      <th>cityCD</th>\n",
       "      <th>cityE</th>\n",
       "      <th>...</th>\n",
       "      <th>UCity</th>\n",
       "      <th>UCityA</th>\n",
       "      <th>UHighway</th>\n",
       "      <th>UHighwayA</th>\n",
       "      <th>year</th>\n",
       "      <th>youSaveSpend</th>\n",
       "      <th>charge240b</th>\n",
       "      <th>phevCity</th>\n",
       "      <th>phevHwy</th>\n",
       "      <th>phevComb</th>\n",
       "    </tr>\n",
       "  </thead>\n",
       "  <tbody>\n",
       "    <tr>\n",
       "      <th>count</th>\n",
       "      <td>44986.000000</td>\n",
       "      <td>44986.000000</td>\n",
       "      <td>44986.0</td>\n",
       "      <td>44986.000000</td>\n",
       "      <td>44986.000000</td>\n",
       "      <td>44986.000000</td>\n",
       "      <td>44986.000000</td>\n",
       "      <td>44986.000000</td>\n",
       "      <td>44986.000000</td>\n",
       "      <td>44986.000000</td>\n",
       "      <td>...</td>\n",
       "      <td>44986.000000</td>\n",
       "      <td>44986.000000</td>\n",
       "      <td>44986.000000</td>\n",
       "      <td>44986.000000</td>\n",
       "      <td>44986.000000</td>\n",
       "      <td>44986.000000</td>\n",
       "      <td>44986.000000</td>\n",
       "      <td>44986.000000</td>\n",
       "      <td>44986.000000</td>\n",
       "      <td>44986.000000</td>\n",
       "    </tr>\n",
       "    <tr>\n",
       "      <th>mean</th>\n",
       "      <td>15.385055</td>\n",
       "      <td>0.191214</td>\n",
       "      <td>0.0</td>\n",
       "      <td>0.091370</td>\n",
       "      <td>18.910150</td>\n",
       "      <td>7.580773</td>\n",
       "      <td>0.837483</td>\n",
       "      <td>0.705716</td>\n",
       "      <td>0.000507</td>\n",
       "      <td>0.605526</td>\n",
       "      <td>...</td>\n",
       "      <td>23.980676</td>\n",
       "      <td>1.111413</td>\n",
       "      <td>35.094230</td>\n",
       "      <td>0.892323</td>\n",
       "      <td>2003.216423</td>\n",
       "      <td>-6363.046281</td>\n",
       "      <td>0.016305</td>\n",
       "      <td>0.267461</td>\n",
       "      <td>0.270351</td>\n",
       "      <td>0.267550</td>\n",
       "    </tr>\n",
       "    <tr>\n",
       "      <th>std</th>\n",
       "      <td>4.287520</td>\n",
       "      <td>0.980585</td>\n",
       "      <td>0.0</td>\n",
       "      <td>0.888165</td>\n",
       "      <td>9.578475</td>\n",
       "      <td>13.523617</td>\n",
       "      <td>6.412993</td>\n",
       "      <td>6.321745</td>\n",
       "      <td>0.037599</td>\n",
       "      <td>5.309880</td>\n",
       "      <td>...</td>\n",
       "      <td>13.629285</td>\n",
       "      <td>9.061562</td>\n",
       "      <td>12.784282</td>\n",
       "      <td>5.695110</td>\n",
       "      <td>11.993295</td>\n",
       "      <td>5648.627332</td>\n",
       "      <td>0.329937</td>\n",
       "      <td>3.748258</td>\n",
       "      <td>3.630328</td>\n",
       "      <td>3.671143</td>\n",
       "    </tr>\n",
       "    <tr>\n",
       "      <th>min</th>\n",
       "      <td>0.047081</td>\n",
       "      <td>0.000000</td>\n",
       "      <td>0.0</td>\n",
       "      <td>0.000000</td>\n",
       "      <td>6.000000</td>\n",
       "      <td>0.000000</td>\n",
       "      <td>0.000000</td>\n",
       "      <td>0.000000</td>\n",
       "      <td>0.000000</td>\n",
       "      <td>0.000000</td>\n",
       "      <td>...</td>\n",
       "      <td>0.000000</td>\n",
       "      <td>0.000000</td>\n",
       "      <td>0.000000</td>\n",
       "      <td>0.000000</td>\n",
       "      <td>1984.000000</td>\n",
       "      <td>-47750.000000</td>\n",
       "      <td>0.000000</td>\n",
       "      <td>0.000000</td>\n",
       "      <td>0.000000</td>\n",
       "      <td>0.000000</td>\n",
       "    </tr>\n",
       "    <tr>\n",
       "      <th>25%</th>\n",
       "      <td>12.935217</td>\n",
       "      <td>0.000000</td>\n",
       "      <td>0.0</td>\n",
       "      <td>0.000000</td>\n",
       "      <td>15.000000</td>\n",
       "      <td>0.000000</td>\n",
       "      <td>0.000000</td>\n",
       "      <td>0.000000</td>\n",
       "      <td>0.000000</td>\n",
       "      <td>0.000000</td>\n",
       "      <td>...</td>\n",
       "      <td>18.500000</td>\n",
       "      <td>0.000000</td>\n",
       "      <td>28.000000</td>\n",
       "      <td>0.000000</td>\n",
       "      <td>1992.000000</td>\n",
       "      <td>-9500.000000</td>\n",
       "      <td>0.000000</td>\n",
       "      <td>0.000000</td>\n",
       "      <td>0.000000</td>\n",
       "      <td>0.000000</td>\n",
       "    </tr>\n",
       "    <tr>\n",
       "      <th>50%</th>\n",
       "      <td>14.875500</td>\n",
       "      <td>0.000000</td>\n",
       "      <td>0.0</td>\n",
       "      <td>0.000000</td>\n",
       "      <td>17.000000</td>\n",
       "      <td>0.000000</td>\n",
       "      <td>0.000000</td>\n",
       "      <td>0.000000</td>\n",
       "      <td>0.000000</td>\n",
       "      <td>0.000000</td>\n",
       "      <td>...</td>\n",
       "      <td>21.800000</td>\n",
       "      <td>0.000000</td>\n",
       "      <td>33.506000</td>\n",
       "      <td>0.000000</td>\n",
       "      <td>2004.000000</td>\n",
       "      <td>-5750.000000</td>\n",
       "      <td>0.000000</td>\n",
       "      <td>0.000000</td>\n",
       "      <td>0.000000</td>\n",
       "      <td>0.000000</td>\n",
       "    </tr>\n",
       "    <tr>\n",
       "      <th>75%</th>\n",
       "      <td>17.500588</td>\n",
       "      <td>0.000000</td>\n",
       "      <td>0.0</td>\n",
       "      <td>0.000000</td>\n",
       "      <td>21.000000</td>\n",
       "      <td>16.600000</td>\n",
       "      <td>0.000000</td>\n",
       "      <td>0.000000</td>\n",
       "      <td>0.000000</td>\n",
       "      <td>0.000000</td>\n",
       "      <td>...</td>\n",
       "      <td>26.254600</td>\n",
       "      <td>0.000000</td>\n",
       "      <td>39.690600</td>\n",
       "      <td>0.000000</td>\n",
       "      <td>2014.000000</td>\n",
       "      <td>-2500.000000</td>\n",
       "      <td>0.000000</td>\n",
       "      <td>0.000000</td>\n",
       "      <td>0.000000</td>\n",
       "      <td>0.000000</td>\n",
       "    </tr>\n",
       "    <tr>\n",
       "      <th>max</th>\n",
       "      <td>42.501429</td>\n",
       "      <td>16.528333</td>\n",
       "      <td>0.0</td>\n",
       "      <td>15.300000</td>\n",
       "      <td>150.000000</td>\n",
       "      <td>150.195800</td>\n",
       "      <td>145.000000</td>\n",
       "      <td>145.083500</td>\n",
       "      <td>5.350000</td>\n",
       "      <td>122.000000</td>\n",
       "      <td>...</td>\n",
       "      <td>224.800000</td>\n",
       "      <td>207.262200</td>\n",
       "      <td>187.100000</td>\n",
       "      <td>173.143600</td>\n",
       "      <td>2023.000000</td>\n",
       "      <td>11750.000000</td>\n",
       "      <td>9.600000</td>\n",
       "      <td>97.000000</td>\n",
       "      <td>81.000000</td>\n",
       "      <td>88.000000</td>\n",
       "    </tr>\n",
       "  </tbody>\n",
       "</table>\n",
       "<p>8 rows × 59 columns</p>\n",
       "</div>"
      ],
      "text/plain": [
       "          barrels08    barrelsA08  charge120     charge240        city08  \\\n",
       "count  44986.000000  44986.000000    44986.0  44986.000000  44986.000000   \n",
       "mean      15.385055      0.191214        0.0      0.091370     18.910150   \n",
       "std        4.287520      0.980585        0.0      0.888165      9.578475   \n",
       "min        0.047081      0.000000        0.0      0.000000      6.000000   \n",
       "25%       12.935217      0.000000        0.0      0.000000     15.000000   \n",
       "50%       14.875500      0.000000        0.0      0.000000     17.000000   \n",
       "75%       17.500588      0.000000        0.0      0.000000     21.000000   \n",
       "max       42.501429     16.528333        0.0     15.300000    150.000000   \n",
       "\n",
       "            city08U       cityA08      cityA08U        cityCD         cityE  \\\n",
       "count  44986.000000  44986.000000  44986.000000  44986.000000  44986.000000   \n",
       "mean       7.580773      0.837483      0.705716      0.000507      0.605526   \n",
       "std       13.523617      6.412993      6.321745      0.037599      5.309880   \n",
       "min        0.000000      0.000000      0.000000      0.000000      0.000000   \n",
       "25%        0.000000      0.000000      0.000000      0.000000      0.000000   \n",
       "50%        0.000000      0.000000      0.000000      0.000000      0.000000   \n",
       "75%       16.600000      0.000000      0.000000      0.000000      0.000000   \n",
       "max      150.195800    145.000000    145.083500      5.350000    122.000000   \n",
       "\n",
       "       ...         UCity        UCityA      UHighway     UHighwayA  \\\n",
       "count  ...  44986.000000  44986.000000  44986.000000  44986.000000   \n",
       "mean   ...     23.980676      1.111413     35.094230      0.892323   \n",
       "std    ...     13.629285      9.061562     12.784282      5.695110   \n",
       "min    ...      0.000000      0.000000      0.000000      0.000000   \n",
       "25%    ...     18.500000      0.000000     28.000000      0.000000   \n",
       "50%    ...     21.800000      0.000000     33.506000      0.000000   \n",
       "75%    ...     26.254600      0.000000     39.690600      0.000000   \n",
       "max    ...    224.800000    207.262200    187.100000    173.143600   \n",
       "\n",
       "               year  youSaveSpend    charge240b      phevCity       phevHwy  \\\n",
       "count  44986.000000  44986.000000  44986.000000  44986.000000  44986.000000   \n",
       "mean    2003.216423  -6363.046281      0.016305      0.267461      0.270351   \n",
       "std       11.993295   5648.627332      0.329937      3.748258      3.630328   \n",
       "min     1984.000000 -47750.000000      0.000000      0.000000      0.000000   \n",
       "25%     1992.000000  -9500.000000      0.000000      0.000000      0.000000   \n",
       "50%     2004.000000  -5750.000000      0.000000      0.000000      0.000000   \n",
       "75%     2014.000000  -2500.000000      0.000000      0.000000      0.000000   \n",
       "max     2023.000000  11750.000000      9.600000     97.000000     81.000000   \n",
       "\n",
       "           phevComb  \n",
       "count  44986.000000  \n",
       "mean       0.267550  \n",
       "std        3.671143  \n",
       "min        0.000000  \n",
       "25%        0.000000  \n",
       "50%        0.000000  \n",
       "75%        0.000000  \n",
       "max       88.000000  \n",
       "\n",
       "[8 rows x 59 columns]"
      ]
     },
     "execution_count": 99,
     "metadata": {},
     "output_type": "execute_result"
    }
   ],
   "source": [
    "df.describe()"
   ]
  },
  {
   "cell_type": "code",
   "execution_count": 100,
   "id": "78e19a09-e4ed-44f5-9c6d-4cf74525480d",
   "metadata": {},
   "outputs": [],
   "source": [
    "city_mpg = df.city08"
   ]
  },
  {
   "cell_type": "code",
   "execution_count": 101,
   "id": "5dd6b20f-3e51-45d5-8f5c-74643ebe3b40",
   "metadata": {},
   "outputs": [],
   "source": [
    "highway_mpg = df.highway08"
   ]
  },
  {
   "cell_type": "code",
   "execution_count": 102,
   "id": "76ac2e16-064c-4bbd-9365-4fc195524ee9",
   "metadata": {},
   "outputs": [
    {
     "data": {
      "text/plain": [
       "0        19\n",
       "1         9\n",
       "2        23\n",
       "3        10\n",
       "4        17\n",
       "         ..\n",
       "44981    19\n",
       "44982    20\n",
       "44983    18\n",
       "44984    18\n",
       "44985    16\n",
       "Name: city08, Length: 44986, dtype: int64"
      ]
     },
     "execution_count": 102,
     "metadata": {},
     "output_type": "execute_result"
    }
   ],
   "source": [
    "city_mpg"
   ]
  },
  {
   "cell_type": "markdown",
   "id": "e78297ee-9345-4599-896f-b70a5adee439",
   "metadata": {},
   "source": [
    "If any values are missing the type would be object"
   ]
  },
  {
   "cell_type": "code",
   "execution_count": 103,
   "id": "df55c9ec-502f-486b-9af9-d0300b246f11",
   "metadata": {},
   "outputs": [
    {
     "data": {
      "text/plain": [
       "19"
      ]
     },
     "execution_count": 103,
     "metadata": {},
     "output_type": "execute_result"
    }
   ],
   "source": [
    "city_mpg[0]"
   ]
  },
  {
   "cell_type": "code",
   "execution_count": 104,
   "id": "9c354b3c-58dc-4d78-ac2e-6151f3ca5b06",
   "metadata": {},
   "outputs": [
    {
     "name": "stderr",
     "output_type": "stream",
     "text": [
      "/var/folders/xh/wmkr9jls0634tfc2zgq5yzk40000gn/T/ipykernel_23392/4268458168.py:1: SettingWithCopyWarning: \n",
      "A value is trying to be set on a copy of a slice from a DataFrame\n",
      "\n",
      "See the caveats in the documentation: https://pandas.pydata.org/pandas-docs/stable/user_guide/indexing.html#returning-a-view-versus-a-copy\n",
      "  city_mpg[0] = 'NaN'\n"
     ]
    }
   ],
   "source": [
    "city_mpg[0] = 'NaN'"
   ]
  },
  {
   "cell_type": "code",
   "execution_count": 105,
   "id": "0abcc456-d5a9-419e-81af-b29fb1bc23df",
   "metadata": {},
   "outputs": [
    {
     "data": {
      "text/plain": [
       "0        NaN\n",
       "1          9\n",
       "2         23\n",
       "3         10\n",
       "4         17\n",
       "        ... \n",
       "44981     19\n",
       "44982     20\n",
       "44983     18\n",
       "44984     18\n",
       "44985     16\n",
       "Name: city08, Length: 44986, dtype: object"
      ]
     },
     "execution_count": 105,
     "metadata": {},
     "output_type": "execute_result"
    }
   ],
   "source": [
    "city_mpg"
   ]
  },
  {
   "cell_type": "code",
   "execution_count": 106,
   "id": "51194361-64d5-4cfc-913a-99d2762892fd",
   "metadata": {},
   "outputs": [],
   "source": [
    "city_mpg[0] = 19"
   ]
  },
  {
   "cell_type": "markdown",
   "id": "95612066-29e4-4042-b852-b5e15175f19d",
   "metadata": {},
   "source": [
    "The type doesn't automatically get reset"
   ]
  },
  {
   "cell_type": "code",
   "execution_count": 107,
   "id": "e651b558-1dd1-45d4-a6b3-5ca47f5ec550",
   "metadata": {},
   "outputs": [
    {
     "data": {
      "text/plain": [
       "0        19\n",
       "1         9\n",
       "2        23\n",
       "3        10\n",
       "4        17\n",
       "         ..\n",
       "44981    19\n",
       "44982    20\n",
       "44983    18\n",
       "44984    18\n",
       "44985    16\n",
       "Name: city08, Length: 44986, dtype: object"
      ]
     },
     "execution_count": 107,
     "metadata": {},
     "output_type": "execute_result"
    }
   ],
   "source": [
    "city_mpg"
   ]
  },
  {
   "cell_type": "code",
   "execution_count": 108,
   "id": "09b16e70-02ca-4241-b196-fb37f7ceadae",
   "metadata": {},
   "outputs": [],
   "source": [
    "city_mpg = city_mpg.astype('int64')"
   ]
  },
  {
   "cell_type": "code",
   "execution_count": 109,
   "id": "534474bd-67b8-4f12-8ff6-6e9e35e203b0",
   "metadata": {},
   "outputs": [
    {
     "data": {
      "text/plain": [
       "0        19\n",
       "1         9\n",
       "2        23\n",
       "3        10\n",
       "4        17\n",
       "         ..\n",
       "44981    19\n",
       "44982    20\n",
       "44983    18\n",
       "44984    18\n",
       "44985    16\n",
       "Name: city08, Length: 44986, dtype: int64"
      ]
     },
     "execution_count": 109,
     "metadata": {},
     "output_type": "execute_result"
    }
   ],
   "source": [
    "city_mpg"
   ]
  },
  {
   "cell_type": "markdown",
   "id": "eb3a0e33-9996-441d-a96f-46684732303d",
   "metadata": {},
   "source": [
    "## 5.2 Series Attributes"
   ]
  },
  {
   "cell_type": "markdown",
   "id": "852dc499-97c4-42b5-b7d4-b13e62356cb0",
   "metadata": {},
   "source": [
    "Number of attributes of a series"
   ]
  },
  {
   "cell_type": "code",
   "execution_count": 110,
   "id": "1ebe7f53-ad65-41f7-b4e6-0a39b2455003",
   "metadata": {},
   "outputs": [
    {
     "data": {
      "text/plain": [
       "419"
      ]
     },
     "execution_count": 110,
     "metadata": {},
     "output_type": "execute_result"
    }
   ],
   "source": [
    "len(dir(city_mpg))"
   ]
  },
  {
   "cell_type": "code",
   "execution_count": 111,
   "id": "b6f09af2-892c-4ccd-9336-dea32a7ae802",
   "metadata": {},
   "outputs": [
    {
     "data": {
      "text/plain": [
       "list"
      ]
     },
     "execution_count": 111,
     "metadata": {},
     "output_type": "execute_result"
    }
   ],
   "source": [
    "type(dir(city_mpg))"
   ]
  },
  {
   "cell_type": "code",
   "execution_count": 112,
   "id": "dddc1cc4-8d13-4e82-ac9a-4318b9a77375",
   "metadata": {},
   "outputs": [],
   "source": [
    "# dir(city_mpg)"
   ]
  },
  {
   "cell_type": "markdown",
   "id": "af6ce5bb-ad2f-42fb-8fd2-5a2d526226a0",
   "metadata": {},
   "source": [
    "### Dunder methods"
   ]
  },
  {
   "cell_type": "code",
   "execution_count": 113,
   "id": "40ac5a73-8833-4da0-b86b-75c80e9e99fb",
   "metadata": {},
   "outputs": [
    {
     "data": {
      "text/plain": [
       "87"
      ]
     },
     "execution_count": 113,
     "metadata": {},
     "output_type": "execute_result"
    }
   ],
   "source": [
    "len([match for match in dir(city_mpg) if '__' in match])"
   ]
  },
  {
   "cell_type": "code",
   "execution_count": 114,
   "id": "617033d7-e6ef-4d31-ba18-eea6d183b455",
   "metadata": {},
   "outputs": [
    {
     "data": {
      "text/plain": [
       "True"
      ]
     },
     "execution_count": 114,
     "metadata": {},
     "output_type": "execute_result"
    }
   ],
   "source": [
    "'__class__' in dir(city_mpg)"
   ]
  },
  {
   "cell_type": "code",
   "execution_count": 115,
   "id": "4ccfbcad-3e5c-4411-aa4e-33cc434627f0",
   "metadata": {},
   "outputs": [],
   "source": [
    "# [match for match in dir(city_mpg) if '__' in match]"
   ]
  },
  {
   "cell_type": "markdown",
   "id": "dae444d1-3fa5-42cf-80a7-eb2384e14839",
   "metadata": {},
   "source": [
    "### Operator methods"
   ]
  },
  {
   "cell_type": "markdown",
   "id": "0011d0a1-6c4c-4b3d-8f6c-e369f5db4324",
   "metadata": {},
   "source": [
    "Allow for tweaks in addition to the numeric operations"
   ]
  },
  {
   "cell_type": "markdown",
   "id": "f823d92f-cd44-45e8-b247-9758de064772",
   "metadata": {},
   "source": [
    "### Conversion methods"
   ]
  },
  {
   "cell_type": "code",
   "execution_count": 116,
   "id": "9606fb87-e61b-41a4-a8b6-4a1db7396f3b",
   "metadata": {},
   "outputs": [
    {
     "data": {
      "text/plain": [
       "['to_clipboard',\n",
       " 'to_csv',\n",
       " 'to_dict',\n",
       " 'to_excel',\n",
       " 'to_frame',\n",
       " 'to_hdf',\n",
       " 'to_json',\n",
       " 'to_latex',\n",
       " 'to_list',\n",
       " 'to_markdown',\n",
       " 'to_numpy',\n",
       " 'to_period',\n",
       " 'to_pickle',\n",
       " 'to_sql',\n",
       " 'to_string',\n",
       " 'to_timestamp',\n",
       " 'to_xarray']"
      ]
     },
     "execution_count": 116,
     "metadata": {},
     "output_type": "execute_result"
    }
   ],
   "source": [
    "[match for match in dir(city_mpg) if 'to_' in match]"
   ]
  },
  {
   "cell_type": "markdown",
   "id": "83263494-641f-45a7-87bf-eeb052c42787",
   "metadata": {},
   "source": [
    "### Manipulation methods"
   ]
  },
  {
   "cell_type": "markdown",
   "id": "c9038d65-b4ff-4daa-92c4-935d187ac095",
   "metadata": {},
   "source": [
    "Return Series objects with the same index"
   ]
  },
  {
   "cell_type": "code",
   "execution_count": 117,
   "id": "01ed85e8-f099-4f8a-832b-739fdda358f8",
   "metadata": {},
   "outputs": [
    {
     "data": {
      "text/plain": [
       "['_drop_axis',\n",
       " '_drop_labels_or_levels',\n",
       " 'argsort',\n",
       " 'drop',\n",
       " 'drop_duplicates',\n",
       " 'droplevel',\n",
       " 'dropna',\n",
       " 'searchsorted',\n",
       " 'sort_index',\n",
       " 'sort_values']"
      ]
     },
     "execution_count": 117,
     "metadata": {},
     "output_type": "execute_result"
    }
   ],
   "source": [
    "[match for match in dir(city_mpg) if 'drop' in match or 'sort' in match]"
   ]
  },
  {
   "cell_type": "code",
   "execution_count": 118,
   "id": "80357383-efbd-4179-ac06-d678686a60f4",
   "metadata": {},
   "outputs": [
    {
     "data": {
      "text/plain": [
       "'city08'"
      ]
     },
     "execution_count": 118,
     "metadata": {},
     "output_type": "execute_result"
    }
   ],
   "source": [
    "city_mpg.name"
   ]
  },
  {
   "cell_type": "code",
   "execution_count": 119,
   "id": "c7e1886d-ead2-465a-bc39-1053083ae1d2",
   "metadata": {},
   "outputs": [
    {
     "data": {
      "text/plain": [
       "23030    102\n",
       "23031    106\n",
       "23796    126\n",
       "24325    106\n",
       "24456    107\n",
       "        ... \n",
       "38743    106\n",
       "38745    116\n",
       "38819    103\n",
       "38822    119\n",
       "38914    110\n",
       "Name: city08, Length: 209, dtype: int64"
      ]
     },
     "execution_count": 119,
     "metadata": {},
     "output_type": "execute_result"
    }
   ],
   "source": [
    "city_mpg[city_mpg.sort_values() > 100]"
   ]
  },
  {
   "cell_type": "markdown",
   "id": "a977d3b4-55ae-4086-9c97-16cc0b7af400",
   "metadata": {},
   "source": [
    "### Indexing and accessor methods"
   ]
  },
  {
   "cell_type": "code",
   "execution_count": 120,
   "id": "e9c231f0-92b4-4ca4-a2ff-cdcd5443bb44",
   "metadata": {},
   "outputs": [
    {
     "data": {
      "text/plain": [
       "19"
      ]
     },
     "execution_count": 120,
     "metadata": {},
     "output_type": "execute_result"
    }
   ],
   "source": [
    "city_mpg.iloc[0]"
   ]
  },
  {
   "cell_type": "code",
   "execution_count": 121,
   "id": "d83dbfd0-c917-4424-a7da-6197c5e6d0ca",
   "metadata": {},
   "outputs": [
    {
     "data": {
      "text/plain": [
       "19"
      ]
     },
     "execution_count": 121,
     "metadata": {},
     "output_type": "execute_result"
    }
   ],
   "source": [
    "city_mpg.loc[0]"
   ]
  },
  {
   "cell_type": "markdown",
   "id": "9df8533b-8740-4b2b-82da-23572dda0a01",
   "metadata": {},
   "source": [
    "### String manipulation methods"
   ]
  },
  {
   "cell_type": "code",
   "execution_count": 122,
   "id": "44b3493f-d672-4047-92c3-1cde14832fb3",
   "metadata": {},
   "outputs": [
    {
     "data": {
      "text/plain": [
       "['__str__',\n",
       " '_construct_axes_dict',\n",
       " '_construct_axes_from_arguments',\n",
       " '_construct_result',\n",
       " '_constructor',\n",
       " '_constructor_expanddim',\n",
       " 'to_string']"
      ]
     },
     "execution_count": 122,
     "metadata": {},
     "output_type": "execute_result"
    }
   ],
   "source": [
    "[match for match in dir(city_mpg) if 'str' in match]"
   ]
  },
  {
   "cell_type": "markdown",
   "id": "5737704c-97be-4330-905c-bfcc84d0d59a",
   "metadata": {},
   "source": [
    "### Date manipulation methods"
   ]
  },
  {
   "cell_type": "code",
   "execution_count": 123,
   "id": "44427029-cd3a-4846-8dd1-9ff598943c58",
   "metadata": {},
   "outputs": [
    {
     "data": {
      "text/plain": [
       "['_convert_dtypes', '_validate_dtype', 'convert_dtypes', 'dtype', 'dtypes']"
      ]
     },
     "execution_count": 123,
     "metadata": {},
     "output_type": "execute_result"
    }
   ],
   "source": [
    "[match for match in dir(city_mpg) if 'dt' in match]"
   ]
  },
  {
   "cell_type": "markdown",
   "id": "b27c5c8d-457a-4aee-a32e-6b2c67bc7118",
   "metadata": {},
   "source": [
    "### Plotting methods"
   ]
  },
  {
   "cell_type": "code",
   "execution_count": 124,
   "id": "5e3fcf4d-8233-4b41-aeef-abe1cc940c5f",
   "metadata": {},
   "outputs": [
    {
     "data": {
      "text/plain": [
       "['plot']"
      ]
     },
     "execution_count": 124,
     "metadata": {},
     "output_type": "execute_result"
    }
   ],
   "source": [
    "[match for match in dir(city_mpg) if 'plot' in match]"
   ]
  },
  {
   "cell_type": "markdown",
   "id": "8f3bc7c3-42f6-415c-9a99-642c1e2ec194",
   "metadata": {},
   "source": [
    "### Categorical methods"
   ]
  },
  {
   "cell_type": "code",
   "execution_count": 125,
   "id": "d1b7736f-b228-4690-a8e7-0e790e6e0fa9",
   "metadata": {},
   "outputs": [
    {
     "data": {
      "text/plain": [
       "['_check_inplace_and_allows_duplicate_labels',\n",
       " '_duplicated',\n",
       " 'drop_duplicates',\n",
       " 'duplicated',\n",
       " 'truncate']"
      ]
     },
     "execution_count": 125,
     "metadata": {},
     "output_type": "execute_result"
    }
   ],
   "source": [
    "[match for match in dir(city_mpg) if 'cat' in match]"
   ]
  },
  {
   "cell_type": "markdown",
   "id": "51be95e2-8e63-4237-9214-98045892e7ca",
   "metadata": {},
   "source": [
    "### Transformation methods"
   ]
  },
  {
   "cell_type": "code",
   "execution_count": 126,
   "id": "169ba7e0-0ad4-4fe6-ac8f-b5e4f804a3c8",
   "metadata": {},
   "outputs": [
    {
     "data": {
      "text/plain": [
       "['_agg_by_level',\n",
       " '_agg_examples_doc',\n",
       " '_agg_see_also_doc',\n",
       " 'agg',\n",
       " 'aggregate',\n",
       " 'reset_index',\n",
       " 'transform',\n",
       " 'unstack']"
      ]
     },
     "execution_count": 126,
     "metadata": {},
     "output_type": "execute_result"
    }
   ],
   "source": [
    "[match for match in dir(city_mpg) if 'unstack' in match or \n",
    " 'reset_index' in match or 'agg' in match or 'transform' in match]"
   ]
  },
  {
   "cell_type": "markdown",
   "id": "6abd25a7-70c2-4515-b6b7-51e763de0b46",
   "metadata": {},
   "source": [
    "### Attributes"
   ]
  },
  {
   "cell_type": "code",
   "execution_count": 127,
   "id": "dd49c587-2fbc-4fe9-af75-236308b46606",
   "metadata": {},
   "outputs": [
    {
     "data": {
      "text/plain": [
       "['_convert_dtypes',\n",
       " '_find_valid_index',\n",
       " '_get_index_resolvers',\n",
       " '_indexed_same',\n",
       " '_needs_reindex_multi',\n",
       " '_reindex_axes',\n",
       " '_reindex_indexer',\n",
       " '_reindex_multi',\n",
       " '_reindex_with_indexers',\n",
       " '_validate_dtype',\n",
       " 'convert_dtypes',\n",
       " 'dtype',\n",
       " 'dtypes',\n",
       " 'first_valid_index',\n",
       " 'index',\n",
       " 'last_valid_index',\n",
       " 'reindex',\n",
       " 'reindex_like',\n",
       " 'reset_index',\n",
       " 'sort_index']"
      ]
     },
     "execution_count": 127,
     "metadata": {},
     "output_type": "execute_result"
    }
   ],
   "source": [
    "[match for match in dir(city_mpg) if 'index' in match or 'dtype' in match]"
   ]
  },
  {
   "cell_type": "markdown",
   "id": "116af650-6349-467c-9558-ea7d3bed3924",
   "metadata": {},
   "source": [
    "### Private attributes"
   ]
  },
  {
   "cell_type": "markdown",
   "id": "7f029271-17b1-421f-8085-c2b9d59636a4",
   "metadata": {},
   "source": [
    "Many private attributes to the class that can generally be ignored for regular use"
   ]
  },
  {
   "cell_type": "code",
   "execution_count": 128,
   "id": "9ba9253f-96ce-462a-89b9-72cb8d65748a",
   "metadata": {},
   "outputs": [
    {
     "data": {
      "text/plain": [
       "dtype('int64')"
      ]
     },
     "execution_count": 128,
     "metadata": {},
     "output_type": "execute_result"
    }
   ],
   "source": [
    "songs3.dtype"
   ]
  },
  {
   "cell_type": "code",
   "execution_count": 129,
   "id": "1e7b0ef8-937d-4295-92a7-0b011ce3162a",
   "metadata": {},
   "outputs": [
    {
     "data": {
      "text/plain": [
       "Index(['barrels08', 'barrelsA08', 'charge120', 'charge240', 'city08',\n",
       "       'city08U', 'cityA08', 'cityA08U', 'cityCD', 'cityE', 'cityUF', 'co2',\n",
       "       'co2A', 'co2TailpipeAGpm', 'co2TailpipeGpm', 'comb08', 'comb08U',\n",
       "       'combA08', 'combA08U', 'combE', 'combinedCD', 'combinedUF', 'cylinders',\n",
       "       'displ', 'drive', 'engId', 'eng_dscr', 'feScore', 'fuelCost08',\n",
       "       'fuelCostA08', 'fuelType', 'fuelType1', 'ghgScore', 'ghgScoreA',\n",
       "       'highway08', 'highway08U', 'highwayA08', 'highwayA08U', 'highwayCD',\n",
       "       'highwayE', 'highwayUF', 'hlv', 'hpv', 'id', 'lv2', 'lv4', 'make',\n",
       "       'model', 'mpgData', 'phevBlended', 'pv2', 'pv4', 'range', 'rangeCity',\n",
       "       'rangeCityA', 'rangeHwy', 'rangeHwyA', 'trany', 'UCity', 'UCityA',\n",
       "       'UHighway', 'UHighwayA', 'VClass', 'year', 'youSaveSpend', 'guzzler',\n",
       "       'trans_dscr', 'tCharger', 'sCharger', 'atvType', 'fuelType2', 'rangeA',\n",
       "       'evMotor', 'mfrCode', 'c240Dscr', 'charge240b', 'c240bDscr',\n",
       "       'createdOn', 'modifiedOn', 'startStop', 'phevCity', 'phevHwy',\n",
       "       'phevComb'],\n",
       "      dtype='object')"
      ]
     },
     "execution_count": 129,
     "metadata": {},
     "output_type": "execute_result"
    }
   ],
   "source": [
    "df.columns"
   ]
  },
  {
   "cell_type": "code",
   "execution_count": 130,
   "id": "4ff392b8-986c-443d-bee3-f194dc58e8c8",
   "metadata": {},
   "outputs": [],
   "source": [
    "model = pd.Series(df['model'])"
   ]
  },
  {
   "cell_type": "code",
   "execution_count": 131,
   "id": "ab1740e8-e888-4878-85e9-ff5cba867a75",
   "metadata": {},
   "outputs": [
    {
     "data": {
      "text/plain": [
       "pandas.core.series.Series"
      ]
     },
     "execution_count": 131,
     "metadata": {},
     "output_type": "execute_result"
    }
   ],
   "source": [
    "type(model)"
   ]
  },
  {
   "cell_type": "code",
   "execution_count": 132,
   "id": "c7c6427f-340e-4e6e-9a46-532d0a1870fd",
   "metadata": {},
   "outputs": [
    {
     "data": {
      "text/plain": [
       "array(['Spider Veloce 2000', 'Testarossa', 'Charger', ..., 'Legacy AWD',\n",
       "       'Legacy AWD', 'Legacy AWD Turbo'], dtype=object)"
      ]
     },
     "execution_count": 132,
     "metadata": {},
     "output_type": "execute_result"
    }
   ],
   "source": [
    "model.values"
   ]
  },
  {
   "cell_type": "code",
   "execution_count": 133,
   "id": "65651126-1818-4df0-a474-9a936fd84506",
   "metadata": {},
   "outputs": [
    {
     "data": {
      "text/plain": [
       "4642"
      ]
     },
     "execution_count": 133,
     "metadata": {},
     "output_type": "execute_result"
    }
   ],
   "source": [
    "model.nunique()"
   ]
  },
  {
   "cell_type": "code",
   "execution_count": 134,
   "id": "7ba74874-a5a7-4ed4-b428-86c76d09109c",
   "metadata": {},
   "outputs": [],
   "source": [
    "str_utilities = dir(model.str)"
   ]
  },
  {
   "cell_type": "code",
   "execution_count": 135,
   "id": "ff8caf21-56b9-42ae-b28e-611d21b1e179",
   "metadata": {},
   "outputs": [
    {
     "data": {
      "text/plain": [
       "99"
      ]
     },
     "execution_count": 135,
     "metadata": {},
     "output_type": "execute_result"
    }
   ],
   "source": [
    "len(str_utilities)"
   ]
  },
  {
   "cell_type": "code",
   "execution_count": 136,
   "id": "b6bb2914-18dd-468e-9bb4-f08620defecf",
   "metadata": {},
   "outputs": [],
   "source": [
    "# str_utilities"
   ]
  },
  {
   "cell_type": "code",
   "execution_count": 137,
   "id": "785e500e-4a25-4215-9636-2490b26d5d79",
   "metadata": {},
   "outputs": [
    {
     "data": {
      "text/plain": [
       "1"
      ]
     },
     "execution_count": 137,
     "metadata": {},
     "output_type": "execute_result"
    }
   ],
   "source": [
    "str_utilities.count('__class__')"
   ]
  },
  {
   "cell_type": "code",
   "execution_count": 138,
   "id": "d00dc6be-edfe-44ca-8316-e6c60169b287",
   "metadata": {},
   "outputs": [
    {
     "data": {
      "text/plain": [
       "'zfill'"
      ]
     },
     "execution_count": 138,
     "metadata": {},
     "output_type": "execute_result"
    }
   ],
   "source": [
    "str_utilities.pop()"
   ]
  },
  {
   "cell_type": "code",
   "execution_count": 139,
   "id": "61c98436-a8ee-4abd-93cd-8a76b53cbf7c",
   "metadata": {},
   "outputs": [
    {
     "data": {
      "text/plain": [
       "98"
      ]
     },
     "execution_count": 139,
     "metadata": {},
     "output_type": "execute_result"
    }
   ],
   "source": [
    "len(str_utilities)"
   ]
  },
  {
   "cell_type": "code",
   "execution_count": 140,
   "id": "42426e9e-9c19-429f-bdcd-fd7f17b6d8d3",
   "metadata": {},
   "outputs": [],
   "source": [
    "str_utilities = dir(model.str)"
   ]
  },
  {
   "cell_type": "code",
   "execution_count": 141,
   "id": "b563abac-bb8d-421d-9ce3-0b797cc58388",
   "metadata": {},
   "outputs": [],
   "source": [
    "str_utilities.reverse()"
   ]
  },
  {
   "cell_type": "code",
   "execution_count": 142,
   "id": "275e3a30-a4cf-43c0-83e0-4a60be6ec997",
   "metadata": {},
   "outputs": [],
   "source": [
    "str_utilities.reverse()"
   ]
  },
  {
   "cell_type": "code",
   "execution_count": 143,
   "id": "54ce63f4-ab5f-4136-afb1-163374d1b1f9",
   "metadata": {},
   "outputs": [
    {
     "data": {
      "text/plain": [
       "True"
      ]
     },
     "execution_count": 143,
     "metadata": {},
     "output_type": "execute_result"
    }
   ],
   "source": [
    "'endswith' in str_utilities"
   ]
  },
  {
   "cell_type": "code",
   "execution_count": 144,
   "id": "667fdf76-277c-4281-a28a-6d37cdca3c63",
   "metadata": {},
   "outputs": [
    {
     "data": {
      "text/plain": [
       "list"
      ]
     },
     "execution_count": 144,
     "metadata": {},
     "output_type": "execute_result"
    }
   ],
   "source": [
    "type(str_utilities)"
   ]
  },
  {
   "cell_type": "code",
   "execution_count": 145,
   "id": "0c783f57-3b77-4628-b6dd-f4e4c9002348",
   "metadata": {},
   "outputs": [
    {
     "data": {
      "text/plain": [
       "728                        Cabriolet\n",
       "809      Ferrari Mondial T/Cabriolet\n",
       "810      Ferrari Mondial T/Cabriolet\n",
       "1797                       Cabriolet\n",
       "1798                       Cabriolet\n",
       "                    ...             \n",
       "43535            Mondial T/Cabriolet\n",
       "44641                      Cabriolet\n",
       "44643                      Cabriolet\n",
       "44708    Ferrari Mondial T/Cabriolet\n",
       "44710    Ferrari Mondial T/Cabriolet\n",
       "Name: model, Length: 324, dtype: object"
      ]
     },
     "execution_count": 145,
     "metadata": {},
     "output_type": "execute_result"
    }
   ],
   "source": [
    "model[model.str.endswith('et')]"
   ]
  },
  {
   "cell_type": "code",
   "execution_count": 146,
   "id": "a5f65619-c4c9-490a-8558-328f221714fb",
   "metadata": {},
   "outputs": [
    {
     "data": {
      "text/plain": [
       "7985                     Highlander 2WD\n",
       "7986                     Highlander 2WD\n",
       "8102                     Highlander 4WD\n",
       "8103                     Highlander 4WD\n",
       "9037                     Highlander 2WD\n",
       "                      ...              \n",
       "38071                        Highlander\n",
       "38072                 Highlander Hybrid\n",
       "38077                    Highlander AWD\n",
       "38107    Highlander Hybrid AWD LTD/PLAT\n",
       "38108             Highlander Hybrid AWD\n",
       "Name: model, Length: 112, dtype: object"
      ]
     },
     "execution_count": 146,
     "metadata": {},
     "output_type": "execute_result"
    }
   ],
   "source": [
    "model[model.str.startswith('Hi')]"
   ]
  },
  {
   "cell_type": "code",
   "execution_count": 147,
   "id": "52956996-926d-49d4-8343-b10852cfbc8e",
   "metadata": {},
   "outputs": [
    {
     "data": {
      "text/plain": [
       "array(['spider veloce 2000', 'testarossa', 'charger', ...,\n",
       "       'ferrari 348 tb/ts', 'xjrs convertble', 'xjrs coupe'], dtype=object)"
      ]
     },
     "execution_count": 147,
     "metadata": {},
     "output_type": "execute_result"
    }
   ],
   "source": [
    "model.str.lower().unique()"
   ]
  },
  {
   "cell_type": "code",
   "execution_count": 148,
   "id": "16c756cc-9c0f-4094-b6b7-164ded453722",
   "metadata": {},
   "outputs": [
    {
     "data": {
      "text/plain": [
       "\u001b[0;31mSignature:\u001b[0m \u001b[0mpd\u001b[0m\u001b[0;34m.\u001b[0m\u001b[0mSeries\u001b[0m\u001b[0;34m.\u001b[0m\u001b[0munique\u001b[0m\u001b[0;34m(\u001b[0m\u001b[0mself\u001b[0m\u001b[0;34m)\u001b[0m \u001b[0;34m->\u001b[0m \u001b[0;34m'ArrayLike'\u001b[0m\u001b[0;34m\u001b[0m\u001b[0;34m\u001b[0m\u001b[0m\n",
       "\u001b[0;31mSource:\u001b[0m   \n",
       "    \u001b[0;32mdef\u001b[0m \u001b[0munique\u001b[0m\u001b[0;34m(\u001b[0m\u001b[0mself\u001b[0m\u001b[0;34m)\u001b[0m \u001b[0;34m->\u001b[0m \u001b[0mArrayLike\u001b[0m\u001b[0;34m:\u001b[0m\u001b[0;34m\u001b[0m\n",
       "\u001b[0;34m\u001b[0m        \u001b[0;34m\"\"\"\u001b[0m\n",
       "\u001b[0;34m        Return unique values of Series object.\u001b[0m\n",
       "\u001b[0;34m\u001b[0m\n",
       "\u001b[0;34m        Uniques are returned in order of appearance. Hash table-based unique,\u001b[0m\n",
       "\u001b[0;34m        therefore does NOT sort.\u001b[0m\n",
       "\u001b[0;34m\u001b[0m\n",
       "\u001b[0;34m        Returns\u001b[0m\n",
       "\u001b[0;34m        -------\u001b[0m\n",
       "\u001b[0;34m        ndarray or ExtensionArray\u001b[0m\n",
       "\u001b[0;34m            The unique values returned as a NumPy array. See Notes.\u001b[0m\n",
       "\u001b[0;34m\u001b[0m\n",
       "\u001b[0;34m        See Also\u001b[0m\n",
       "\u001b[0;34m        --------\u001b[0m\n",
       "\u001b[0;34m        unique : Top-level unique method for any 1-d array-like object.\u001b[0m\n",
       "\u001b[0;34m        Index.unique : Return Index with unique values from an Index object.\u001b[0m\n",
       "\u001b[0;34m\u001b[0m\n",
       "\u001b[0;34m        Notes\u001b[0m\n",
       "\u001b[0;34m        -----\u001b[0m\n",
       "\u001b[0;34m        Returns the unique values as a NumPy array. In case of an\u001b[0m\n",
       "\u001b[0;34m        extension-array backed Series, a new\u001b[0m\n",
       "\u001b[0;34m        :class:`~api.extensions.ExtensionArray` of that type with just\u001b[0m\n",
       "\u001b[0;34m        the unique values is returned. This includes\u001b[0m\n",
       "\u001b[0;34m\u001b[0m\n",
       "\u001b[0;34m            * Categorical\u001b[0m\n",
       "\u001b[0;34m            * Period\u001b[0m\n",
       "\u001b[0;34m            * Datetime with Timezone\u001b[0m\n",
       "\u001b[0;34m            * Interval\u001b[0m\n",
       "\u001b[0;34m            * Sparse\u001b[0m\n",
       "\u001b[0;34m            * IntegerNA\u001b[0m\n",
       "\u001b[0;34m\u001b[0m\n",
       "\u001b[0;34m        See Examples section.\u001b[0m\n",
       "\u001b[0;34m\u001b[0m\n",
       "\u001b[0;34m        Examples\u001b[0m\n",
       "\u001b[0;34m        --------\u001b[0m\n",
       "\u001b[0;34m        >>> pd.Series([2, 1, 3, 3], name='A').unique()\u001b[0m\n",
       "\u001b[0;34m        array([2, 1, 3])\u001b[0m\n",
       "\u001b[0;34m\u001b[0m\n",
       "\u001b[0;34m        >>> pd.Series([pd.Timestamp('2016-01-01') for _ in range(3)]).unique()\u001b[0m\n",
       "\u001b[0;34m        array(['2016-01-01T00:00:00.000000000'], dtype='datetime64[ns]')\u001b[0m\n",
       "\u001b[0;34m\u001b[0m\n",
       "\u001b[0;34m        >>> pd.Series([pd.Timestamp('2016-01-01', tz='US/Eastern')\u001b[0m\n",
       "\u001b[0;34m        ...            for _ in range(3)]).unique()\u001b[0m\n",
       "\u001b[0;34m        <DatetimeArray>\u001b[0m\n",
       "\u001b[0;34m        ['2016-01-01 00:00:00-05:00']\u001b[0m\n",
       "\u001b[0;34m        Length: 1, dtype: datetime64[ns, US/Eastern]\u001b[0m\n",
       "\u001b[0;34m\u001b[0m\n",
       "\u001b[0;34m        An Categorical will return categories in the order of\u001b[0m\n",
       "\u001b[0;34m        appearance and with the same dtype.\u001b[0m\n",
       "\u001b[0;34m\u001b[0m\n",
       "\u001b[0;34m        >>> pd.Series(pd.Categorical(list('baabc'))).unique()\u001b[0m\n",
       "\u001b[0;34m        ['b', 'a', 'c']\u001b[0m\n",
       "\u001b[0;34m        Categories (3, object): ['a', 'b', 'c']\u001b[0m\n",
       "\u001b[0;34m        >>> pd.Series(pd.Categorical(list('baabc'), categories=list('abc'),\u001b[0m\n",
       "\u001b[0;34m        ...                          ordered=True)).unique()\u001b[0m\n",
       "\u001b[0;34m        ['b', 'a', 'c']\u001b[0m\n",
       "\u001b[0;34m        Categories (3, object): ['a' < 'b' < 'c']\u001b[0m\n",
       "\u001b[0;34m        \"\"\"\u001b[0m\u001b[0;34m\u001b[0m\n",
       "\u001b[0;34m\u001b[0m        \u001b[0;32mreturn\u001b[0m \u001b[0msuper\u001b[0m\u001b[0;34m(\u001b[0m\u001b[0;34m)\u001b[0m\u001b[0;34m.\u001b[0m\u001b[0munique\u001b[0m\u001b[0;34m(\u001b[0m\u001b[0;34m)\u001b[0m\u001b[0;34m\u001b[0m\u001b[0;34m\u001b[0m\u001b[0m\n",
       "\u001b[0;31mFile:\u001b[0m      ~/mambaforge/lib/python3.9/site-packages/pandas/core/series.py\n",
       "\u001b[0;31mType:\u001b[0m      function\n"
      ]
     },
     "metadata": {},
     "output_type": "display_data"
    }
   ],
   "source": [
    "pd.Series.unique??"
   ]
  },
  {
   "cell_type": "code",
   "execution_count": 149,
   "id": "9fa16e37-e8ae-4999-bf7d-3f92fe747047",
   "metadata": {},
   "outputs": [
    {
     "data": {
      "text/plain": [
       "\u001b[0;31mSignature:\u001b[0m \u001b[0mpd\u001b[0m\u001b[0;34m.\u001b[0m\u001b[0mSeries\u001b[0m\u001b[0;34m.\u001b[0m\u001b[0mcat\u001b[0m\u001b[0;34m.\u001b[0m\u001b[0mreorder_categories\u001b[0m\u001b[0;34m(\u001b[0m\u001b[0mself\u001b[0m\u001b[0;34m,\u001b[0m \u001b[0;34m*\u001b[0m\u001b[0margs\u001b[0m\u001b[0;34m,\u001b[0m \u001b[0;34m**\u001b[0m\u001b[0mkwargs\u001b[0m\u001b[0;34m)\u001b[0m\u001b[0;34m\u001b[0m\u001b[0;34m\u001b[0m\u001b[0m\n",
       "\u001b[0;31mDocstring:\u001b[0m\n",
       "Reorder categories as specified in new_categories.\n",
       "\n",
       "`new_categories` need to include all old categories and no new category\n",
       "items.\n",
       "\n",
       "Parameters\n",
       "----------\n",
       "new_categories : Index-like\n",
       "   The categories in new order.\n",
       "ordered : bool, optional\n",
       "   Whether or not the categorical is treated as a ordered categorical.\n",
       "   If not given, do not change the ordered information.\n",
       "inplace : bool, default False\n",
       "   Whether or not to reorder the categories inplace or return a copy of\n",
       "   this categorical with reordered categories.\n",
       "\n",
       "   .. deprecated:: 1.3.0\n",
       "\n",
       "Returns\n",
       "-------\n",
       "cat : Categorical or None\n",
       "    Categorical with removed categories or None if ``inplace=True``.\n",
       "\n",
       "Raises\n",
       "------\n",
       "ValueError\n",
       "    If the new categories do not contain all old category items or any\n",
       "    new ones\n",
       "\n",
       "See Also\n",
       "--------\n",
       "rename_categories : Rename categories.\n",
       "add_categories : Add new categories.\n",
       "remove_categories : Remove the specified categories.\n",
       "remove_unused_categories : Remove categories which are not used.\n",
       "set_categories : Set the categories to the specified ones.\n",
       "\u001b[0;31mSource:\u001b[0m   \n",
       "            \u001b[0;32mdef\u001b[0m \u001b[0mf\u001b[0m\u001b[0;34m(\u001b[0m\u001b[0mself\u001b[0m\u001b[0;34m,\u001b[0m \u001b[0;34m*\u001b[0m\u001b[0margs\u001b[0m\u001b[0;34m,\u001b[0m \u001b[0;34m**\u001b[0m\u001b[0mkwargs\u001b[0m\u001b[0;34m)\u001b[0m\u001b[0;34m:\u001b[0m\u001b[0;34m\u001b[0m\n",
       "\u001b[0;34m\u001b[0m                \u001b[0;32mreturn\u001b[0m \u001b[0mself\u001b[0m\u001b[0;34m.\u001b[0m\u001b[0m_delegate_method\u001b[0m\u001b[0;34m(\u001b[0m\u001b[0mname\u001b[0m\u001b[0;34m,\u001b[0m \u001b[0;34m*\u001b[0m\u001b[0margs\u001b[0m\u001b[0;34m,\u001b[0m \u001b[0;34m**\u001b[0m\u001b[0mkwargs\u001b[0m\u001b[0;34m)\u001b[0m\u001b[0;34m\u001b[0m\u001b[0;34m\u001b[0m\u001b[0m\n",
       "\u001b[0;31mFile:\u001b[0m      ~/mambaforge/lib/python3.9/site-packages/pandas/core/accessor.py\n",
       "\u001b[0;31mType:\u001b[0m      function\n"
      ]
     },
     "metadata": {},
     "output_type": "display_data"
    }
   ],
   "source": [
    "pd.Series.cat.reorder_categories??"
   ]
  },
  {
   "cell_type": "code",
   "execution_count": 150,
   "id": "cc44233e-fdcf-4ae0-9acb-0d92f5948197",
   "metadata": {},
   "outputs": [
    {
     "data": {
      "text/plain": [
       "\u001b[0;31mSignature:\u001b[0m \u001b[0mpd\u001b[0m\u001b[0;34m.\u001b[0m\u001b[0mSeries\u001b[0m\u001b[0;34m.\u001b[0m\u001b[0mstr\u001b[0m\u001b[0;34m.\u001b[0m\u001b[0mcapitalize\u001b[0m\u001b[0;34m(\u001b[0m\u001b[0mself\u001b[0m\u001b[0;34m)\u001b[0m\u001b[0;34m\u001b[0m\u001b[0;34m\u001b[0m\u001b[0m\n",
       "\u001b[0;31mDocstring:\u001b[0m\n",
       "Convert strings in the Series/Index to be capitalized.\n",
       "\n",
       "Equivalent to :meth:`str.capitalize`.\n",
       "\n",
       "Returns\n",
       "-------\n",
       "Series or Index of object\n",
       "\n",
       "See Also\n",
       "--------\n",
       "Series.str.lower : Converts all characters to lowercase.\n",
       "Series.str.upper : Converts all characters to uppercase.\n",
       "Series.str.title : Converts first character of each word to uppercase and\n",
       "    remaining to lowercase.\n",
       "Series.str.capitalize : Converts first character to uppercase and\n",
       "    remaining to lowercase.\n",
       "Series.str.swapcase : Converts uppercase to lowercase and lowercase to\n",
       "    uppercase.\n",
       "Series.str.casefold: Removes all case distinctions in the string.\n",
       "\n",
       "Examples\n",
       "--------\n",
       ">>> s = pd.Series(['lower', 'CAPITALS', 'this is a sentence', 'SwApCaSe'])\n",
       ">>> s\n",
       "0                 lower\n",
       "1              CAPITALS\n",
       "2    this is a sentence\n",
       "3              SwApCaSe\n",
       "dtype: object\n",
       "\n",
       ">>> s.str.lower()\n",
       "0                 lower\n",
       "1              capitals\n",
       "2    this is a sentence\n",
       "3              swapcase\n",
       "dtype: object\n",
       "\n",
       ">>> s.str.upper()\n",
       "0                 LOWER\n",
       "1              CAPITALS\n",
       "2    THIS IS A SENTENCE\n",
       "3              SWAPCASE\n",
       "dtype: object\n",
       "\n",
       ">>> s.str.title()\n",
       "0                 Lower\n",
       "1              Capitals\n",
       "2    This Is A Sentence\n",
       "3              Swapcase\n",
       "dtype: object\n",
       "\n",
       ">>> s.str.capitalize()\n",
       "0                 Lower\n",
       "1              Capitals\n",
       "2    This is a sentence\n",
       "3              Swapcase\n",
       "dtype: object\n",
       "\n",
       ">>> s.str.swapcase()\n",
       "0                 LOWER\n",
       "1              capitals\n",
       "2    THIS IS A SENTENCE\n",
       "3              sWaPcAsE\n",
       "dtype: object\n",
       "\u001b[0;31mSource:\u001b[0m   \n",
       "    \u001b[0;34m@\u001b[0m\u001b[0mAppender\u001b[0m\u001b[0;34m(\u001b[0m\u001b[0m_shared_docs\u001b[0m\u001b[0;34m[\u001b[0m\u001b[0;34m\"casemethods\"\u001b[0m\u001b[0;34m]\u001b[0m \u001b[0;34m%\u001b[0m \u001b[0m_doc_args\u001b[0m\u001b[0;34m[\u001b[0m\u001b[0;34m\"capitalize\"\u001b[0m\u001b[0;34m]\u001b[0m\u001b[0;34m)\u001b[0m\u001b[0;34m\u001b[0m\n",
       "\u001b[0;34m\u001b[0m    \u001b[0;34m@\u001b[0m\u001b[0mforbid_nonstring_types\u001b[0m\u001b[0;34m(\u001b[0m\u001b[0;34m[\u001b[0m\u001b[0;34m\"bytes\"\u001b[0m\u001b[0;34m]\u001b[0m\u001b[0;34m)\u001b[0m\u001b[0;34m\u001b[0m\n",
       "\u001b[0;34m\u001b[0m    \u001b[0;32mdef\u001b[0m \u001b[0mcapitalize\u001b[0m\u001b[0;34m(\u001b[0m\u001b[0mself\u001b[0m\u001b[0;34m)\u001b[0m\u001b[0;34m:\u001b[0m\u001b[0;34m\u001b[0m\n",
       "\u001b[0;34m\u001b[0m        \u001b[0mresult\u001b[0m \u001b[0;34m=\u001b[0m \u001b[0mself\u001b[0m\u001b[0;34m.\u001b[0m\u001b[0m_data\u001b[0m\u001b[0;34m.\u001b[0m\u001b[0marray\u001b[0m\u001b[0;34m.\u001b[0m\u001b[0m_str_capitalize\u001b[0m\u001b[0;34m(\u001b[0m\u001b[0;34m)\u001b[0m\u001b[0;34m\u001b[0m\n",
       "\u001b[0;34m\u001b[0m        \u001b[0;32mreturn\u001b[0m \u001b[0mself\u001b[0m\u001b[0;34m.\u001b[0m\u001b[0m_wrap_result\u001b[0m\u001b[0;34m(\u001b[0m\u001b[0mresult\u001b[0m\u001b[0;34m)\u001b[0m\u001b[0;34m\u001b[0m\u001b[0;34m\u001b[0m\u001b[0m\n",
       "\u001b[0;31mFile:\u001b[0m      ~/mambaforge/lib/python3.9/site-packages/pandas/core/strings/accessor.py\n",
       "\u001b[0;31mType:\u001b[0m      function\n"
      ]
     },
     "metadata": {},
     "output_type": "display_data"
    }
   ],
   "source": [
    "pd.Series.str.capitalize??"
   ]
  },
  {
   "cell_type": "code",
   "execution_count": 151,
   "id": "60274c1e-aeb9-45cf-ac4c-46a2c1dcb765",
   "metadata": {},
   "outputs": [
    {
     "data": {
      "text/plain": [
       "\u001b[0;31mSignature:\u001b[0m \u001b[0mpd\u001b[0m\u001b[0;34m.\u001b[0m\u001b[0mSeries\u001b[0m\u001b[0;34m.\u001b[0m\u001b[0mstr\u001b[0m\u001b[0;34m.\u001b[0m\u001b[0mcontains\u001b[0m\u001b[0;34m(\u001b[0m\u001b[0mself\u001b[0m\u001b[0;34m,\u001b[0m \u001b[0mpat\u001b[0m\u001b[0;34m,\u001b[0m \u001b[0mcase\u001b[0m\u001b[0;34m=\u001b[0m\u001b[0;32mTrue\u001b[0m\u001b[0;34m,\u001b[0m \u001b[0mflags\u001b[0m\u001b[0;34m=\u001b[0m\u001b[0;36m0\u001b[0m\u001b[0;34m,\u001b[0m \u001b[0mna\u001b[0m\u001b[0;34m=\u001b[0m\u001b[0;32mNone\u001b[0m\u001b[0;34m,\u001b[0m \u001b[0mregex\u001b[0m\u001b[0;34m=\u001b[0m\u001b[0;32mTrue\u001b[0m\u001b[0;34m)\u001b[0m\u001b[0;34m\u001b[0m\u001b[0;34m\u001b[0m\u001b[0m\n",
       "\u001b[0;31mSource:\u001b[0m   \n",
       "    \u001b[0;34m@\u001b[0m\u001b[0mforbid_nonstring_types\u001b[0m\u001b[0;34m(\u001b[0m\u001b[0;34m[\u001b[0m\u001b[0;34m\"bytes\"\u001b[0m\u001b[0;34m]\u001b[0m\u001b[0;34m)\u001b[0m\u001b[0;34m\u001b[0m\n",
       "\u001b[0;34m\u001b[0m    \u001b[0;32mdef\u001b[0m \u001b[0mcontains\u001b[0m\u001b[0;34m(\u001b[0m\u001b[0mself\u001b[0m\u001b[0;34m,\u001b[0m \u001b[0mpat\u001b[0m\u001b[0;34m,\u001b[0m \u001b[0mcase\u001b[0m\u001b[0;34m=\u001b[0m\u001b[0;32mTrue\u001b[0m\u001b[0;34m,\u001b[0m \u001b[0mflags\u001b[0m\u001b[0;34m=\u001b[0m\u001b[0;36m0\u001b[0m\u001b[0;34m,\u001b[0m \u001b[0mna\u001b[0m\u001b[0;34m=\u001b[0m\u001b[0;32mNone\u001b[0m\u001b[0;34m,\u001b[0m \u001b[0mregex\u001b[0m\u001b[0;34m=\u001b[0m\u001b[0;32mTrue\u001b[0m\u001b[0;34m)\u001b[0m\u001b[0;34m:\u001b[0m\u001b[0;34m\u001b[0m\n",
       "\u001b[0;34m\u001b[0m        \u001b[0;34mr\"\"\"\u001b[0m\n",
       "\u001b[0;34m        Test if pattern or regex is contained within a string of a Series or Index.\u001b[0m\n",
       "\u001b[0;34m\u001b[0m\n",
       "\u001b[0;34m        Return boolean Series or Index based on whether a given pattern or regex is\u001b[0m\n",
       "\u001b[0;34m        contained within a string of a Series or Index.\u001b[0m\n",
       "\u001b[0;34m\u001b[0m\n",
       "\u001b[0;34m        Parameters\u001b[0m\n",
       "\u001b[0;34m        ----------\u001b[0m\n",
       "\u001b[0;34m        pat : str\u001b[0m\n",
       "\u001b[0;34m            Character sequence or regular expression.\u001b[0m\n",
       "\u001b[0;34m        case : bool, default True\u001b[0m\n",
       "\u001b[0;34m            If True, case sensitive.\u001b[0m\n",
       "\u001b[0;34m        flags : int, default 0 (no flags)\u001b[0m\n",
       "\u001b[0;34m            Flags to pass through to the re module, e.g. re.IGNORECASE.\u001b[0m\n",
       "\u001b[0;34m        na : scalar, optional\u001b[0m\n",
       "\u001b[0;34m            Fill value for missing values. The default depends on dtype of the\u001b[0m\n",
       "\u001b[0;34m            array. For object-dtype, ``numpy.nan`` is used. For ``StringDtype``,\u001b[0m\n",
       "\u001b[0;34m            ``pandas.NA`` is used.\u001b[0m\n",
       "\u001b[0;34m        regex : bool, default True\u001b[0m\n",
       "\u001b[0;34m            If True, assumes the pat is a regular expression.\u001b[0m\n",
       "\u001b[0;34m\u001b[0m\n",
       "\u001b[0;34m            If False, treats the pat as a literal string.\u001b[0m\n",
       "\u001b[0;34m\u001b[0m\n",
       "\u001b[0;34m        Returns\u001b[0m\n",
       "\u001b[0;34m        -------\u001b[0m\n",
       "\u001b[0;34m        Series or Index of boolean values\u001b[0m\n",
       "\u001b[0;34m            A Series or Index of boolean values indicating whether the\u001b[0m\n",
       "\u001b[0;34m            given pattern is contained within the string of each element\u001b[0m\n",
       "\u001b[0;34m            of the Series or Index.\u001b[0m\n",
       "\u001b[0;34m\u001b[0m\n",
       "\u001b[0;34m        See Also\u001b[0m\n",
       "\u001b[0;34m        --------\u001b[0m\n",
       "\u001b[0;34m        match : Analogous, but stricter, relying on re.match instead of re.search.\u001b[0m\n",
       "\u001b[0;34m        Series.str.startswith : Test if the start of each string element matches a\u001b[0m\n",
       "\u001b[0;34m            pattern.\u001b[0m\n",
       "\u001b[0;34m        Series.str.endswith : Same as startswith, but tests the end of string.\u001b[0m\n",
       "\u001b[0;34m\u001b[0m\n",
       "\u001b[0;34m        Examples\u001b[0m\n",
       "\u001b[0;34m        --------\u001b[0m\n",
       "\u001b[0;34m        Returning a Series of booleans using only a literal pattern.\u001b[0m\n",
       "\u001b[0;34m\u001b[0m\n",
       "\u001b[0;34m        >>> s1 = pd.Series(['Mouse', 'dog', 'house and parrot', '23', np.NaN])\u001b[0m\n",
       "\u001b[0;34m        >>> s1.str.contains('og', regex=False)\u001b[0m\n",
       "\u001b[0;34m        0    False\u001b[0m\n",
       "\u001b[0;34m        1     True\u001b[0m\n",
       "\u001b[0;34m        2    False\u001b[0m\n",
       "\u001b[0;34m        3    False\u001b[0m\n",
       "\u001b[0;34m        4      NaN\u001b[0m\n",
       "\u001b[0;34m        dtype: object\u001b[0m\n",
       "\u001b[0;34m\u001b[0m\n",
       "\u001b[0;34m        Returning an Index of booleans using only a literal pattern.\u001b[0m\n",
       "\u001b[0;34m\u001b[0m\n",
       "\u001b[0;34m        >>> ind = pd.Index(['Mouse', 'dog', 'house and parrot', '23.0', np.NaN])\u001b[0m\n",
       "\u001b[0;34m        >>> ind.str.contains('23', regex=False)\u001b[0m\n",
       "\u001b[0;34m        Index([False, False, False, True, nan], dtype='object')\u001b[0m\n",
       "\u001b[0;34m\u001b[0m\n",
       "\u001b[0;34m        Specifying case sensitivity using `case`.\u001b[0m\n",
       "\u001b[0;34m\u001b[0m\n",
       "\u001b[0;34m        >>> s1.str.contains('oG', case=True, regex=True)\u001b[0m\n",
       "\u001b[0;34m        0    False\u001b[0m\n",
       "\u001b[0;34m        1    False\u001b[0m\n",
       "\u001b[0;34m        2    False\u001b[0m\n",
       "\u001b[0;34m        3    False\u001b[0m\n",
       "\u001b[0;34m        4      NaN\u001b[0m\n",
       "\u001b[0;34m        dtype: object\u001b[0m\n",
       "\u001b[0;34m\u001b[0m\n",
       "\u001b[0;34m        Specifying `na` to be `False` instead of `NaN` replaces NaN values\u001b[0m\n",
       "\u001b[0;34m        with `False`. If Series or Index does not contain NaN values\u001b[0m\n",
       "\u001b[0;34m        the resultant dtype will be `bool`, otherwise, an `object` dtype.\u001b[0m\n",
       "\u001b[0;34m\u001b[0m\n",
       "\u001b[0;34m        >>> s1.str.contains('og', na=False, regex=True)\u001b[0m\n",
       "\u001b[0;34m        0    False\u001b[0m\n",
       "\u001b[0;34m        1     True\u001b[0m\n",
       "\u001b[0;34m        2    False\u001b[0m\n",
       "\u001b[0;34m        3    False\u001b[0m\n",
       "\u001b[0;34m        4    False\u001b[0m\n",
       "\u001b[0;34m        dtype: bool\u001b[0m\n",
       "\u001b[0;34m\u001b[0m\n",
       "\u001b[0;34m        Returning 'house' or 'dog' when either expression occurs in a string.\u001b[0m\n",
       "\u001b[0;34m\u001b[0m\n",
       "\u001b[0;34m        >>> s1.str.contains('house|dog', regex=True)\u001b[0m\n",
       "\u001b[0;34m        0    False\u001b[0m\n",
       "\u001b[0;34m        1     True\u001b[0m\n",
       "\u001b[0;34m        2     True\u001b[0m\n",
       "\u001b[0;34m        3    False\u001b[0m\n",
       "\u001b[0;34m        4      NaN\u001b[0m\n",
       "\u001b[0;34m        dtype: object\u001b[0m\n",
       "\u001b[0;34m\u001b[0m\n",
       "\u001b[0;34m        Ignoring case sensitivity using `flags` with regex.\u001b[0m\n",
       "\u001b[0;34m\u001b[0m\n",
       "\u001b[0;34m        >>> import re\u001b[0m\n",
       "\u001b[0;34m        >>> s1.str.contains('PARROT', flags=re.IGNORECASE, regex=True)\u001b[0m\n",
       "\u001b[0;34m        0    False\u001b[0m\n",
       "\u001b[0;34m        1    False\u001b[0m\n",
       "\u001b[0;34m        2     True\u001b[0m\n",
       "\u001b[0;34m        3    False\u001b[0m\n",
       "\u001b[0;34m        4      NaN\u001b[0m\n",
       "\u001b[0;34m        dtype: object\u001b[0m\n",
       "\u001b[0;34m\u001b[0m\n",
       "\u001b[0;34m        Returning any digit using regular expression.\u001b[0m\n",
       "\u001b[0;34m\u001b[0m\n",
       "\u001b[0;34m        >>> s1.str.contains('\\\\d', regex=True)\u001b[0m\n",
       "\u001b[0;34m        0    False\u001b[0m\n",
       "\u001b[0;34m        1    False\u001b[0m\n",
       "\u001b[0;34m        2    False\u001b[0m\n",
       "\u001b[0;34m        3     True\u001b[0m\n",
       "\u001b[0;34m        4      NaN\u001b[0m\n",
       "\u001b[0;34m        dtype: object\u001b[0m\n",
       "\u001b[0;34m\u001b[0m\n",
       "\u001b[0;34m        Ensure `pat` is a not a literal pattern when `regex` is set to True.\u001b[0m\n",
       "\u001b[0;34m        Note in the following example one might expect only `s2[1]` and `s2[3]` to\u001b[0m\n",
       "\u001b[0;34m        return `True`. However, '.0' as a regex matches any character\u001b[0m\n",
       "\u001b[0;34m        followed by a 0.\u001b[0m\n",
       "\u001b[0;34m\u001b[0m\n",
       "\u001b[0;34m        >>> s2 = pd.Series(['40', '40.0', '41', '41.0', '35'])\u001b[0m\n",
       "\u001b[0;34m        >>> s2.str.contains('.0', regex=True)\u001b[0m\n",
       "\u001b[0;34m        0     True\u001b[0m\n",
       "\u001b[0;34m        1     True\u001b[0m\n",
       "\u001b[0;34m        2    False\u001b[0m\n",
       "\u001b[0;34m        3     True\u001b[0m\n",
       "\u001b[0;34m        4    False\u001b[0m\n",
       "\u001b[0;34m        dtype: bool\u001b[0m\n",
       "\u001b[0;34m        \"\"\"\u001b[0m\u001b[0;34m\u001b[0m\n",
       "\u001b[0;34m\u001b[0m        \u001b[0;32mif\u001b[0m \u001b[0mregex\u001b[0m \u001b[0;32mand\u001b[0m \u001b[0mre\u001b[0m\u001b[0;34m.\u001b[0m\u001b[0mcompile\u001b[0m\u001b[0;34m(\u001b[0m\u001b[0mpat\u001b[0m\u001b[0;34m)\u001b[0m\u001b[0;34m.\u001b[0m\u001b[0mgroups\u001b[0m\u001b[0;34m:\u001b[0m\u001b[0;34m\u001b[0m\n",
       "\u001b[0;34m\u001b[0m            \u001b[0mwarnings\u001b[0m\u001b[0;34m.\u001b[0m\u001b[0mwarn\u001b[0m\u001b[0;34m(\u001b[0m\u001b[0;34m\u001b[0m\n",
       "\u001b[0;34m\u001b[0m                \u001b[0;34m\"This pattern is interpreted as a regular expression, and has \"\u001b[0m\u001b[0;34m\u001b[0m\n",
       "\u001b[0;34m\u001b[0m                \u001b[0;34m\"match groups. To actually get the groups, use str.extract.\"\u001b[0m\u001b[0;34m,\u001b[0m\u001b[0;34m\u001b[0m\n",
       "\u001b[0;34m\u001b[0m                \u001b[0mUserWarning\u001b[0m\u001b[0;34m,\u001b[0m\u001b[0;34m\u001b[0m\n",
       "\u001b[0;34m\u001b[0m                \u001b[0mstacklevel\u001b[0m\u001b[0;34m=\u001b[0m\u001b[0mfind_stack_level\u001b[0m\u001b[0;34m(\u001b[0m\u001b[0;34m)\u001b[0m\u001b[0;34m,\u001b[0m\u001b[0;34m\u001b[0m\n",
       "\u001b[0;34m\u001b[0m            \u001b[0;34m)\u001b[0m\u001b[0;34m\u001b[0m\n",
       "\u001b[0;34m\u001b[0m\u001b[0;34m\u001b[0m\n",
       "\u001b[0;34m\u001b[0m        \u001b[0mresult\u001b[0m \u001b[0;34m=\u001b[0m \u001b[0mself\u001b[0m\u001b[0;34m.\u001b[0m\u001b[0m_data\u001b[0m\u001b[0;34m.\u001b[0m\u001b[0marray\u001b[0m\u001b[0;34m.\u001b[0m\u001b[0m_str_contains\u001b[0m\u001b[0;34m(\u001b[0m\u001b[0mpat\u001b[0m\u001b[0;34m,\u001b[0m \u001b[0mcase\u001b[0m\u001b[0;34m,\u001b[0m \u001b[0mflags\u001b[0m\u001b[0;34m,\u001b[0m \u001b[0mna\u001b[0m\u001b[0;34m,\u001b[0m \u001b[0mregex\u001b[0m\u001b[0;34m)\u001b[0m\u001b[0;34m\u001b[0m\n",
       "\u001b[0;34m\u001b[0m        \u001b[0;32mreturn\u001b[0m \u001b[0mself\u001b[0m\u001b[0;34m.\u001b[0m\u001b[0m_wrap_result\u001b[0m\u001b[0;34m(\u001b[0m\u001b[0mresult\u001b[0m\u001b[0;34m,\u001b[0m \u001b[0mfill_value\u001b[0m\u001b[0;34m=\u001b[0m\u001b[0mna\u001b[0m\u001b[0;34m,\u001b[0m \u001b[0mreturns_string\u001b[0m\u001b[0;34m=\u001b[0m\u001b[0;32mFalse\u001b[0m\u001b[0;34m)\u001b[0m\u001b[0;34m\u001b[0m\u001b[0;34m\u001b[0m\u001b[0m\n",
       "\u001b[0;31mFile:\u001b[0m      ~/mambaforge/lib/python3.9/site-packages/pandas/core/strings/accessor.py\n",
       "\u001b[0;31mType:\u001b[0m      function\n"
      ]
     },
     "metadata": {},
     "output_type": "display_data"
    }
   ],
   "source": [
    "pd.Series.str.contains??"
   ]
  },
  {
   "cell_type": "code",
   "execution_count": 152,
   "id": "de77fcf9-de89-443b-841b-1b62138b6db3",
   "metadata": {},
   "outputs": [
    {
     "data": {
      "text/plain": [
       "90"
      ]
     },
     "execution_count": 152,
     "metadata": {},
     "output_type": "execute_result"
    }
   ],
   "source": [
    "len(dir(pd.Series.str))"
   ]
  },
  {
   "cell_type": "code",
   "execution_count": 153,
   "id": "e8dde5bc-6916-404b-a7da-9fb63de3d55f",
   "metadata": {},
   "outputs": [
    {
     "data": {
      "text/plain": [
       "93"
      ]
     },
     "execution_count": 153,
     "metadata": {},
     "output_type": "execute_result"
    }
   ],
   "source": [
    "len(dir(pd.Series.dt))"
   ]
  },
  {
   "cell_type": "code",
   "execution_count": 154,
   "id": "12377fe7-4527-42bc-bce5-1f9f8f78fcbd",
   "metadata": {},
   "outputs": [
    {
     "data": {
      "text/plain": [
       "\u001b[0;31mSignature:\u001b[0m \u001b[0mpd\u001b[0m\u001b[0;34m.\u001b[0m\u001b[0mSeries\u001b[0m\u001b[0;34m.\u001b[0m\u001b[0mdt\u001b[0m\u001b[0;34m.\u001b[0m\u001b[0mceil\u001b[0m\u001b[0;34m(\u001b[0m\u001b[0mself\u001b[0m\u001b[0;34m,\u001b[0m \u001b[0;34m*\u001b[0m\u001b[0margs\u001b[0m\u001b[0;34m,\u001b[0m \u001b[0;34m**\u001b[0m\u001b[0mkwargs\u001b[0m\u001b[0;34m)\u001b[0m\u001b[0;34m\u001b[0m\u001b[0;34m\u001b[0m\u001b[0m\n",
       "\u001b[0;31mDocstring:\u001b[0m\n",
       "Perform ceil operation on the data to the specified `freq`.\n",
       "\n",
       "Parameters\n",
       "----------\n",
       "freq : str or Offset\n",
       "    The frequency level to ceil the index to. Must be a fixed\n",
       "    frequency like 'S' (second) not 'ME' (month end). See\n",
       "    :ref:`frequency aliases <timeseries.offset_aliases>` for\n",
       "    a list of possible `freq` values.\n",
       "ambiguous : 'infer', bool-ndarray, 'NaT', default 'raise'\n",
       "    Only relevant for DatetimeIndex:\n",
       "\n",
       "    - 'infer' will attempt to infer fall dst-transition hours based on\n",
       "      order\n",
       "    - bool-ndarray where True signifies a DST time, False designates\n",
       "      a non-DST time (note that this flag is only applicable for\n",
       "      ambiguous times)\n",
       "    - 'NaT' will return NaT where there are ambiguous times\n",
       "    - 'raise' will raise an AmbiguousTimeError if there are ambiguous\n",
       "      times.\n",
       "\n",
       "nonexistent : 'shift_forward', 'shift_backward', 'NaT', timedelta, default 'raise'\n",
       "    A nonexistent time does not exist in a particular timezone\n",
       "    where clocks moved forward due to DST.\n",
       "\n",
       "    - 'shift_forward' will shift the nonexistent time forward to the\n",
       "      closest existing time\n",
       "    - 'shift_backward' will shift the nonexistent time backward to the\n",
       "      closest existing time\n",
       "    - 'NaT' will return NaT where there are nonexistent times\n",
       "    - timedelta objects will shift nonexistent times by the timedelta\n",
       "    - 'raise' will raise an NonExistentTimeError if there are\n",
       "      nonexistent times.\n",
       "\n",
       "Returns\n",
       "-------\n",
       "DatetimeIndex, TimedeltaIndex, or Series\n",
       "    Index of the same type for a DatetimeIndex or TimedeltaIndex,\n",
       "    or a Series with the same index for a Series.\n",
       "\n",
       "Raises\n",
       "------\n",
       "ValueError if the `freq` cannot be converted.\n",
       "\n",
       "Notes\n",
       "-----\n",
       "If the timestamps have a timezone, ceiling will take place relative to the\n",
       "local (\"wall\") time and re-localized to the same timezone. When ceiling\n",
       "near daylight savings time, use ``nonexistent`` and ``ambiguous`` to\n",
       "control the re-localization behavior.\n",
       "\n",
       "Examples\n",
       "--------\n",
       "**DatetimeIndex**\n",
       "\n",
       ">>> rng = pd.date_range('1/1/2018 11:59:00', periods=3, freq='min')\n",
       ">>> rng\n",
       "DatetimeIndex(['2018-01-01 11:59:00', '2018-01-01 12:00:00',\n",
       "               '2018-01-01 12:01:00'],\n",
       "              dtype='datetime64[ns]', freq='T')\n",
       ">>> rng.ceil('H')\n",
       "DatetimeIndex(['2018-01-01 12:00:00', '2018-01-01 12:00:00',\n",
       "               '2018-01-01 13:00:00'],\n",
       "              dtype='datetime64[ns]', freq=None)\n",
       "\n",
       "**Series**\n",
       "\n",
       ">>> pd.Series(rng).dt.ceil(\"H\")\n",
       "0   2018-01-01 12:00:00\n",
       "1   2018-01-01 12:00:00\n",
       "2   2018-01-01 13:00:00\n",
       "dtype: datetime64[ns]\n",
       "\n",
       "When rounding near a daylight savings time transition, use ``ambiguous`` or\n",
       "``nonexistent`` to control how the timestamp should be re-localized.\n",
       "\n",
       ">>> rng_tz = pd.DatetimeIndex([\"2021-10-31 01:30:00\"], tz=\"Europe/Amsterdam\")\n",
       "\n",
       ">>> rng_tz.ceil(\"H\", ambiguous=False)\n",
       "DatetimeIndex(['2021-10-31 02:00:00+01:00'],\n",
       "              dtype='datetime64[ns, Europe/Amsterdam]', freq=None)\n",
       "\n",
       ">>> rng_tz.ceil(\"H\", ambiguous=True)\n",
       "DatetimeIndex(['2021-10-31 02:00:00+02:00'],\n",
       "              dtype='datetime64[ns, Europe/Amsterdam]', freq=None)\n",
       "\u001b[0;31mSource:\u001b[0m   \n",
       "            \u001b[0;32mdef\u001b[0m \u001b[0mf\u001b[0m\u001b[0;34m(\u001b[0m\u001b[0mself\u001b[0m\u001b[0;34m,\u001b[0m \u001b[0;34m*\u001b[0m\u001b[0margs\u001b[0m\u001b[0;34m,\u001b[0m \u001b[0;34m**\u001b[0m\u001b[0mkwargs\u001b[0m\u001b[0;34m)\u001b[0m\u001b[0;34m:\u001b[0m\u001b[0;34m\u001b[0m\n",
       "\u001b[0;34m\u001b[0m                \u001b[0;32mreturn\u001b[0m \u001b[0mself\u001b[0m\u001b[0;34m.\u001b[0m\u001b[0m_delegate_method\u001b[0m\u001b[0;34m(\u001b[0m\u001b[0mname\u001b[0m\u001b[0;34m,\u001b[0m \u001b[0;34m*\u001b[0m\u001b[0margs\u001b[0m\u001b[0;34m,\u001b[0m \u001b[0;34m**\u001b[0m\u001b[0mkwargs\u001b[0m\u001b[0;34m)\u001b[0m\u001b[0;34m\u001b[0m\u001b[0;34m\u001b[0m\u001b[0m\n",
       "\u001b[0;31mFile:\u001b[0m      ~/mambaforge/lib/python3.9/site-packages/pandas/core/accessor.py\n",
       "\u001b[0;31mType:\u001b[0m      function\n"
      ]
     },
     "metadata": {},
     "output_type": "display_data"
    }
   ],
   "source": [
    "pd.Series.dt.ceil??"
   ]
  },
  {
   "cell_type": "code",
   "execution_count": 155,
   "id": "19f6d0ac-5155-49e2-a2aa-994df4e84e84",
   "metadata": {},
   "outputs": [
    {
     "data": {
      "text/plain": [
       "\u001b[0;31mType:\u001b[0m        property\n",
       "\u001b[0;31mString form:\u001b[0m <property object at 0x12136b2c0>\n",
       "\u001b[0;31mSource:\u001b[0m     \n",
       "\u001b[0;31m# pd.Series.dt.days_in_month.fget\u001b[0m\u001b[0;34m\u001b[0m\n",
       "\u001b[0;34m\u001b[0m\u001b[0;32mdef\u001b[0m \u001b[0m_getter\u001b[0m\u001b[0;34m(\u001b[0m\u001b[0mself\u001b[0m\u001b[0;34m)\u001b[0m\u001b[0;34m:\u001b[0m\u001b[0;34m\u001b[0m\n",
       "\u001b[0;34m\u001b[0m    \u001b[0;32mreturn\u001b[0m \u001b[0mself\u001b[0m\u001b[0;34m.\u001b[0m\u001b[0m_delegate_property_get\u001b[0m\u001b[0;34m(\u001b[0m\u001b[0mname\u001b[0m\u001b[0;34m)\u001b[0m\u001b[0;34m\u001b[0m\n",
       "\u001b[0;34m\u001b[0m\u001b[0;34m\u001b[0m\n",
       "\u001b[0;34m\u001b[0m\u001b[0;31m# pd.Series.dt.days_in_month.fset\u001b[0m\u001b[0;34m\u001b[0m\n",
       "\u001b[0;34m\u001b[0m\u001b[0;32mdef\u001b[0m \u001b[0m_setter\u001b[0m\u001b[0;34m(\u001b[0m\u001b[0mself\u001b[0m\u001b[0;34m,\u001b[0m \u001b[0mnew_values\u001b[0m\u001b[0;34m)\u001b[0m\u001b[0;34m:\u001b[0m\u001b[0;34m\u001b[0m\n",
       "\u001b[0;34m\u001b[0m    \u001b[0;32mreturn\u001b[0m \u001b[0mself\u001b[0m\u001b[0;34m.\u001b[0m\u001b[0m_delegate_property_set\u001b[0m\u001b[0;34m(\u001b[0m\u001b[0mname\u001b[0m\u001b[0;34m,\u001b[0m \u001b[0mnew_values\u001b[0m\u001b[0;34m)\u001b[0m\u001b[0;34m\u001b[0m\u001b[0;34m\u001b[0m\u001b[0m\n"
      ]
     },
     "metadata": {},
     "output_type": "display_data"
    }
   ],
   "source": [
    "pd.Series.dt.days_in_month??"
   ]
  },
  {
   "cell_type": "code",
   "execution_count": 156,
   "id": "e180bd02-a891-4491-a195-f002248e6754",
   "metadata": {},
   "outputs": [
    {
     "data": {
      "text/plain": [
       "\u001b[0;31mType:\u001b[0m        property\n",
       "\u001b[0;31mString form:\u001b[0m <property object at 0x12136b8b0>\n",
       "\u001b[0;31mSource:\u001b[0m     \n",
       "\u001b[0;31m# pd.Series.dt.seconds.fget\u001b[0m\u001b[0;34m\u001b[0m\n",
       "\u001b[0;34m\u001b[0m\u001b[0;32mdef\u001b[0m \u001b[0m_getter\u001b[0m\u001b[0;34m(\u001b[0m\u001b[0mself\u001b[0m\u001b[0;34m)\u001b[0m\u001b[0;34m:\u001b[0m\u001b[0;34m\u001b[0m\n",
       "\u001b[0;34m\u001b[0m    \u001b[0;32mreturn\u001b[0m \u001b[0mself\u001b[0m\u001b[0;34m.\u001b[0m\u001b[0m_delegate_property_get\u001b[0m\u001b[0;34m(\u001b[0m\u001b[0mname\u001b[0m\u001b[0;34m)\u001b[0m\u001b[0;34m\u001b[0m\n",
       "\u001b[0;34m\u001b[0m\u001b[0;34m\u001b[0m\n",
       "\u001b[0;34m\u001b[0m\u001b[0;31m# pd.Series.dt.seconds.fset\u001b[0m\u001b[0;34m\u001b[0m\n",
       "\u001b[0;34m\u001b[0m\u001b[0;32mdef\u001b[0m \u001b[0m_setter\u001b[0m\u001b[0;34m(\u001b[0m\u001b[0mself\u001b[0m\u001b[0;34m,\u001b[0m \u001b[0mnew_values\u001b[0m\u001b[0;34m)\u001b[0m\u001b[0;34m:\u001b[0m\u001b[0;34m\u001b[0m\n",
       "\u001b[0;34m\u001b[0m    \u001b[0;32mreturn\u001b[0m \u001b[0mself\u001b[0m\u001b[0;34m.\u001b[0m\u001b[0m_delegate_property_set\u001b[0m\u001b[0;34m(\u001b[0m\u001b[0mname\u001b[0m\u001b[0;34m,\u001b[0m \u001b[0mnew_values\u001b[0m\u001b[0;34m)\u001b[0m\u001b[0;34m\u001b[0m\u001b[0;34m\u001b[0m\u001b[0m\n"
      ]
     },
     "metadata": {},
     "output_type": "display_data"
    }
   ],
   "source": [
    "pd.Series.dt.seconds??"
   ]
  },
  {
   "cell_type": "code",
   "execution_count": 157,
   "id": "2d18a191-e0aa-4419-b877-ccabbabaf355",
   "metadata": {},
   "outputs": [
    {
     "data": {
      "text/plain": [
       "\u001b[0;31mSignature:\u001b[0m \u001b[0mpd\u001b[0m\u001b[0;34m.\u001b[0m\u001b[0mSeries\u001b[0m\u001b[0;34m.\u001b[0m\u001b[0mdt\u001b[0m\u001b[0;34m.\u001b[0m\u001b[0mday_name\u001b[0m\u001b[0;34m(\u001b[0m\u001b[0mself\u001b[0m\u001b[0;34m,\u001b[0m \u001b[0;34m*\u001b[0m\u001b[0margs\u001b[0m\u001b[0;34m,\u001b[0m \u001b[0;34m**\u001b[0m\u001b[0mkwargs\u001b[0m\u001b[0;34m)\u001b[0m\u001b[0;34m\u001b[0m\u001b[0;34m\u001b[0m\u001b[0m\n",
       "\u001b[0;31mDocstring:\u001b[0m\n",
       "Return the day names of the DateTimeIndex with specified locale.\n",
       "\n",
       "Parameters\n",
       "----------\n",
       "locale : str, optional\n",
       "    Locale determining the language in which to return the day name.\n",
       "    Default is English locale.\n",
       "\n",
       "Returns\n",
       "-------\n",
       "Index\n",
       "    Index of day names.\n",
       "\n",
       "Examples\n",
       "--------\n",
       ">>> idx = pd.date_range(start='2018-01-01', freq='D', periods=3)\n",
       ">>> idx\n",
       "DatetimeIndex(['2018-01-01', '2018-01-02', '2018-01-03'],\n",
       "              dtype='datetime64[ns]', freq='D')\n",
       ">>> idx.day_name()\n",
       "Index(['Monday', 'Tuesday', 'Wednesday'], dtype='object')\n",
       "\u001b[0;31mSource:\u001b[0m   \n",
       "            \u001b[0;32mdef\u001b[0m \u001b[0mf\u001b[0m\u001b[0;34m(\u001b[0m\u001b[0mself\u001b[0m\u001b[0;34m,\u001b[0m \u001b[0;34m*\u001b[0m\u001b[0margs\u001b[0m\u001b[0;34m,\u001b[0m \u001b[0;34m**\u001b[0m\u001b[0mkwargs\u001b[0m\u001b[0;34m)\u001b[0m\u001b[0;34m:\u001b[0m\u001b[0;34m\u001b[0m\n",
       "\u001b[0;34m\u001b[0m                \u001b[0;32mreturn\u001b[0m \u001b[0mself\u001b[0m\u001b[0;34m.\u001b[0m\u001b[0m_delegate_method\u001b[0m\u001b[0;34m(\u001b[0m\u001b[0mname\u001b[0m\u001b[0;34m,\u001b[0m \u001b[0;34m*\u001b[0m\u001b[0margs\u001b[0m\u001b[0;34m,\u001b[0m \u001b[0;34m**\u001b[0m\u001b[0mkwargs\u001b[0m\u001b[0;34m)\u001b[0m\u001b[0;34m\u001b[0m\u001b[0;34m\u001b[0m\u001b[0m\n",
       "\u001b[0;31mFile:\u001b[0m      ~/mambaforge/lib/python3.9/site-packages/pandas/core/accessor.py\n",
       "\u001b[0;31mType:\u001b[0m      function\n"
      ]
     },
     "metadata": {},
     "output_type": "display_data"
    }
   ],
   "source": [
    "pd.Series.dt.day_name??"
   ]
  },
  {
   "cell_type": "code",
   "execution_count": 158,
   "id": "f3f6a2a0-7133-42fe-80bc-238ec7959728",
   "metadata": {},
   "outputs": [
    {
     "data": {
      "text/plain": [
       "6"
      ]
     },
     "execution_count": 158,
     "metadata": {},
     "output_type": "execute_result"
    }
   ],
   "source": [
    "(2).__add__(4)"
   ]
  },
  {
   "cell_type": "code",
   "execution_count": 159,
   "id": "8f9b9f8b-5a92-4913-9fe9-a827ea4d550c",
   "metadata": {},
   "outputs": [
    {
     "data": {
      "text/plain": [
       "\u001b[0;31mSignature:\u001b[0m\n",
       "\u001b[0mpd\u001b[0m\u001b[0;34m.\u001b[0m\u001b[0mSeries\u001b[0m\u001b[0;34m.\u001b[0m\u001b[0msum\u001b[0m\u001b[0;34m(\u001b[0m\u001b[0;34m\u001b[0m\n",
       "\u001b[0;34m\u001b[0m    \u001b[0mself\u001b[0m\u001b[0;34m,\u001b[0m\u001b[0;34m\u001b[0m\n",
       "\u001b[0;34m\u001b[0m    \u001b[0maxis\u001b[0m\u001b[0;34m=\u001b[0m\u001b[0;32mNone\u001b[0m\u001b[0;34m,\u001b[0m\u001b[0;34m\u001b[0m\n",
       "\u001b[0;34m\u001b[0m    \u001b[0mskipna\u001b[0m\u001b[0;34m=\u001b[0m\u001b[0;32mTrue\u001b[0m\u001b[0;34m,\u001b[0m\u001b[0;34m\u001b[0m\n",
       "\u001b[0;34m\u001b[0m    \u001b[0mlevel\u001b[0m\u001b[0;34m=\u001b[0m\u001b[0;32mNone\u001b[0m\u001b[0;34m,\u001b[0m\u001b[0;34m\u001b[0m\n",
       "\u001b[0;34m\u001b[0m    \u001b[0mnumeric_only\u001b[0m\u001b[0;34m=\u001b[0m\u001b[0;32mNone\u001b[0m\u001b[0;34m,\u001b[0m\u001b[0;34m\u001b[0m\n",
       "\u001b[0;34m\u001b[0m    \u001b[0mmin_count\u001b[0m\u001b[0;34m=\u001b[0m\u001b[0;36m0\u001b[0m\u001b[0;34m,\u001b[0m\u001b[0;34m\u001b[0m\n",
       "\u001b[0;34m\u001b[0m    \u001b[0;34m**\u001b[0m\u001b[0mkwargs\u001b[0m\u001b[0;34m,\u001b[0m\u001b[0;34m\u001b[0m\n",
       "\u001b[0;34m\u001b[0m\u001b[0;34m)\u001b[0m\u001b[0;34m\u001b[0m\u001b[0;34m\u001b[0m\u001b[0m\n",
       "\u001b[0;31mDocstring:\u001b[0m\n",
       "Return the sum of the values over the requested axis.\n",
       "\n",
       "This is equivalent to the method ``numpy.sum``.\n",
       "\n",
       "Parameters\n",
       "----------\n",
       "axis : {index (0)}\n",
       "    Axis for the function to be applied on.\n",
       "skipna : bool, default True\n",
       "    Exclude NA/null values when computing the result.\n",
       "level : int or level name, default None\n",
       "    If the axis is a MultiIndex (hierarchical), count along a\n",
       "    particular level, collapsing into a scalar.\n",
       "numeric_only : bool, default None\n",
       "    Include only float, int, boolean columns. If None, will attempt to use\n",
       "    everything, then use only numeric data. Not implemented for Series.\n",
       "min_count : int, default 0\n",
       "    The required number of valid values to perform the operation. If fewer than\n",
       "    ``min_count`` non-NA values are present the result will be NA.\n",
       "**kwargs\n",
       "    Additional keyword arguments to be passed to the function.\n",
       "\n",
       "Returns\n",
       "-------\n",
       "scalar or Series (if level specified)\n",
       "\n",
       "See Also\n",
       "--------\n",
       "Series.sum : Return the sum.\n",
       "Series.min : Return the minimum.\n",
       "Series.max : Return the maximum.\n",
       "Series.idxmin : Return the index of the minimum.\n",
       "Series.idxmax : Return the index of the maximum.\n",
       "DataFrame.sum : Return the sum over the requested axis.\n",
       "DataFrame.min : Return the minimum over the requested axis.\n",
       "DataFrame.max : Return the maximum over the requested axis.\n",
       "DataFrame.idxmin : Return the index of the minimum over the requested axis.\n",
       "DataFrame.idxmax : Return the index of the maximum over the requested axis.\n",
       "\n",
       "Examples\n",
       "--------\n",
       ">>> idx = pd.MultiIndex.from_arrays([\n",
       "...     ['warm', 'warm', 'cold', 'cold'],\n",
       "...     ['dog', 'falcon', 'fish', 'spider']],\n",
       "...     names=['blooded', 'animal'])\n",
       ">>> s = pd.Series([4, 2, 0, 8], name='legs', index=idx)\n",
       ">>> s\n",
       "blooded  animal\n",
       "warm     dog       4\n",
       "         falcon    2\n",
       "cold     fish      0\n",
       "         spider    8\n",
       "Name: legs, dtype: int64\n",
       "\n",
       ">>> s.sum()\n",
       "14\n",
       "\n",
       "By default, the sum of an empty or all-NA Series is ``0``.\n",
       "\n",
       ">>> pd.Series([], dtype=\"float64\").sum()  # min_count=0 is the default\n",
       "0.0\n",
       "\n",
       "This can be controlled with the ``min_count`` parameter. For example, if\n",
       "you'd like the sum of an empty series to be NaN, pass ``min_count=1``.\n",
       "\n",
       ">>> pd.Series([], dtype=\"float64\").sum(min_count=1)\n",
       "nan\n",
       "\n",
       "Thanks to the ``skipna`` parameter, ``min_count`` handles all-NA and\n",
       "empty series identically.\n",
       "\n",
       ">>> pd.Series([np.nan]).sum()\n",
       "0.0\n",
       "\n",
       ">>> pd.Series([np.nan]).sum(min_count=1)\n",
       "nan\n",
       "\u001b[0;31mSource:\u001b[0m   \n",
       "        \u001b[0;34m@\u001b[0m\u001b[0mdoc\u001b[0m\u001b[0;34m(\u001b[0m\u001b[0;34m\u001b[0m\n",
       "\u001b[0;34m\u001b[0m            \u001b[0m_num_doc\u001b[0m\u001b[0;34m,\u001b[0m\u001b[0;34m\u001b[0m\n",
       "\u001b[0;34m\u001b[0m            \u001b[0mdesc\u001b[0m\u001b[0;34m=\u001b[0m\u001b[0;34m\"Return the sum of the values over the requested axis.\\n\\n\"\u001b[0m\u001b[0;34m\u001b[0m\n",
       "\u001b[0;34m\u001b[0m            \u001b[0;34m\"This is equivalent to the method ``numpy.sum``.\"\u001b[0m\u001b[0;34m,\u001b[0m\u001b[0;34m\u001b[0m\n",
       "\u001b[0;34m\u001b[0m            \u001b[0mname1\u001b[0m\u001b[0;34m=\u001b[0m\u001b[0mname1\u001b[0m\u001b[0;34m,\u001b[0m\u001b[0;34m\u001b[0m\n",
       "\u001b[0;34m\u001b[0m            \u001b[0mname2\u001b[0m\u001b[0;34m=\u001b[0m\u001b[0mname2\u001b[0m\u001b[0;34m,\u001b[0m\u001b[0;34m\u001b[0m\n",
       "\u001b[0;34m\u001b[0m            \u001b[0maxis_descr\u001b[0m\u001b[0;34m=\u001b[0m\u001b[0maxis_descr\u001b[0m\u001b[0;34m,\u001b[0m\u001b[0;34m\u001b[0m\n",
       "\u001b[0;34m\u001b[0m            \u001b[0mmin_count\u001b[0m\u001b[0;34m=\u001b[0m\u001b[0m_min_count_stub\u001b[0m\u001b[0;34m,\u001b[0m\u001b[0;34m\u001b[0m\n",
       "\u001b[0;34m\u001b[0m            \u001b[0msee_also\u001b[0m\u001b[0;34m=\u001b[0m\u001b[0m_stat_func_see_also\u001b[0m\u001b[0;34m,\u001b[0m\u001b[0;34m\u001b[0m\n",
       "\u001b[0;34m\u001b[0m            \u001b[0mexamples\u001b[0m\u001b[0;34m=\u001b[0m\u001b[0m_sum_examples\u001b[0m\u001b[0;34m,\u001b[0m\u001b[0;34m\u001b[0m\n",
       "\u001b[0;34m\u001b[0m        \u001b[0;34m)\u001b[0m\u001b[0;34m\u001b[0m\n",
       "\u001b[0;34m\u001b[0m        \u001b[0;32mdef\u001b[0m \u001b[0msum\u001b[0m\u001b[0;34m(\u001b[0m\u001b[0;34m\u001b[0m\n",
       "\u001b[0;34m\u001b[0m            \u001b[0mself\u001b[0m\u001b[0;34m,\u001b[0m\u001b[0;34m\u001b[0m\n",
       "\u001b[0;34m\u001b[0m            \u001b[0maxis\u001b[0m\u001b[0;34m=\u001b[0m\u001b[0;32mNone\u001b[0m\u001b[0;34m,\u001b[0m\u001b[0;34m\u001b[0m\n",
       "\u001b[0;34m\u001b[0m            \u001b[0mskipna\u001b[0m\u001b[0;34m=\u001b[0m\u001b[0;32mTrue\u001b[0m\u001b[0;34m,\u001b[0m\u001b[0;34m\u001b[0m\n",
       "\u001b[0;34m\u001b[0m            \u001b[0mlevel\u001b[0m\u001b[0;34m=\u001b[0m\u001b[0;32mNone\u001b[0m\u001b[0;34m,\u001b[0m\u001b[0;34m\u001b[0m\n",
       "\u001b[0;34m\u001b[0m            \u001b[0mnumeric_only\u001b[0m\u001b[0;34m=\u001b[0m\u001b[0;32mNone\u001b[0m\u001b[0;34m,\u001b[0m\u001b[0;34m\u001b[0m\n",
       "\u001b[0;34m\u001b[0m            \u001b[0mmin_count\u001b[0m\u001b[0;34m=\u001b[0m\u001b[0;36m0\u001b[0m\u001b[0;34m,\u001b[0m\u001b[0;34m\u001b[0m\n",
       "\u001b[0;34m\u001b[0m            \u001b[0;34m**\u001b[0m\u001b[0mkwargs\u001b[0m\u001b[0;34m,\u001b[0m\u001b[0;34m\u001b[0m\n",
       "\u001b[0;34m\u001b[0m        \u001b[0;34m)\u001b[0m\u001b[0;34m:\u001b[0m\u001b[0;34m\u001b[0m\n",
       "\u001b[0;34m\u001b[0m            \u001b[0;32mreturn\u001b[0m \u001b[0mNDFrame\u001b[0m\u001b[0;34m.\u001b[0m\u001b[0msum\u001b[0m\u001b[0;34m(\u001b[0m\u001b[0;34m\u001b[0m\n",
       "\u001b[0;34m\u001b[0m                \u001b[0mself\u001b[0m\u001b[0;34m,\u001b[0m \u001b[0maxis\u001b[0m\u001b[0;34m,\u001b[0m \u001b[0mskipna\u001b[0m\u001b[0;34m,\u001b[0m \u001b[0mlevel\u001b[0m\u001b[0;34m,\u001b[0m \u001b[0mnumeric_only\u001b[0m\u001b[0;34m,\u001b[0m \u001b[0mmin_count\u001b[0m\u001b[0;34m,\u001b[0m \u001b[0;34m**\u001b[0m\u001b[0mkwargs\u001b[0m\u001b[0;34m\u001b[0m\n",
       "\u001b[0;34m\u001b[0m            \u001b[0;34m)\u001b[0m\u001b[0;34m\u001b[0m\u001b[0;34m\u001b[0m\u001b[0m\n",
       "\u001b[0;31mFile:\u001b[0m      ~/mambaforge/lib/python3.9/site-packages/pandas/core/generic.py\n",
       "\u001b[0;31mType:\u001b[0m      function\n"
      ]
     },
     "metadata": {},
     "output_type": "display_data"
    }
   ],
   "source": [
    "pd.Series.sum??"
   ]
  },
  {
   "cell_type": "markdown",
   "id": "2b6cfcad-6ae5-4e57-bfbc-5373001d064b",
   "metadata": {},
   "source": [
    "## Dunder methods"
   ]
  },
  {
   "cell_type": "code",
   "execution_count": 160,
   "id": "c8f11940-b91b-4f47-83ff-b286bc15b8a1",
   "metadata": {},
   "outputs": [
    {
     "data": {
      "text/plain": [
       "0        22.0\n",
       "1        11.5\n",
       "2        28.0\n",
       "3        11.0\n",
       "4        20.0\n",
       "         ... \n",
       "44981    22.5\n",
       "44982    24.0\n",
       "44983    21.0\n",
       "44984    21.0\n",
       "44985    18.5\n",
       "Length: 44986, dtype: float64"
      ]
     },
     "execution_count": 160,
     "metadata": {},
     "output_type": "execute_result"
    }
   ],
   "source": [
    "(city_mpg + highway_mpg)/2"
   ]
  },
  {
   "cell_type": "markdown",
   "id": "0a1ada52-c635-4d16-8ce1-85e6348ea4e8",
   "metadata": {},
   "source": [
    "## Models with better city mileage than highway"
   ]
  },
  {
   "cell_type": "code",
   "execution_count": 161,
   "id": "eaca64d7-c169-422b-8f59-e62c0ebcb751",
   "metadata": {},
   "outputs": [
    {
     "data": {
      "text/plain": [
       "7.485849056603773"
      ]
     },
     "execution_count": 161,
     "metadata": {},
     "output_type": "execute_result"
    }
   ],
   "source": [
    "df[city_mpg - highway_mpg > 0].ghgScore.mean()"
   ]
  },
  {
   "cell_type": "code",
   "execution_count": 162,
   "id": "75670197-4212-447c-99bc-03767f3ce9cf",
   "metadata": {},
   "outputs": [
    {
     "data": {
      "text/plain": [
       "636"
      ]
     },
     "execution_count": 162,
     "metadata": {},
     "output_type": "execute_result"
    }
   ],
   "source": [
    "sum(city_mpg - highway_mpg > 0)"
   ]
  },
  {
   "cell_type": "code",
   "execution_count": 163,
   "id": "805d4570-1fad-4fca-aefd-f92014050cb6",
   "metadata": {},
   "outputs": [
    {
     "data": {
      "text/plain": [
       "44209"
      ]
     },
     "execution_count": 163,
     "metadata": {},
     "output_type": "execute_result"
    }
   ],
   "source": [
    "sum(highway_mpg - city_mpg > 0)"
   ]
  },
  {
   "cell_type": "code",
   "execution_count": 164,
   "id": "93e4e986-7542-46c8-9b03-4648ac4efeb0",
   "metadata": {},
   "outputs": [
    {
     "data": {
      "text/plain": [
       "0.6455472867515665"
      ]
     },
     "execution_count": 164,
     "metadata": {},
     "output_type": "execute_result"
    }
   ],
   "source": [
    "df[city_mpg - highway_mpg < 0].ghgScore.mean()"
   ]
  },
  {
   "cell_type": "markdown",
   "id": "1e83ac77-ed99-4841-a43d-235c1210baa0",
   "metadata": {},
   "source": [
    "## 6.3 Index Alignment"
   ]
  },
  {
   "cell_type": "code",
   "execution_count": 165,
   "id": "c9ba0129-69f7-4459-ba8f-6bf3b87d94fd",
   "metadata": {},
   "outputs": [],
   "source": [
    "s1 = pd.Series([10, 20, 30],index=[1, 2, 2])"
   ]
  },
  {
   "cell_type": "code",
   "execution_count": 166,
   "id": "d4a0fefe-7704-4ef2-babd-f638394cef1a",
   "metadata": {},
   "outputs": [],
   "source": [
    "s2 = pd.Series([35, 44, 53], index=[2, 2, 4])"
   ]
  },
  {
   "cell_type": "code",
   "execution_count": 167,
   "id": "ce661b3d-8e6b-4d23-99e4-13e0e2e7f53a",
   "metadata": {},
   "outputs": [
    {
     "data": {
      "text/plain": [
       "1     NaN\n",
       "2    55.0\n",
       "2    64.0\n",
       "2    65.0\n",
       "2    74.0\n",
       "4     NaN\n",
       "dtype: float64"
      ]
     },
     "execution_count": 167,
     "metadata": {},
     "output_type": "execute_result"
    }
   ],
   "source": [
    "s1 + s2"
   ]
  },
  {
   "cell_type": "markdown",
   "id": "35c11bf4-541b-4045-b991-0c33fc883a25",
   "metadata": {},
   "source": [
    "Each combination of the index matches have been calculated."
   ]
  },
  {
   "cell_type": "markdown",
   "id": "4478754c-589f-404a-9700-dd1a7057ff4f",
   "metadata": {},
   "source": [
    "Best to have unique indices to prevent combinatoric explosion"
   ]
  },
  {
   "cell_type": "markdown",
   "id": "c434f362-2bb2-4dd0-84b8-8d8ece4a1ea1",
   "metadata": {},
   "source": [
    "## 6.4 Broadcasting"
   ]
  },
  {
   "cell_type": "code",
   "execution_count": 168,
   "id": "9eeeb26b-1dee-47e0-925f-f9992d48838c",
   "metadata": {},
   "outputs": [
    {
     "data": {
      "text/plain": [
       "Int64Index([1, 2, 2], dtype='int64')"
      ]
     },
     "execution_count": 168,
     "metadata": {},
     "output_type": "execute_result"
    }
   ],
   "source": [
    "s1.index"
   ]
  },
  {
   "cell_type": "code",
   "execution_count": 169,
   "id": "0b8239f2-46af-4854-a1ed-b3ec56c0a117",
   "metadata": {},
   "outputs": [
    {
     "data": {
      "text/plain": [
       "Int64Index([2, 2, 4], dtype='int64')"
      ]
     },
     "execution_count": 169,
     "metadata": {},
     "output_type": "execute_result"
    }
   ],
   "source": [
    "s2.index"
   ]
  },
  {
   "cell_type": "code",
   "execution_count": 170,
   "id": "a1799afa-73eb-42c8-ab24-97332d96e453",
   "metadata": {},
   "outputs": [
    {
     "data": {
      "text/plain": [
       "1     NaN\n",
       "2    55.0\n",
       "2    64.0\n",
       "2    65.0\n",
       "2    74.0\n",
       "4     NaN\n",
       "dtype: float64"
      ]
     },
     "execution_count": 170,
     "metadata": {},
     "output_type": "execute_result"
    }
   ],
   "source": [
    "s1 + s2"
   ]
  },
  {
   "cell_type": "code",
   "execution_count": 171,
   "id": "02e509df-664e-4052-ae8e-6c17d73b1ef0",
   "metadata": {},
   "outputs": [
    {
     "data": {
      "text/plain": [
       "1    10.0\n",
       "2    55.0\n",
       "2    64.0\n",
       "2    65.0\n",
       "2    74.0\n",
       "4    53.0\n",
       "dtype: float64"
      ]
     },
     "execution_count": 171,
     "metadata": {},
     "output_type": "execute_result"
    }
   ],
   "source": [
    "s1.add(s2, fill_value=0)"
   ]
  },
  {
   "cell_type": "markdown",
   "id": "0f8561c0-cab2-4d0a-b8f9-87b5660298f5",
   "metadata": {},
   "source": [
    "### See available methods and attributes with dir"
   ]
  },
  {
   "cell_type": "code",
   "execution_count": 172,
   "id": "82bf1aca-a71e-4b6b-a924-cd625a3bf109",
   "metadata": {},
   "outputs": [
    {
     "data": {
      "text/plain": [
       "['T',\n",
       " '_AXIS_LEN',\n",
       " '_AXIS_ORDERS',\n",
       " '_AXIS_TO_AXIS_NUMBER',\n",
       " '_HANDLED_TYPES',\n",
       " '__abs__',\n",
       " '__add__',\n",
       " '__and__',\n",
       " '__annotations__',\n",
       " '__array__',\n",
       " '__array_priority__',\n",
       " '__array_ufunc__',\n",
       " '__array_wrap__',\n",
       " '__bool__',\n",
       " '__class__',\n",
       " '__contains__',\n",
       " '__copy__',\n",
       " '__deepcopy__',\n",
       " '__delattr__',\n",
       " '__delitem__',\n",
       " '__dict__',\n",
       " '__dir__',\n",
       " '__divmod__',\n",
       " '__doc__',\n",
       " '__eq__',\n",
       " '__finalize__',\n",
       " '__float__',\n",
       " '__floordiv__',\n",
       " '__format__',\n",
       " '__ge__',\n",
       " '__getattr__',\n",
       " '__getattribute__',\n",
       " '__getitem__',\n",
       " '__getstate__',\n",
       " '__gt__',\n",
       " '__hash__',\n",
       " '__iadd__',\n",
       " '__iand__',\n",
       " '__ifloordiv__',\n",
       " '__imod__',\n",
       " '__imul__',\n",
       " '__init__',\n",
       " '__init_subclass__',\n",
       " '__int__',\n",
       " '__invert__',\n",
       " '__ior__',\n",
       " '__ipow__',\n",
       " '__isub__',\n",
       " '__iter__',\n",
       " '__itruediv__',\n",
       " '__ixor__',\n",
       " '__le__',\n",
       " '__len__',\n",
       " '__long__',\n",
       " '__lt__',\n",
       " '__matmul__',\n",
       " '__mod__',\n",
       " '__module__',\n",
       " '__mul__',\n",
       " '__ne__',\n",
       " '__neg__',\n",
       " '__new__',\n",
       " '__nonzero__',\n",
       " '__or__',\n",
       " '__pos__',\n",
       " '__pow__',\n",
       " '__radd__',\n",
       " '__rand__',\n",
       " '__rdivmod__',\n",
       " '__reduce__',\n",
       " '__reduce_ex__',\n",
       " '__repr__',\n",
       " '__rfloordiv__',\n",
       " '__rmatmul__',\n",
       " '__rmod__',\n",
       " '__rmul__',\n",
       " '__ror__',\n",
       " '__round__',\n",
       " '__rpow__',\n",
       " '__rsub__',\n",
       " '__rtruediv__',\n",
       " '__rxor__',\n",
       " '__setattr__',\n",
       " '__setitem__',\n",
       " '__setstate__',\n",
       " '__sizeof__',\n",
       " '__str__',\n",
       " '__sub__',\n",
       " '__subclasshook__',\n",
       " '__truediv__',\n",
       " '__weakref__',\n",
       " '__xor__',\n",
       " '_accessors',\n",
       " '_accum_func',\n",
       " '_add_numeric_operations',\n",
       " '_agg_by_level',\n",
       " '_agg_examples_doc',\n",
       " '_agg_see_also_doc',\n",
       " '_align_frame',\n",
       " '_align_series',\n",
       " '_append',\n",
       " '_arith_method',\n",
       " '_as_manager',\n",
       " '_attrs',\n",
       " '_binop',\n",
       " '_can_hold_na',\n",
       " '_check_inplace_and_allows_duplicate_labels',\n",
       " '_check_inplace_setting',\n",
       " '_check_is_chained_assignment_possible',\n",
       " '_check_label_or_level_ambiguity',\n",
       " '_check_setitem_copy',\n",
       " '_clear_item_cache',\n",
       " '_clip_with_one_bound',\n",
       " '_clip_with_scalar',\n",
       " '_cmp_method',\n",
       " '_consolidate',\n",
       " '_consolidate_inplace',\n",
       " '_construct_axes_dict',\n",
       " '_construct_axes_from_arguments',\n",
       " '_construct_result',\n",
       " '_constructor',\n",
       " '_constructor_expanddim',\n",
       " '_convert',\n",
       " '_convert_dtypes',\n",
       " '_data',\n",
       " '_dir_additions',\n",
       " '_dir_deletions',\n",
       " '_drop_axis',\n",
       " '_drop_labels_or_levels',\n",
       " '_duplicated',\n",
       " '_find_valid_index',\n",
       " '_flags',\n",
       " '_from_mgr',\n",
       " '_get_axis',\n",
       " '_get_axis_name',\n",
       " '_get_axis_number',\n",
       " '_get_axis_resolvers',\n",
       " '_get_block_manager_axis',\n",
       " '_get_bool_data',\n",
       " '_get_cacher',\n",
       " '_get_cleaned_column_resolvers',\n",
       " '_get_index_resolvers',\n",
       " '_get_label_or_level_values',\n",
       " '_get_numeric_data',\n",
       " '_get_value',\n",
       " '_get_values',\n",
       " '_get_values_tuple',\n",
       " '_get_with',\n",
       " '_gotitem',\n",
       " '_hidden_attrs',\n",
       " '_indexed_same',\n",
       " '_info_axis',\n",
       " '_info_axis_name',\n",
       " '_info_axis_number',\n",
       " '_init_dict',\n",
       " '_init_mgr',\n",
       " '_inplace_method',\n",
       " '_internal_names',\n",
       " '_internal_names_set',\n",
       " '_is_cached',\n",
       " '_is_copy',\n",
       " '_is_label_or_level_reference',\n",
       " '_is_label_reference',\n",
       " '_is_level_reference',\n",
       " '_is_mixed_type',\n",
       " '_is_view',\n",
       " '_item_cache',\n",
       " '_ixs',\n",
       " '_logical_func',\n",
       " '_logical_method',\n",
       " '_map_values',\n",
       " '_maybe_update_cacher',\n",
       " '_memory_usage',\n",
       " '_metadata',\n",
       " '_mgr',\n",
       " '_min_count_stat_function',\n",
       " '_name',\n",
       " '_needs_reindex_multi',\n",
       " '_protect_consolidate',\n",
       " '_reduce',\n",
       " '_reindex_axes',\n",
       " '_reindex_indexer',\n",
       " '_reindex_multi',\n",
       " '_reindex_with_indexers',\n",
       " '_rename',\n",
       " '_replace_single',\n",
       " '_repr_data_resource_',\n",
       " '_repr_latex_',\n",
       " '_reset_cache',\n",
       " '_reset_cacher',\n",
       " '_set_as_cached',\n",
       " '_set_axis',\n",
       " '_set_axis_name',\n",
       " '_set_axis_nocheck',\n",
       " '_set_is_copy',\n",
       " '_set_labels',\n",
       " '_set_name',\n",
       " '_set_value',\n",
       " '_set_values',\n",
       " '_set_with',\n",
       " '_set_with_engine',\n",
       " '_slice',\n",
       " '_stat_axis',\n",
       " '_stat_axis_name',\n",
       " '_stat_axis_number',\n",
       " '_stat_function',\n",
       " '_stat_function_ddof',\n",
       " '_take_with_is_copy',\n",
       " '_typ',\n",
       " '_update_inplace',\n",
       " '_validate_dtype',\n",
       " '_values',\n",
       " '_where',\n",
       " 'abs',\n",
       " 'add',\n",
       " 'add_prefix',\n",
       " 'add_suffix',\n",
       " 'agg',\n",
       " 'aggregate',\n",
       " 'align',\n",
       " 'all',\n",
       " 'any',\n",
       " 'append',\n",
       " 'apply',\n",
       " 'argmax',\n",
       " 'argmin',\n",
       " 'argsort',\n",
       " 'array',\n",
       " 'asfreq',\n",
       " 'asof',\n",
       " 'astype',\n",
       " 'at',\n",
       " 'at_time',\n",
       " 'attrs',\n",
       " 'autocorr',\n",
       " 'axes',\n",
       " 'backfill',\n",
       " 'between',\n",
       " 'between_time',\n",
       " 'bfill',\n",
       " 'bool',\n",
       " 'clip',\n",
       " 'combine',\n",
       " 'combine_first',\n",
       " 'compare',\n",
       " 'convert_dtypes',\n",
       " 'copy',\n",
       " 'corr',\n",
       " 'count',\n",
       " 'cov',\n",
       " 'cummax',\n",
       " 'cummin',\n",
       " 'cumprod',\n",
       " 'cumsum',\n",
       " 'describe',\n",
       " 'diff',\n",
       " 'div',\n",
       " 'divide',\n",
       " 'divmod',\n",
       " 'dot',\n",
       " 'drop',\n",
       " 'drop_duplicates',\n",
       " 'droplevel',\n",
       " 'dropna',\n",
       " 'dtype',\n",
       " 'dtypes',\n",
       " 'duplicated',\n",
       " 'empty',\n",
       " 'eq',\n",
       " 'equals',\n",
       " 'ewm',\n",
       " 'expanding',\n",
       " 'explode',\n",
       " 'factorize',\n",
       " 'ffill',\n",
       " 'fillna',\n",
       " 'filter',\n",
       " 'first',\n",
       " 'first_valid_index',\n",
       " 'flags',\n",
       " 'floordiv',\n",
       " 'ge',\n",
       " 'get',\n",
       " 'groupby',\n",
       " 'gt',\n",
       " 'hasnans',\n",
       " 'head',\n",
       " 'hist',\n",
       " 'iat',\n",
       " 'idxmax',\n",
       " 'idxmin',\n",
       " 'iloc',\n",
       " 'index',\n",
       " 'infer_objects',\n",
       " 'info',\n",
       " 'interpolate',\n",
       " 'is_monotonic',\n",
       " 'is_monotonic_decreasing',\n",
       " 'is_monotonic_increasing',\n",
       " 'is_unique',\n",
       " 'isin',\n",
       " 'isna',\n",
       " 'isnull',\n",
       " 'item',\n",
       " 'items',\n",
       " 'iteritems',\n",
       " 'keys',\n",
       " 'kurt',\n",
       " 'kurtosis',\n",
       " 'last',\n",
       " 'last_valid_index',\n",
       " 'le',\n",
       " 'loc',\n",
       " 'lt',\n",
       " 'mad',\n",
       " 'map',\n",
       " 'mask',\n",
       " 'max',\n",
       " 'mean',\n",
       " 'median',\n",
       " 'memory_usage',\n",
       " 'min',\n",
       " 'mod',\n",
       " 'mode',\n",
       " 'mul',\n",
       " 'multiply',\n",
       " 'name',\n",
       " 'nbytes',\n",
       " 'ndim',\n",
       " 'ne',\n",
       " 'nlargest',\n",
       " 'notna',\n",
       " 'notnull',\n",
       " 'nsmallest',\n",
       " 'nunique',\n",
       " 'pad',\n",
       " 'pct_change',\n",
       " 'pipe',\n",
       " 'plot',\n",
       " 'pop',\n",
       " 'pow',\n",
       " 'prod',\n",
       " 'product',\n",
       " 'quantile',\n",
       " 'radd',\n",
       " 'rank',\n",
       " 'ravel',\n",
       " 'rdiv',\n",
       " 'rdivmod',\n",
       " 'reindex',\n",
       " 'reindex_like',\n",
       " 'rename',\n",
       " 'rename_axis',\n",
       " 'reorder_levels',\n",
       " 'repeat',\n",
       " 'replace',\n",
       " 'resample',\n",
       " 'reset_index',\n",
       " 'rfloordiv',\n",
       " 'rmod',\n",
       " 'rmul',\n",
       " 'rolling',\n",
       " 'round',\n",
       " 'rpow',\n",
       " 'rsub',\n",
       " 'rtruediv',\n",
       " 'sample',\n",
       " 'searchsorted',\n",
       " 'sem',\n",
       " 'set_axis',\n",
       " 'set_flags',\n",
       " 'shape',\n",
       " 'shift',\n",
       " 'size',\n",
       " 'skew',\n",
       " 'slice_shift',\n",
       " 'sort_index',\n",
       " 'sort_values',\n",
       " 'squeeze',\n",
       " 'std',\n",
       " 'sub',\n",
       " 'subtract',\n",
       " 'sum',\n",
       " 'swapaxes',\n",
       " 'swaplevel',\n",
       " 'tail',\n",
       " 'take',\n",
       " 'to_clipboard',\n",
       " 'to_csv',\n",
       " 'to_dict',\n",
       " 'to_excel',\n",
       " 'to_frame',\n",
       " 'to_hdf',\n",
       " 'to_json',\n",
       " 'to_latex',\n",
       " 'to_list',\n",
       " 'to_markdown',\n",
       " 'to_numpy',\n",
       " 'to_period',\n",
       " 'to_pickle',\n",
       " 'to_sql',\n",
       " 'to_string',\n",
       " 'to_timestamp',\n",
       " 'to_xarray',\n",
       " 'transform',\n",
       " 'transpose',\n",
       " 'truediv',\n",
       " 'truncate',\n",
       " 'tz_convert',\n",
       " 'tz_localize',\n",
       " 'unique',\n",
       " 'unstack',\n",
       " 'update',\n",
       " 'value_counts',\n",
       " 'values',\n",
       " 'var',\n",
       " 'view',\n",
       " 'where',\n",
       " 'xs']"
      ]
     },
     "execution_count": 172,
     "metadata": {},
     "output_type": "execute_result"
    }
   ],
   "source": [
    "dir(s1)"
   ]
  },
  {
   "cell_type": "code",
   "execution_count": 173,
   "id": "98e2622c-fd15-4658-8240-dd3bc7c51905",
   "metadata": {},
   "outputs": [
    {
     "data": {
      "text/plain": [
       "1    10.000000\n",
       "2     0.571429\n",
       "2     0.454545\n",
       "2     0.857143\n",
       "2     0.681818\n",
       "4     0.018868\n",
       "dtype: float64"
      ]
     },
     "execution_count": 173,
     "metadata": {},
     "output_type": "execute_result"
    }
   ],
   "source": [
    "s1.divide(s2, fill_value=1)"
   ]
  },
  {
   "cell_type": "code",
   "execution_count": 174,
   "id": "73955dd0-2737-46d4-ab11-0bb43cc605af",
   "metadata": {},
   "outputs": [
    {
     "data": {
      "text/plain": [
       "1    10\n",
       "2    20\n",
       "2    30\n",
       "dtype: int64"
      ]
     },
     "execution_count": 174,
     "metadata": {},
     "output_type": "execute_result"
    }
   ],
   "source": [
    "s1"
   ]
  },
  {
   "cell_type": "code",
   "execution_count": 175,
   "id": "14d7f091-26b6-4a3f-ac86-639bbd4939de",
   "metadata": {},
   "outputs": [
    {
     "data": {
      "text/plain": [
       "2    35\n",
       "2    44\n",
       "4    53\n",
       "dtype: int64"
      ]
     },
     "execution_count": 175,
     "metadata": {},
     "output_type": "execute_result"
    }
   ],
   "source": [
    "s2"
   ]
  },
  {
   "cell_type": "code",
   "execution_count": 176,
   "id": "3326d382-10de-4ff5-a038-1e51c45a4bfc",
   "metadata": {},
   "outputs": [
    {
     "data": {
      "text/plain": [
       "1       0.0\n",
       "2     700.0\n",
       "2     880.0\n",
       "2    1050.0\n",
       "2    1320.0\n",
       "4       0.0\n",
       "dtype: float64"
      ]
     },
     "execution_count": 176,
     "metadata": {},
     "output_type": "execute_result"
    }
   ],
   "source": [
    "s1.multiply(s2, fill_value=0)"
   ]
  },
  {
   "cell_type": "markdown",
   "id": "c17b45d6-c1d8-4408-8f30-fdad4f40ce27",
   "metadata": {},
   "source": [
    "## 6.7 Chaining"
   ]
  },
  {
   "cell_type": "code",
   "execution_count": 177,
   "id": "f58e8fdf-1489-45b9-98f3-822f432450ce",
   "metadata": {},
   "outputs": [
    {
     "data": {
      "text/plain": [
       "0        22.0\n",
       "1        11.5\n",
       "2        28.0\n",
       "3        11.0\n",
       "4        20.0\n",
       "         ... \n",
       "44981    22.5\n",
       "44982    24.0\n",
       "44983    21.0\n",
       "44984    21.0\n",
       "44985    18.5\n",
       "Length: 44986, dtype: float64"
      ]
     },
     "execution_count": 177,
     "metadata": {},
     "output_type": "execute_result"
    }
   ],
   "source": [
    "(city_mpg\n",
    "    .add(highway_mpg)\n",
    "    .div(2))"
   ]
  },
  {
   "cell_type": "code",
   "execution_count": 178,
   "id": "defc5875-e91f-4753-a7b6-ecf8b5df0fdf",
   "metadata": {},
   "outputs": [
    {
     "data": {
      "text/plain": [
       "777"
      ]
     },
     "execution_count": 178,
     "metadata": {},
     "output_type": "execute_result"
    }
   ],
   "source": [
    "(city_mpg\n",
    "    .floordiv(highway_mpg)\n",
    "    .sum())"
   ]
  },
  {
   "cell_type": "code",
   "execution_count": 179,
   "id": "941d1496-7bcc-40f0-9674-e46ad94dc482",
   "metadata": {},
   "outputs": [
    {
     "data": {
      "text/plain": [
       "777"
      ]
     },
     "execution_count": 179,
     "metadata": {},
     "output_type": "execute_result"
    }
   ],
   "source": [
    "(city_mpg\n",
    "    .ge(highway_mpg)\n",
    "    .sum())"
   ]
  },
  {
   "cell_type": "code",
   "execution_count": 180,
   "id": "a8e78606-64ad-43c4-ba71-caedda25a8cc",
   "metadata": {},
   "outputs": [
    {
     "data": {
      "text/plain": [
       "0        1\n",
       "1        1\n",
       "2        1\n",
       "3        1\n",
       "4        1\n",
       "        ..\n",
       "44981    1\n",
       "44982    1\n",
       "44983    1\n",
       "44984    1\n",
       "44985    1\n",
       "Length: 44986, dtype: int64"
      ]
     },
     "execution_count": 180,
     "metadata": {},
     "output_type": "execute_result"
    }
   ],
   "source": [
    "(city_mpg\n",
    "    .rfloordiv(highway_mpg))"
   ]
  },
  {
   "cell_type": "code",
   "execution_count": 181,
   "id": "1fe60e12-3f69-43d4-aac0-904d026278f3",
   "metadata": {},
   "outputs": [
    {
     "data": {
      "text/plain": [
       "0        19\n",
       "1         9\n",
       "2        23\n",
       "3        10\n",
       "4        17\n",
       "         ..\n",
       "44981    19\n",
       "44982    20\n",
       "44983    18\n",
       "44984    18\n",
       "44985    16\n",
       "Length: 44986, dtype: int64"
      ]
     },
     "execution_count": 181,
     "metadata": {},
     "output_type": "execute_result"
    }
   ],
   "source": [
    "(city_mpg\n",
    "    .mod(highway_mpg))"
   ]
  },
  {
   "cell_type": "code",
   "execution_count": 182,
   "id": "d0dad425-bf41-47d8-938b-e45307b36096",
   "metadata": {},
   "outputs": [
    {
     "data": {
      "text/plain": [
       "0        0.760000\n",
       "1        0.642857\n",
       "2        0.696970\n",
       "3        0.833333\n",
       "4        0.739130\n",
       "           ...   \n",
       "44981    0.730769\n",
       "44982    0.714286\n",
       "44983    0.750000\n",
       "44984    0.750000\n",
       "44985    0.761905\n",
       "Length: 44986, dtype: float64"
      ]
     },
     "execution_count": 182,
     "metadata": {},
     "output_type": "execute_result"
    }
   ],
   "source": [
    "(city_mpg\n",
    "    .div(highway_mpg))"
   ]
  },
  {
   "cell_type": "code",
   "execution_count": 183,
   "id": "ea09aa72-8972-4f73-8289-5b1657c1ce0a",
   "metadata": {},
   "outputs": [
    {
     "data": {
      "text/plain": [
       "0        19\n",
       "1         9\n",
       "2        23\n",
       "3        10\n",
       "4        17\n",
       "         ..\n",
       "44981    19\n",
       "44982    20\n",
       "44983    18\n",
       "44984    18\n",
       "44985    16\n",
       "Name: city08, Length: 44986, dtype: int64"
      ]
     },
     "execution_count": 183,
     "metadata": {},
     "output_type": "execute_result"
    }
   ],
   "source": [
    "city_mpg"
   ]
  },
  {
   "cell_type": "code",
   "execution_count": 184,
   "id": "85adbee5-f518-4239-846c-6ce658549219",
   "metadata": {},
   "outputs": [
    {
     "data": {
      "text/plain": [
       "0        38\n",
       "1        18\n",
       "2        46\n",
       "3        20\n",
       "4        34\n",
       "         ..\n",
       "44981    38\n",
       "44982    40\n",
       "44983    36\n",
       "44984    36\n",
       "44985    32\n",
       "Name: city08, Length: 44986, dtype: int64"
      ]
     },
     "execution_count": 184,
     "metadata": {},
     "output_type": "execute_result"
    }
   ],
   "source": [
    "city_mpg + city_mpg"
   ]
  },
  {
   "cell_type": "code",
   "execution_count": 185,
   "id": "2c476080-ff7b-4210-9d08-4fb5cf25b04a",
   "metadata": {},
   "outputs": [
    {
     "data": {
      "text/plain": [
       "0        29\n",
       "1        19\n",
       "2        33\n",
       "3        20\n",
       "4        27\n",
       "         ..\n",
       "44981    29\n",
       "44982    30\n",
       "44983    28\n",
       "44984    28\n",
       "44985    26\n",
       "Name: city08, Length: 44986, dtype: int64"
      ]
     },
     "execution_count": 185,
     "metadata": {},
     "output_type": "execute_result"
    }
   ],
   "source": [
    "city_mpg + 10"
   ]
  },
  {
   "cell_type": "code",
   "execution_count": 186,
   "id": "378775d7-5e5d-48fd-b448-a53c2d4de87c",
   "metadata": {},
   "outputs": [
    {
     "data": {
      "text/plain": [
       "0        38\n",
       "1        18\n",
       "2        46\n",
       "3        20\n",
       "4        34\n",
       "         ..\n",
       "44981    38\n",
       "44982    40\n",
       "44983    36\n",
       "44984    36\n",
       "44985    32\n",
       "Name: city08, Length: 44986, dtype: int64"
      ]
     },
     "execution_count": 186,
     "metadata": {},
     "output_type": "execute_result"
    }
   ],
   "source": [
    "(city_mpg\n",
    "    .add(city_mpg))"
   ]
  },
  {
   "cell_type": "code",
   "execution_count": 187,
   "id": "93938646-96d4-42b4-90ce-de3f810aeb04",
   "metadata": {},
   "outputs": [
    {
     "data": {
      "text/plain": [
       "\u001b[0;31mSignature:\u001b[0m \u001b[0mpd\u001b[0m\u001b[0;34m.\u001b[0m\u001b[0mSeries\u001b[0m\u001b[0;34m.\u001b[0m\u001b[0madd\u001b[0m\u001b[0;34m(\u001b[0m\u001b[0mself\u001b[0m\u001b[0;34m,\u001b[0m \u001b[0mother\u001b[0m\u001b[0;34m,\u001b[0m \u001b[0mlevel\u001b[0m\u001b[0;34m=\u001b[0m\u001b[0;32mNone\u001b[0m\u001b[0;34m,\u001b[0m \u001b[0mfill_value\u001b[0m\u001b[0;34m=\u001b[0m\u001b[0;32mNone\u001b[0m\u001b[0;34m,\u001b[0m \u001b[0maxis\u001b[0m\u001b[0;34m=\u001b[0m\u001b[0;36m0\u001b[0m\u001b[0;34m)\u001b[0m\u001b[0;34m\u001b[0m\u001b[0;34m\u001b[0m\u001b[0m\n",
       "\u001b[0;31mDocstring:\u001b[0m\n",
       "Return Addition of series and other, element-wise (binary operator `add`).\n",
       "\n",
       "Equivalent to ``series + other``, but with support to substitute a fill_value for\n",
       "missing data in either one of the inputs.\n",
       "\n",
       "Parameters\n",
       "----------\n",
       "other : Series or scalar value\n",
       "fill_value : None or float value, default None (NaN)\n",
       "    Fill existing missing (NaN) values, and any new element needed for\n",
       "    successful Series alignment, with this value before computation.\n",
       "    If data in both corresponding Series locations is missing\n",
       "    the result of filling (at that location) will be missing.\n",
       "level : int or name\n",
       "    Broadcast across a level, matching Index values on the\n",
       "    passed MultiIndex level.\n",
       "\n",
       "Returns\n",
       "-------\n",
       "Series\n",
       "    The result of the operation.\n",
       "\n",
       "See Also\n",
       "--------\n",
       "Series.radd : Reverse of the Addition operator, see\n",
       "    `Python documentation\n",
       "    <https://docs.python.org/3/reference/datamodel.html#emulating-numeric-types>`_\n",
       "    for more details.\n",
       "\n",
       "Examples\n",
       "--------\n",
       ">>> a = pd.Series([1, 1, 1, np.nan], index=['a', 'b', 'c', 'd'])\n",
       ">>> a\n",
       "a    1.0\n",
       "b    1.0\n",
       "c    1.0\n",
       "d    NaN\n",
       "dtype: float64\n",
       ">>> b = pd.Series([1, np.nan, 1, np.nan], index=['a', 'b', 'd', 'e'])\n",
       ">>> b\n",
       "a    1.0\n",
       "b    NaN\n",
       "d    1.0\n",
       "e    NaN\n",
       "dtype: float64\n",
       ">>> a.add(b, fill_value=0)\n",
       "a    2.0\n",
       "b    1.0\n",
       "c    1.0\n",
       "d    1.0\n",
       "e    NaN\n",
       "dtype: float64\n",
       "\u001b[0;31mSource:\u001b[0m   \n",
       "    \u001b[0;34m@\u001b[0m\u001b[0mAppender\u001b[0m\u001b[0;34m(\u001b[0m\u001b[0mdoc\u001b[0m\u001b[0;34m)\u001b[0m\u001b[0;34m\u001b[0m\n",
       "\u001b[0;34m\u001b[0m    \u001b[0;32mdef\u001b[0m \u001b[0mflex_wrapper\u001b[0m\u001b[0;34m(\u001b[0m\u001b[0mself\u001b[0m\u001b[0;34m,\u001b[0m \u001b[0mother\u001b[0m\u001b[0;34m,\u001b[0m \u001b[0mlevel\u001b[0m\u001b[0;34m=\u001b[0m\u001b[0;32mNone\u001b[0m\u001b[0;34m,\u001b[0m \u001b[0mfill_value\u001b[0m\u001b[0;34m=\u001b[0m\u001b[0;32mNone\u001b[0m\u001b[0;34m,\u001b[0m \u001b[0maxis\u001b[0m\u001b[0;34m=\u001b[0m\u001b[0;36m0\u001b[0m\u001b[0;34m)\u001b[0m\u001b[0;34m:\u001b[0m\u001b[0;34m\u001b[0m\n",
       "\u001b[0;34m\u001b[0m        \u001b[0;31m# validate axis\u001b[0m\u001b[0;34m\u001b[0m\n",
       "\u001b[0;34m\u001b[0m        \u001b[0;32mif\u001b[0m \u001b[0maxis\u001b[0m \u001b[0;32mis\u001b[0m \u001b[0;32mnot\u001b[0m \u001b[0;32mNone\u001b[0m\u001b[0;34m:\u001b[0m\u001b[0;34m\u001b[0m\n",
       "\u001b[0;34m\u001b[0m            \u001b[0mself\u001b[0m\u001b[0;34m.\u001b[0m\u001b[0m_get_axis_number\u001b[0m\u001b[0;34m(\u001b[0m\u001b[0maxis\u001b[0m\u001b[0;34m)\u001b[0m\u001b[0;34m\u001b[0m\n",
       "\u001b[0;34m\u001b[0m\u001b[0;34m\u001b[0m\n",
       "\u001b[0;34m\u001b[0m        \u001b[0mres_name\u001b[0m \u001b[0;34m=\u001b[0m \u001b[0mget_op_result_name\u001b[0m\u001b[0;34m(\u001b[0m\u001b[0mself\u001b[0m\u001b[0;34m,\u001b[0m \u001b[0mother\u001b[0m\u001b[0;34m)\u001b[0m\u001b[0;34m\u001b[0m\n",
       "\u001b[0;34m\u001b[0m\u001b[0;34m\u001b[0m\n",
       "\u001b[0;34m\u001b[0m        \u001b[0;32mif\u001b[0m \u001b[0misinstance\u001b[0m\u001b[0;34m(\u001b[0m\u001b[0mother\u001b[0m\u001b[0;34m,\u001b[0m \u001b[0mABCSeries\u001b[0m\u001b[0;34m)\u001b[0m\u001b[0;34m:\u001b[0m\u001b[0;34m\u001b[0m\n",
       "\u001b[0;34m\u001b[0m            \u001b[0;32mreturn\u001b[0m \u001b[0mself\u001b[0m\u001b[0;34m.\u001b[0m\u001b[0m_binop\u001b[0m\u001b[0;34m(\u001b[0m\u001b[0mother\u001b[0m\u001b[0;34m,\u001b[0m \u001b[0mop\u001b[0m\u001b[0;34m,\u001b[0m \u001b[0mlevel\u001b[0m\u001b[0;34m=\u001b[0m\u001b[0mlevel\u001b[0m\u001b[0;34m,\u001b[0m \u001b[0mfill_value\u001b[0m\u001b[0;34m=\u001b[0m\u001b[0mfill_value\u001b[0m\u001b[0;34m)\u001b[0m\u001b[0;34m\u001b[0m\n",
       "\u001b[0;34m\u001b[0m        \u001b[0;32melif\u001b[0m \u001b[0misinstance\u001b[0m\u001b[0;34m(\u001b[0m\u001b[0mother\u001b[0m\u001b[0;34m,\u001b[0m \u001b[0;34m(\u001b[0m\u001b[0mnp\u001b[0m\u001b[0;34m.\u001b[0m\u001b[0mndarray\u001b[0m\u001b[0;34m,\u001b[0m \u001b[0mlist\u001b[0m\u001b[0;34m,\u001b[0m \u001b[0mtuple\u001b[0m\u001b[0;34m)\u001b[0m\u001b[0;34m)\u001b[0m\u001b[0;34m:\u001b[0m\u001b[0;34m\u001b[0m\n",
       "\u001b[0;34m\u001b[0m            \u001b[0;32mif\u001b[0m \u001b[0mlen\u001b[0m\u001b[0;34m(\u001b[0m\u001b[0mother\u001b[0m\u001b[0;34m)\u001b[0m \u001b[0;34m!=\u001b[0m \u001b[0mlen\u001b[0m\u001b[0;34m(\u001b[0m\u001b[0mself\u001b[0m\u001b[0;34m)\u001b[0m\u001b[0;34m:\u001b[0m\u001b[0;34m\u001b[0m\n",
       "\u001b[0;34m\u001b[0m                \u001b[0;32mraise\u001b[0m \u001b[0mValueError\u001b[0m\u001b[0;34m(\u001b[0m\u001b[0;34m\"Lengths must be equal\"\u001b[0m\u001b[0;34m)\u001b[0m\u001b[0;34m\u001b[0m\n",
       "\u001b[0;34m\u001b[0m            \u001b[0mother\u001b[0m \u001b[0;34m=\u001b[0m \u001b[0mself\u001b[0m\u001b[0;34m.\u001b[0m\u001b[0m_constructor\u001b[0m\u001b[0;34m(\u001b[0m\u001b[0mother\u001b[0m\u001b[0;34m,\u001b[0m \u001b[0mself\u001b[0m\u001b[0;34m.\u001b[0m\u001b[0mindex\u001b[0m\u001b[0;34m)\u001b[0m\u001b[0;34m\u001b[0m\n",
       "\u001b[0;34m\u001b[0m            \u001b[0mresult\u001b[0m \u001b[0;34m=\u001b[0m \u001b[0mself\u001b[0m\u001b[0;34m.\u001b[0m\u001b[0m_binop\u001b[0m\u001b[0;34m(\u001b[0m\u001b[0mother\u001b[0m\u001b[0;34m,\u001b[0m \u001b[0mop\u001b[0m\u001b[0;34m,\u001b[0m \u001b[0mlevel\u001b[0m\u001b[0;34m=\u001b[0m\u001b[0mlevel\u001b[0m\u001b[0;34m,\u001b[0m \u001b[0mfill_value\u001b[0m\u001b[0;34m=\u001b[0m\u001b[0mfill_value\u001b[0m\u001b[0;34m)\u001b[0m\u001b[0;34m\u001b[0m\n",
       "\u001b[0;34m\u001b[0m            \u001b[0mresult\u001b[0m\u001b[0;34m.\u001b[0m\u001b[0mname\u001b[0m \u001b[0;34m=\u001b[0m \u001b[0mres_name\u001b[0m\u001b[0;34m\u001b[0m\n",
       "\u001b[0;34m\u001b[0m            \u001b[0;32mreturn\u001b[0m \u001b[0mresult\u001b[0m\u001b[0;34m\u001b[0m\n",
       "\u001b[0;34m\u001b[0m        \u001b[0;32melse\u001b[0m\u001b[0;34m:\u001b[0m\u001b[0;34m\u001b[0m\n",
       "\u001b[0;34m\u001b[0m            \u001b[0;32mif\u001b[0m \u001b[0mfill_value\u001b[0m \u001b[0;32mis\u001b[0m \u001b[0;32mnot\u001b[0m \u001b[0;32mNone\u001b[0m\u001b[0;34m:\u001b[0m\u001b[0;34m\u001b[0m\n",
       "\u001b[0;34m\u001b[0m                \u001b[0mself\u001b[0m \u001b[0;34m=\u001b[0m \u001b[0mself\u001b[0m\u001b[0;34m.\u001b[0m\u001b[0mfillna\u001b[0m\u001b[0;34m(\u001b[0m\u001b[0mfill_value\u001b[0m\u001b[0;34m)\u001b[0m\u001b[0;34m\u001b[0m\n",
       "\u001b[0;34m\u001b[0m\u001b[0;34m\u001b[0m\n",
       "\u001b[0;34m\u001b[0m            \u001b[0;32mreturn\u001b[0m \u001b[0mop\u001b[0m\u001b[0;34m(\u001b[0m\u001b[0mself\u001b[0m\u001b[0;34m,\u001b[0m \u001b[0mother\u001b[0m\u001b[0;34m)\u001b[0m\u001b[0;34m\u001b[0m\u001b[0;34m\u001b[0m\u001b[0m\n",
       "\u001b[0;31mFile:\u001b[0m      ~/mambaforge/lib/python3.9/site-packages/pandas/core/ops/__init__.py\n",
       "\u001b[0;31mType:\u001b[0m      function\n"
      ]
     },
     "metadata": {},
     "output_type": "display_data"
    }
   ],
   "source": [
    "pd.Series.add??"
   ]
  },
  {
   "cell_type": "markdown",
   "id": "7bb9925e-3a50-4ab1-9ad7-ffea88c23f5c",
   "metadata": {},
   "source": [
    "## Chapter 7 - Aggregate Methods"
   ]
  },
  {
   "cell_type": "code",
   "execution_count": 188,
   "id": "7cb18587-bf2c-483a-92fa-acc8759f114f",
   "metadata": {},
   "outputs": [
    {
     "data": {
      "text/plain": [
       "18.91014982438981"
      ]
     },
     "execution_count": 188,
     "metadata": {},
     "output_type": "execute_result"
    }
   ],
   "source": [
    "city_mpg.mean()"
   ]
  },
  {
   "cell_type": "code",
   "execution_count": 189,
   "id": "db85cc17-1b69-4bd1-bf8b-db4c56a37855",
   "metadata": {},
   "outputs": [
    {
     "data": {
      "text/plain": [
       "False"
      ]
     },
     "execution_count": 189,
     "metadata": {},
     "output_type": "execute_result"
    }
   ],
   "source": [
    "city_mpg.is_unique"
   ]
  },
  {
   "cell_type": "code",
   "execution_count": 190,
   "id": "b1087e5c-9429-438f-8ffb-925e83c495b5",
   "metadata": {},
   "outputs": [
    {
     "data": {
      "text/plain": [
       "False"
      ]
     },
     "execution_count": 190,
     "metadata": {},
     "output_type": "execute_result"
    }
   ],
   "source": [
    "city_mpg.is_monotonic_increasing"
   ]
  },
  {
   "cell_type": "code",
   "execution_count": 191,
   "id": "80d69b60-6783-4011-9b8a-d0b29b2a35be",
   "metadata": {},
   "outputs": [
    {
     "data": {
      "text/plain": [
       "17.0"
      ]
     },
     "execution_count": 191,
     "metadata": {},
     "output_type": "execute_result"
    }
   ],
   "source": [
    "city_mpg.quantile()"
   ]
  },
  {
   "cell_type": "code",
   "execution_count": 192,
   "id": "dff4d63e-0945-4603-96af-de1d88f0299c",
   "metadata": {},
   "outputs": [
    {
     "data": {
      "text/plain": [
       "17.0"
      ]
     },
     "execution_count": 192,
     "metadata": {},
     "output_type": "execute_result"
    }
   ],
   "source": [
    "city_mpg.median()"
   ]
  },
  {
   "cell_type": "code",
   "execution_count": 193,
   "id": "a90b527e-8343-446c-a194-b8feb7e32f4a",
   "metadata": {},
   "outputs": [
    {
     "data": {
      "text/plain": [
       "0.05    11.0\n",
       "0.25    15.0\n",
       "0.50    17.0\n",
       "0.75    21.0\n",
       "0.95    28.0\n",
       "Name: city08, dtype: float64"
      ]
     },
     "execution_count": 193,
     "metadata": {},
     "output_type": "execute_result"
    }
   ],
   "source": [
    "city_mpg.quantile([0.05, 0.25, 0.5, 0.75, 0.95])"
   ]
  },
  {
   "cell_type": "code",
   "execution_count": 194,
   "id": "78a7cb31-6f1f-44cf-99cd-9bd1f1bdc6e3",
   "metadata": {},
   "outputs": [
    {
     "data": {
      "text/plain": [
       "1396"
      ]
     },
     "execution_count": 194,
     "metadata": {},
     "output_type": "execute_result"
    }
   ],
   "source": [
    "(city_mpg\n",
    "    .gt(30)\n",
    "    .sum())"
   ]
  },
  {
   "cell_type": "markdown",
   "id": "9af2f00d-da30-4a4c-81d4-18ee71921df7",
   "metadata": {},
   "source": [
    "### Percent of population that meets a criteria"
   ]
  },
  {
   "cell_type": "code",
   "execution_count": 195,
   "id": "de676da0-a26c-46b6-b858-bd81605fad78",
   "metadata": {},
   "outputs": [
    {
     "data": {
      "text/plain": [
       "3.1031876583826077"
      ]
     },
     "execution_count": 195,
     "metadata": {},
     "output_type": "execute_result"
    }
   ],
   "source": [
    "(city_mpg\n",
    "    .gt(30)\n",
    "    .mean())*100"
   ]
  },
  {
   "cell_type": "code",
   "execution_count": 196,
   "id": "93d750f4-c8ad-47e6-acf4-b1d76a05ea8b",
   "metadata": {},
   "outputs": [
    {
     "data": {
      "text/plain": [
       "3.103187658382608"
      ]
     },
     "execution_count": 196,
     "metadata": {},
     "output_type": "execute_result"
    }
   ],
   "source": [
    "(city_mpg\n",
    "    .gt(30)\n",
    "    .mul(100)\n",
    "    .mean())"
   ]
  },
  {
   "cell_type": "code",
   "execution_count": 197,
   "id": "58e7da30-efee-44c3-a684-6e5b8629f73e",
   "metadata": {},
   "outputs": [
    {
     "data": {
      "text/plain": [
       "0.031031876583826078"
      ]
     },
     "execution_count": 197,
     "metadata": {},
     "output_type": "execute_result"
    }
   ],
   "source": [
    "(city_mpg\n",
    "    .gt(30)\n",
    "    .sum())/len(city_mpg)"
   ]
  },
  {
   "cell_type": "markdown",
   "id": "168b4f9b-82ec-40dd-8dec-75f7713352bb",
   "metadata": {},
   "source": [
    "### .agg and pandas"
   ]
  },
  {
   "cell_type": "code",
   "execution_count": 198,
   "id": "596c2ef6-9b90-420c-807a-0e3e5d597497",
   "metadata": {
    "tags": []
   },
   "outputs": [
    {
     "data": {
      "text/plain": [
       "\u001b[0;31mSignature:\u001b[0m \u001b[0mpd\u001b[0m\u001b[0;34m.\u001b[0m\u001b[0mSeries\u001b[0m\u001b[0;34m.\u001b[0m\u001b[0magg\u001b[0m\u001b[0;34m(\u001b[0m\u001b[0mself\u001b[0m\u001b[0;34m,\u001b[0m \u001b[0mfunc\u001b[0m\u001b[0;34m=\u001b[0m\u001b[0;32mNone\u001b[0m\u001b[0;34m,\u001b[0m \u001b[0maxis\u001b[0m\u001b[0;34m=\u001b[0m\u001b[0;36m0\u001b[0m\u001b[0;34m,\u001b[0m \u001b[0;34m*\u001b[0m\u001b[0margs\u001b[0m\u001b[0;34m,\u001b[0m \u001b[0;34m**\u001b[0m\u001b[0mkwargs\u001b[0m\u001b[0;34m)\u001b[0m\u001b[0;34m\u001b[0m\u001b[0;34m\u001b[0m\u001b[0m\n",
       "\u001b[0;31mDocstring:\u001b[0m\n",
       "Aggregate using one or more operations over the specified axis.\n",
       "\n",
       "Parameters\n",
       "----------\n",
       "func : function, str, list or dict\n",
       "    Function to use for aggregating the data. If a function, must either\n",
       "    work when passed a Series or when passed to Series.apply.\n",
       "\n",
       "    Accepted combinations are:\n",
       "\n",
       "    - function\n",
       "    - string function name\n",
       "    - list of functions and/or function names, e.g. ``[np.sum, 'mean']``\n",
       "    - dict of axis labels -> functions, function names or list of such.\n",
       "axis : {0 or 'index'}\n",
       "        Parameter needed for compatibility with DataFrame.\n",
       "*args\n",
       "    Positional arguments to pass to `func`.\n",
       "**kwargs\n",
       "    Keyword arguments to pass to `func`.\n",
       "\n",
       "Returns\n",
       "-------\n",
       "scalar, Series or DataFrame\n",
       "\n",
       "    The return can be:\n",
       "\n",
       "    * scalar : when Series.agg is called with single function\n",
       "    * Series : when DataFrame.agg is called with a single function\n",
       "    * DataFrame : when DataFrame.agg is called with several functions\n",
       "\n",
       "    Return scalar, Series or DataFrame.\n",
       "\n",
       "See Also\n",
       "--------\n",
       "Series.apply : Invoke function on a Series.\n",
       "Series.transform : Transform function producing a Series with like indexes.\n",
       "\n",
       "Notes\n",
       "-----\n",
       "`agg` is an alias for `aggregate`. Use the alias.\n",
       "\n",
       "Functions that mutate the passed object can produce unexpected\n",
       "behavior or errors and are not supported. See :ref:`gotchas.udf-mutation`\n",
       "for more details.\n",
       "\n",
       "A passed user-defined-function will be passed a Series for evaluation.\n",
       "\n",
       "Examples\n",
       "--------\n",
       ">>> s = pd.Series([1, 2, 3, 4])\n",
       ">>> s\n",
       "0    1\n",
       "1    2\n",
       "2    3\n",
       "3    4\n",
       "dtype: int64\n",
       "\n",
       ">>> s.agg('min')\n",
       "1\n",
       "\n",
       ">>> s.agg(['min', 'max'])\n",
       "min   1\n",
       "max   4\n",
       "dtype: int64\n",
       "\u001b[0;31mSource:\u001b[0m   \n",
       "    \u001b[0;34m@\u001b[0m\u001b[0mdoc\u001b[0m\u001b[0;34m(\u001b[0m\u001b[0;34m\u001b[0m\n",
       "\u001b[0;34m\u001b[0m        \u001b[0m_shared_docs\u001b[0m\u001b[0;34m[\u001b[0m\u001b[0;34m\"aggregate\"\u001b[0m\u001b[0;34m]\u001b[0m\u001b[0;34m,\u001b[0m\u001b[0;34m\u001b[0m\n",
       "\u001b[0;34m\u001b[0m        \u001b[0mklass\u001b[0m\u001b[0;34m=\u001b[0m\u001b[0m_shared_doc_kwargs\u001b[0m\u001b[0;34m[\u001b[0m\u001b[0;34m\"klass\"\u001b[0m\u001b[0;34m]\u001b[0m\u001b[0;34m,\u001b[0m\u001b[0;34m\u001b[0m\n",
       "\u001b[0;34m\u001b[0m        \u001b[0maxis\u001b[0m\u001b[0;34m=\u001b[0m\u001b[0m_shared_doc_kwargs\u001b[0m\u001b[0;34m[\u001b[0m\u001b[0;34m\"axis\"\u001b[0m\u001b[0;34m]\u001b[0m\u001b[0;34m,\u001b[0m\u001b[0;34m\u001b[0m\n",
       "\u001b[0;34m\u001b[0m        \u001b[0msee_also\u001b[0m\u001b[0;34m=\u001b[0m\u001b[0m_agg_see_also_doc\u001b[0m\u001b[0;34m,\u001b[0m\u001b[0;34m\u001b[0m\n",
       "\u001b[0;34m\u001b[0m        \u001b[0mexamples\u001b[0m\u001b[0;34m=\u001b[0m\u001b[0m_agg_examples_doc\u001b[0m\u001b[0;34m,\u001b[0m\u001b[0;34m\u001b[0m\n",
       "\u001b[0;34m\u001b[0m    \u001b[0;34m)\u001b[0m\u001b[0;34m\u001b[0m\n",
       "\u001b[0;34m\u001b[0m    \u001b[0;32mdef\u001b[0m \u001b[0maggregate\u001b[0m\u001b[0;34m(\u001b[0m\u001b[0mself\u001b[0m\u001b[0;34m,\u001b[0m \u001b[0mfunc\u001b[0m\u001b[0;34m=\u001b[0m\u001b[0;32mNone\u001b[0m\u001b[0;34m,\u001b[0m \u001b[0maxis\u001b[0m\u001b[0;34m=\u001b[0m\u001b[0;36m0\u001b[0m\u001b[0;34m,\u001b[0m \u001b[0;34m*\u001b[0m\u001b[0margs\u001b[0m\u001b[0;34m,\u001b[0m \u001b[0;34m**\u001b[0m\u001b[0mkwargs\u001b[0m\u001b[0;34m)\u001b[0m\u001b[0;34m:\u001b[0m\u001b[0;34m\u001b[0m\n",
       "\u001b[0;34m\u001b[0m        \u001b[0;31m# Validate the axis parameter\u001b[0m\u001b[0;34m\u001b[0m\n",
       "\u001b[0;34m\u001b[0m        \u001b[0mself\u001b[0m\u001b[0;34m.\u001b[0m\u001b[0m_get_axis_number\u001b[0m\u001b[0;34m(\u001b[0m\u001b[0maxis\u001b[0m\u001b[0;34m)\u001b[0m\u001b[0;34m\u001b[0m\n",
       "\u001b[0;34m\u001b[0m\u001b[0;34m\u001b[0m\n",
       "\u001b[0;34m\u001b[0m        \u001b[0;31m# if func is None, will switch to user-provided \"named aggregation\" kwargs\u001b[0m\u001b[0;34m\u001b[0m\n",
       "\u001b[0;34m\u001b[0m        \u001b[0;32mif\u001b[0m \u001b[0mfunc\u001b[0m \u001b[0;32mis\u001b[0m \u001b[0;32mNone\u001b[0m\u001b[0;34m:\u001b[0m\u001b[0;34m\u001b[0m\n",
       "\u001b[0;34m\u001b[0m            \u001b[0mfunc\u001b[0m \u001b[0;34m=\u001b[0m \u001b[0mdict\u001b[0m\u001b[0;34m(\u001b[0m\u001b[0mkwargs\u001b[0m\u001b[0;34m.\u001b[0m\u001b[0mitems\u001b[0m\u001b[0;34m(\u001b[0m\u001b[0;34m)\u001b[0m\u001b[0;34m)\u001b[0m\u001b[0;34m\u001b[0m\n",
       "\u001b[0;34m\u001b[0m\u001b[0;34m\u001b[0m\n",
       "\u001b[0;34m\u001b[0m        \u001b[0mop\u001b[0m \u001b[0;34m=\u001b[0m \u001b[0mSeriesApply\u001b[0m\u001b[0;34m(\u001b[0m\u001b[0mself\u001b[0m\u001b[0;34m,\u001b[0m \u001b[0mfunc\u001b[0m\u001b[0;34m,\u001b[0m \u001b[0mconvert_dtype\u001b[0m\u001b[0;34m=\u001b[0m\u001b[0;32mFalse\u001b[0m\u001b[0;34m,\u001b[0m \u001b[0margs\u001b[0m\u001b[0;34m=\u001b[0m\u001b[0margs\u001b[0m\u001b[0;34m,\u001b[0m \u001b[0mkwargs\u001b[0m\u001b[0;34m=\u001b[0m\u001b[0mkwargs\u001b[0m\u001b[0;34m)\u001b[0m\u001b[0;34m\u001b[0m\n",
       "\u001b[0;34m\u001b[0m        \u001b[0mresult\u001b[0m \u001b[0;34m=\u001b[0m \u001b[0mop\u001b[0m\u001b[0;34m.\u001b[0m\u001b[0magg\u001b[0m\u001b[0;34m(\u001b[0m\u001b[0;34m)\u001b[0m\u001b[0;34m\u001b[0m\n",
       "\u001b[0;34m\u001b[0m        \u001b[0;32mreturn\u001b[0m \u001b[0mresult\u001b[0m\u001b[0;34m\u001b[0m\u001b[0;34m\u001b[0m\u001b[0m\n",
       "\u001b[0;31mFile:\u001b[0m      ~/mambaforge/lib/python3.9/site-packages/pandas/core/series.py\n",
       "\u001b[0;31mType:\u001b[0m      function\n"
      ]
     },
     "metadata": {},
     "output_type": "display_data"
    }
   ],
   "source": [
    "pd.Series.agg??"
   ]
  },
  {
   "cell_type": "code",
   "execution_count": 199,
   "id": "b419494f-9546-4c30-8195-a7d41bc81689",
   "metadata": {},
   "outputs": [
    {
     "data": {
      "text/plain": [
       "['__annotations__',\n",
       " '__call__',\n",
       " '__class__',\n",
       " '__closure__',\n",
       " '__code__',\n",
       " '__defaults__',\n",
       " '__delattr__',\n",
       " '__dict__',\n",
       " '__dir__',\n",
       " '__doc__',\n",
       " '__eq__',\n",
       " '__format__',\n",
       " '__ge__',\n",
       " '__get__',\n",
       " '__getattribute__',\n",
       " '__globals__',\n",
       " '__gt__',\n",
       " '__hash__',\n",
       " '__init__',\n",
       " '__init_subclass__',\n",
       " '__kwdefaults__',\n",
       " '__le__',\n",
       " '__lt__',\n",
       " '__module__',\n",
       " '__name__',\n",
       " '__ne__',\n",
       " '__new__',\n",
       " '__qualname__',\n",
       " '__reduce__',\n",
       " '__reduce_ex__',\n",
       " '__repr__',\n",
       " '__setattr__',\n",
       " '__sizeof__',\n",
       " '__str__',\n",
       " '__subclasshook__',\n",
       " '_docstring_components']"
      ]
     },
     "execution_count": 199,
     "metadata": {},
     "output_type": "execute_result"
    }
   ],
   "source": [
    "dir(pd.Series.agg)"
   ]
  },
  {
   "cell_type": "code",
   "execution_count": 200,
   "id": "ed18293e-1a84-49aa-b904-810a9b318472",
   "metadata": {},
   "outputs": [
    {
     "data": {
      "text/plain": [
       "RangeIndex(start=0, stop=44986, step=1)"
      ]
     },
     "execution_count": 200,
     "metadata": {},
     "output_type": "execute_result"
    }
   ],
   "source": [
    "df.index"
   ]
  },
  {
   "cell_type": "code",
   "execution_count": 201,
   "id": "aa8a2188-86eb-4f7c-8f79-e9e7d6261367",
   "metadata": {},
   "outputs": [
    {
     "data": {
      "text/plain": [
       "Index(['barrels08', 'barrelsA08', 'charge120', 'charge240', 'city08',\n",
       "       'city08U', 'cityA08', 'cityA08U', 'cityCD', 'cityE', 'cityUF', 'co2',\n",
       "       'co2A', 'co2TailpipeAGpm', 'co2TailpipeGpm', 'comb08', 'comb08U',\n",
       "       'combA08', 'combA08U', 'combE', 'combinedCD', 'combinedUF', 'cylinders',\n",
       "       'displ', 'drive', 'engId', 'eng_dscr', 'feScore', 'fuelCost08',\n",
       "       'fuelCostA08', 'fuelType', 'fuelType1', 'ghgScore', 'ghgScoreA',\n",
       "       'highway08', 'highway08U', 'highwayA08', 'highwayA08U', 'highwayCD',\n",
       "       'highwayE', 'highwayUF', 'hlv', 'hpv', 'id', 'lv2', 'lv4', 'make',\n",
       "       'model', 'mpgData', 'phevBlended', 'pv2', 'pv4', 'range', 'rangeCity',\n",
       "       'rangeCityA', 'rangeHwy', 'rangeHwyA', 'trany', 'UCity', 'UCityA',\n",
       "       'UHighway', 'UHighwayA', 'VClass', 'year', 'youSaveSpend', 'guzzler',\n",
       "       'trans_dscr', 'tCharger', 'sCharger', 'atvType', 'fuelType2', 'rangeA',\n",
       "       'evMotor', 'mfrCode', 'c240Dscr', 'charge240b', 'c240bDscr',\n",
       "       'createdOn', 'modifiedOn', 'startStop', 'phevCity', 'phevHwy',\n",
       "       'phevComb'],\n",
       "      dtype='object')"
      ]
     },
     "execution_count": 201,
     "metadata": {},
     "output_type": "execute_result"
    }
   ],
   "source": [
    "df.columns"
   ]
  },
  {
   "cell_type": "code",
   "execution_count": 202,
   "id": "ddab8761-91d5-4c2d-a9e3-7d4f8617e06e",
   "metadata": {},
   "outputs": [
    {
     "data": {
      "text/plain": [
       "['corr', 'corrwith']"
      ]
     },
     "execution_count": 202,
     "metadata": {},
     "output_type": "execute_result"
    }
   ],
   "source": [
    "[match for match in dir(df) if 'corr' in match]"
   ]
  },
  {
   "cell_type": "code",
   "execution_count": 203,
   "id": "dd338973-3e76-4770-91a6-7dfed7d7c5a7",
   "metadata": {},
   "outputs": [
    {
     "data": {
      "text/plain": [
       "\u001b[0;31mSignature:\u001b[0m\n",
       "\u001b[0mdf\u001b[0m\u001b[0;34m.\u001b[0m\u001b[0mcorr\u001b[0m\u001b[0;34m(\u001b[0m\u001b[0;34m\u001b[0m\n",
       "\u001b[0;34m\u001b[0m    \u001b[0mmethod\u001b[0m\u001b[0;34m:\u001b[0m \u001b[0;34m'str | Callable[[np.ndarray, np.ndarray], float]'\u001b[0m \u001b[0;34m=\u001b[0m \u001b[0;34m'pearson'\u001b[0m\u001b[0;34m,\u001b[0m\u001b[0;34m\u001b[0m\n",
       "\u001b[0;34m\u001b[0m    \u001b[0mmin_periods\u001b[0m\u001b[0;34m:\u001b[0m \u001b[0;34m'int'\u001b[0m \u001b[0;34m=\u001b[0m \u001b[0;36m1\u001b[0m\u001b[0;34m,\u001b[0m\u001b[0;34m\u001b[0m\n",
       "\u001b[0;34m\u001b[0m\u001b[0;34m)\u001b[0m \u001b[0;34m->\u001b[0m \u001b[0;34m'DataFrame'\u001b[0m\u001b[0;34m\u001b[0m\u001b[0;34m\u001b[0m\u001b[0m\n",
       "\u001b[0;31mSource:\u001b[0m   \n",
       "    \u001b[0;32mdef\u001b[0m \u001b[0mcorr\u001b[0m\u001b[0;34m(\u001b[0m\u001b[0;34m\u001b[0m\n",
       "\u001b[0;34m\u001b[0m        \u001b[0mself\u001b[0m\u001b[0;34m,\u001b[0m\u001b[0;34m\u001b[0m\n",
       "\u001b[0;34m\u001b[0m        \u001b[0mmethod\u001b[0m\u001b[0;34m:\u001b[0m \u001b[0mstr\u001b[0m \u001b[0;34m|\u001b[0m \u001b[0mCallable\u001b[0m\u001b[0;34m[\u001b[0m\u001b[0;34m[\u001b[0m\u001b[0mnp\u001b[0m\u001b[0;34m.\u001b[0m\u001b[0mndarray\u001b[0m\u001b[0;34m,\u001b[0m \u001b[0mnp\u001b[0m\u001b[0;34m.\u001b[0m\u001b[0mndarray\u001b[0m\u001b[0;34m]\u001b[0m\u001b[0;34m,\u001b[0m \u001b[0mfloat\u001b[0m\u001b[0;34m]\u001b[0m \u001b[0;34m=\u001b[0m \u001b[0;34m\"pearson\"\u001b[0m\u001b[0;34m,\u001b[0m\u001b[0;34m\u001b[0m\n",
       "\u001b[0;34m\u001b[0m        \u001b[0mmin_periods\u001b[0m\u001b[0;34m:\u001b[0m \u001b[0mint\u001b[0m \u001b[0;34m=\u001b[0m \u001b[0;36m1\u001b[0m\u001b[0;34m,\u001b[0m\u001b[0;34m\u001b[0m\n",
       "\u001b[0;34m\u001b[0m    \u001b[0;34m)\u001b[0m \u001b[0;34m->\u001b[0m \u001b[0mDataFrame\u001b[0m\u001b[0;34m:\u001b[0m\u001b[0;34m\u001b[0m\n",
       "\u001b[0;34m\u001b[0m        \u001b[0;34m\"\"\"\u001b[0m\n",
       "\u001b[0;34m        Compute pairwise correlation of columns, excluding NA/null values.\u001b[0m\n",
       "\u001b[0;34m\u001b[0m\n",
       "\u001b[0;34m        Parameters\u001b[0m\n",
       "\u001b[0;34m        ----------\u001b[0m\n",
       "\u001b[0;34m        method : {'pearson', 'kendall', 'spearman'} or callable\u001b[0m\n",
       "\u001b[0;34m            Method of correlation:\u001b[0m\n",
       "\u001b[0;34m\u001b[0m\n",
       "\u001b[0;34m            * pearson : standard correlation coefficient\u001b[0m\n",
       "\u001b[0;34m            * kendall : Kendall Tau correlation coefficient\u001b[0m\n",
       "\u001b[0;34m            * spearman : Spearman rank correlation\u001b[0m\n",
       "\u001b[0;34m            * callable: callable with input two 1d ndarrays\u001b[0m\n",
       "\u001b[0;34m                and returning a float. Note that the returned matrix from corr\u001b[0m\n",
       "\u001b[0;34m                will have 1 along the diagonals and will be symmetric\u001b[0m\n",
       "\u001b[0;34m                regardless of the callable's behavior.\u001b[0m\n",
       "\u001b[0;34m        min_periods : int, optional\u001b[0m\n",
       "\u001b[0;34m            Minimum number of observations required per pair of columns\u001b[0m\n",
       "\u001b[0;34m            to have a valid result. Currently only available for Pearson\u001b[0m\n",
       "\u001b[0;34m            and Spearman correlation.\u001b[0m\n",
       "\u001b[0;34m\u001b[0m\n",
       "\u001b[0;34m        Returns\u001b[0m\n",
       "\u001b[0;34m        -------\u001b[0m\n",
       "\u001b[0;34m        DataFrame\u001b[0m\n",
       "\u001b[0;34m            Correlation matrix.\u001b[0m\n",
       "\u001b[0;34m\u001b[0m\n",
       "\u001b[0;34m        See Also\u001b[0m\n",
       "\u001b[0;34m        --------\u001b[0m\n",
       "\u001b[0;34m        DataFrame.corrwith : Compute pairwise correlation with another\u001b[0m\n",
       "\u001b[0;34m            DataFrame or Series.\u001b[0m\n",
       "\u001b[0;34m        Series.corr : Compute the correlation between two Series.\u001b[0m\n",
       "\u001b[0;34m\u001b[0m\n",
       "\u001b[0;34m        Examples\u001b[0m\n",
       "\u001b[0;34m        --------\u001b[0m\n",
       "\u001b[0;34m        >>> def histogram_intersection(a, b):\u001b[0m\n",
       "\u001b[0;34m        ...     v = np.minimum(a, b).sum().round(decimals=1)\u001b[0m\n",
       "\u001b[0;34m        ...     return v\u001b[0m\n",
       "\u001b[0;34m        >>> df = pd.DataFrame([(.2, .3), (.0, .6), (.6, .0), (.2, .1)],\u001b[0m\n",
       "\u001b[0;34m        ...                   columns=['dogs', 'cats'])\u001b[0m\n",
       "\u001b[0;34m        >>> df.corr(method=histogram_intersection)\u001b[0m\n",
       "\u001b[0;34m              dogs  cats\u001b[0m\n",
       "\u001b[0;34m        dogs   1.0   0.3\u001b[0m\n",
       "\u001b[0;34m        cats   0.3   1.0\u001b[0m\n",
       "\u001b[0;34m        \"\"\"\u001b[0m\u001b[0;34m\u001b[0m\n",
       "\u001b[0;34m\u001b[0m        \u001b[0mnumeric_df\u001b[0m \u001b[0;34m=\u001b[0m \u001b[0mself\u001b[0m\u001b[0;34m.\u001b[0m\u001b[0m_get_numeric_data\u001b[0m\u001b[0;34m(\u001b[0m\u001b[0;34m)\u001b[0m\u001b[0;34m\u001b[0m\n",
       "\u001b[0;34m\u001b[0m        \u001b[0mcols\u001b[0m \u001b[0;34m=\u001b[0m \u001b[0mnumeric_df\u001b[0m\u001b[0;34m.\u001b[0m\u001b[0mcolumns\u001b[0m\u001b[0;34m\u001b[0m\n",
       "\u001b[0;34m\u001b[0m        \u001b[0midx\u001b[0m \u001b[0;34m=\u001b[0m \u001b[0mcols\u001b[0m\u001b[0;34m.\u001b[0m\u001b[0mcopy\u001b[0m\u001b[0;34m(\u001b[0m\u001b[0;34m)\u001b[0m\u001b[0;34m\u001b[0m\n",
       "\u001b[0;34m\u001b[0m        \u001b[0mmat\u001b[0m \u001b[0;34m=\u001b[0m \u001b[0mnumeric_df\u001b[0m\u001b[0;34m.\u001b[0m\u001b[0mto_numpy\u001b[0m\u001b[0;34m(\u001b[0m\u001b[0mdtype\u001b[0m\u001b[0;34m=\u001b[0m\u001b[0mfloat\u001b[0m\u001b[0;34m,\u001b[0m \u001b[0mna_value\u001b[0m\u001b[0;34m=\u001b[0m\u001b[0mnp\u001b[0m\u001b[0;34m.\u001b[0m\u001b[0mnan\u001b[0m\u001b[0;34m,\u001b[0m \u001b[0mcopy\u001b[0m\u001b[0;34m=\u001b[0m\u001b[0;32mFalse\u001b[0m\u001b[0;34m)\u001b[0m\u001b[0;34m\u001b[0m\n",
       "\u001b[0;34m\u001b[0m\u001b[0;34m\u001b[0m\n",
       "\u001b[0;34m\u001b[0m        \u001b[0;32mif\u001b[0m \u001b[0mmethod\u001b[0m \u001b[0;34m==\u001b[0m \u001b[0;34m\"pearson\"\u001b[0m\u001b[0;34m:\u001b[0m\u001b[0;34m\u001b[0m\n",
       "\u001b[0;34m\u001b[0m            \u001b[0mcorrel\u001b[0m \u001b[0;34m=\u001b[0m \u001b[0mlibalgos\u001b[0m\u001b[0;34m.\u001b[0m\u001b[0mnancorr\u001b[0m\u001b[0;34m(\u001b[0m\u001b[0mmat\u001b[0m\u001b[0;34m,\u001b[0m \u001b[0mminp\u001b[0m\u001b[0;34m=\u001b[0m\u001b[0mmin_periods\u001b[0m\u001b[0;34m)\u001b[0m\u001b[0;34m\u001b[0m\n",
       "\u001b[0;34m\u001b[0m        \u001b[0;32melif\u001b[0m \u001b[0mmethod\u001b[0m \u001b[0;34m==\u001b[0m \u001b[0;34m\"spearman\"\u001b[0m\u001b[0;34m:\u001b[0m\u001b[0;34m\u001b[0m\n",
       "\u001b[0;34m\u001b[0m            \u001b[0mcorrel\u001b[0m \u001b[0;34m=\u001b[0m \u001b[0mlibalgos\u001b[0m\u001b[0;34m.\u001b[0m\u001b[0mnancorr_spearman\u001b[0m\u001b[0;34m(\u001b[0m\u001b[0mmat\u001b[0m\u001b[0;34m,\u001b[0m \u001b[0mminp\u001b[0m\u001b[0;34m=\u001b[0m\u001b[0mmin_periods\u001b[0m\u001b[0;34m)\u001b[0m\u001b[0;34m\u001b[0m\n",
       "\u001b[0;34m\u001b[0m        \u001b[0;32melif\u001b[0m \u001b[0mmethod\u001b[0m \u001b[0;34m==\u001b[0m \u001b[0;34m\"kendall\"\u001b[0m \u001b[0;32mor\u001b[0m \u001b[0mcallable\u001b[0m\u001b[0;34m(\u001b[0m\u001b[0mmethod\u001b[0m\u001b[0;34m)\u001b[0m\u001b[0;34m:\u001b[0m\u001b[0;34m\u001b[0m\n",
       "\u001b[0;34m\u001b[0m            \u001b[0;32mif\u001b[0m \u001b[0mmin_periods\u001b[0m \u001b[0;32mis\u001b[0m \u001b[0;32mNone\u001b[0m\u001b[0;34m:\u001b[0m\u001b[0;34m\u001b[0m\n",
       "\u001b[0;34m\u001b[0m                \u001b[0mmin_periods\u001b[0m \u001b[0;34m=\u001b[0m \u001b[0;36m1\u001b[0m\u001b[0;34m\u001b[0m\n",
       "\u001b[0;34m\u001b[0m            \u001b[0mmat\u001b[0m \u001b[0;34m=\u001b[0m \u001b[0mmat\u001b[0m\u001b[0;34m.\u001b[0m\u001b[0mT\u001b[0m\u001b[0;34m\u001b[0m\n",
       "\u001b[0;34m\u001b[0m            \u001b[0mcorrf\u001b[0m \u001b[0;34m=\u001b[0m \u001b[0mnanops\u001b[0m\u001b[0;34m.\u001b[0m\u001b[0mget_corr_func\u001b[0m\u001b[0;34m(\u001b[0m\u001b[0mmethod\u001b[0m\u001b[0;34m)\u001b[0m\u001b[0;34m\u001b[0m\n",
       "\u001b[0;34m\u001b[0m            \u001b[0mK\u001b[0m \u001b[0;34m=\u001b[0m \u001b[0mlen\u001b[0m\u001b[0;34m(\u001b[0m\u001b[0mcols\u001b[0m\u001b[0;34m)\u001b[0m\u001b[0;34m\u001b[0m\n",
       "\u001b[0;34m\u001b[0m            \u001b[0mcorrel\u001b[0m \u001b[0;34m=\u001b[0m \u001b[0mnp\u001b[0m\u001b[0;34m.\u001b[0m\u001b[0mempty\u001b[0m\u001b[0;34m(\u001b[0m\u001b[0;34m(\u001b[0m\u001b[0mK\u001b[0m\u001b[0;34m,\u001b[0m \u001b[0mK\u001b[0m\u001b[0;34m)\u001b[0m\u001b[0;34m,\u001b[0m \u001b[0mdtype\u001b[0m\u001b[0;34m=\u001b[0m\u001b[0mfloat\u001b[0m\u001b[0;34m)\u001b[0m\u001b[0;34m\u001b[0m\n",
       "\u001b[0;34m\u001b[0m            \u001b[0mmask\u001b[0m \u001b[0;34m=\u001b[0m \u001b[0mnp\u001b[0m\u001b[0;34m.\u001b[0m\u001b[0misfinite\u001b[0m\u001b[0;34m(\u001b[0m\u001b[0mmat\u001b[0m\u001b[0;34m)\u001b[0m\u001b[0;34m\u001b[0m\n",
       "\u001b[0;34m\u001b[0m            \u001b[0;32mfor\u001b[0m \u001b[0mi\u001b[0m\u001b[0;34m,\u001b[0m \u001b[0mac\u001b[0m \u001b[0;32min\u001b[0m \u001b[0menumerate\u001b[0m\u001b[0;34m(\u001b[0m\u001b[0mmat\u001b[0m\u001b[0;34m)\u001b[0m\u001b[0;34m:\u001b[0m\u001b[0;34m\u001b[0m\n",
       "\u001b[0;34m\u001b[0m                \u001b[0;32mfor\u001b[0m \u001b[0mj\u001b[0m\u001b[0;34m,\u001b[0m \u001b[0mbc\u001b[0m \u001b[0;32min\u001b[0m \u001b[0menumerate\u001b[0m\u001b[0;34m(\u001b[0m\u001b[0mmat\u001b[0m\u001b[0;34m)\u001b[0m\u001b[0;34m:\u001b[0m\u001b[0;34m\u001b[0m\n",
       "\u001b[0;34m\u001b[0m                    \u001b[0;32mif\u001b[0m \u001b[0mi\u001b[0m \u001b[0;34m>\u001b[0m \u001b[0mj\u001b[0m\u001b[0;34m:\u001b[0m\u001b[0;34m\u001b[0m\n",
       "\u001b[0;34m\u001b[0m                        \u001b[0;32mcontinue\u001b[0m\u001b[0;34m\u001b[0m\n",
       "\u001b[0;34m\u001b[0m\u001b[0;34m\u001b[0m\n",
       "\u001b[0;34m\u001b[0m                    \u001b[0mvalid\u001b[0m \u001b[0;34m=\u001b[0m \u001b[0mmask\u001b[0m\u001b[0;34m[\u001b[0m\u001b[0mi\u001b[0m\u001b[0;34m]\u001b[0m \u001b[0;34m&\u001b[0m \u001b[0mmask\u001b[0m\u001b[0;34m[\u001b[0m\u001b[0mj\u001b[0m\u001b[0;34m]\u001b[0m\u001b[0;34m\u001b[0m\n",
       "\u001b[0;34m\u001b[0m                    \u001b[0;32mif\u001b[0m \u001b[0mvalid\u001b[0m\u001b[0;34m.\u001b[0m\u001b[0msum\u001b[0m\u001b[0;34m(\u001b[0m\u001b[0;34m)\u001b[0m \u001b[0;34m<\u001b[0m \u001b[0mmin_periods\u001b[0m\u001b[0;34m:\u001b[0m\u001b[0;34m\u001b[0m\n",
       "\u001b[0;34m\u001b[0m                        \u001b[0mc\u001b[0m \u001b[0;34m=\u001b[0m \u001b[0mnp\u001b[0m\u001b[0;34m.\u001b[0m\u001b[0mnan\u001b[0m\u001b[0;34m\u001b[0m\n",
       "\u001b[0;34m\u001b[0m                    \u001b[0;32melif\u001b[0m \u001b[0mi\u001b[0m \u001b[0;34m==\u001b[0m \u001b[0mj\u001b[0m\u001b[0;34m:\u001b[0m\u001b[0;34m\u001b[0m\n",
       "\u001b[0;34m\u001b[0m                        \u001b[0mc\u001b[0m \u001b[0;34m=\u001b[0m \u001b[0;36m1.0\u001b[0m\u001b[0;34m\u001b[0m\n",
       "\u001b[0;34m\u001b[0m                    \u001b[0;32melif\u001b[0m \u001b[0;32mnot\u001b[0m \u001b[0mvalid\u001b[0m\u001b[0;34m.\u001b[0m\u001b[0mall\u001b[0m\u001b[0;34m(\u001b[0m\u001b[0;34m)\u001b[0m\u001b[0;34m:\u001b[0m\u001b[0;34m\u001b[0m\n",
       "\u001b[0;34m\u001b[0m                        \u001b[0mc\u001b[0m \u001b[0;34m=\u001b[0m \u001b[0mcorrf\u001b[0m\u001b[0;34m(\u001b[0m\u001b[0mac\u001b[0m\u001b[0;34m[\u001b[0m\u001b[0mvalid\u001b[0m\u001b[0;34m]\u001b[0m\u001b[0;34m,\u001b[0m \u001b[0mbc\u001b[0m\u001b[0;34m[\u001b[0m\u001b[0mvalid\u001b[0m\u001b[0;34m]\u001b[0m\u001b[0;34m)\u001b[0m\u001b[0;34m\u001b[0m\n",
       "\u001b[0;34m\u001b[0m                    \u001b[0;32melse\u001b[0m\u001b[0;34m:\u001b[0m\u001b[0;34m\u001b[0m\n",
       "\u001b[0;34m\u001b[0m                        \u001b[0mc\u001b[0m \u001b[0;34m=\u001b[0m \u001b[0mcorrf\u001b[0m\u001b[0;34m(\u001b[0m\u001b[0mac\u001b[0m\u001b[0;34m,\u001b[0m \u001b[0mbc\u001b[0m\u001b[0;34m)\u001b[0m\u001b[0;34m\u001b[0m\n",
       "\u001b[0;34m\u001b[0m                    \u001b[0mcorrel\u001b[0m\u001b[0;34m[\u001b[0m\u001b[0mi\u001b[0m\u001b[0;34m,\u001b[0m \u001b[0mj\u001b[0m\u001b[0;34m]\u001b[0m \u001b[0;34m=\u001b[0m \u001b[0mc\u001b[0m\u001b[0;34m\u001b[0m\n",
       "\u001b[0;34m\u001b[0m                    \u001b[0mcorrel\u001b[0m\u001b[0;34m[\u001b[0m\u001b[0mj\u001b[0m\u001b[0;34m,\u001b[0m \u001b[0mi\u001b[0m\u001b[0;34m]\u001b[0m \u001b[0;34m=\u001b[0m \u001b[0mc\u001b[0m\u001b[0;34m\u001b[0m\n",
       "\u001b[0;34m\u001b[0m        \u001b[0;32melse\u001b[0m\u001b[0;34m:\u001b[0m\u001b[0;34m\u001b[0m\n",
       "\u001b[0;34m\u001b[0m            \u001b[0;32mraise\u001b[0m \u001b[0mValueError\u001b[0m\u001b[0;34m(\u001b[0m\u001b[0;34m\u001b[0m\n",
       "\u001b[0;34m\u001b[0m                \u001b[0;34m\"method must be either 'pearson', \"\u001b[0m\u001b[0;34m\u001b[0m\n",
       "\u001b[0;34m\u001b[0m                \u001b[0;34m\"'spearman', 'kendall', or a callable, \"\u001b[0m\u001b[0;34m\u001b[0m\n",
       "\u001b[0;34m\u001b[0m                \u001b[0;34mf\"'{method}' was supplied\"\u001b[0m\u001b[0;34m\u001b[0m\n",
       "\u001b[0;34m\u001b[0m            \u001b[0;34m)\u001b[0m\u001b[0;34m\u001b[0m\n",
       "\u001b[0;34m\u001b[0m\u001b[0;34m\u001b[0m\n",
       "\u001b[0;34m\u001b[0m        \u001b[0;32mreturn\u001b[0m \u001b[0mself\u001b[0m\u001b[0;34m.\u001b[0m\u001b[0m_constructor\u001b[0m\u001b[0;34m(\u001b[0m\u001b[0mcorrel\u001b[0m\u001b[0;34m,\u001b[0m \u001b[0mindex\u001b[0m\u001b[0;34m=\u001b[0m\u001b[0midx\u001b[0m\u001b[0;34m,\u001b[0m \u001b[0mcolumns\u001b[0m\u001b[0;34m=\u001b[0m\u001b[0mcols\u001b[0m\u001b[0;34m)\u001b[0m\u001b[0;34m\u001b[0m\u001b[0;34m\u001b[0m\u001b[0m\n",
       "\u001b[0;31mFile:\u001b[0m      ~/mambaforge/lib/python3.9/site-packages/pandas/core/frame.py\n",
       "\u001b[0;31mType:\u001b[0m      method\n"
      ]
     },
     "metadata": {},
     "output_type": "display_data"
    }
   ],
   "source": [
    "df.corr??"
   ]
  },
  {
   "cell_type": "code",
   "execution_count": 204,
   "id": "5d8f496b-2e98-4e40-8f49-241aec6f5cc1",
   "metadata": {
    "tags": []
   },
   "outputs": [
    {
     "data": {
      "text/html": [
       "<div>\n",
       "<style scoped>\n",
       "    .dataframe tbody tr th:only-of-type {\n",
       "        vertical-align: middle;\n",
       "    }\n",
       "\n",
       "    .dataframe tbody tr th {\n",
       "        vertical-align: top;\n",
       "    }\n",
       "\n",
       "    .dataframe thead th {\n",
       "        text-align: right;\n",
       "    }\n",
       "</style>\n",
       "<table border=\"1\" class=\"dataframe\">\n",
       "  <thead>\n",
       "    <tr style=\"text-align: right;\">\n",
       "      <th></th>\n",
       "      <th>barrels08</th>\n",
       "      <th>barrelsA08</th>\n",
       "      <th>charge120</th>\n",
       "      <th>charge240</th>\n",
       "      <th>city08U</th>\n",
       "      <th>cityA08</th>\n",
       "      <th>cityA08U</th>\n",
       "      <th>cityCD</th>\n",
       "      <th>cityE</th>\n",
       "      <th>cityUF</th>\n",
       "      <th>...</th>\n",
       "      <th>UCity</th>\n",
       "      <th>UCityA</th>\n",
       "      <th>UHighway</th>\n",
       "      <th>UHighwayA</th>\n",
       "      <th>year</th>\n",
       "      <th>youSaveSpend</th>\n",
       "      <th>charge240b</th>\n",
       "      <th>phevCity</th>\n",
       "      <th>phevHwy</th>\n",
       "      <th>phevComb</th>\n",
       "    </tr>\n",
       "  </thead>\n",
       "  <tbody>\n",
       "    <tr>\n",
       "      <th>barrels08</th>\n",
       "      <td>1.000000</td>\n",
       "      <td>0.052900</td>\n",
       "      <td>NaN</td>\n",
       "      <td>-0.340031</td>\n",
       "      <td>-0.509911</td>\n",
       "      <td>-0.152204</td>\n",
       "      <td>-0.166699</td>\n",
       "      <td>-0.023238</td>\n",
       "      <td>-0.319015</td>\n",
       "      <td>-0.180518</td>\n",
       "      <td>...</td>\n",
       "      <td>-0.693577</td>\n",
       "      <td>-0.158695</td>\n",
       "      <td>-0.822420</td>\n",
       "      <td>-0.028459</td>\n",
       "      <td>-0.294925</td>\n",
       "      <td>-0.962709</td>\n",
       "      <td>-0.176377</td>\n",
       "      <td>-0.178185</td>\n",
       "      <td>-0.181213</td>\n",
       "      <td>-0.179960</td>\n",
       "    </tr>\n",
       "    <tr>\n",
       "      <th>barrelsA08</th>\n",
       "      <td>0.052900</td>\n",
       "      <td>1.000000</td>\n",
       "      <td>NaN</td>\n",
       "      <td>0.054838</td>\n",
       "      <td>0.059897</td>\n",
       "      <td>0.501188</td>\n",
       "      <td>0.408003</td>\n",
       "      <td>0.143449</td>\n",
       "      <td>0.208909</td>\n",
       "      <td>0.245190</td>\n",
       "      <td>...</td>\n",
       "      <td>-0.048097</td>\n",
       "      <td>0.462475</td>\n",
       "      <td>-0.065496</td>\n",
       "      <td>0.719533</td>\n",
       "      <td>0.148198</td>\n",
       "      <td>-0.039483</td>\n",
       "      <td>-0.009625</td>\n",
       "      <td>0.212817</td>\n",
       "      <td>0.233040</td>\n",
       "      <td>0.221916</td>\n",
       "    </tr>\n",
       "    <tr>\n",
       "      <th>charge120</th>\n",
       "      <td>NaN</td>\n",
       "      <td>NaN</td>\n",
       "      <td>NaN</td>\n",
       "      <td>NaN</td>\n",
       "      <td>NaN</td>\n",
       "      <td>NaN</td>\n",
       "      <td>NaN</td>\n",
       "      <td>NaN</td>\n",
       "      <td>NaN</td>\n",
       "      <td>NaN</td>\n",
       "      <td>...</td>\n",
       "      <td>NaN</td>\n",
       "      <td>NaN</td>\n",
       "      <td>NaN</td>\n",
       "      <td>NaN</td>\n",
       "      <td>NaN</td>\n",
       "      <td>NaN</td>\n",
       "      <td>NaN</td>\n",
       "      <td>NaN</td>\n",
       "      <td>NaN</td>\n",
       "      <td>NaN</td>\n",
       "    </tr>\n",
       "    <tr>\n",
       "      <th>charge240</th>\n",
       "      <td>-0.340031</td>\n",
       "      <td>0.054838</td>\n",
       "      <td>NaN</td>\n",
       "      <td>1.000000</td>\n",
       "      <td>0.602055</td>\n",
       "      <td>0.231135</td>\n",
       "      <td>0.236722</td>\n",
       "      <td>0.040944</td>\n",
       "      <td>0.711829</td>\n",
       "      <td>0.274013</td>\n",
       "      <td>...</td>\n",
       "      <td>0.734287</td>\n",
       "      <td>0.235532</td>\n",
       "      <td>0.634229</td>\n",
       "      <td>0.086438</td>\n",
       "      <td>0.136345</td>\n",
       "      <td>0.282809</td>\n",
       "      <td>0.635996</td>\n",
       "      <td>0.251422</td>\n",
       "      <td>0.260144</td>\n",
       "      <td>0.255809</td>\n",
       "    </tr>\n",
       "    <tr>\n",
       "      <th>city08U</th>\n",
       "      <td>-0.509911</td>\n",
       "      <td>0.059897</td>\n",
       "      <td>NaN</td>\n",
       "      <td>0.602055</td>\n",
       "      <td>1.000000</td>\n",
       "      <td>0.142905</td>\n",
       "      <td>0.157420</td>\n",
       "      <td>0.014279</td>\n",
       "      <td>0.416792</td>\n",
       "      <td>0.125066</td>\n",
       "      <td>...</td>\n",
       "      <td>0.751321</td>\n",
       "      <td>0.143843</td>\n",
       "      <td>0.732176</td>\n",
       "      <td>0.080668</td>\n",
       "      <td>0.644423</td>\n",
       "      <td>0.442074</td>\n",
       "      <td>0.364267</td>\n",
       "      <td>0.132284</td>\n",
       "      <td>0.131904</td>\n",
       "      <td>0.132465</td>\n",
       "    </tr>\n",
       "  </tbody>\n",
       "</table>\n",
       "<p>5 rows × 59 columns</p>\n",
       "</div>"
      ],
      "text/plain": [
       "            barrels08  barrelsA08  charge120  charge240   city08U   cityA08  \\\n",
       "barrels08    1.000000    0.052900        NaN  -0.340031 -0.509911 -0.152204   \n",
       "barrelsA08   0.052900    1.000000        NaN   0.054838  0.059897  0.501188   \n",
       "charge120         NaN         NaN        NaN        NaN       NaN       NaN   \n",
       "charge240   -0.340031    0.054838        NaN   1.000000  0.602055  0.231135   \n",
       "city08U     -0.509911    0.059897        NaN   0.602055  1.000000  0.142905   \n",
       "\n",
       "            cityA08U    cityCD     cityE    cityUF  ...     UCity    UCityA  \\\n",
       "barrels08  -0.166699 -0.023238 -0.319015 -0.180518  ... -0.693577 -0.158695   \n",
       "barrelsA08  0.408003  0.143449  0.208909  0.245190  ... -0.048097  0.462475   \n",
       "charge120        NaN       NaN       NaN       NaN  ...       NaN       NaN   \n",
       "charge240   0.236722  0.040944  0.711829  0.274013  ...  0.734287  0.235532   \n",
       "city08U     0.157420  0.014279  0.416792  0.125066  ...  0.751321  0.143843   \n",
       "\n",
       "            UHighway  UHighwayA      year  youSaveSpend  charge240b  phevCity  \\\n",
       "barrels08  -0.822420  -0.028459 -0.294925     -0.962709   -0.176377 -0.178185   \n",
       "barrelsA08 -0.065496   0.719533  0.148198     -0.039483   -0.009625  0.212817   \n",
       "charge120        NaN        NaN       NaN           NaN         NaN       NaN   \n",
       "charge240   0.634229   0.086438  0.136345      0.282809    0.635996  0.251422   \n",
       "city08U     0.732176   0.080668  0.644423      0.442074    0.364267  0.132284   \n",
       "\n",
       "             phevHwy  phevComb  \n",
       "barrels08  -0.181213 -0.179960  \n",
       "barrelsA08  0.233040  0.221916  \n",
       "charge120        NaN       NaN  \n",
       "charge240   0.260144  0.255809  \n",
       "city08U     0.131904  0.132465  \n",
       "\n",
       "[5 rows x 59 columns]"
      ]
     },
     "execution_count": 204,
     "metadata": {},
     "output_type": "execute_result"
    }
   ],
   "source": [
    "df.corr().head()"
   ]
  },
  {
   "cell_type": "code",
   "execution_count": 205,
   "id": "99e7d9be-9ccd-4faf-89d3-b6cde6c6f73a",
   "metadata": {},
   "outputs": [
    {
     "data": {
      "text/plain": [
       "False"
      ]
     },
     "execution_count": 205,
     "metadata": {},
     "output_type": "execute_result"
    }
   ],
   "source": [
    "city_mpg.hasnans"
   ]
  },
  {
   "cell_type": "code",
   "execution_count": 206,
   "id": "02d6d723-fcce-4147-80d7-f8c5a9ea225b",
   "metadata": {},
   "outputs": [],
   "source": [
    "import numpy as np"
   ]
  },
  {
   "cell_type": "code",
   "execution_count": 207,
   "id": "05deffd4-3238-4876-8f25-3d87f6cac3fc",
   "metadata": {},
   "outputs": [],
   "source": [
    "def second_to_last(s):\n",
    "    return s.iloc[-2]"
   ]
  },
  {
   "cell_type": "code",
   "execution_count": 208,
   "id": "4b5f4ebc-883a-4675-941f-22e652901502",
   "metadata": {},
   "outputs": [
    {
     "data": {
      "text/plain": [
       "mean               18.910150\n",
       "var                91.747179\n",
       "amax              150.000000\n",
       "var                91.747179\n",
       "max               150.000000\n",
       "second_to_last     18.000000\n",
       "quantile           17.000000\n",
       "Name: city08, dtype: float64"
      ]
     },
     "execution_count": 208,
     "metadata": {},
     "output_type": "execute_result"
    }
   ],
   "source": [
    "city_mpg.agg(['mean', 'var', np.max, np.var, 'max', second_to_last, 'quantile'])"
   ]
  },
  {
   "cell_type": "code",
   "execution_count": 209,
   "id": "7f5a0b50-1080-401a-844a-4d71446992f6",
   "metadata": {},
   "outputs": [
    {
     "data": {
      "text/plain": [
       "True"
      ]
     },
     "execution_count": 209,
     "metadata": {},
     "output_type": "execute_result"
    }
   ],
   "source": [
    "city_mpg.all()"
   ]
  },
  {
   "cell_type": "code",
   "execution_count": 210,
   "id": "d56bba4d-5e24-433a-965f-06ff519c5068",
   "metadata": {},
   "outputs": [
    {
     "data": {
      "text/plain": [
       "150"
      ]
     },
     "execution_count": 210,
     "metadata": {},
     "output_type": "execute_result"
    }
   ],
   "source": [
    "city_mpg.max()"
   ]
  },
  {
   "cell_type": "code",
   "execution_count": 211,
   "id": "d9513e91-3f75-41e2-b507-cfef05413104",
   "metadata": {},
   "outputs": [
    {
     "data": {
      "text/plain": [
       "0.10    13.0\n",
       "0.25    15.0\n",
       "0.50    17.0\n",
       "0.75    21.0\n",
       "0.90    25.0\n",
       "Name: city08, dtype: float64"
      ]
     },
     "execution_count": 211,
     "metadata": {},
     "output_type": "execute_result"
    }
   ],
   "source": [
    "city_mpg.quantile([0.1, .25, .5, .75, .9])"
   ]
  },
  {
   "cell_type": "code",
   "execution_count": 212,
   "id": "7a09cc74-2a04-411e-91d1-250e67a25b87",
   "metadata": {},
   "outputs": [
    {
     "data": {
      "text/plain": [
       "9.578474748991372"
      ]
     },
     "execution_count": 212,
     "metadata": {},
     "output_type": "execute_result"
    }
   ],
   "source": [
    "city_mpg.std()"
   ]
  },
  {
   "cell_type": "code",
   "execution_count": 213,
   "id": "4604ba22-e24f-4df6-8760-d6c5566ef5d4",
   "metadata": {},
   "outputs": [
    {
     "data": {
      "text/plain": [
       "130"
      ]
     },
     "execution_count": 213,
     "metadata": {},
     "output_type": "execute_result"
    }
   ],
   "source": [
    "city_mpg.nunique()"
   ]
  },
  {
   "cell_type": "code",
   "execution_count": 214,
   "id": "07ae0344-d76f-48ae-b8de-265c943583b8",
   "metadata": {},
   "outputs": [
    {
     "data": {
      "text/plain": [
       "False"
      ]
     },
     "execution_count": 214,
     "metadata": {},
     "output_type": "execute_result"
    }
   ],
   "source": [
    "city_mpg.is_monotonic"
   ]
  },
  {
   "cell_type": "code",
   "execution_count": 215,
   "id": "d88d0ff4-10c8-4f5c-a4a5-8a5f24fcb42d",
   "metadata": {},
   "outputs": [
    {
     "data": {
      "text/plain": [
       "False"
      ]
     },
     "execution_count": 215,
     "metadata": {},
     "output_type": "execute_result"
    }
   ],
   "source": [
    "city_mpg.is_unique"
   ]
  },
  {
   "cell_type": "code",
   "execution_count": 216,
   "id": "d2ade893-8f55-4039-b70c-b9b4ce7761f6",
   "metadata": {},
   "outputs": [
    {
     "data": {
      "text/plain": [
       "count      44986.00000\n",
       "size       44986.00000\n",
       "nunique      130.00000\n",
       "mean          18.91015\n",
       "max          150.00000\n",
       "Name: city08, dtype: float64"
      ]
     },
     "execution_count": 216,
     "metadata": {},
     "output_type": "execute_result"
    }
   ],
   "source": [
    "city_mpg.agg(['count', 'size', 'nunique', 'mean', 'max'])"
   ]
  },
  {
   "cell_type": "markdown",
   "id": "911c0b72-c496-413a-9a01-7c00dd746353",
   "metadata": {},
   "source": [
    "## Chapter 8 - Conversion Methods"
   ]
  },
  {
   "cell_type": "code",
   "execution_count": 217,
   "id": "a51c7bd6-629e-4b90-8ab0-de559facbfe2",
   "metadata": {},
   "outputs": [
    {
     "data": {
      "text/plain": [
       "0        19\n",
       "1         9\n",
       "2        23\n",
       "3        10\n",
       "4        17\n",
       "         ..\n",
       "44981    19\n",
       "44982    20\n",
       "44983    18\n",
       "44984    18\n",
       "44985    16\n",
       "Name: city08, Length: 44986, dtype: Int64"
      ]
     },
     "execution_count": 217,
     "metadata": {},
     "output_type": "execute_result"
    }
   ],
   "source": [
    "city_mpg.convert_dtypes()"
   ]
  },
  {
   "cell_type": "code",
   "execution_count": 218,
   "id": "0495b28d-0659-4874-a74b-656946199d89",
   "metadata": {},
   "outputs": [
    {
     "data": {
      "text/plain": [
       "0        19\n",
       "1         9\n",
       "2        23\n",
       "3        10\n",
       "4        17\n",
       "         ..\n",
       "44981    19\n",
       "44982    20\n",
       "44983    18\n",
       "44984    18\n",
       "44985    16\n",
       "Name: city08, Length: 44986, dtype: int64"
      ]
     },
     "execution_count": 218,
     "metadata": {},
     "output_type": "execute_result"
    }
   ],
   "source": [
    "city_mpg"
   ]
  },
  {
   "cell_type": "code",
   "execution_count": 219,
   "id": "da3e9bdc-27f1-48f0-918e-04cffa6d9be6",
   "metadata": {},
   "outputs": [
    {
     "data": {
      "text/plain": [
       "0        19\n",
       "1         9\n",
       "2        23\n",
       "3        10\n",
       "4        17\n",
       "         ..\n",
       "44981    19\n",
       "44982    20\n",
       "44983    18\n",
       "44984    18\n",
       "44985    16\n",
       "Name: city08, Length: 44986, dtype: Int16"
      ]
     },
     "execution_count": 219,
     "metadata": {},
     "output_type": "execute_result"
    }
   ],
   "source": [
    "city_mpg.astype('Int16')"
   ]
  },
  {
   "cell_type": "markdown",
   "id": "24905066-c6d4-4021-abf5-6e3a72b7297a",
   "metadata": {},
   "source": [
    "Inspect limits on integer and float types with numpy"
   ]
  },
  {
   "cell_type": "code",
   "execution_count": 220,
   "id": "280bd2dd-1caa-4912-b93f-1f5a6228ee32",
   "metadata": {},
   "outputs": [
    {
     "data": {
      "text/plain": [
       "iinfo(min=-9223372036854775808, max=9223372036854775807, dtype=int64)"
      ]
     },
     "execution_count": 220,
     "metadata": {},
     "output_type": "execute_result"
    }
   ],
   "source": [
    "np.iinfo('int64')"
   ]
  },
  {
   "cell_type": "code",
   "execution_count": 221,
   "id": "fb11c390-137a-48f6-84ab-e1460eeb80a2",
   "metadata": {},
   "outputs": [
    {
     "data": {
      "text/plain": [
       "iinfo(min=0, max=255, dtype=uint8)"
      ]
     },
     "execution_count": 221,
     "metadata": {},
     "output_type": "execute_result"
    }
   ],
   "source": [
    "np.iinfo('uint8')"
   ]
  },
  {
   "cell_type": "code",
   "execution_count": 222,
   "id": "1719ef62-5f26-4a01-90bb-0dd8575d4139",
   "metadata": {},
   "outputs": [
    {
     "data": {
      "text/plain": [
       "finfo(resolution=0.001, min=-6.55040e+04, max=6.55040e+04, dtype=float16)"
      ]
     },
     "execution_count": 222,
     "metadata": {},
     "output_type": "execute_result"
    }
   ],
   "source": [
    "np.finfo('float16')"
   ]
  },
  {
   "cell_type": "code",
   "execution_count": 223,
   "id": "bbe3978d-2274-4f86-b2f1-51ad4c06a064",
   "metadata": {},
   "outputs": [
    {
     "data": {
      "text/plain": [
       "0        19.0\n",
       "1         9.0\n",
       "2        23.0\n",
       "3        10.0\n",
       "4        17.0\n",
       "         ... \n",
       "44981    19.0\n",
       "44982    20.0\n",
       "44983    18.0\n",
       "44984    18.0\n",
       "44985    16.0\n",
       "Name: city08, Length: 44986, dtype: float16"
      ]
     },
     "execution_count": 223,
     "metadata": {},
     "output_type": "execute_result"
    }
   ],
   "source": [
    "city_mpg.astype('float16')"
   ]
  },
  {
   "cell_type": "code",
   "execution_count": 224,
   "id": "6bd44947-f0a0-4ef0-8ce0-b7597a72fed8",
   "metadata": {},
   "outputs": [
    {
     "data": {
      "text/plain": [
       "finfo(resolution=1e-15, min=-1.7976931348623157e+308, max=1.7976931348623157e+308, dtype=float64)"
      ]
     },
     "execution_count": 224,
     "metadata": {},
     "output_type": "execute_result"
    }
   ],
   "source": [
    "np.finfo('float64')"
   ]
  },
  {
   "cell_type": "code",
   "execution_count": 225,
   "id": "8ff3ecea-9a1e-4f90-8441-33d7d581b865",
   "metadata": {},
   "outputs": [
    {
     "data": {
      "text/plain": [
       "360016"
      ]
     },
     "execution_count": 225,
     "metadata": {},
     "output_type": "execute_result"
    }
   ],
   "source": [
    "city_mpg.memory_usage()"
   ]
  },
  {
   "cell_type": "code",
   "execution_count": 226,
   "id": "ddfc38a9-bf13-48ec-b7bd-68f83def05f0",
   "metadata": {},
   "outputs": [
    {
     "data": {
      "text/plain": [
       "90100"
      ]
     },
     "execution_count": 226,
     "metadata": {},
     "output_type": "execute_result"
    }
   ],
   "source": [
    "city_mpg.astype('int16').memory_usage()"
   ]
  },
  {
   "cell_type": "code",
   "execution_count": 227,
   "id": "03cc2b5b-88ca-48df-ab5e-acef9dce21a7",
   "metadata": {},
   "outputs": [
    {
     "data": {
      "text/plain": [
       "359888"
      ]
     },
     "execution_count": 227,
     "metadata": {},
     "output_type": "execute_result"
    }
   ],
   "source": [
    "city_mpg.nbytes"
   ]
  },
  {
   "cell_type": "code",
   "execution_count": 228,
   "id": "4e6db7d0-0af9-41ff-9129-3dc6cb882c6c",
   "metadata": {},
   "outputs": [
    {
     "data": {
      "text/plain": [
       "89972"
      ]
     },
     "execution_count": 228,
     "metadata": {},
     "output_type": "execute_result"
    }
   ],
   "source": [
    "city_mpg.astype('int16').nbytes"
   ]
  },
  {
   "cell_type": "code",
   "execution_count": 229,
   "id": "f4c5657a-9f80-4244-85e4-f72d4fddf65d",
   "metadata": {},
   "outputs": [],
   "source": [
    "make = df.make"
   ]
  },
  {
   "cell_type": "code",
   "execution_count": 230,
   "id": "172d43c1-bc85-448a-b219-f117100fcbb4",
   "metadata": {},
   "outputs": [
    {
     "data": {
      "text/plain": [
       "pandas.core.series.Series"
      ]
     },
     "execution_count": 230,
     "metadata": {},
     "output_type": "execute_result"
    }
   ],
   "source": [
    "type(make)"
   ]
  },
  {
   "cell_type": "code",
   "execution_count": 231,
   "id": "0d5bc777-6bf7-4322-b4f4-5eafbb9c0e6e",
   "metadata": {},
   "outputs": [
    {
     "data": {
      "text/plain": [
       "360016"
      ]
     },
     "execution_count": 231,
     "metadata": {},
     "output_type": "execute_result"
    }
   ],
   "source": [
    "make.memory_usage()"
   ]
  },
  {
   "cell_type": "code",
   "execution_count": 232,
   "id": "4d569706-f926-43de-bc1c-9bac83c0273f",
   "metadata": {},
   "outputs": [
    {
     "data": {
      "text/plain": [
       "359888"
      ]
     },
     "execution_count": 232,
     "metadata": {},
     "output_type": "execute_result"
    }
   ],
   "source": [
    "make.nbytes"
   ]
  },
  {
   "cell_type": "code",
   "execution_count": 233,
   "id": "594427fb-dc07-404e-9462-15fe74d14646",
   "metadata": {},
   "outputs": [
    {
     "data": {
      "text/plain": [
       "2849754"
      ]
     },
     "execution_count": 233,
     "metadata": {},
     "output_type": "execute_result"
    }
   ],
   "source": [
    "make.memory_usage(deep=True)"
   ]
  },
  {
   "cell_type": "code",
   "execution_count": 234,
   "id": "db1e3362-9561-45ca-a3e9-78e62edf11e6",
   "metadata": {},
   "outputs": [
    {
     "data": {
      "text/plain": [
       "103884"
      ]
     },
     "execution_count": 234,
     "metadata": {},
     "output_type": "execute_result"
    }
   ],
   "source": [
    "(make\n",
    ".astype('category')\n",
    ".memory_usage(deep=True))"
   ]
  },
  {
   "cell_type": "code",
   "execution_count": 235,
   "id": "f7addcb2-e472-4886-9401-1787b3b32217",
   "metadata": {},
   "outputs": [
    {
     "data": {
      "text/plain": [
       "0        19\n",
       "1         9\n",
       "2        23\n",
       "3        10\n",
       "4        17\n",
       "         ..\n",
       "44981    19\n",
       "44982    20\n",
       "44983    18\n",
       "44984    18\n",
       "44985    16\n",
       "Name: city08, Length: 44986, dtype: object"
      ]
     },
     "execution_count": 235,
     "metadata": {},
     "output_type": "execute_result"
    }
   ],
   "source": [
    "city_mpg.astype(str)"
   ]
  },
  {
   "cell_type": "code",
   "execution_count": 236,
   "id": "72eca665-db88-402c-9ff2-2a71d4e93fc4",
   "metadata": {},
   "outputs": [
    {
     "data": {
      "text/plain": [
       "0        19\n",
       "1         9\n",
       "2        23\n",
       "3        10\n",
       "4        17\n",
       "         ..\n",
       "44981    19\n",
       "44982    20\n",
       "44983    18\n",
       "44984    18\n",
       "44985    16\n",
       "Name: city08, Length: 44986, dtype: category\n",
       "Categories (130, int64): [6, 7, 8, 9, ..., 141, 145, 148, 150]"
      ]
     },
     "execution_count": 236,
     "metadata": {},
     "output_type": "execute_result"
    }
   ],
   "source": [
    "city_mpg.astype('category')"
   ]
  },
  {
   "cell_type": "markdown",
   "id": "819ce628-2bf9-4a7a-9366-4b2df60ccde7",
   "metadata": {},
   "source": [
    "## 8.4 Ordered Categories"
   ]
  },
  {
   "cell_type": "code",
   "execution_count": 237,
   "id": "2508c903-111e-4013-81a7-67a55cd69f60",
   "metadata": {},
   "outputs": [],
   "source": [
    "values = pd.Series(sorted(set(city_mpg)))"
   ]
  },
  {
   "cell_type": "code",
   "execution_count": 238,
   "id": "00744a71-24ca-4f94-adc0-d4b02bb471f0",
   "metadata": {},
   "outputs": [],
   "source": [
    "city_type = pd.CategoricalDtype(categories=values,\n",
    "                               ordered=True)"
   ]
  },
  {
   "cell_type": "code",
   "execution_count": 239,
   "id": "8619e5b5-6e5a-46cb-b4c8-02a417705e3f",
   "metadata": {},
   "outputs": [
    {
     "data": {
      "text/plain": [
       "0        19\n",
       "1         9\n",
       "2        23\n",
       "3        10\n",
       "4        17\n",
       "         ..\n",
       "44981    19\n",
       "44982    20\n",
       "44983    18\n",
       "44984    18\n",
       "44985    16\n",
       "Name: city08, Length: 44986, dtype: category\n",
       "Categories (130, int64): [6 < 7 < 8 < 9 ... 141 < 145 < 148 < 150]"
      ]
     },
     "execution_count": 239,
     "metadata": {},
     "output_type": "execute_result"
    }
   ],
   "source": [
    "city_mpg.astype(city_type)"
   ]
  },
  {
   "cell_type": "code",
   "execution_count": 240,
   "id": "a5925508-a1c8-45b4-bcb7-58d763ceaf49",
   "metadata": {},
   "outputs": [
    {
     "data": {
      "text/html": [
       "<div>\n",
       "<style scoped>\n",
       "    .dataframe tbody tr th:only-of-type {\n",
       "        vertical-align: middle;\n",
       "    }\n",
       "\n",
       "    .dataframe tbody tr th {\n",
       "        vertical-align: top;\n",
       "    }\n",
       "\n",
       "    .dataframe thead th {\n",
       "        text-align: right;\n",
       "    }\n",
       "</style>\n",
       "<table border=\"1\" class=\"dataframe\">\n",
       "  <thead>\n",
       "    <tr style=\"text-align: right;\">\n",
       "      <th></th>\n",
       "      <th>city08</th>\n",
       "    </tr>\n",
       "  </thead>\n",
       "  <tbody>\n",
       "    <tr>\n",
       "      <th>0</th>\n",
       "      <td>19</td>\n",
       "    </tr>\n",
       "    <tr>\n",
       "      <th>1</th>\n",
       "      <td>9</td>\n",
       "    </tr>\n",
       "    <tr>\n",
       "      <th>2</th>\n",
       "      <td>23</td>\n",
       "    </tr>\n",
       "    <tr>\n",
       "      <th>3</th>\n",
       "      <td>10</td>\n",
       "    </tr>\n",
       "    <tr>\n",
       "      <th>4</th>\n",
       "      <td>17</td>\n",
       "    </tr>\n",
       "    <tr>\n",
       "      <th>...</th>\n",
       "      <td>...</td>\n",
       "    </tr>\n",
       "    <tr>\n",
       "      <th>44981</th>\n",
       "      <td>19</td>\n",
       "    </tr>\n",
       "    <tr>\n",
       "      <th>44982</th>\n",
       "      <td>20</td>\n",
       "    </tr>\n",
       "    <tr>\n",
       "      <th>44983</th>\n",
       "      <td>18</td>\n",
       "    </tr>\n",
       "    <tr>\n",
       "      <th>44984</th>\n",
       "      <td>18</td>\n",
       "    </tr>\n",
       "    <tr>\n",
       "      <th>44985</th>\n",
       "      <td>16</td>\n",
       "    </tr>\n",
       "  </tbody>\n",
       "</table>\n",
       "<p>44986 rows × 1 columns</p>\n",
       "</div>"
      ],
      "text/plain": [
       "       city08\n",
       "0          19\n",
       "1           9\n",
       "2          23\n",
       "3          10\n",
       "4          17\n",
       "...       ...\n",
       "44981      19\n",
       "44982      20\n",
       "44983      18\n",
       "44984      18\n",
       "44985      16\n",
       "\n",
       "[44986 rows x 1 columns]"
      ]
     },
     "execution_count": 240,
     "metadata": {},
     "output_type": "execute_result"
    }
   ],
   "source": [
    "city_mpg.to_frame()"
   ]
  },
  {
   "cell_type": "code",
   "execution_count": 241,
   "id": "0610f1cd-6bbc-48b6-9a9e-0e002b45b121",
   "metadata": {},
   "outputs": [
    {
     "data": {
      "text/plain": [
       "95308"
      ]
     },
     "execution_count": 241,
     "metadata": {},
     "output_type": "execute_result"
    }
   ],
   "source": [
    "city_mpg.astype(city_type).memory_usage(deep=True)"
   ]
  },
  {
   "cell_type": "code",
   "execution_count": 242,
   "id": "332984cb-c65e-4a4f-af2b-db75ff603452",
   "metadata": {},
   "outputs": [
    {
     "data": {
      "text/plain": [
       "360016"
      ]
     },
     "execution_count": 242,
     "metadata": {},
     "output_type": "execute_result"
    }
   ],
   "source": [
    "city_mpg.memory_usage(deep=True)"
   ]
  },
  {
   "cell_type": "markdown",
   "id": "f5de14be-2ecb-4b6c-82c4-51c3d2d00891",
   "metadata": {},
   "source": [
    "## Chapter 9 - Manipulation Methods"
   ]
  },
  {
   "cell_type": "markdown",
   "id": "0997ae8d-7097-4cc4-8197-dcff7689c8fc",
   "metadata": {},
   "source": [
    "### 9.1 .apply and .where"
   ]
  },
  {
   "cell_type": "code",
   "execution_count": 243,
   "id": "c846513b-6067-4377-a269-0da820a50a92",
   "metadata": {},
   "outputs": [],
   "source": [
    "def gt20(val):\n",
    "    return val > 20"
   ]
  },
  {
   "cell_type": "code",
   "execution_count": 244,
   "id": "7ddee0d6-9d92-4bd0-9915-dce045810a0f",
   "metadata": {},
   "outputs": [
    {
     "name": "stdout",
     "output_type": "stream",
     "text": [
      "4.25 ms ± 30.8 µs per loop (mean ± std. dev. of 7 runs, 100 loops each)\n"
     ]
    }
   ],
   "source": [
    "%%timeit\n",
    "city_mpg.apply(gt20)"
   ]
  },
  {
   "cell_type": "code",
   "execution_count": 245,
   "id": "27991429-c4ae-4fd8-9453-92039b8e1077",
   "metadata": {},
   "outputs": [
    {
     "name": "stdout",
     "output_type": "stream",
     "text": [
      "43.7 µs ± 106 ns per loop (mean ± std. dev. of 7 runs, 10,000 loops each)\n"
     ]
    }
   ],
   "source": [
    "%%timeit\n",
    "city_mpg.gt(20)"
   ]
  },
  {
   "cell_type": "code",
   "execution_count": 246,
   "id": "7b32d0cd-415e-43f8-88d1-6f945e988570",
   "metadata": {},
   "outputs": [
    {
     "data": {
      "text/plain": [
       "0        Alfa Romeo\n",
       "1           Ferrari\n",
       "2             Dodge\n",
       "3             Dodge\n",
       "4            Subaru\n",
       "            ...    \n",
       "44981        Subaru\n",
       "44982        Subaru\n",
       "44983        Subaru\n",
       "44984        Subaru\n",
       "44985        Subaru\n",
       "Name: make, Length: 44986, dtype: object"
      ]
     },
     "execution_count": 246,
     "metadata": {},
     "output_type": "execute_result"
    }
   ],
   "source": [
    "make"
   ]
  },
  {
   "cell_type": "code",
   "execution_count": 247,
   "id": "c0540ad1-b254-4d38-87c1-b1615c05457a",
   "metadata": {},
   "outputs": [
    {
     "data": {
      "text/plain": [
       "Chevrolet           4287\n",
       "Ford                3644\n",
       "GMC                 2686\n",
       "Dodge               2655\n",
       "Toyota              2260\n",
       "                    ... \n",
       "London Taxi            1\n",
       "Excalibur Autos        1\n",
       "ASC Incorporated       1\n",
       "Mahindra               1\n",
       "Qvale                  1\n",
       "Name: make, Length: 141, dtype: int64"
      ]
     },
     "execution_count": 247,
     "metadata": {},
     "output_type": "execute_result"
    }
   ],
   "source": [
    "make.value_counts()"
   ]
  },
  {
   "cell_type": "code",
   "execution_count": 248,
   "id": "1bdc2072-5df8-4328-a4fb-46470ce79f37",
   "metadata": {},
   "outputs": [],
   "source": [
    "top5 = make.value_counts().index[:5]"
   ]
  },
  {
   "cell_type": "code",
   "execution_count": 249,
   "id": "606d86f1-4e07-4139-8182-81e6e670ff8e",
   "metadata": {},
   "outputs": [
    {
     "data": {
      "text/plain": [
       "Index(['Chevrolet', 'Ford', 'GMC', 'Dodge', 'Toyota'], dtype='object')"
      ]
     },
     "execution_count": 249,
     "metadata": {},
     "output_type": "execute_result"
    }
   ],
   "source": [
    "top5"
   ]
  },
  {
   "cell_type": "code",
   "execution_count": 250,
   "id": "840c47ab-5021-45c7-9870-1cca78897da8",
   "metadata": {},
   "outputs": [],
   "source": [
    "def generalise_top5(val):\n",
    "    if val in top5:\n",
    "        return val\n",
    "    return 'Other'"
   ]
  },
  {
   "cell_type": "code",
   "execution_count": 251,
   "id": "392e9000-0743-4dd4-a6bf-c1d236be1e51",
   "metadata": {},
   "outputs": [
    {
     "name": "stdout",
     "output_type": "stream",
     "text": [
      "10.8 ms ± 32.1 µs per loop (mean ± std. dev. of 7 runs, 100 loops each)\n"
     ]
    }
   ],
   "source": [
    "%%timeit \n",
    "make.apply(generalise_top5)"
   ]
  },
  {
   "cell_type": "code",
   "execution_count": 252,
   "id": "0c6cc714-e5c6-4c19-b123-0b4c34c6397d",
   "metadata": {},
   "outputs": [
    {
     "data": {
      "text/plain": [
       "0        Alfa Romeo\n",
       "1           Ferrari\n",
       "2             Dodge\n",
       "3             Dodge\n",
       "4            Subaru\n",
       "            ...    \n",
       "44981        Subaru\n",
       "44982        Subaru\n",
       "44983        Subaru\n",
       "44984        Subaru\n",
       "44985        Subaru\n",
       "Name: make, Length: 44986, dtype: object"
      ]
     },
     "execution_count": 252,
     "metadata": {},
     "output_type": "execute_result"
    }
   ],
   "source": [
    "make"
   ]
  },
  {
   "cell_type": "code",
   "execution_count": 253,
   "id": "f6cedc59-7edb-4383-a777-50816b2f2ea6",
   "metadata": {},
   "outputs": [
    {
     "data": {
      "text/plain": [
       "Index(['Chevrolet', 'Ford', 'GMC', 'Dodge', 'Toyota'], dtype='object')"
      ]
     },
     "execution_count": 253,
     "metadata": {},
     "output_type": "execute_result"
    }
   ],
   "source": [
    "top5"
   ]
  },
  {
   "cell_type": "code",
   "execution_count": 254,
   "id": "8e426f60-75a3-48a0-a44f-6e70711ba6dd",
   "metadata": {},
   "outputs": [
    {
     "name": "stdout",
     "output_type": "stream",
     "text": [
      "1.66 ms ± 11.3 µs per loop (mean ± std. dev. of 7 runs, 1,000 loops each)\n"
     ]
    }
   ],
   "source": [
    "%%timeit\n",
    "make.where(make.isin(top5), other = 'Other')"
   ]
  },
  {
   "cell_type": "code",
   "execution_count": 255,
   "id": "c36699c4-9239-4ab0-b803-f6a1e1648268",
   "metadata": {},
   "outputs": [
    {
     "data": {
      "text/plain": [
       "6.352941176470589"
      ]
     },
     "execution_count": 255,
     "metadata": {},
     "output_type": "execute_result"
    }
   ],
   "source": [
    "10.8/1.7"
   ]
  },
  {
   "cell_type": "code",
   "execution_count": 256,
   "id": "ac640fd0-7df5-4b75-884f-6124add50569",
   "metadata": {},
   "outputs": [
    {
     "data": {
      "text/plain": [
       "0        Other\n",
       "1        Other\n",
       "2        Dodge\n",
       "3        Dodge\n",
       "4        Other\n",
       "         ...  \n",
       "44981    Other\n",
       "44982    Other\n",
       "44983    Other\n",
       "44984    Other\n",
       "44985    Other\n",
       "Name: make, Length: 44986, dtype: object"
      ]
     },
     "execution_count": 256,
     "metadata": {},
     "output_type": "execute_result"
    }
   ],
   "source": [
    "make.where(make.isin(top5), other = 'Other')"
   ]
  },
  {
   "cell_type": "markdown",
   "id": "bfcea166-c752-400c-842a-a44bbd7037e7",
   "metadata": {},
   "source": [
    "## 9.2 If Else with Pandas"
   ]
  },
  {
   "cell_type": "code",
   "execution_count": 257,
   "id": "c095817d-117e-442b-9b2a-a527c689d213",
   "metadata": {},
   "outputs": [],
   "source": [
    "vc = make.value_counts()"
   ]
  },
  {
   "cell_type": "code",
   "execution_count": 258,
   "id": "68debafd-14f7-4a3e-ada0-7109998f9889",
   "metadata": {},
   "outputs": [],
   "source": [
    "top5 = vc.index[:5]"
   ]
  },
  {
   "cell_type": "code",
   "execution_count": 259,
   "id": "1ceab053-9780-4e9d-b1d1-507ed21de30b",
   "metadata": {},
   "outputs": [
    {
     "data": {
      "text/plain": [
       "Index(['Chevrolet', 'Ford', 'GMC', 'Dodge', 'Toyota'], dtype='object')"
      ]
     },
     "execution_count": 259,
     "metadata": {},
     "output_type": "execute_result"
    }
   ],
   "source": [
    "top5"
   ]
  },
  {
   "cell_type": "code",
   "execution_count": 260,
   "id": "6e135e8b-1fb6-486f-92e8-e14ce4038baa",
   "metadata": {},
   "outputs": [],
   "source": [
    "top10 = vc.index[:10]"
   ]
  },
  {
   "cell_type": "code",
   "execution_count": 261,
   "id": "11bf0e80-81ea-4a09-a65d-3e88beb577f1",
   "metadata": {
    "tags": []
   },
   "outputs": [
    {
     "data": {
      "text/plain": [
       "Index(['Chevrolet', 'Ford', 'GMC', 'Dodge', 'Toyota', 'BMW', 'Mercedes-Benz',\n",
       "       'Nissan', 'Porsche', 'Volkswagen'],\n",
       "      dtype='object')"
      ]
     },
     "execution_count": 261,
     "metadata": {},
     "output_type": "execute_result"
    }
   ],
   "source": [
    "top10"
   ]
  },
  {
   "cell_type": "code",
   "execution_count": 262,
   "id": "66fbdccc-bc70-429f-a4f4-f99f901628a1",
   "metadata": {},
   "outputs": [],
   "source": [
    "top20 = vc.index[:20]"
   ]
  },
  {
   "cell_type": "code",
   "execution_count": 263,
   "id": "b52dff8f-fbc9-4976-8aca-a820c2381cba",
   "metadata": {},
   "outputs": [
    {
     "data": {
      "text/plain": [
       "Index(['Chevrolet', 'Ford', 'GMC', 'Dodge', 'Toyota', 'BMW', 'Mercedes-Benz',\n",
       "       'Nissan', 'Porsche', 'Volkswagen', 'Audi', 'Honda', 'Mitsubishi',\n",
       "       'Mazda', 'Jeep', 'Subaru', 'Hyundai', 'Pontiac', 'Volvo', 'Chrysler'],\n",
       "      dtype='object')"
      ]
     },
     "execution_count": 263,
     "metadata": {},
     "output_type": "execute_result"
    }
   ],
   "source": [
    "top20"
   ]
  },
  {
   "cell_type": "code",
   "execution_count": 264,
   "id": "81c7ae2a-c69c-494b-aaab-89b0c36a70b7",
   "metadata": {},
   "outputs": [],
   "source": [
    "top30 = vc.index[:30]"
   ]
  },
  {
   "cell_type": "code",
   "execution_count": 265,
   "id": "62c2ca35-a956-4058-9a9f-ac1bd6af356e",
   "metadata": {},
   "outputs": [
    {
     "data": {
      "text/plain": [
       "Index(['Chevrolet', 'Ford', 'GMC', 'Dodge', 'Toyota', 'BMW', 'Mercedes-Benz',\n",
       "       'Nissan', 'Porsche', 'Volkswagen', 'Audi', 'Honda', 'Mitsubishi',\n",
       "       'Mazda', 'Jeep', 'Subaru', 'Hyundai', 'Pontiac', 'Volvo', 'Chrysler',\n",
       "       'Kia', 'Buick', 'Cadillac', 'Mercury', 'Lexus', 'Plymouth', 'Suzuki',\n",
       "       'Jaguar', 'MINI', 'Oldsmobile'],\n",
       "      dtype='object')"
      ]
     },
     "execution_count": 265,
     "metadata": {},
     "output_type": "execute_result"
    }
   ],
   "source": [
    "top30"
   ]
  },
  {
   "cell_type": "code",
   "execution_count": 266,
   "id": "cd507615-4caa-4404-8a86-5049de4166cd",
   "metadata": {},
   "outputs": [],
   "source": [
    "make2 = (make\n",
    ".where(make.isin(top5), other = 'Top10')\n",
    ".where(make.isin(top10), other = \"Top20\")\n",
    ".where(make.isin(top20), other = \"Top30\")\n",
    ".where(make.isin(top30), other = \"Other\"))"
   ]
  },
  {
   "cell_type": "code",
   "execution_count": 267,
   "id": "1338216d-3a1b-4d87-b50e-4655357cb827",
   "metadata": {},
   "outputs": [
    {
     "data": {
      "text/plain": [
       "Top20        9881\n",
       "Top10        8113\n",
       "Top30        5855\n",
       "Other        5605\n",
       "Chevrolet    4287\n",
       "Ford         3644\n",
       "GMC          2686\n",
       "Dodge        2655\n",
       "Toyota       2260\n",
       "Name: make, dtype: int64"
      ]
     },
     "execution_count": 267,
     "metadata": {},
     "output_type": "execute_result"
    }
   ],
   "source": [
    "make2.value_counts()"
   ]
  },
  {
   "cell_type": "markdown",
   "id": "276a4321-bc12-4b59-8440-f6b12e4a4102",
   "metadata": {},
   "source": [
    "Alternate method using numpy select:"
   ]
  },
  {
   "cell_type": "code",
   "execution_count": 268,
   "id": "69883fca-e01e-4386-adf4-07430650db16",
   "metadata": {},
   "outputs": [],
   "source": [
    "import numpy as np"
   ]
  },
  {
   "cell_type": "code",
   "execution_count": 269,
   "id": "4ab5484d-56ef-42c7-b2f8-c134af3394cf",
   "metadata": {},
   "outputs": [
    {
     "data": {
      "text/plain": [
       "array(['Other', 'Other', 'Dodge', ..., 'Top20', 'Top20', 'Top20'],\n",
       "      dtype=object)"
      ]
     },
     "execution_count": 269,
     "metadata": {},
     "output_type": "execute_result"
    }
   ],
   "source": [
    "np.select([make.isin(top5), make.isin(top10), make.isin(top20), make.isin(top30)], \n",
    "         [make, 'Top10', 'Top20', 'Top30'], 'Other')"
   ]
  },
  {
   "cell_type": "code",
   "execution_count": 270,
   "id": "cb105c6b-635a-41a5-8156-167246a4cc72",
   "metadata": {},
   "outputs": [
    {
     "data": {
      "text/plain": [
       "0        Other\n",
       "1        Other\n",
       "2        Dodge\n",
       "3        Dodge\n",
       "4        Other\n",
       "         ...  \n",
       "44981    Other\n",
       "44982    Other\n",
       "44983    Other\n",
       "44984    Other\n",
       "44985    Other\n",
       "Length: 44986, dtype: object"
      ]
     },
     "execution_count": 270,
     "metadata": {},
     "output_type": "execute_result"
    }
   ],
   "source": [
    "pd.Series(np.select([make.isin(top5), make.isin(top10)], \n",
    "         [make, 'Top10'], 'Other'), index=make.index)"
   ]
  },
  {
   "cell_type": "markdown",
   "id": "17457fa9-35a0-42b7-9a9c-d477c0be81e0",
   "metadata": {},
   "source": [
    "## 9.3 Missing Data"
   ]
  },
  {
   "cell_type": "code",
   "execution_count": 271,
   "id": "c255c791-229b-46f5-b710-f0c919b59ac8",
   "metadata": {},
   "outputs": [],
   "source": [
    "cyl = df.cylinders"
   ]
  },
  {
   "cell_type": "code",
   "execution_count": 272,
   "id": "62775958-b36d-4597-89b9-42e9b3ab7967",
   "metadata": {},
   "outputs": [
    {
     "data": {
      "text/plain": [
       "384"
      ]
     },
     "execution_count": 272,
     "metadata": {},
     "output_type": "execute_result"
    }
   ],
   "source": [
    "(cyl\n",
    ".isna()\n",
    ".sum())"
   ]
  },
  {
   "cell_type": "markdown",
   "id": "732ef9ec-a585-453c-b54f-2652744b23d4",
   "metadata": {},
   "source": [
    "Create an index where the values are missing and show what those makes are."
   ]
  },
  {
   "cell_type": "code",
   "execution_count": 273,
   "id": "19c3a8e3-d8cc-49ff-a315-698ed8ddd9dc",
   "metadata": {},
   "outputs": [],
   "source": [
    "missing = cyl.isna()"
   ]
  },
  {
   "cell_type": "markdown",
   "id": "bc55e556-94af-4c02-bb9b-72337091d5c9",
   "metadata": {},
   "source": [
    "Indexing off of the .loc attribute with a boolean."
   ]
  },
  {
   "cell_type": "code",
   "execution_count": 274,
   "id": "be0ba49b-edac-4e68-9e6b-4f2e529c0bd6",
   "metadata": {
    "tags": []
   },
   "outputs": [
    {
     "data": {
      "text/plain": [
       "7138         Nissan\n",
       "7139         Toyota\n",
       "8143         Toyota\n",
       "8144           Ford\n",
       "8146           Ford\n",
       "            ...    \n",
       "38818           BMW\n",
       "38819       Genesis\n",
       "38820       Genesis\n",
       "38822          MINI\n",
       "38914    Volkswagen\n",
       "Name: make, Length: 384, dtype: object"
      ]
     },
     "execution_count": 274,
     "metadata": {},
     "output_type": "execute_result"
    }
   ],
   "source": [
    "make.loc[missing]"
   ]
  },
  {
   "cell_type": "markdown",
   "id": "99b8001f-7c17-4905-9540-7dcef0e0fc62",
   "metadata": {},
   "source": [
    "## 9.4 Filling in Missing Data"
   ]
  },
  {
   "cell_type": "code",
   "execution_count": 275,
   "id": "6bbd99d1-322b-4ee8-a6d9-4e28e05e7aed",
   "metadata": {},
   "outputs": [
    {
     "data": {
      "text/plain": [
       "7138    NaN\n",
       "7139    NaN\n",
       "8143    NaN\n",
       "8144    NaN\n",
       "8146    NaN\n",
       "         ..\n",
       "38818   NaN\n",
       "38819   NaN\n",
       "38820   NaN\n",
       "38822   NaN\n",
       "38914   NaN\n",
       "Name: cylinders, Length: 384, dtype: float64"
      ]
     },
     "execution_count": 275,
     "metadata": {},
     "output_type": "execute_result"
    }
   ],
   "source": [
    "cyl[cyl.isna()]"
   ]
  },
  {
   "cell_type": "code",
   "execution_count": 276,
   "id": "c8e20d1a-87ba-458c-9a1f-7befaf929558",
   "metadata": {},
   "outputs": [
    {
     "data": {
      "text/plain": [
       "7136    6.0\n",
       "7137    6.0\n",
       "7138    NaN\n",
       "7139    NaN\n",
       "7140    6.0\n",
       "7141    6.0\n",
       "Name: cylinders, dtype: float64"
      ]
     },
     "execution_count": 276,
     "metadata": {},
     "output_type": "execute_result"
    }
   ],
   "source": [
    "cyl.loc[7136:7141]"
   ]
  },
  {
   "cell_type": "code",
   "execution_count": 277,
   "id": "c9ded793-d96f-47c5-930b-95f51f12e400",
   "metadata": {
    "tags": []
   },
   "outputs": [
    {
     "data": {
      "text/plain": [
       "7136    6.0\n",
       "7137    6.0\n",
       "7138    0.0\n",
       "7139    0.0\n",
       "7140    6.0\n",
       "7141    6.0\n",
       "Name: cylinders, dtype: float64"
      ]
     },
     "execution_count": 277,
     "metadata": {},
     "output_type": "execute_result"
    }
   ],
   "source": [
    "cyl.fillna(0).loc[7136:7141]"
   ]
  },
  {
   "cell_type": "code",
   "execution_count": 278,
   "id": "195775ca-3100-4d58-827f-7cac2731332c",
   "metadata": {},
   "outputs": [
    {
     "data": {
      "text/plain": [
       "7136    6.0\n",
       "7137    6.0\n",
       "7138    6.0\n",
       "7139    6.0\n",
       "7140    6.0\n",
       "7141    6.0\n",
       "Name: cylinders, dtype: float64"
      ]
     },
     "execution_count": 278,
     "metadata": {},
     "output_type": "execute_result"
    }
   ],
   "source": [
    "cyl.interpolate().loc[7136:7141]"
   ]
  },
  {
   "cell_type": "code",
   "execution_count": 279,
   "id": "2cd8867c-2052-49ca-82de-1ee6b0050589",
   "metadata": {},
   "outputs": [
    {
     "data": {
      "text/plain": [
       "7136    6.0\n",
       "7137    6.0\n",
       "7140    6.0\n",
       "7141    6.0\n",
       "Name: cylinders, dtype: float64"
      ]
     },
     "execution_count": 279,
     "metadata": {},
     "output_type": "execute_result"
    }
   ],
   "source": [
    "cyl.dropna().loc[7136:7141]"
   ]
  },
  {
   "cell_type": "code",
   "execution_count": 280,
   "id": "45764eb8-b730-4b44-82e5-a399d069034a",
   "metadata": {},
   "outputs": [
    {
     "data": {
      "text/plain": [
       "7136    6.0\n",
       "7137    6.0\n",
       "7138    6.0\n",
       "7139    6.0\n",
       "7140    6.0\n",
       "7141    6.0\n",
       "Name: cylinders, dtype: float64"
      ]
     },
     "execution_count": 280,
     "metadata": {},
     "output_type": "execute_result"
    }
   ],
   "source": [
    "cyl.ffill().loc[7136:7141]"
   ]
  },
  {
   "cell_type": "code",
   "execution_count": 281,
   "id": "673ef606-50cd-4be4-b644-e247552683d5",
   "metadata": {},
   "outputs": [
    {
     "data": {
      "text/plain": [
       "7136    6.0\n",
       "7137    6.0\n",
       "7138    6.0\n",
       "7139    6.0\n",
       "7140    6.0\n",
       "7141    6.0\n",
       "Name: cylinders, dtype: float64"
      ]
     },
     "execution_count": 281,
     "metadata": {},
     "output_type": "execute_result"
    }
   ],
   "source": [
    "cyl.bfill().loc[7136:7141]"
   ]
  },
  {
   "cell_type": "code",
   "execution_count": 282,
   "id": "eec261a5-9e29-4686-af2d-7e9f6d151e5f",
   "metadata": {},
   "outputs": [
    {
     "data": {
      "text/plain": [
       "7136    6.000000\n",
       "7137    6.000000\n",
       "7138    5.708264\n",
       "7139    5.708264\n",
       "7140    6.000000\n",
       "7141    6.000000\n",
       "Name: cylinders, dtype: float64"
      ]
     },
     "execution_count": 282,
     "metadata": {},
     "output_type": "execute_result"
    }
   ],
   "source": [
    "cyl.fillna(cyl.mean()).loc[7136:7141]"
   ]
  },
  {
   "cell_type": "markdown",
   "id": "b6c80a96-f38a-4893-94f2-11f12cb29b50",
   "metadata": {},
   "source": [
    "## 9.5 Interpolating Data"
   ]
  },
  {
   "cell_type": "code",
   "execution_count": 283,
   "id": "b85a3162-81ce-4914-9a2c-53116d2848a4",
   "metadata": {},
   "outputs": [],
   "source": [
    "temp = pd.Series([38, 39, None, 41, 42])"
   ]
  },
  {
   "cell_type": "code",
   "execution_count": 284,
   "id": "a1b8b49c-205d-4fe2-8fc5-f5b77e9d0acb",
   "metadata": {},
   "outputs": [
    {
     "data": {
      "text/plain": [
       "0    38.0\n",
       "1    39.0\n",
       "2     NaN\n",
       "3    41.0\n",
       "4    42.0\n",
       "dtype: float64"
      ]
     },
     "execution_count": 284,
     "metadata": {},
     "output_type": "execute_result"
    }
   ],
   "source": [
    "temp"
   ]
  },
  {
   "cell_type": "code",
   "execution_count": 285,
   "id": "45debef5-f530-4d5e-954a-747ccea82c3b",
   "metadata": {},
   "outputs": [
    {
     "data": {
      "text/plain": [
       "0    38.0\n",
       "1    39.0\n",
       "2    40.0\n",
       "3    41.0\n",
       "4    42.0\n",
       "dtype: float64"
      ]
     },
     "execution_count": 285,
     "metadata": {},
     "output_type": "execute_result"
    }
   ],
   "source": [
    "temp.interpolate()"
   ]
  },
  {
   "cell_type": "markdown",
   "id": "bb028c34-3569-4b8f-92fe-ff5e83fd2b79",
   "metadata": {},
   "source": [
    "## 9.6 Clipping Data"
   ]
  },
  {
   "cell_type": "code",
   "execution_count": 286,
   "id": "03d841e7-9708-4886-826b-e9d5a0600d72",
   "metadata": {},
   "outputs": [
    {
     "data": {
      "text/plain": [
       "0      19\n",
       "1       9\n",
       "2      23\n",
       "3      10\n",
       "4      17\n",
       "       ..\n",
       "442    15\n",
       "443    15\n",
       "444    15\n",
       "445    15\n",
       "446    31\n",
       "Name: city08, Length: 447, dtype: int64"
      ]
     },
     "execution_count": 286,
     "metadata": {},
     "output_type": "execute_result"
    }
   ],
   "source": [
    "city_mpg.loc[:446]"
   ]
  },
  {
   "cell_type": "code",
   "execution_count": 287,
   "id": "1d1b7de4-6a1d-4091-b5e8-735cc4d8fc24",
   "metadata": {},
   "outputs": [
    {
     "data": {
      "text/plain": [
       "0      19.0\n",
       "1      11.0\n",
       "2      23.0\n",
       "3      11.0\n",
       "4      17.0\n",
       "       ... \n",
       "442    15.0\n",
       "443    15.0\n",
       "444    15.0\n",
       "445    15.0\n",
       "446    28.0\n",
       "Name: city08, Length: 447, dtype: float64"
      ]
     },
     "execution_count": 287,
     "metadata": {},
     "output_type": "execute_result"
    }
   ],
   "source": [
    "(city_mpg\n",
    "    .loc[:446]\n",
    "    .clip(lower = city_mpg.quantile(0.05),\n",
    "          upper = city_mpg.quantile(0.95))\n",
    ")"
   ]
  },
  {
   "cell_type": "code",
   "execution_count": 288,
   "id": "171d4bf6-966c-4491-849c-699270782779",
   "metadata": {},
   "outputs": [
    {
     "data": {
      "text/plain": [
       "11.0"
      ]
     },
     "execution_count": 288,
     "metadata": {},
     "output_type": "execute_result"
    }
   ],
   "source": [
    "city_mpg.quantile(0.05)"
   ]
  },
  {
   "cell_type": "code",
   "execution_count": 289,
   "id": "f9fdefdc-ef1d-4b05-9cfa-6bfdcad52fb4",
   "metadata": {},
   "outputs": [
    {
     "data": {
      "text/plain": [
       "28.0"
      ]
     },
     "execution_count": 289,
     "metadata": {},
     "output_type": "execute_result"
    }
   ],
   "source": [
    "city_mpg.quantile(0.95)"
   ]
  },
  {
   "cell_type": "code",
   "execution_count": 290,
   "id": "1d1b179d-44c3-4ae4-a4c1-5272308a5d23",
   "metadata": {},
   "outputs": [
    {
     "data": {
      "text/plain": [
       "\u001b[0;31mSignature:\u001b[0m\n",
       "\u001b[0mpd\u001b[0m\u001b[0;34m.\u001b[0m\u001b[0mSeries\u001b[0m\u001b[0;34m.\u001b[0m\u001b[0mclip\u001b[0m\u001b[0;34m(\u001b[0m\u001b[0;34m\u001b[0m\n",
       "\u001b[0;34m\u001b[0m    \u001b[0mself\u001b[0m\u001b[0;34m:\u001b[0m \u001b[0;34m'Series'\u001b[0m\u001b[0;34m,\u001b[0m\u001b[0;34m\u001b[0m\n",
       "\u001b[0;34m\u001b[0m    \u001b[0mlower\u001b[0m\u001b[0;34m=\u001b[0m\u001b[0;32mNone\u001b[0m\u001b[0;34m,\u001b[0m\u001b[0;34m\u001b[0m\n",
       "\u001b[0;34m\u001b[0m    \u001b[0mupper\u001b[0m\u001b[0;34m=\u001b[0m\u001b[0;32mNone\u001b[0m\u001b[0;34m,\u001b[0m\u001b[0;34m\u001b[0m\n",
       "\u001b[0;34m\u001b[0m    \u001b[0maxis\u001b[0m\u001b[0;34m:\u001b[0m \u001b[0;34m'Axis | None'\u001b[0m \u001b[0;34m=\u001b[0m \u001b[0;32mNone\u001b[0m\u001b[0;34m,\u001b[0m\u001b[0;34m\u001b[0m\n",
       "\u001b[0;34m\u001b[0m    \u001b[0minplace\u001b[0m\u001b[0;34m:\u001b[0m \u001b[0;34m'bool'\u001b[0m \u001b[0;34m=\u001b[0m \u001b[0;32mFalse\u001b[0m\u001b[0;34m,\u001b[0m\u001b[0;34m\u001b[0m\n",
       "\u001b[0;34m\u001b[0m    \u001b[0;34m*\u001b[0m\u001b[0margs\u001b[0m\u001b[0;34m,\u001b[0m\u001b[0;34m\u001b[0m\n",
       "\u001b[0;34m\u001b[0m    \u001b[0;34m**\u001b[0m\u001b[0mkwargs\u001b[0m\u001b[0;34m,\u001b[0m\u001b[0;34m\u001b[0m\n",
       "\u001b[0;34m\u001b[0m\u001b[0;34m)\u001b[0m \u001b[0;34m->\u001b[0m \u001b[0;34m'Series | None'\u001b[0m\u001b[0;34m\u001b[0m\u001b[0;34m\u001b[0m\u001b[0m\n",
       "\u001b[0;31mDocstring:\u001b[0m\n",
       "Trim values at input threshold(s).\n",
       "\n",
       "Assigns values outside boundary to boundary values. Thresholds\n",
       "can be singular values or array like, and in the latter case\n",
       "the clipping is performed element-wise in the specified axis.\n",
       "\n",
       "Parameters\n",
       "----------\n",
       "lower : float or array-like, default None\n",
       "    Minimum threshold value. All values below this\n",
       "    threshold will be set to it. A missing\n",
       "    threshold (e.g `NA`) will not clip the value.\n",
       "upper : float or array-like, default None\n",
       "    Maximum threshold value. All values above this\n",
       "    threshold will be set to it. A missing\n",
       "    threshold (e.g `NA`) will not clip the value.\n",
       "axis : int or str axis name, optional\n",
       "    Align object with lower and upper along the given axis.\n",
       "inplace : bool, default False\n",
       "    Whether to perform the operation in place on the data.\n",
       "*args, **kwargs\n",
       "    Additional keywords have no effect but might be accepted\n",
       "    for compatibility with numpy.\n",
       "\n",
       "Returns\n",
       "-------\n",
       "Series or DataFrame or None\n",
       "    Same type as calling object with the values outside the\n",
       "    clip boundaries replaced or None if ``inplace=True``.\n",
       "\n",
       "See Also\n",
       "--------\n",
       "Series.clip : Trim values at input threshold in series.\n",
       "DataFrame.clip : Trim values at input threshold in dataframe.\n",
       "numpy.clip : Clip (limit) the values in an array.\n",
       "\n",
       "Examples\n",
       "--------\n",
       ">>> data = {'col_0': [9, -3, 0, -1, 5], 'col_1': [-2, -7, 6, 8, -5]}\n",
       ">>> df = pd.DataFrame(data)\n",
       ">>> df\n",
       "   col_0  col_1\n",
       "0      9     -2\n",
       "1     -3     -7\n",
       "2      0      6\n",
       "3     -1      8\n",
       "4      5     -5\n",
       "\n",
       "Clips per column using lower and upper thresholds:\n",
       "\n",
       ">>> df.clip(-4, 6)\n",
       "   col_0  col_1\n",
       "0      6     -2\n",
       "1     -3     -4\n",
       "2      0      6\n",
       "3     -1      6\n",
       "4      5     -4\n",
       "\n",
       "Clips using specific lower and upper thresholds per column element:\n",
       "\n",
       ">>> t = pd.Series([2, -4, -1, 6, 3])\n",
       ">>> t\n",
       "0    2\n",
       "1   -4\n",
       "2   -1\n",
       "3    6\n",
       "4    3\n",
       "dtype: int64\n",
       "\n",
       ">>> df.clip(t, t + 4, axis=0)\n",
       "   col_0  col_1\n",
       "0      6      2\n",
       "1     -3     -4\n",
       "2      0      3\n",
       "3      6      8\n",
       "4      5      3\n",
       "\n",
       "Clips using specific lower threshold per column element, with missing values:\n",
       "\n",
       ">>> t = pd.Series([2, -4, np.NaN, 6, 3])\n",
       ">>> t\n",
       "0    2.0\n",
       "1   -4.0\n",
       "2    NaN\n",
       "3    6.0\n",
       "4    3.0\n",
       "dtype: float64\n",
       "\n",
       ">>> df.clip(t, axis=0)\n",
       "col_0  col_1\n",
       "0      9      2\n",
       "1     -3     -4\n",
       "2      0      6\n",
       "3      6      8\n",
       "4      5      3\n",
       "\u001b[0;31mSource:\u001b[0m   \n",
       "    \u001b[0;34m@\u001b[0m\u001b[0mdeprecate_nonkeyword_arguments\u001b[0m\u001b[0;34m(\u001b[0m\u001b[0;34m\u001b[0m\n",
       "\u001b[0;34m\u001b[0m        \u001b[0mversion\u001b[0m\u001b[0;34m=\u001b[0m\u001b[0;32mNone\u001b[0m\u001b[0;34m,\u001b[0m \u001b[0mallowed_args\u001b[0m\u001b[0;34m=\u001b[0m\u001b[0;34m[\u001b[0m\u001b[0;34m\"self\"\u001b[0m\u001b[0;34m,\u001b[0m \u001b[0;34m\"lower\"\u001b[0m\u001b[0;34m,\u001b[0m \u001b[0;34m\"upper\"\u001b[0m\u001b[0;34m]\u001b[0m\u001b[0;34m\u001b[0m\n",
       "\u001b[0;34m\u001b[0m    \u001b[0;34m)\u001b[0m\u001b[0;34m\u001b[0m\n",
       "\u001b[0;34m\u001b[0m    \u001b[0;32mdef\u001b[0m \u001b[0mclip\u001b[0m\u001b[0;34m(\u001b[0m\u001b[0;34m\u001b[0m\n",
       "\u001b[0;34m\u001b[0m        \u001b[0mself\u001b[0m\u001b[0;34m:\u001b[0m \u001b[0mSeries\u001b[0m\u001b[0;34m,\u001b[0m\u001b[0;34m\u001b[0m\n",
       "\u001b[0;34m\u001b[0m        \u001b[0mlower\u001b[0m\u001b[0;34m=\u001b[0m\u001b[0;32mNone\u001b[0m\u001b[0;34m,\u001b[0m\u001b[0;34m\u001b[0m\n",
       "\u001b[0;34m\u001b[0m        \u001b[0mupper\u001b[0m\u001b[0;34m=\u001b[0m\u001b[0;32mNone\u001b[0m\u001b[0;34m,\u001b[0m\u001b[0;34m\u001b[0m\n",
       "\u001b[0;34m\u001b[0m        \u001b[0maxis\u001b[0m\u001b[0;34m:\u001b[0m \u001b[0mAxis\u001b[0m \u001b[0;34m|\u001b[0m \u001b[0;32mNone\u001b[0m \u001b[0;34m=\u001b[0m \u001b[0;32mNone\u001b[0m\u001b[0;34m,\u001b[0m\u001b[0;34m\u001b[0m\n",
       "\u001b[0;34m\u001b[0m        \u001b[0minplace\u001b[0m\u001b[0;34m:\u001b[0m \u001b[0mbool\u001b[0m \u001b[0;34m=\u001b[0m \u001b[0;32mFalse\u001b[0m\u001b[0;34m,\u001b[0m\u001b[0;34m\u001b[0m\n",
       "\u001b[0;34m\u001b[0m        \u001b[0;34m*\u001b[0m\u001b[0margs\u001b[0m\u001b[0;34m,\u001b[0m\u001b[0;34m\u001b[0m\n",
       "\u001b[0;34m\u001b[0m        \u001b[0;34m**\u001b[0m\u001b[0mkwargs\u001b[0m\u001b[0;34m,\u001b[0m\u001b[0;34m\u001b[0m\n",
       "\u001b[0;34m\u001b[0m    \u001b[0;34m)\u001b[0m \u001b[0;34m->\u001b[0m \u001b[0mSeries\u001b[0m \u001b[0;34m|\u001b[0m \u001b[0;32mNone\u001b[0m\u001b[0;34m:\u001b[0m\u001b[0;34m\u001b[0m\n",
       "\u001b[0;34m\u001b[0m        \u001b[0;32mreturn\u001b[0m \u001b[0msuper\u001b[0m\u001b[0;34m(\u001b[0m\u001b[0;34m)\u001b[0m\u001b[0;34m.\u001b[0m\u001b[0mclip\u001b[0m\u001b[0;34m(\u001b[0m\u001b[0mlower\u001b[0m\u001b[0;34m,\u001b[0m \u001b[0mupper\u001b[0m\u001b[0;34m,\u001b[0m \u001b[0maxis\u001b[0m\u001b[0;34m,\u001b[0m \u001b[0minplace\u001b[0m\u001b[0;34m,\u001b[0m \u001b[0;34m*\u001b[0m\u001b[0margs\u001b[0m\u001b[0;34m,\u001b[0m \u001b[0;34m**\u001b[0m\u001b[0mkwargs\u001b[0m\u001b[0;34m)\u001b[0m\u001b[0;34m\u001b[0m\u001b[0;34m\u001b[0m\u001b[0m\n",
       "\u001b[0;31mFile:\u001b[0m      ~/mambaforge/lib/python3.9/site-packages/pandas/core/series.py\n",
       "\u001b[0;31mType:\u001b[0m      function\n"
      ]
     },
     "metadata": {},
     "output_type": "display_data"
    }
   ],
   "source": [
    "pd.Series.clip??"
   ]
  },
  {
   "cell_type": "markdown",
   "id": "d4df36c3-8b1f-4f69-82e9-8dfb407c4d8e",
   "metadata": {},
   "source": [
    "## 9.7 Sorting Values"
   ]
  },
  {
   "cell_type": "code",
   "execution_count": 291,
   "id": "d9522493-c71f-4173-9d5d-9e980f09a217",
   "metadata": {},
   "outputs": [
    {
     "data": {
      "text/plain": [
       "\u001b[0;31mSignature:\u001b[0m\n",
       "\u001b[0mpd\u001b[0m\u001b[0;34m.\u001b[0m\u001b[0mSeries\u001b[0m\u001b[0;34m.\u001b[0m\u001b[0msort_values\u001b[0m\u001b[0;34m(\u001b[0m\u001b[0;34m\u001b[0m\n",
       "\u001b[0;34m\u001b[0m    \u001b[0mself\u001b[0m\u001b[0;34m,\u001b[0m\u001b[0;34m\u001b[0m\n",
       "\u001b[0;34m\u001b[0m    \u001b[0maxis\u001b[0m\u001b[0;34m=\u001b[0m\u001b[0;36m0\u001b[0m\u001b[0;34m,\u001b[0m\u001b[0;34m\u001b[0m\n",
       "\u001b[0;34m\u001b[0m    \u001b[0mascending\u001b[0m\u001b[0;34m:\u001b[0m \u001b[0;34m'bool | int | Sequence[bool | int]'\u001b[0m \u001b[0;34m=\u001b[0m \u001b[0;32mTrue\u001b[0m\u001b[0;34m,\u001b[0m\u001b[0;34m\u001b[0m\n",
       "\u001b[0;34m\u001b[0m    \u001b[0minplace\u001b[0m\u001b[0;34m:\u001b[0m \u001b[0;34m'bool'\u001b[0m \u001b[0;34m=\u001b[0m \u001b[0;32mFalse\u001b[0m\u001b[0;34m,\u001b[0m\u001b[0;34m\u001b[0m\n",
       "\u001b[0;34m\u001b[0m    \u001b[0mkind\u001b[0m\u001b[0;34m:\u001b[0m \u001b[0;34m'str'\u001b[0m \u001b[0;34m=\u001b[0m \u001b[0;34m'quicksort'\u001b[0m\u001b[0;34m,\u001b[0m\u001b[0;34m\u001b[0m\n",
       "\u001b[0;34m\u001b[0m    \u001b[0mna_position\u001b[0m\u001b[0;34m:\u001b[0m \u001b[0;34m'str'\u001b[0m \u001b[0;34m=\u001b[0m \u001b[0;34m'last'\u001b[0m\u001b[0;34m,\u001b[0m\u001b[0;34m\u001b[0m\n",
       "\u001b[0;34m\u001b[0m    \u001b[0mignore_index\u001b[0m\u001b[0;34m:\u001b[0m \u001b[0;34m'bool'\u001b[0m \u001b[0;34m=\u001b[0m \u001b[0;32mFalse\u001b[0m\u001b[0;34m,\u001b[0m\u001b[0;34m\u001b[0m\n",
       "\u001b[0;34m\u001b[0m    \u001b[0mkey\u001b[0m\u001b[0;34m:\u001b[0m \u001b[0;34m'ValueKeyFunc'\u001b[0m \u001b[0;34m=\u001b[0m \u001b[0;32mNone\u001b[0m\u001b[0;34m,\u001b[0m\u001b[0;34m\u001b[0m\n",
       "\u001b[0;34m\u001b[0m\u001b[0;34m)\u001b[0m\u001b[0;34m\u001b[0m\u001b[0;34m\u001b[0m\u001b[0m\n",
       "\u001b[0;31mDocstring:\u001b[0m\n",
       "Sort by the values.\n",
       "\n",
       "Sort a Series in ascending or descending order by some\n",
       "criterion.\n",
       "\n",
       "Parameters\n",
       "----------\n",
       "axis : {0 or 'index'}, default 0\n",
       "    Axis to direct sorting. The value 'index' is accepted for\n",
       "    compatibility with DataFrame.sort_values.\n",
       "ascending : bool or list of bools, default True\n",
       "    If True, sort values in ascending order, otherwise descending.\n",
       "inplace : bool, default False\n",
       "    If True, perform operation in-place.\n",
       "kind : {'quicksort', 'mergesort', 'heapsort', 'stable'}, default 'quicksort'\n",
       "    Choice of sorting algorithm. See also :func:`numpy.sort` for more\n",
       "    information. 'mergesort' and 'stable' are the only stable  algorithms.\n",
       "na_position : {'first' or 'last'}, default 'last'\n",
       "    Argument 'first' puts NaNs at the beginning, 'last' puts NaNs at\n",
       "    the end.\n",
       "ignore_index : bool, default False\n",
       "    If True, the resulting axis will be labeled 0, 1, …, n - 1.\n",
       "\n",
       "    .. versionadded:: 1.0.0\n",
       "\n",
       "key : callable, optional\n",
       "    If not None, apply the key function to the series values\n",
       "    before sorting. This is similar to the `key` argument in the\n",
       "    builtin :meth:`sorted` function, with the notable difference that\n",
       "    this `key` function should be *vectorized*. It should expect a\n",
       "    ``Series`` and return an array-like.\n",
       "\n",
       "    .. versionadded:: 1.1.0\n",
       "\n",
       "Returns\n",
       "-------\n",
       "Series or None\n",
       "    Series ordered by values or None if ``inplace=True``.\n",
       "\n",
       "See Also\n",
       "--------\n",
       "Series.sort_index : Sort by the Series indices.\n",
       "DataFrame.sort_values : Sort DataFrame by the values along either axis.\n",
       "DataFrame.sort_index : Sort DataFrame by indices.\n",
       "\n",
       "Examples\n",
       "--------\n",
       ">>> s = pd.Series([np.nan, 1, 3, 10, 5])\n",
       ">>> s\n",
       "0     NaN\n",
       "1     1.0\n",
       "2     3.0\n",
       "3     10.0\n",
       "4     5.0\n",
       "dtype: float64\n",
       "\n",
       "Sort values ascending order (default behaviour)\n",
       "\n",
       ">>> s.sort_values(ascending=True)\n",
       "1     1.0\n",
       "2     3.0\n",
       "4     5.0\n",
       "3    10.0\n",
       "0     NaN\n",
       "dtype: float64\n",
       "\n",
       "Sort values descending order\n",
       "\n",
       ">>> s.sort_values(ascending=False)\n",
       "3    10.0\n",
       "4     5.0\n",
       "2     3.0\n",
       "1     1.0\n",
       "0     NaN\n",
       "dtype: float64\n",
       "\n",
       "Sort values inplace\n",
       "\n",
       ">>> s.sort_values(ascending=False, inplace=True)\n",
       ">>> s\n",
       "3    10.0\n",
       "4     5.0\n",
       "2     3.0\n",
       "1     1.0\n",
       "0     NaN\n",
       "dtype: float64\n",
       "\n",
       "Sort values putting NAs first\n",
       "\n",
       ">>> s.sort_values(na_position='first')\n",
       "0     NaN\n",
       "1     1.0\n",
       "2     3.0\n",
       "4     5.0\n",
       "3    10.0\n",
       "dtype: float64\n",
       "\n",
       "Sort a series of strings\n",
       "\n",
       ">>> s = pd.Series(['z', 'b', 'd', 'a', 'c'])\n",
       ">>> s\n",
       "0    z\n",
       "1    b\n",
       "2    d\n",
       "3    a\n",
       "4    c\n",
       "dtype: object\n",
       "\n",
       ">>> s.sort_values()\n",
       "3    a\n",
       "1    b\n",
       "4    c\n",
       "2    d\n",
       "0    z\n",
       "dtype: object\n",
       "\n",
       "Sort using a key function. Your `key` function will be\n",
       "given the ``Series`` of values and should return an array-like.\n",
       "\n",
       ">>> s = pd.Series(['a', 'B', 'c', 'D', 'e'])\n",
       ">>> s.sort_values()\n",
       "1    B\n",
       "3    D\n",
       "0    a\n",
       "2    c\n",
       "4    e\n",
       "dtype: object\n",
       ">>> s.sort_values(key=lambda x: x.str.lower())\n",
       "0    a\n",
       "1    B\n",
       "2    c\n",
       "3    D\n",
       "4    e\n",
       "dtype: object\n",
       "\n",
       "NumPy ufuncs work well here. For example, we can\n",
       "sort by the ``sin`` of the value\n",
       "\n",
       ">>> s = pd.Series([-4, -2, 0, 2, 4])\n",
       ">>> s.sort_values(key=np.sin)\n",
       "1   -2\n",
       "4    4\n",
       "2    0\n",
       "0   -4\n",
       "3    2\n",
       "dtype: int64\n",
       "\n",
       "More complicated user-defined functions can be used,\n",
       "as long as they expect a Series and return an array-like\n",
       "\n",
       ">>> s.sort_values(key=lambda x: (np.tan(x.cumsum())))\n",
       "0   -4\n",
       "3    2\n",
       "4    4\n",
       "1   -2\n",
       "2    0\n",
       "dtype: int64\n",
       "\u001b[0;31mFile:\u001b[0m      ~/mambaforge/lib/python3.9/site-packages/pandas/core/series.py\n",
       "\u001b[0;31mType:\u001b[0m      function\n"
      ]
     },
     "metadata": {},
     "output_type": "display_data"
    }
   ],
   "source": [
    "pd.Series.sort_values?"
   ]
  },
  {
   "cell_type": "code",
   "execution_count": 292,
   "id": "c2aef7b8-c21b-4f80-ac15-6d8a694b33c1",
   "metadata": {},
   "outputs": [
    {
     "data": {
      "text/plain": [
       "21057      6\n",
       "41003      6\n",
       "34523      6\n",
       "39729      6\n",
       "7901       6\n",
       "        ... \n",
       "35478    148\n",
       "33394    150\n",
       "37174    150\n",
       "32570    150\n",
       "31227    150\n",
       "Name: city08, Length: 44986, dtype: int64"
      ]
     },
     "execution_count": 292,
     "metadata": {},
     "output_type": "execute_result"
    }
   ],
   "source": [
    "city_mpg.sort_values()"
   ]
  },
  {
   "cell_type": "code",
   "execution_count": 293,
   "id": "9cfa972d-afa7-4329-b7a9-f526fdbf4141",
   "metadata": {},
   "outputs": [
    {
     "data": {
      "text/plain": [
       "0        22.0\n",
       "1        11.5\n",
       "2        28.0\n",
       "3        11.0\n",
       "4        20.0\n",
       "         ... \n",
       "44981    22.5\n",
       "44982    24.0\n",
       "44983    21.0\n",
       "44984    21.0\n",
       "44985    18.5\n",
       "Length: 44986, dtype: float64"
      ]
     },
     "execution_count": 293,
     "metadata": {},
     "output_type": "execute_result"
    }
   ],
   "source": [
    "(city_mpg.sort_values() + highway_mpg)/2"
   ]
  },
  {
   "cell_type": "markdown",
   "id": "453dc8c7-29c7-4564-a5bd-8d5c38b0facf",
   "metadata": {},
   "source": [
    "## 9.8 Sorting the Index"
   ]
  },
  {
   "cell_type": "code",
   "execution_count": 294,
   "id": "01d23a85-5ab8-408d-9c09-53e6ece73475",
   "metadata": {},
   "outputs": [
    {
     "data": {
      "text/plain": [
       "0        19\n",
       "1         9\n",
       "2        23\n",
       "3        10\n",
       "4        17\n",
       "         ..\n",
       "44981    19\n",
       "44982    20\n",
       "44983    18\n",
       "44984    18\n",
       "44985    16\n",
       "Name: city08, Length: 44986, dtype: int64"
      ]
     },
     "execution_count": 294,
     "metadata": {},
     "output_type": "execute_result"
    }
   ],
   "source": [
    "city_mpg.sort_values().sort_index()"
   ]
  },
  {
   "cell_type": "markdown",
   "id": "e4464562-9e70-4686-8c75-83b22fbf2728",
   "metadata": {},
   "source": [
    "## 9.9 Dropping Duplicates"
   ]
  },
  {
   "cell_type": "code",
   "execution_count": 295,
   "id": "bd76ff0c-78d9-4a18-85fe-14b991c167ed",
   "metadata": {},
   "outputs": [
    {
     "data": {
      "text/plain": [
       "38211     62\n",
       "38214     64\n",
       "38218     98\n",
       "38225     71\n",
       "38226     69\n",
       "38228     75\n",
       "38229     72\n",
       "38230     74\n",
       "38248     44\n",
       "38372    132\n",
       "38376    136\n",
       "38377    113\n",
       "38471    134\n",
       "38472    118\n",
       "38473    138\n",
       "38474    124\n",
       "38476    102\n",
       "38477    140\n",
       "38478    127\n",
       "38479    115\n",
       "38481    107\n",
       "38484     92\n",
       "Name: city08, dtype: int64"
      ]
     },
     "execution_count": 295,
     "metadata": {},
     "output_type": "execute_result"
    }
   ],
   "source": [
    "city_mpg.drop_duplicates(keep='last').loc[38210:38500]"
   ]
  },
  {
   "cell_type": "code",
   "execution_count": 296,
   "id": "fadc711e-eb76-4647-bb76-74dd43973a6a",
   "metadata": {},
   "outputs": [
    {
     "data": {
      "text/plain": [
       "38214     64\n",
       "38375    134\n",
       "38482    103\n",
       "Name: city08, dtype: int64"
      ]
     },
     "execution_count": 296,
     "metadata": {},
     "output_type": "execute_result"
    }
   ],
   "source": [
    "city_mpg.drop_duplicates(keep='first').loc[38210:38500]"
   ]
  },
  {
   "cell_type": "code",
   "execution_count": 297,
   "id": "771cad26-901d-4ee0-a115-e34daca98b13",
   "metadata": {},
   "outputs": [
    {
     "data": {
      "text/plain": [
       "38214    64\n",
       "Name: city08, dtype: int64"
      ]
     },
     "execution_count": 297,
     "metadata": {},
     "output_type": "execute_result"
    }
   ],
   "source": [
    "city_mpg.drop_duplicates(keep=False).loc[38210:38500]"
   ]
  },
  {
   "cell_type": "markdown",
   "id": "5238bd21-6afc-4640-ab61-6a10f213fe96",
   "metadata": {},
   "source": [
    "## 9.10 Ranking Data"
   ]
  },
  {
   "cell_type": "code",
   "execution_count": 298,
   "id": "ce65eec3-ed3d-44b4-83d3-7bc0391ccab6",
   "metadata": {},
   "outputs": [
    {
     "data": {
      "text/plain": [
       "0        28661.5\n",
       "1          248.5\n",
       "2        38496.5\n",
       "3          627.5\n",
       "4        20560.5\n",
       "          ...   \n",
       "44981    28661.5\n",
       "44982    31611.0\n",
       "44983    24854.5\n",
       "44984    24854.5\n",
       "44985    16308.0\n",
       "Name: city08, Length: 44986, dtype: float64"
      ]
     },
     "execution_count": 298,
     "metadata": {},
     "output_type": "execute_result"
    }
   ],
   "source": [
    "city_mpg.rank()"
   ]
  },
  {
   "cell_type": "markdown",
   "id": "f61e7187-8cf9-4317-8d29-838f89938532",
   "metadata": {},
   "source": [
    "Using method = 'min' gives equal values the same rank"
   ]
  },
  {
   "cell_type": "code",
   "execution_count": 299,
   "id": "020ce980-58b0-4ba7-9f53-8266299623e9",
   "metadata": {},
   "outputs": [
    {
     "data": {
      "text/plain": [
       "0        27009.0\n",
       "1          144.0\n",
       "2        37676.0\n",
       "3          354.0\n",
       "4        18421.0\n",
       "          ...   \n",
       "44981    27009.0\n",
       "44982    30315.0\n",
       "44983    22701.0\n",
       "44984    22701.0\n",
       "44985    14196.0\n",
       "Name: city08, Length: 44986, dtype: float64"
      ]
     },
     "execution_count": 299,
     "metadata": {},
     "output_type": "execute_result"
    }
   ],
   "source": [
    "city_mpg.rank(method='min')"
   ]
  },
  {
   "cell_type": "code",
   "execution_count": 300,
   "id": "1ad6cb37-7fe8-4f5c-9e6c-2f30150bcb9b",
   "metadata": {},
   "outputs": [
    {
     "data": {
      "text/plain": [
       "0        14.0\n",
       "1         4.0\n",
       "2        18.0\n",
       "3         5.0\n",
       "4        12.0\n",
       "         ... \n",
       "44981    14.0\n",
       "44982    15.0\n",
       "44983    13.0\n",
       "44984    13.0\n",
       "44985    11.0\n",
       "Name: city08, Length: 44986, dtype: float64"
      ]
     },
     "execution_count": 300,
     "metadata": {},
     "output_type": "execute_result"
    }
   ],
   "source": [
    "city_mpg.rank(method='dense')"
   ]
  },
  {
   "cell_type": "markdown",
   "id": "30d85bec-7f89-44b8-aeac-46d6e77897c8",
   "metadata": {},
   "source": [
    "## 9.11 Replacing Data"
   ]
  },
  {
   "cell_type": "code",
   "execution_count": 301,
   "id": "bebba114-d19b-40b2-819a-62b34b1f81b2",
   "metadata": {},
   "outputs": [
    {
     "data": {
      "text/plain": [
       "0     m\n",
       "1     l\n",
       "2    xs\n",
       "3     s\n",
       "4    xl\n",
       "dtype: category\n",
       "Categories (5, object): ['l', 'm', 's', 'xl', 'xs']"
      ]
     },
     "execution_count": 301,
     "metadata": {},
     "output_type": "execute_result"
    }
   ],
   "source": [
    "s"
   ]
  },
  {
   "cell_type": "code",
   "execution_count": 302,
   "id": "b07c4451-d99d-47db-b5a0-e26b7158ef5a",
   "metadata": {},
   "outputs": [
    {
     "data": {
      "text/plain": [
       "2    35\n",
       "2    44\n",
       "4    53\n",
       "dtype: int64"
      ]
     },
     "execution_count": 302,
     "metadata": {},
     "output_type": "execute_result"
    }
   ],
   "source": [
    "s2"
   ]
  },
  {
   "cell_type": "code",
   "execution_count": 303,
   "id": "ec3e0c7a-074d-4ceb-baea-ad6ba9b825f2",
   "metadata": {},
   "outputs": [
    {
     "data": {
      "text/plain": [
       "1    10\n",
       "2    20\n",
       "2    30\n",
       "dtype: int64"
      ]
     },
     "execution_count": 303,
     "metadata": {},
     "output_type": "execute_result"
    }
   ],
   "source": [
    "s1"
   ]
  },
  {
   "cell_type": "code",
   "execution_count": 304,
   "id": "5a46d61d-5924-43da-97e2-e5bf1eb187b7",
   "metadata": {},
   "outputs": [
    {
     "data": {
      "text/plain": [
       "1     NaN\n",
       "2    55.0\n",
       "2    64.0\n",
       "2    65.0\n",
       "2    74.0\n",
       "4     NaN\n",
       "dtype: float64"
      ]
     },
     "execution_count": 304,
     "metadata": {},
     "output_type": "execute_result"
    }
   ],
   "source": [
    "s1 + s2"
   ]
  },
  {
   "cell_type": "code",
   "execution_count": 305,
   "id": "fa00b5c1-2bf9-487b-a8bb-3cb444692f7d",
   "metadata": {},
   "outputs": [],
   "source": [
    "s5 = s1.add(s2, fill_value=0)"
   ]
  },
  {
   "cell_type": "code",
   "execution_count": 306,
   "id": "7729ae1e-dbc1-4309-a458-0cb3344cb0c9",
   "metadata": {},
   "outputs": [
    {
     "data": {
      "text/plain": [
       "1    10.0\n",
       "2    55.0\n",
       "2    64.0\n",
       "2    65.0\n",
       "2    74.0\n",
       "4    53.0\n",
       "dtype: float64"
      ]
     },
     "execution_count": 306,
     "metadata": {},
     "output_type": "execute_result"
    }
   ],
   "source": [
    "s5"
   ]
  },
  {
   "cell_type": "code",
   "execution_count": 307,
   "id": "f0029e58-a214-4dc6-b4a3-71aa569ed758",
   "metadata": {},
   "outputs": [
    {
     "data": {
      "text/plain": [
       "1    12.0\n",
       "2    55.0\n",
       "2    64.0\n",
       "2    65.0\n",
       "2    74.0\n",
       "4    53.0\n",
       "dtype: float64"
      ]
     },
     "execution_count": 307,
     "metadata": {},
     "output_type": "execute_result"
    }
   ],
   "source": [
    "s5.replace(to_replace=[10], value=[12])"
   ]
  },
  {
   "cell_type": "code",
   "execution_count": 308,
   "id": "cf0b2340-d09e-4a36-873c-ef81808ab0a5",
   "metadata": {},
   "outputs": [
    {
     "data": {
      "text/plain": [
       "1    12.0\n",
       "2    55.0\n",
       "2    64.0\n",
       "2    65.0\n",
       "2    74.0\n",
       "4    53.0\n",
       "dtype: float64"
      ]
     },
     "execution_count": 308,
     "metadata": {},
     "output_type": "execute_result"
    }
   ],
   "source": [
    "s5.replace(to_replace={10:12})"
   ]
  },
  {
   "cell_type": "code",
   "execution_count": 309,
   "id": "68bbb7ab-e5e2-479c-94d0-1b7e54aea66d",
   "metadata": {},
   "outputs": [
    {
     "data": {
      "text/plain": [
       "0        Alfa Romeo\n",
       "1           Ferrari\n",
       "2             Dodge\n",
       "3             Dodge\n",
       "4            Subaru\n",
       "            ...    \n",
       "44981        Subaru\n",
       "44982        Subaru\n",
       "44983        Subaru\n",
       "44984        Subaru\n",
       "44985        Subaru\n",
       "Name: make, Length: 44986, dtype: object"
      ]
     },
     "execution_count": 309,
     "metadata": {},
     "output_type": "execute_result"
    }
   ],
   "source": [
    "make"
   ]
  },
  {
   "cell_type": "code",
   "execution_count": 310,
   "id": "77801259-31e6-4896-b983-eec9da93acca",
   "metadata": {},
   "outputs": [
    {
     "data": {
      "text/plain": [
       "0          Alfa Romeo\n",
       "1        ri-mixed-Fer\n",
       "2               Dodge\n",
       "3               Dodge\n",
       "4              Subaru\n",
       "             ...     \n",
       "44981          Subaru\n",
       "44982          Subaru\n",
       "44983          Subaru\n",
       "44984          Subaru\n",
       "44985          Subaru\n",
       "Name: make, Length: 44986, dtype: object"
      ]
     },
     "execution_count": 310,
     "metadata": {},
     "output_type": "execute_result"
    }
   ],
   "source": [
    "make.replace(r'(Fer)ra(r.*)',\n",
    "            value=r'\\2-mixed-\\1', regex=True)"
   ]
  },
  {
   "cell_type": "markdown",
   "id": "b0bd08e6-96b4-4889-afa3-b3646d7cf068",
   "metadata": {},
   "source": [
    "## 9.12 Binning Data"
   ]
  },
  {
   "cell_type": "markdown",
   "id": "9a364136-cba1-419d-a25f-e390cfe94ef3",
   "metadata": {},
   "source": [
    "Equal spaced bins"
   ]
  },
  {
   "cell_type": "code",
   "execution_count": 311,
   "id": "46dd695a-b8da-41af-ac8f-0e0da46c6abf",
   "metadata": {},
   "outputs": [
    {
     "data": {
      "text/plain": [
       "0        (5.856, 20.4]\n",
       "1        (5.856, 20.4]\n",
       "2         (20.4, 34.8]\n",
       "3        (5.856, 20.4]\n",
       "4        (5.856, 20.4]\n",
       "             ...      \n",
       "44981    (5.856, 20.4]\n",
       "44982    (5.856, 20.4]\n",
       "44983    (5.856, 20.4]\n",
       "44984    (5.856, 20.4]\n",
       "44985    (5.856, 20.4]\n",
       "Name: city08, Length: 44986, dtype: category\n",
       "Categories (10, interval[float64, right]): [(5.856, 20.4] < (20.4, 34.8] < (34.8, 49.2] < (49.2, 63.6] ... (92.4, 106.8] < (106.8, 121.2] < (121.2, 135.6] < (135.6, 150.0]]"
      ]
     },
     "execution_count": 311,
     "metadata": {},
     "output_type": "execute_result"
    }
   ],
   "source": [
    "pd.cut(city_mpg, 10)"
   ]
  },
  {
   "cell_type": "markdown",
   "id": "3c8f0fa6-e291-4d59-96a8-37b19023e480",
   "metadata": {},
   "source": [
    "Custom bin sizes"
   ]
  },
  {
   "cell_type": "code",
   "execution_count": 312,
   "id": "0c67f6d3-191d-40c3-aad5-83671bff631c",
   "metadata": {},
   "outputs": [
    {
     "data": {
      "text/plain": [
       "0        (10, 20]\n",
       "1         (0, 10]\n",
       "2        (20, 40]\n",
       "3         (0, 10]\n",
       "4        (10, 20]\n",
       "           ...   \n",
       "44981    (10, 20]\n",
       "44982    (10, 20]\n",
       "44983    (10, 20]\n",
       "44984    (10, 20]\n",
       "44985    (10, 20]\n",
       "Name: city08, Length: 44986, dtype: category\n",
       "Categories (5, interval[int64, right]): [(0, 10] < (10, 20] < (20, 40] < (40, 70] < (70, 150]]"
      ]
     },
     "execution_count": 312,
     "metadata": {},
     "output_type": "execute_result"
    }
   ],
   "source": [
    "pd.cut(city_mpg, [0, 10, 20, 40, 70, 150])"
   ]
  },
  {
   "cell_type": "markdown",
   "id": "0e8ff949-f996-40ce-af4d-e6a47cec19a9",
   "metadata": {},
   "source": [
    "Bin with quantiles so there are roughly equal number of entries in each bin"
   ]
  },
  {
   "cell_type": "code",
   "execution_count": 313,
   "id": "a007ce12-d630-40d8-99dc-8cf5dab21b6a",
   "metadata": {},
   "outputs": [
    {
     "data": {
      "text/plain": [
       "0         (18.0, 20.0]\n",
       "1        (5.999, 13.0]\n",
       "2         (22.0, 25.0]\n",
       "3        (5.999, 13.0]\n",
       "4         (16.0, 17.0]\n",
       "             ...      \n",
       "44981     (18.0, 20.0]\n",
       "44982     (18.0, 20.0]\n",
       "44983     (17.0, 18.0]\n",
       "44984     (17.0, 18.0]\n",
       "44985     (15.0, 16.0]\n",
       "Name: city08, Length: 44986, dtype: category\n",
       "Categories (10, interval[float64, right]): [(5.999, 13.0] < (13.0, 14.0] < (14.0, 15.0] < (15.0, 16.0] ... (18.0, 20.0] < (20.0, 22.0] < (22.0, 25.0] < (25.0, 150.0]]"
      ]
     },
     "execution_count": 313,
     "metadata": {},
     "output_type": "execute_result"
    }
   ],
   "source": [
    "pd.qcut(city_mpg, 10)"
   ]
  },
  {
   "cell_type": "markdown",
   "id": "07ccf880-49c1-462f-a90f-41c17d4a12de",
   "metadata": {},
   "source": [
    "Set the labels to use"
   ]
  },
  {
   "cell_type": "code",
   "execution_count": 314,
   "id": "dd37151b-460e-4c37-8418-74af23d1f80f",
   "metadata": {},
   "outputs": [
    {
     "data": {
      "text/plain": [
       "0        7\n",
       "1        1\n",
       "2        9\n",
       "3        1\n",
       "4        5\n",
       "        ..\n",
       "44981    7\n",
       "44982    7\n",
       "44983    6\n",
       "44984    6\n",
       "44985    4\n",
       "Name: city08, Length: 44986, dtype: category\n",
       "Categories (10, int64): [1 < 2 < 3 < 4 ... 7 < 8 < 9 < 10]"
      ]
     },
     "execution_count": 314,
     "metadata": {},
     "output_type": "execute_result"
    }
   ],
   "source": [
    "pd.qcut(city_mpg, 10, labels=list(range(1,11)))"
   ]
  },
  {
   "cell_type": "markdown",
   "id": "aaa20674-2e5e-4e84-86d4-b856e55c656e",
   "metadata": {},
   "source": [
    "## 9.14 Exercises"
   ]
  },
  {
   "cell_type": "code",
   "execution_count": 315,
   "id": "5c30c7ca-b421-4288-a8fe-165570d50119",
   "metadata": {},
   "outputs": [],
   "source": [
    "mean_city_mpg = city_mpg.mean()"
   ]
  },
  {
   "cell_type": "code",
   "execution_count": 316,
   "id": "dbbc92cb-d5e3-4335-9cc5-4f5c5e8eaa8b",
   "metadata": {},
   "outputs": [
    {
     "data": {
      "text/plain": [
       "18.91014982438981"
      ]
     },
     "execution_count": 316,
     "metadata": {},
     "output_type": "execute_result"
    }
   ],
   "source": [
    "mean_city_mpg"
   ]
  },
  {
   "cell_type": "code",
   "execution_count": 317,
   "id": "a243d0fc-5041-4705-b497-ee7ffd9cc5e8",
   "metadata": {},
   "outputs": [],
   "source": [
    "def highlow(s):\n",
    "    if s >= mean_city_mpg:\n",
    "        return 'high'\n",
    "    return 'low'"
   ]
  },
  {
   "cell_type": "code",
   "execution_count": 318,
   "id": "ab914584-b69e-427f-9172-c7b6c32d7408",
   "metadata": {
    "tags": []
   },
   "outputs": [
    {
     "data": {
      "text/plain": [
       "0        high\n",
       "1         low\n",
       "2        high\n",
       "3         low\n",
       "4         low\n",
       "         ... \n",
       "44981    high\n",
       "44982    high\n",
       "44983     low\n",
       "44984     low\n",
       "44985     low\n",
       "Name: city08, Length: 44986, dtype: object"
      ]
     },
     "execution_count": 318,
     "metadata": {},
     "output_type": "execute_result"
    }
   ],
   "source": [
    "(city_mpg.apply(highlow)\n",
    ")"
   ]
  },
  {
   "cell_type": "code",
   "execution_count": 319,
   "id": "e1d0e30e-00d6-4375-af1a-06d89159dafc",
   "metadata": {
    "tags": []
   },
   "outputs": [
    {
     "name": "stdout",
     "output_type": "stream",
     "text": [
      "9.02 ms ± 28.3 µs per loop (mean ± std. dev. of 7 runs, 100 loops each)\n"
     ]
    }
   ],
   "source": [
    "%%timeit\n",
    "(city_mpg.apply(highlow)\n",
    ")"
   ]
  },
  {
   "cell_type": "code",
   "execution_count": 320,
   "id": "72b021af-0c4d-4f8c-af73-1f94fc18456b",
   "metadata": {},
   "outputs": [
    {
     "data": {
      "text/plain": [
       "\u001b[0;31mSignature:\u001b[0m \u001b[0mpd\u001b[0m\u001b[0;34m.\u001b[0m\u001b[0mSeries\u001b[0m\u001b[0;34m.\u001b[0m\u001b[0mge\u001b[0m\u001b[0;34m(\u001b[0m\u001b[0mself\u001b[0m\u001b[0;34m,\u001b[0m \u001b[0mother\u001b[0m\u001b[0;34m,\u001b[0m \u001b[0mlevel\u001b[0m\u001b[0;34m=\u001b[0m\u001b[0;32mNone\u001b[0m\u001b[0;34m,\u001b[0m \u001b[0mfill_value\u001b[0m\u001b[0;34m=\u001b[0m\u001b[0;32mNone\u001b[0m\u001b[0;34m,\u001b[0m \u001b[0maxis\u001b[0m\u001b[0;34m=\u001b[0m\u001b[0;36m0\u001b[0m\u001b[0;34m)\u001b[0m\u001b[0;34m\u001b[0m\u001b[0;34m\u001b[0m\u001b[0m\n",
       "\u001b[0;31mDocstring:\u001b[0m\n",
       "Return Greater than or equal to of series and other, element-wise (binary operator `ge`).\n",
       "\n",
       "Equivalent to ``series >= other``, but with support to substitute a fill_value for\n",
       "missing data in either one of the inputs.\n",
       "\n",
       "Parameters\n",
       "----------\n",
       "other : Series or scalar value\n",
       "fill_value : None or float value, default None (NaN)\n",
       "    Fill existing missing (NaN) values, and any new element needed for\n",
       "    successful Series alignment, with this value before computation.\n",
       "    If data in both corresponding Series locations is missing\n",
       "    the result of filling (at that location) will be missing.\n",
       "level : int or name\n",
       "    Broadcast across a level, matching Index values on the\n",
       "    passed MultiIndex level.\n",
       "\n",
       "Returns\n",
       "-------\n",
       "Series\n",
       "    The result of the operation.\n",
       "\n",
       "Examples\n",
       "--------\n",
       ">>> a = pd.Series([1, 1, 1, np.nan, 1], index=['a', 'b', 'c', 'd', 'e'])\n",
       ">>> a\n",
       "a    1.0\n",
       "b    1.0\n",
       "c    1.0\n",
       "d    NaN\n",
       "e    1.0\n",
       "dtype: float64\n",
       ">>> b = pd.Series([0, 1, 2, np.nan, 1], index=['a', 'b', 'c', 'd', 'f'])\n",
       ">>> b\n",
       "a    0.0\n",
       "b    1.0\n",
       "c    2.0\n",
       "d    NaN\n",
       "f    1.0\n",
       "dtype: float64\n",
       ">>> a.ge(b, fill_value=0)\n",
       "a     True\n",
       "b     True\n",
       "c    False\n",
       "d    False\n",
       "e     True\n",
       "f    False\n",
       "dtype: bool\n",
       "\u001b[0;31mFile:\u001b[0m      ~/mambaforge/lib/python3.9/site-packages/pandas/core/ops/__init__.py\n",
       "\u001b[0;31mType:\u001b[0m      function\n"
      ]
     },
     "metadata": {},
     "output_type": "display_data"
    }
   ],
   "source": [
    "pd.Series.ge?"
   ]
  },
  {
   "cell_type": "code",
   "execution_count": 321,
   "id": "8435029b-2cad-4529-bab7-fb3f6ef66370",
   "metadata": {},
   "outputs": [
    {
     "data": {
      "text/plain": [
       "18.91014982438981"
      ]
     },
     "execution_count": 321,
     "metadata": {},
     "output_type": "execute_result"
    }
   ],
   "source": [
    "mean_city_mpg"
   ]
  },
  {
   "cell_type": "code",
   "execution_count": 322,
   "id": "0962d5c9-ae19-4975-a4ab-7fccc4ca9c2a",
   "metadata": {},
   "outputs": [
    {
     "data": {
      "text/plain": [
       "0         True\n",
       "1        False\n",
       "2         True\n",
       "3        False\n",
       "4        False\n",
       "         ...  \n",
       "44981     True\n",
       "44982     True\n",
       "44983    False\n",
       "44984    False\n",
       "44985    False\n",
       "Name: city08, Length: 44986, dtype: bool"
      ]
     },
     "execution_count": 322,
     "metadata": {},
     "output_type": "execute_result"
    }
   ],
   "source": [
    "city_mpg.ge(mean_city_mpg)"
   ]
  },
  {
   "cell_type": "code",
   "execution_count": 323,
   "id": "4551e539-785f-4159-97bb-f04847e4cf70",
   "metadata": {},
   "outputs": [
    {
     "data": {
      "text/plain": [
       "array(['high', 'low', 'high', ..., 'low', 'low', 'low'], dtype='<U4')"
      ]
     },
     "execution_count": 323,
     "metadata": {},
     "output_type": "execute_result"
    }
   ],
   "source": [
    "np.select([city_mpg.ge(mean_city_mpg)], \n",
    "         ['high'], 'low')"
   ]
  },
  {
   "cell_type": "code",
   "execution_count": 324,
   "id": "b1c6be20-1019-4567-9e97-3a948e0e46e0",
   "metadata": {},
   "outputs": [
    {
     "data": {
      "text/plain": [
       "0        high\n",
       "1         low\n",
       "2        high\n",
       "3         low\n",
       "4         low\n",
       "         ... \n",
       "44981    high\n",
       "44982    high\n",
       "44983     low\n",
       "44984     low\n",
       "44985     low\n",
       "Length: 44986, dtype: object"
      ]
     },
     "execution_count": 324,
     "metadata": {},
     "output_type": "execute_result"
    }
   ],
   "source": [
    "pd.Series(\n",
    "    np.select([city_mpg.ge(mean_city_mpg)], \n",
    "         ['high'], 'low')\n",
    ")"
   ]
  },
  {
   "cell_type": "code",
   "execution_count": 325,
   "id": "4c5d6c2b-38b6-4498-9207-fc76338552ac",
   "metadata": {},
   "outputs": [
    {
     "name": "stdout",
     "output_type": "stream",
     "text": [
      "1.85 ms ± 24.3 µs per loop (mean ± std. dev. of 7 runs, 1,000 loops each)\n"
     ]
    }
   ],
   "source": [
    "%%timeit\n",
    "pd.Series(\n",
    "    np.select([city_mpg.ge(mean_city_mpg)], \n",
    "         ['high'], 'low')\n",
    ")"
   ]
  },
  {
   "cell_type": "code",
   "execution_count": 326,
   "id": "a162970e-6e80-4ad8-be0a-4e74aef049d8",
   "metadata": {},
   "outputs": [
    {
     "data": {
      "text/plain": [
       "7136    6.0\n",
       "7137    6.0\n",
       "7138    6.0\n",
       "7139    6.0\n",
       "7140    6.0\n",
       "7141    6.0\n",
       "Name: cylinders, dtype: float64"
      ]
     },
     "execution_count": 326,
     "metadata": {},
     "output_type": "execute_result"
    }
   ],
   "source": [
    "cyl.fillna(cyl.median()).loc[7136:7141]"
   ]
  },
  {
   "cell_type": "markdown",
   "id": "1d2a9fa3-0cb5-4914-a798-d8de1df7a48c",
   "metadata": {},
   "source": [
    "### Clipping data"
   ]
  },
  {
   "cell_type": "markdown",
   "id": "47b825ce-6b92-4c8c-84fa-e02e425aaba4",
   "metadata": {},
   "source": [
    "Substitute values below the 10th and above the 90th percentile with the boundary value."
   ]
  },
  {
   "cell_type": "code",
   "execution_count": 327,
   "id": "ed23f6ee-d894-40cb-9b26-bb66ee2cb616",
   "metadata": {
    "tags": []
   },
   "outputs": [
    {
     "data": {
      "text/plain": [
       "0      19.0\n",
       "1      13.0\n",
       "2      23.0\n",
       "3      13.0\n",
       "4      17.0\n",
       "       ... \n",
       "442    15.0\n",
       "443    15.0\n",
       "444    15.0\n",
       "445    15.0\n",
       "446    25.0\n",
       "Name: city08, Length: 447, dtype: float64"
      ]
     },
     "execution_count": 327,
     "metadata": {},
     "output_type": "execute_result"
    }
   ],
   "source": [
    "(city_mpg\n",
    "    .loc[:446]\n",
    "    .clip(lower = city_mpg.quantile(0.10),\n",
    "          upper = city_mpg.quantile(0.90))\n",
    ")"
   ]
  },
  {
   "cell_type": "markdown",
   "id": "fc9f4f1d-9486-4f33-947f-8008cef1d487",
   "metadata": {},
   "source": [
    "### Function to return a replace series base on criteria\n",
    "Labels category series for all but the top n categories with \"Other\""
   ]
  },
  {
   "cell_type": "code",
   "execution_count": 328,
   "id": "da935d97-17f9-4ffe-ba9a-c31948f6ed84",
   "metadata": {
    "tags": []
   },
   "outputs": [],
   "source": [
    "top_n = city_mpg[:5]"
   ]
  },
  {
   "cell_type": "code",
   "execution_count": 329,
   "id": "7ca78748-20d5-43d9-88d1-d6e8b99c6c5b",
   "metadata": {
    "tags": []
   },
   "outputs": [
    {
     "data": {
      "text/plain": [
       "0    19\n",
       "1     9\n",
       "2    23\n",
       "3    10\n",
       "4    17\n",
       "Name: city08, dtype: int64"
      ]
     },
     "execution_count": 329,
     "metadata": {},
     "output_type": "execute_result"
    }
   ],
   "source": [
    "top_n"
   ]
  },
  {
   "cell_type": "code",
   "execution_count": 330,
   "id": "456196b4-5029-41b6-9f3a-328307626f4d",
   "metadata": {
    "tags": []
   },
   "outputs": [],
   "source": [
    "def label_with_other_n(s,n):\n",
    "    top_n = s.value_counts().index[:n]\n",
    "    return s.where(s.isin(top_n), other = 'Other')"
   ]
  },
  {
   "cell_type": "code",
   "execution_count": 331,
   "id": "1f2a7014-71a5-40f0-868a-0b9a99637f03",
   "metadata": {},
   "outputs": [
    {
     "data": {
      "text/plain": [
       "pandas.core.series.Series"
      ]
     },
     "execution_count": 331,
     "metadata": {},
     "output_type": "execute_result"
    }
   ],
   "source": [
    "type(city_mpg)"
   ]
  },
  {
   "cell_type": "code",
   "execution_count": 332,
   "id": "130adc07-a43e-4907-9ffe-7c1bbb329cc9",
   "metadata": {},
   "outputs": [
    {
     "data": {
      "text/plain": [
       "0           19\n",
       "1        Other\n",
       "2        Other\n",
       "3        Other\n",
       "4           17\n",
       "         ...  \n",
       "44981       19\n",
       "44982    Other\n",
       "44983       18\n",
       "44984       18\n",
       "44985       16\n",
       "Name: city08, Length: 44986, dtype: object"
      ]
     },
     "execution_count": 332,
     "metadata": {},
     "output_type": "execute_result"
    }
   ],
   "source": [
    "label_with_other_n(city_mpg, 5)"
   ]
  },
  {
   "cell_type": "markdown",
   "id": "debaf92d-7769-4b99-8762-5a919fe89eea",
   "metadata": {},
   "source": [
    "### Function to return a binned series with n bins with the same width"
   ]
  },
  {
   "cell_type": "code",
   "execution_count": 333,
   "id": "2ce3d8ae-fbfd-477d-b6f5-f2bdd60e20fb",
   "metadata": {},
   "outputs": [],
   "source": [
    "def bin_equi_width(s, n=10):\n",
    "    return pd.cut(s, n)"
   ]
  },
  {
   "cell_type": "code",
   "execution_count": 334,
   "id": "04da5799-d8fc-42ff-89e1-61cd18454fdc",
   "metadata": {},
   "outputs": [
    {
     "data": {
      "text/plain": [
       "0        (5.856, 20.4]\n",
       "1        (5.856, 20.4]\n",
       "2         (20.4, 34.8]\n",
       "3        (5.856, 20.4]\n",
       "4        (5.856, 20.4]\n",
       "             ...      \n",
       "44981    (5.856, 20.4]\n",
       "44982    (5.856, 20.4]\n",
       "44983    (5.856, 20.4]\n",
       "44984    (5.856, 20.4]\n",
       "44985    (5.856, 20.4]\n",
       "Name: city08, Length: 44986, dtype: category\n",
       "Categories (10, interval[float64, right]): [(5.856, 20.4] < (20.4, 34.8] < (34.8, 49.2] < (49.2, 63.6] ... (92.4, 106.8] < (106.8, 121.2] < (121.2, 135.6] < (135.6, 150.0]]"
      ]
     },
     "execution_count": 334,
     "metadata": {},
     "output_type": "execute_result"
    }
   ],
   "source": [
    "bin_equi_width(city_mpg)"
   ]
  },
  {
   "cell_type": "code",
   "execution_count": 335,
   "id": "d7705fd8-93ac-4658-8fbe-4f05749112ab",
   "metadata": {},
   "outputs": [
    {
     "data": {
      "text/plain": [
       "(5.856, 20.4]     32907\n",
       "(20.4, 34.8]      11154\n",
       "(34.8, 49.2]        466\n",
       "(49.2, 63.6]         98\n",
       "(121.2, 135.6]       89\n",
       "(78.0, 92.4]         68\n",
       "(92.4, 106.8]        68\n",
       "(106.8, 121.2]       66\n",
       "(63.6, 78.0]         47\n",
       "(135.6, 150.0]       23\n",
       "Name: city08, dtype: int64"
      ]
     },
     "execution_count": 335,
     "metadata": {},
     "output_type": "execute_result"
    }
   ],
   "source": [
    "bin_equi_width(city_mpg).value_counts()"
   ]
  },
  {
   "cell_type": "markdown",
   "id": "c74c1832-6d00-462b-bed6-44ba7eb4d77e",
   "metadata": {},
   "source": [
    "### Function to return an equally distributed binned series "
   ]
  },
  {
   "cell_type": "code",
   "execution_count": 336,
   "id": "cafe3a90-5b47-43c6-869a-fd569179b2f9",
   "metadata": {},
   "outputs": [],
   "source": [
    "def bin_equi_num(s, n=10):\n",
    "    return pd.qcut(s, n)"
   ]
  },
  {
   "cell_type": "code",
   "execution_count": 337,
   "id": "5d9cba1d-2055-47ea-ba61-52d633389aea",
   "metadata": {},
   "outputs": [
    {
     "data": {
      "text/plain": [
       "(5.999, 13.0]    6243\n",
       "(18.0, 20.0]     5899\n",
       "(14.0, 15.0]     4796\n",
       "(20.0, 22.0]     4768\n",
       "(17.0, 18.0]     4308\n",
       "(16.0, 17.0]     4280\n",
       "(15.0, 16.0]     4225\n",
       "(25.0, 150.0]    3761\n",
       "(22.0, 25.0]     3550\n",
       "(13.0, 14.0]     3156\n",
       "Name: city08, dtype: int64"
      ]
     },
     "execution_count": 337,
     "metadata": {},
     "output_type": "execute_result"
    }
   ],
   "source": [
    "bin_equi_num(city_mpg).value_counts()"
   ]
  },
  {
   "cell_type": "markdown",
   "id": "fd75372e-86d0-431e-a3db-377f8f8493b3",
   "metadata": {},
   "source": [
    "# Chapter 10: Indexing Operations    "
   ]
  },
  {
   "cell_type": "markdown",
   "id": "17ed5e91-ac85-454b-8b82-8ec2514c7856",
   "metadata": {},
   "source": [
    "## 10.1 Prepping the data and renaming the index"
   ]
  },
  {
   "cell_type": "code",
   "execution_count": 338,
   "id": "9119ef47-aeb0-45d3-af80-52a13470a989",
   "metadata": {},
   "outputs": [
    {
     "data": {
      "text/plain": [
       "0        19\n",
       "1         9\n",
       "2        23\n",
       "3        10\n",
       "4        17\n",
       "         ..\n",
       "44981    19\n",
       "44982    20\n",
       "44983    18\n",
       "44984    18\n",
       "44985    16\n",
       "Name: city08, Length: 44986, dtype: int64"
      ]
     },
     "execution_count": 338,
     "metadata": {},
     "output_type": "execute_result"
    }
   ],
   "source": [
    "city_mpg"
   ]
  },
  {
   "cell_type": "code",
   "execution_count": 339,
   "id": "cba8d194-7e22-4240-a651-84dc192e3ddd",
   "metadata": {},
   "outputs": [
    {
     "data": {
      "text/plain": [
       "0        Alfa Romeo\n",
       "1           Ferrari\n",
       "2             Dodge\n",
       "3             Dodge\n",
       "4            Subaru\n",
       "            ...    \n",
       "44981        Subaru\n",
       "44982        Subaru\n",
       "44983        Subaru\n",
       "44984        Subaru\n",
       "44985        Subaru\n",
       "Name: make, Length: 44986, dtype: object"
      ]
     },
     "execution_count": 339,
     "metadata": {},
     "output_type": "execute_result"
    }
   ],
   "source": [
    "make"
   ]
  },
  {
   "cell_type": "code",
   "execution_count": 340,
   "id": "8b416721-ad7c-4e93-81d3-172faa5b4537",
   "metadata": {},
   "outputs": [
    {
     "data": {
      "text/plain": [
       "'Alfa Romeo'"
      ]
     },
     "execution_count": 340,
     "metadata": {},
     "output_type": "execute_result"
    }
   ],
   "source": [
    "make.to_dict()[0]"
   ]
  },
  {
   "cell_type": "code",
   "execution_count": 341,
   "id": "62738cb5-5634-4efd-8c9c-bec9c99a0164",
   "metadata": {},
   "outputs": [],
   "source": [
    "city2 = city_mpg.rename(make.to_dict())"
   ]
  },
  {
   "cell_type": "code",
   "execution_count": 342,
   "id": "a201283a-7bfd-4e80-8c68-0569b1d5fa90",
   "metadata": {},
   "outputs": [
    {
     "data": {
      "text/plain": [
       "Alfa Romeo    19\n",
       "Ferrari        9\n",
       "Dodge         23\n",
       "Dodge         10\n",
       "Subaru        17\n",
       "              ..\n",
       "Subaru        19\n",
       "Subaru        20\n",
       "Subaru        18\n",
       "Subaru        18\n",
       "Subaru        16\n",
       "Name: city08, Length: 44986, dtype: int64"
      ]
     },
     "execution_count": 342,
     "metadata": {},
     "output_type": "execute_result"
    }
   ],
   "source": [
    "city2"
   ]
  },
  {
   "cell_type": "code",
   "execution_count": 343,
   "id": "1354c85b-fca4-4b01-9224-00499a75cbb5",
   "metadata": {},
   "outputs": [
    {
     "data": {
      "text/plain": [
       "array([19,  9, 23, ..., 18, 18, 16])"
      ]
     },
     "execution_count": 343,
     "metadata": {},
     "output_type": "execute_result"
    }
   ],
   "source": [
    "city2.values"
   ]
  },
  {
   "cell_type": "code",
   "execution_count": 344,
   "id": "f60e3f5f-85e6-4ca6-bf16-362723d88ba2",
   "metadata": {},
   "outputs": [
    {
     "data": {
      "text/plain": [
       "Index(['Alfa Romeo', 'Ferrari', 'Dodge', 'Dodge', 'Subaru', 'Subaru', 'Subaru',\n",
       "       'Toyota', 'Toyota', 'Toyota',\n",
       "       ...\n",
       "       'Saab', 'Saturn', 'Saturn', 'Saturn', 'Saturn', 'Subaru', 'Subaru',\n",
       "       'Subaru', 'Subaru', 'Subaru'],\n",
       "      dtype='object', length=44986)"
      ]
     },
     "execution_count": 344,
     "metadata": {},
     "output_type": "execute_result"
    }
   ],
   "source": [
    "city2.keys()"
   ]
  },
  {
   "cell_type": "code",
   "execution_count": 345,
   "id": "f3e57d24-2a8a-4e1d-aa10-af4ff9bfc9bc",
   "metadata": {},
   "outputs": [
    {
     "data": {
      "text/plain": [
       "Index(['Alfa Romeo', 'Ferrari', 'Dodge', 'Dodge', 'Subaru', 'Subaru', 'Subaru',\n",
       "       'Toyota', 'Toyota', 'Toyota',\n",
       "       ...\n",
       "       'Saab', 'Saturn', 'Saturn', 'Saturn', 'Saturn', 'Subaru', 'Subaru',\n",
       "       'Subaru', 'Subaru', 'Subaru'],\n",
       "      dtype='object', length=44986)"
      ]
     },
     "execution_count": 345,
     "metadata": {},
     "output_type": "execute_result"
    }
   ],
   "source": [
    "city2.index"
   ]
  },
  {
   "cell_type": "code",
   "execution_count": 346,
   "id": "06efee8b-30d2-418f-8236-2ea57912e8c5",
   "metadata": {},
   "outputs": [],
   "source": [
    "city2 = city_mpg.rename(make)"
   ]
  },
  {
   "cell_type": "code",
   "execution_count": 347,
   "id": "991650d2-f800-4ea3-b637-201953ae4e07",
   "metadata": {},
   "outputs": [
    {
     "data": {
      "text/plain": [
       "Alfa Romeo    19\n",
       "Ferrari        9\n",
       "Dodge         23\n",
       "Dodge         10\n",
       "Subaru        17\n",
       "              ..\n",
       "Subaru        19\n",
       "Subaru        20\n",
       "Subaru        18\n",
       "Subaru        18\n",
       "Subaru        16\n",
       "Name: city08, Length: 44986, dtype: int64"
      ]
     },
     "execution_count": 347,
     "metadata": {},
     "output_type": "execute_result"
    }
   ],
   "source": [
    "city2"
   ]
  },
  {
   "cell_type": "code",
   "execution_count": 348,
   "id": "28b97a7a-c561-4d60-a4cc-9aa9f63f5c66",
   "metadata": {},
   "outputs": [
    {
     "data": {
      "text/plain": [
       "Alfa Romeo    19\n",
       "Ferrari        9\n",
       "Dodge         23\n",
       "Dodge         10\n",
       "Subaru        17\n",
       "              ..\n",
       "Subaru        19\n",
       "Subaru        20\n",
       "Subaru        18\n",
       "Subaru        18\n",
       "Subaru        16\n",
       "Name: citympg, Length: 44986, dtype: int64"
      ]
     },
     "execution_count": 348,
     "metadata": {},
     "output_type": "execute_result"
    }
   ],
   "source": [
    "city2.rename('citympg')"
   ]
  },
  {
   "cell_type": "markdown",
   "id": "85e790fb-bfa2-407d-b5cc-4d0835bc8778",
   "metadata": {},
   "source": [
    "## 10.2 Resetting the index moves the current index into a new column"
   ]
  },
  {
   "cell_type": "code",
   "execution_count": 349,
   "id": "7feb1691-7860-44c0-985d-61f1f5ed74f0",
   "metadata": {},
   "outputs": [
    {
     "data": {
      "text/html": [
       "<div>\n",
       "<style scoped>\n",
       "    .dataframe tbody tr th:only-of-type {\n",
       "        vertical-align: middle;\n",
       "    }\n",
       "\n",
       "    .dataframe tbody tr th {\n",
       "        vertical-align: top;\n",
       "    }\n",
       "\n",
       "    .dataframe thead th {\n",
       "        text-align: right;\n",
       "    }\n",
       "</style>\n",
       "<table border=\"1\" class=\"dataframe\">\n",
       "  <thead>\n",
       "    <tr style=\"text-align: right;\">\n",
       "      <th></th>\n",
       "      <th>index</th>\n",
       "      <th>city08</th>\n",
       "    </tr>\n",
       "  </thead>\n",
       "  <tbody>\n",
       "    <tr>\n",
       "      <th>0</th>\n",
       "      <td>Alfa Romeo</td>\n",
       "      <td>19</td>\n",
       "    </tr>\n",
       "    <tr>\n",
       "      <th>1</th>\n",
       "      <td>Ferrari</td>\n",
       "      <td>9</td>\n",
       "    </tr>\n",
       "    <tr>\n",
       "      <th>2</th>\n",
       "      <td>Dodge</td>\n",
       "      <td>23</td>\n",
       "    </tr>\n",
       "    <tr>\n",
       "      <th>3</th>\n",
       "      <td>Dodge</td>\n",
       "      <td>10</td>\n",
       "    </tr>\n",
       "    <tr>\n",
       "      <th>4</th>\n",
       "      <td>Subaru</td>\n",
       "      <td>17</td>\n",
       "    </tr>\n",
       "    <tr>\n",
       "      <th>...</th>\n",
       "      <td>...</td>\n",
       "      <td>...</td>\n",
       "    </tr>\n",
       "    <tr>\n",
       "      <th>44981</th>\n",
       "      <td>Subaru</td>\n",
       "      <td>19</td>\n",
       "    </tr>\n",
       "    <tr>\n",
       "      <th>44982</th>\n",
       "      <td>Subaru</td>\n",
       "      <td>20</td>\n",
       "    </tr>\n",
       "    <tr>\n",
       "      <th>44983</th>\n",
       "      <td>Subaru</td>\n",
       "      <td>18</td>\n",
       "    </tr>\n",
       "    <tr>\n",
       "      <th>44984</th>\n",
       "      <td>Subaru</td>\n",
       "      <td>18</td>\n",
       "    </tr>\n",
       "    <tr>\n",
       "      <th>44985</th>\n",
       "      <td>Subaru</td>\n",
       "      <td>16</td>\n",
       "    </tr>\n",
       "  </tbody>\n",
       "</table>\n",
       "<p>44986 rows × 2 columns</p>\n",
       "</div>"
      ],
      "text/plain": [
       "            index  city08\n",
       "0      Alfa Romeo      19\n",
       "1         Ferrari       9\n",
       "2           Dodge      23\n",
       "3           Dodge      10\n",
       "4          Subaru      17\n",
       "...           ...     ...\n",
       "44981      Subaru      19\n",
       "44982      Subaru      20\n",
       "44983      Subaru      18\n",
       "44984      Subaru      18\n",
       "44985      Subaru      16\n",
       "\n",
       "[44986 rows x 2 columns]"
      ]
     },
     "execution_count": 349,
     "metadata": {},
     "output_type": "execute_result"
    }
   ],
   "source": [
    "city2.reset_index()"
   ]
  },
  {
   "cell_type": "code",
   "execution_count": 350,
   "id": "79b66fab-e8db-40b0-be15-bc7d73e0b475",
   "metadata": {},
   "outputs": [
    {
     "data": {
      "text/plain": [
       "0        19\n",
       "1         9\n",
       "2        23\n",
       "3        10\n",
       "4        17\n",
       "         ..\n",
       "44981    19\n",
       "44982    20\n",
       "44983    18\n",
       "44984    18\n",
       "44985    16\n",
       "Name: city08, Length: 44986, dtype: int64"
      ]
     },
     "execution_count": 350,
     "metadata": {},
     "output_type": "execute_result"
    }
   ],
   "source": [
    "city2.reset_index(drop=True)"
   ]
  },
  {
   "cell_type": "code",
   "execution_count": 351,
   "id": "e9104957-3604-42f7-a885-fcdd3e671107",
   "metadata": {},
   "outputs": [
    {
     "data": {
      "text/plain": [
       "0     m\n",
       "1     l\n",
       "2    xs\n",
       "3     s\n",
       "4    xl\n",
       "dtype: category\n",
       "Categories (5, object): ['l', 'm', 's', 'xl', 'xs']"
      ]
     },
     "execution_count": 351,
     "metadata": {},
     "output_type": "execute_result"
    }
   ],
   "source": [
    "s"
   ]
  },
  {
   "cell_type": "code",
   "execution_count": 352,
   "id": "95ff2c58-1fcb-4d41-89f3-036893d871df",
   "metadata": {},
   "outputs": [
    {
     "data": {
      "text/plain": [
       "['Paul', 'John', 'George', 'Ringo']"
      ]
     },
     "execution_count": 352,
     "metadata": {},
     "output_type": "execute_result"
    }
   ],
   "source": [
    "songs['index']"
   ]
  },
  {
   "cell_type": "code",
   "execution_count": 353,
   "id": "6afa935d-2728-49bb-921c-8e732d44ef7c",
   "metadata": {},
   "outputs": [
    {
     "data": {
      "text/html": [
       "<div>\n",
       "<style scoped>\n",
       "    .dataframe tbody tr th:only-of-type {\n",
       "        vertical-align: middle;\n",
       "    }\n",
       "\n",
       "    .dataframe tbody tr th {\n",
       "        vertical-align: top;\n",
       "    }\n",
       "\n",
       "    .dataframe thead th {\n",
       "        text-align: right;\n",
       "    }\n",
       "</style>\n",
       "<table border=\"1\" class=\"dataframe\">\n",
       "  <thead>\n",
       "    <tr style=\"text-align: right;\">\n",
       "      <th></th>\n",
       "      <th>index</th>\n",
       "      <th>data</th>\n",
       "      <th>name</th>\n",
       "    </tr>\n",
       "  </thead>\n",
       "  <tbody>\n",
       "    <tr>\n",
       "      <th>0</th>\n",
       "      <td>Paul</td>\n",
       "      <td>145</td>\n",
       "      <td>counts</td>\n",
       "    </tr>\n",
       "    <tr>\n",
       "      <th>1</th>\n",
       "      <td>John</td>\n",
       "      <td>142</td>\n",
       "      <td>counts</td>\n",
       "    </tr>\n",
       "    <tr>\n",
       "      <th>2</th>\n",
       "      <td>George</td>\n",
       "      <td>38</td>\n",
       "      <td>counts</td>\n",
       "    </tr>\n",
       "    <tr>\n",
       "      <th>3</th>\n",
       "      <td>Ringo</td>\n",
       "      <td>13</td>\n",
       "      <td>counts</td>\n",
       "    </tr>\n",
       "  </tbody>\n",
       "</table>\n",
       "</div>"
      ],
      "text/plain": [
       "    index  data    name\n",
       "0    Paul   145  counts\n",
       "1    John   142  counts\n",
       "2  George    38  counts\n",
       "3   Ringo    13  counts"
      ]
     },
     "execution_count": 353,
     "metadata": {},
     "output_type": "execute_result"
    }
   ],
   "source": [
    "songs_df = pd.DataFrame(songs)\n",
    "songs_df"
   ]
  },
  {
   "cell_type": "code",
   "execution_count": 354,
   "id": "91b5c468-7c67-4ad1-8905-aa2e6293a4ad",
   "metadata": {},
   "outputs": [
    {
     "data": {
      "text/html": [
       "<div>\n",
       "<style scoped>\n",
       "    .dataframe tbody tr th:only-of-type {\n",
       "        vertical-align: middle;\n",
       "    }\n",
       "\n",
       "    .dataframe tbody tr th {\n",
       "        vertical-align: top;\n",
       "    }\n",
       "\n",
       "    .dataframe thead th {\n",
       "        text-align: right;\n",
       "    }\n",
       "</style>\n",
       "<table border=\"1\" class=\"dataframe\">\n",
       "  <thead>\n",
       "    <tr style=\"text-align: right;\">\n",
       "      <th></th>\n",
       "      <th>first</th>\n",
       "      <th>index</th>\n",
       "      <th>data</th>\n",
       "      <th>name</th>\n",
       "    </tr>\n",
       "  </thead>\n",
       "  <tbody>\n",
       "    <tr>\n",
       "      <th>0</th>\n",
       "      <td>0</td>\n",
       "      <td>Paul</td>\n",
       "      <td>145</td>\n",
       "      <td>counts</td>\n",
       "    </tr>\n",
       "    <tr>\n",
       "      <th>1</th>\n",
       "      <td>1</td>\n",
       "      <td>John</td>\n",
       "      <td>142</td>\n",
       "      <td>counts</td>\n",
       "    </tr>\n",
       "    <tr>\n",
       "      <th>2</th>\n",
       "      <td>2</td>\n",
       "      <td>George</td>\n",
       "      <td>38</td>\n",
       "      <td>counts</td>\n",
       "    </tr>\n",
       "    <tr>\n",
       "      <th>3</th>\n",
       "      <td>3</td>\n",
       "      <td>Ringo</td>\n",
       "      <td>13</td>\n",
       "      <td>counts</td>\n",
       "    </tr>\n",
       "  </tbody>\n",
       "</table>\n",
       "</div>"
      ],
      "text/plain": [
       "   first   index  data    name\n",
       "0      0    Paul   145  counts\n",
       "1      1    John   142  counts\n",
       "2      2  George    38  counts\n",
       "3      3   Ringo    13  counts"
      ]
     },
     "execution_count": 354,
     "metadata": {},
     "output_type": "execute_result"
    }
   ],
   "source": [
    "(songs_df\n",
    " .rename_axis(\"first\")\n",
    " .reset_index()\n",
    ")"
   ]
  },
  {
   "cell_type": "code",
   "execution_count": 355,
   "id": "5893fb1e-9d0e-4f28-b05d-7703d51e47f8",
   "metadata": {},
   "outputs": [
    {
     "data": {
      "text/html": [
       "<div>\n",
       "<style scoped>\n",
       "    .dataframe tbody tr th:only-of-type {\n",
       "        vertical-align: middle;\n",
       "    }\n",
       "\n",
       "    .dataframe tbody tr th {\n",
       "        vertical-align: top;\n",
       "    }\n",
       "\n",
       "    .dataframe thead th {\n",
       "        text-align: right;\n",
       "    }\n",
       "</style>\n",
       "<table border=\"1\" class=\"dataframe\">\n",
       "  <thead>\n",
       "    <tr style=\"text-align: right;\">\n",
       "      <th></th>\n",
       "      <th>index</th>\n",
       "      <th>data</th>\n",
       "      <th>name</th>\n",
       "    </tr>\n",
       "  </thead>\n",
       "  <tbody>\n",
       "    <tr>\n",
       "      <th>0</th>\n",
       "      <td>Paul</td>\n",
       "      <td>145</td>\n",
       "      <td>counts</td>\n",
       "    </tr>\n",
       "    <tr>\n",
       "      <th>1</th>\n",
       "      <td>John</td>\n",
       "      <td>142</td>\n",
       "      <td>counts</td>\n",
       "    </tr>\n",
       "    <tr>\n",
       "      <th>2</th>\n",
       "      <td>George</td>\n",
       "      <td>38</td>\n",
       "      <td>counts</td>\n",
       "    </tr>\n",
       "    <tr>\n",
       "      <th>3</th>\n",
       "      <td>Ringo</td>\n",
       "      <td>13</td>\n",
       "      <td>counts</td>\n",
       "    </tr>\n",
       "  </tbody>\n",
       "</table>\n",
       "</div>"
      ],
      "text/plain": [
       "    index  data    name\n",
       "0    Paul   145  counts\n",
       "1    John   142  counts\n",
       "2  George    38  counts\n",
       "3   Ringo    13  counts"
      ]
     },
     "execution_count": 355,
     "metadata": {},
     "output_type": "execute_result"
    }
   ],
   "source": [
    "songs_df.reset_index(drop=True)"
   ]
  },
  {
   "cell_type": "code",
   "execution_count": 356,
   "id": "86b40f0d-382e-4a8f-8e21-49399eeb3c83",
   "metadata": {},
   "outputs": [
    {
     "data": {
      "text/plain": [
       "Subaru    17\n",
       "Subaru    21\n",
       "Subaru    22\n",
       "Subaru    19\n",
       "Subaru    20\n",
       "          ..\n",
       "Subaru    19\n",
       "Subaru    20\n",
       "Subaru    18\n",
       "Subaru    18\n",
       "Subaru    16\n",
       "Name: city08, Length: 961, dtype: int64"
      ]
     },
     "execution_count": 356,
     "metadata": {},
     "output_type": "execute_result"
    }
   ],
   "source": [
    "city2.loc['Subaru']"
   ]
  },
  {
   "cell_type": "code",
   "execution_count": 357,
   "id": "5c7b75a1-a804-4d71-918e-826f2c74c09f",
   "metadata": {},
   "outputs": [
    {
     "data": {
      "text/plain": [
       "20"
      ]
     },
     "execution_count": 357,
     "metadata": {},
     "output_type": "execute_result"
    }
   ],
   "source": [
    "city2.loc['Fisker']"
   ]
  },
  {
   "cell_type": "code",
   "execution_count": 358,
   "id": "289875ba-99f1-47fe-856c-6111eaccb5e4",
   "metadata": {},
   "outputs": [
    {
     "data": {
      "text/plain": [
       "Fisker    20\n",
       "Name: city08, dtype: int64"
      ]
     },
     "execution_count": 358,
     "metadata": {},
     "output_type": "execute_result"
    }
   ],
   "source": [
    "city2.loc[['Fisker']]"
   ]
  },
  {
   "cell_type": "code",
   "execution_count": 359,
   "id": "9591e647-4595-4b6e-9b4e-2ad7fcc541e2",
   "metadata": {},
   "outputs": [
    {
     "data": {
      "text/plain": [
       "Subaru    17\n",
       "Subaru    21\n",
       "Subaru    22\n",
       "Subaru    19\n",
       "Subaru    20\n",
       "          ..\n",
       "Subaru    19\n",
       "Subaru    20\n",
       "Subaru    18\n",
       "Subaru    18\n",
       "Subaru    16\n",
       "Name: city08, Length: 961, dtype: int64"
      ]
     },
     "execution_count": 359,
     "metadata": {},
     "output_type": "execute_result"
    }
   ],
   "source": [
    "city2.loc[['Subaru']]"
   ]
  },
  {
   "cell_type": "code",
   "execution_count": 360,
   "id": "b73ec1d8-39ac-41d3-8eeb-f35010bf062b",
   "metadata": {},
   "outputs": [
    {
     "data": {
      "text/plain": [
       "RangeIndex(start=0, stop=44986, step=1)"
      ]
     },
     "execution_count": 360,
     "metadata": {},
     "output_type": "execute_result"
    }
   ],
   "source": [
    "df.index"
   ]
  },
  {
   "cell_type": "code",
   "execution_count": 361,
   "id": "2d446f7b-353c-47a9-8993-4def20a7248b",
   "metadata": {},
   "outputs": [
    {
     "data": {
      "text/html": [
       "<div>\n",
       "<style scoped>\n",
       "    .dataframe tbody tr th:only-of-type {\n",
       "        vertical-align: middle;\n",
       "    }\n",
       "\n",
       "    .dataframe tbody tr th {\n",
       "        vertical-align: top;\n",
       "    }\n",
       "\n",
       "    .dataframe thead th {\n",
       "        text-align: right;\n",
       "    }\n",
       "</style>\n",
       "<table border=\"1\" class=\"dataframe\">\n",
       "  <thead>\n",
       "    <tr style=\"text-align: right;\">\n",
       "      <th></th>\n",
       "      <th>barrels08</th>\n",
       "      <th>barrelsA08</th>\n",
       "      <th>charge120</th>\n",
       "      <th>charge240</th>\n",
       "      <th>city08</th>\n",
       "      <th>city08U</th>\n",
       "      <th>cityA08</th>\n",
       "      <th>cityA08U</th>\n",
       "      <th>cityCD</th>\n",
       "      <th>cityE</th>\n",
       "      <th>...</th>\n",
       "      <th>mfrCode</th>\n",
       "      <th>c240Dscr</th>\n",
       "      <th>charge240b</th>\n",
       "      <th>c240bDscr</th>\n",
       "      <th>createdOn</th>\n",
       "      <th>modifiedOn</th>\n",
       "      <th>startStop</th>\n",
       "      <th>phevCity</th>\n",
       "      <th>phevHwy</th>\n",
       "      <th>phevComb</th>\n",
       "    </tr>\n",
       "  </thead>\n",
       "  <tbody>\n",
       "    <tr>\n",
       "      <th>0</th>\n",
       "      <td>14.167143</td>\n",
       "      <td>0.0</td>\n",
       "      <td>0.0</td>\n",
       "      <td>0.0</td>\n",
       "      <td>19</td>\n",
       "      <td>0.0</td>\n",
       "      <td>0</td>\n",
       "      <td>0.0</td>\n",
       "      <td>0.0</td>\n",
       "      <td>0.0</td>\n",
       "      <td>...</td>\n",
       "      <td>NaN</td>\n",
       "      <td>NaN</td>\n",
       "      <td>0.0</td>\n",
       "      <td>NaN</td>\n",
       "      <td>Tue Jan 01 00:00:00 EST 2013</td>\n",
       "      <td>Tue Jan 01 00:00:00 EST 2013</td>\n",
       "      <td>NaN</td>\n",
       "      <td>0</td>\n",
       "      <td>0</td>\n",
       "      <td>0</td>\n",
       "    </tr>\n",
       "    <tr>\n",
       "      <th>1</th>\n",
       "      <td>27.046364</td>\n",
       "      <td>0.0</td>\n",
       "      <td>0.0</td>\n",
       "      <td>0.0</td>\n",
       "      <td>9</td>\n",
       "      <td>0.0</td>\n",
       "      <td>0</td>\n",
       "      <td>0.0</td>\n",
       "      <td>0.0</td>\n",
       "      <td>0.0</td>\n",
       "      <td>...</td>\n",
       "      <td>NaN</td>\n",
       "      <td>NaN</td>\n",
       "      <td>0.0</td>\n",
       "      <td>NaN</td>\n",
       "      <td>Tue Jan 01 00:00:00 EST 2013</td>\n",
       "      <td>Tue Jan 01 00:00:00 EST 2013</td>\n",
       "      <td>NaN</td>\n",
       "      <td>0</td>\n",
       "      <td>0</td>\n",
       "      <td>0</td>\n",
       "    </tr>\n",
       "    <tr>\n",
       "      <th>2</th>\n",
       "      <td>11.018889</td>\n",
       "      <td>0.0</td>\n",
       "      <td>0.0</td>\n",
       "      <td>0.0</td>\n",
       "      <td>23</td>\n",
       "      <td>0.0</td>\n",
       "      <td>0</td>\n",
       "      <td>0.0</td>\n",
       "      <td>0.0</td>\n",
       "      <td>0.0</td>\n",
       "      <td>...</td>\n",
       "      <td>NaN</td>\n",
       "      <td>NaN</td>\n",
       "      <td>0.0</td>\n",
       "      <td>NaN</td>\n",
       "      <td>Tue Jan 01 00:00:00 EST 2013</td>\n",
       "      <td>Tue Jan 01 00:00:00 EST 2013</td>\n",
       "      <td>NaN</td>\n",
       "      <td>0</td>\n",
       "      <td>0</td>\n",
       "      <td>0</td>\n",
       "    </tr>\n",
       "    <tr>\n",
       "      <th>3</th>\n",
       "      <td>27.046364</td>\n",
       "      <td>0.0</td>\n",
       "      <td>0.0</td>\n",
       "      <td>0.0</td>\n",
       "      <td>10</td>\n",
       "      <td>0.0</td>\n",
       "      <td>0</td>\n",
       "      <td>0.0</td>\n",
       "      <td>0.0</td>\n",
       "      <td>0.0</td>\n",
       "      <td>...</td>\n",
       "      <td>NaN</td>\n",
       "      <td>NaN</td>\n",
       "      <td>0.0</td>\n",
       "      <td>NaN</td>\n",
       "      <td>Tue Jan 01 00:00:00 EST 2013</td>\n",
       "      <td>Tue Jan 01 00:00:00 EST 2013</td>\n",
       "      <td>NaN</td>\n",
       "      <td>0</td>\n",
       "      <td>0</td>\n",
       "      <td>0</td>\n",
       "    </tr>\n",
       "    <tr>\n",
       "      <th>4</th>\n",
       "      <td>15.658421</td>\n",
       "      <td>0.0</td>\n",
       "      <td>0.0</td>\n",
       "      <td>0.0</td>\n",
       "      <td>17</td>\n",
       "      <td>0.0</td>\n",
       "      <td>0</td>\n",
       "      <td>0.0</td>\n",
       "      <td>0.0</td>\n",
       "      <td>0.0</td>\n",
       "      <td>...</td>\n",
       "      <td>NaN</td>\n",
       "      <td>NaN</td>\n",
       "      <td>0.0</td>\n",
       "      <td>NaN</td>\n",
       "      <td>Tue Jan 01 00:00:00 EST 2013</td>\n",
       "      <td>Tue Jan 01 00:00:00 EST 2013</td>\n",
       "      <td>NaN</td>\n",
       "      <td>0</td>\n",
       "      <td>0</td>\n",
       "      <td>0</td>\n",
       "    </tr>\n",
       "  </tbody>\n",
       "</table>\n",
       "<p>5 rows × 83 columns</p>\n",
       "</div>"
      ],
      "text/plain": [
       "   barrels08  barrelsA08  charge120  charge240 city08  city08U  cityA08  \\\n",
       "0  14.167143         0.0        0.0        0.0     19      0.0        0   \n",
       "1  27.046364         0.0        0.0        0.0      9      0.0        0   \n",
       "2  11.018889         0.0        0.0        0.0     23      0.0        0   \n",
       "3  27.046364         0.0        0.0        0.0     10      0.0        0   \n",
       "4  15.658421         0.0        0.0        0.0     17      0.0        0   \n",
       "\n",
       "   cityA08U  cityCD  cityE  ...  mfrCode  c240Dscr  charge240b  c240bDscr  \\\n",
       "0       0.0     0.0    0.0  ...      NaN       NaN         0.0        NaN   \n",
       "1       0.0     0.0    0.0  ...      NaN       NaN         0.0        NaN   \n",
       "2       0.0     0.0    0.0  ...      NaN       NaN         0.0        NaN   \n",
       "3       0.0     0.0    0.0  ...      NaN       NaN         0.0        NaN   \n",
       "4       0.0     0.0    0.0  ...      NaN       NaN         0.0        NaN   \n",
       "\n",
       "                      createdOn                    modifiedOn  startStop  \\\n",
       "0  Tue Jan 01 00:00:00 EST 2013  Tue Jan 01 00:00:00 EST 2013        NaN   \n",
       "1  Tue Jan 01 00:00:00 EST 2013  Tue Jan 01 00:00:00 EST 2013        NaN   \n",
       "2  Tue Jan 01 00:00:00 EST 2013  Tue Jan 01 00:00:00 EST 2013        NaN   \n",
       "3  Tue Jan 01 00:00:00 EST 2013  Tue Jan 01 00:00:00 EST 2013        NaN   \n",
       "4  Tue Jan 01 00:00:00 EST 2013  Tue Jan 01 00:00:00 EST 2013        NaN   \n",
       "\n",
       "   phevCity  phevHwy  phevComb  \n",
       "0         0        0         0  \n",
       "1         0        0         0  \n",
       "2         0        0         0  \n",
       "3         0        0         0  \n",
       "4         0        0         0  \n",
       "\n",
       "[5 rows x 83 columns]"
      ]
     },
     "execution_count": 361,
     "metadata": {},
     "output_type": "execute_result"
    }
   ],
   "source": [
    "df.head()"
   ]
  },
  {
   "cell_type": "code",
   "execution_count": 364,
   "id": "ff0a5ef8-fd57-4e0b-bad9-e86a9e385a08",
   "metadata": {},
   "outputs": [],
   "source": [
    "# city2.loc['Ferrari':'Lamborghini']"
   ]
  },
  {
   "cell_type": "code",
   "execution_count": 365,
   "id": "2d1a5584-81e6-4ee3-9730-465d3edf34f5",
   "metadata": {},
   "outputs": [
    {
     "data": {
      "text/plain": [
       "Ferrari        12\n",
       "Ferrari        11\n",
       "Ferrari        11\n",
       "Ferrari        12\n",
       "Ferrari        10\n",
       "               ..\n",
       "Lamborghini    13\n",
       "Lamborghini    14\n",
       "Lamborghini    12\n",
       "Lamborghini    12\n",
       "Lamborghini    13\n",
       "Name: city08, Length: 12342, dtype: int64"
      ]
     },
     "execution_count": 365,
     "metadata": {},
     "output_type": "execute_result"
    }
   ],
   "source": [
    "city2.sort_index().loc['Ferrari':'Lamborghini']"
   ]
  },
  {
   "cell_type": "code",
   "execution_count": 366,
   "id": "07651c65-ce9a-496b-98c4-64e150069373",
   "metadata": {},
   "outputs": [
    {
     "data": {
      "text/plain": [
       "Federal Coach    13\n",
       "Federal Coach    13\n",
       "Federal Coach    13\n",
       "Federal Coach    13\n",
       "Federal Coach    14\n",
       "                 ..\n",
       "Kia              24\n",
       "Kia              25\n",
       "Koenigsegg       11\n",
       "Koenigsegg       11\n",
       "Koenigsegg       11\n",
       "Name: city08, Length: 12199, dtype: int64"
      ]
     },
     "execution_count": 366,
     "metadata": {},
     "output_type": "execute_result"
    }
   ],
   "source": [
    "city2.sort_index().loc['F':'L']"
   ]
  },
  {
   "cell_type": "code",
   "execution_count": 367,
   "id": "806be498-71d1-444e-885e-ccbed254b75e",
   "metadata": {},
   "outputs": [],
   "source": [
    "idx = pd.Index(['Dodge'])"
   ]
  },
  {
   "cell_type": "code",
   "execution_count": 368,
   "id": "f1fd4c15-1705-4ebf-adad-4ae812ec8ea1",
   "metadata": {},
   "outputs": [
    {
     "data": {
      "text/plain": [
       "Dodge    23\n",
       "Dodge    10\n",
       "Dodge    12\n",
       "Dodge    11\n",
       "Dodge    11\n",
       "         ..\n",
       "Dodge    18\n",
       "Dodge    17\n",
       "Dodge    14\n",
       "Dodge    14\n",
       "Dodge    11\n",
       "Name: city08, Length: 2655, dtype: int64"
      ]
     },
     "execution_count": 368,
     "metadata": {},
     "output_type": "execute_result"
    }
   ],
   "source": [
    "city2.loc[idx]"
   ]
  },
  {
   "cell_type": "code",
   "execution_count": 369,
   "id": "7e6f9e63-2f6d-4eba-b454-286b17d088cc",
   "metadata": {},
   "outputs": [],
   "source": [
    "idx = pd.Index(['Dodge', 'Dodge'])"
   ]
  },
  {
   "cell_type": "code",
   "execution_count": 370,
   "id": "33740798-4c8c-4baa-825b-61996bd7f474",
   "metadata": {},
   "outputs": [
    {
     "data": {
      "text/plain": [
       "Dodge    23\n",
       "Dodge    10\n",
       "Dodge    12\n",
       "Dodge    11\n",
       "Dodge    11\n",
       "         ..\n",
       "Dodge    18\n",
       "Dodge    17\n",
       "Dodge    14\n",
       "Dodge    14\n",
       "Dodge    11\n",
       "Name: city08, Length: 5310, dtype: int64"
      ]
     },
     "execution_count": 370,
     "metadata": {},
     "output_type": "execute_result"
    }
   ],
   "source": [
    "city2.loc[idx]"
   ]
  },
  {
   "cell_type": "code",
   "execution_count": 371,
   "id": "98fd5350-ff6e-4883-8b58-97d913907a90",
   "metadata": {},
   "outputs": [],
   "source": [
    "mask = city2 > 50"
   ]
  },
  {
   "cell_type": "code",
   "execution_count": 372,
   "id": "0f9be2ef-20fa-4452-9840-17312a94c461",
   "metadata": {},
   "outputs": [
    {
     "data": {
      "text/plain": [
       "454"
      ]
     },
     "execution_count": 372,
     "metadata": {},
     "output_type": "execute_result"
    }
   ],
   "source": [
    "mask.sum()"
   ]
  },
  {
   "cell_type": "code",
   "execution_count": 373,
   "id": "c100a848-d9b8-4660-b7b2-4b3950c69ea5",
   "metadata": {},
   "outputs": [
    {
     "data": {
      "text/plain": [
       "Nissan         81\n",
       "Toyota         81\n",
       "Toyota         81\n",
       "Ford           74\n",
       "Nissan         84\n",
       "             ... \n",
       "BMW            77\n",
       "Genesis       103\n",
       "Genesis        97\n",
       "MINI          119\n",
       "Volkswagen    110\n",
       "Name: city08, Length: 454, dtype: int64"
      ]
     },
     "execution_count": 373,
     "metadata": {},
     "output_type": "execute_result"
    }
   ],
   "source": [
    "city2.loc[mask]"
   ]
  },
  {
   "cell_type": "code",
   "execution_count": 374,
   "id": "90430583-1d48-4884-9d0f-55fd6a0f69d6",
   "metadata": {},
   "outputs": [
    {
     "data": {
      "text/plain": [
       "19"
      ]
     },
     "execution_count": 374,
     "metadata": {},
     "output_type": "execute_result"
    }
   ],
   "source": [
    "city2.iloc[0]"
   ]
  },
  {
   "cell_type": "code",
   "execution_count": 375,
   "id": "74ed1271-2567-4fc2-b908-5ccb0a6c03e8",
   "metadata": {},
   "outputs": [
    {
     "data": {
      "text/plain": [
       "16"
      ]
     },
     "execution_count": 375,
     "metadata": {},
     "output_type": "execute_result"
    }
   ],
   "source": [
    "city2.iloc[-1]"
   ]
  },
  {
   "cell_type": "code",
   "execution_count": 376,
   "id": "69f1656c-d6ac-45a4-8ad9-938549475530",
   "metadata": {},
   "outputs": [
    {
     "data": {
      "text/plain": [
       "Alfa Romeo    19\n",
       "Ferrari        9\n",
       "Dodge         23\n",
       "Dodge         10\n",
       "Subaru        17\n",
       "Name: city08, dtype: int64"
      ]
     },
     "execution_count": 376,
     "metadata": {},
     "output_type": "execute_result"
    }
   ],
   "source": [
    "city2.head()"
   ]
  },
  {
   "cell_type": "code",
   "execution_count": 377,
   "id": "cb7a9839-75fe-4ae1-96b8-a45fdab20170",
   "metadata": {},
   "outputs": [
    {
     "data": {
      "text/plain": [
       "Subaru    19\n",
       "Subaru    20\n",
       "Subaru    18\n",
       "Subaru    18\n",
       "Subaru    16\n",
       "Name: city08, dtype: int64"
      ]
     },
     "execution_count": 377,
     "metadata": {},
     "output_type": "execute_result"
    }
   ],
   "source": [
    "city2.tail()"
   ]
  },
  {
   "cell_type": "code",
   "execution_count": 378,
   "id": "532bb5dd-f123-48cc-add0-aec137beefe1",
   "metadata": {},
   "outputs": [
    {
     "data": {
      "text/plain": [
       "Ferrari     9\n",
       "Dodge      10\n",
       "Subaru     21\n",
       "Subaru     16\n",
       "Name: city08, dtype: int64"
      ]
     },
     "execution_count": 378,
     "metadata": {},
     "output_type": "execute_result"
    }
   ],
   "source": [
    "city2.iloc[[1, 3, 5, -1]]"
   ]
  },
  {
   "cell_type": "code",
   "execution_count": 379,
   "id": "20fa3af6-7e7b-46be-bf8c-5065dd72e79a",
   "metadata": {},
   "outputs": [
    {
     "data": {
      "text/plain": [
       "Alfa Romeo    19\n",
       "Ferrari        9\n",
       "Dodge         23\n",
       "Dodge         10\n",
       "Subaru        17\n",
       "Subaru        21\n",
       "Name: city08, dtype: int64"
      ]
     },
     "execution_count": 379,
     "metadata": {},
     "output_type": "execute_result"
    }
   ],
   "source": [
    "city2.head(6)"
   ]
  },
  {
   "cell_type": "code",
   "execution_count": 380,
   "id": "089668bc-2e55-4038-8fa2-253d9b7b56bd",
   "metadata": {},
   "outputs": [
    {
     "data": {
      "text/plain": [
       "Saturn    21\n",
       "Saturn    24\n",
       "Saturn    21\n",
       "Subaru    19\n",
       "Subaru    20\n",
       "Subaru    18\n",
       "Subaru    18\n",
       "Subaru    16\n",
       "Name: city08, dtype: int64"
      ]
     },
     "execution_count": 380,
     "metadata": {},
     "output_type": "execute_result"
    }
   ],
   "source": [
    "city2.iloc[-8:]"
   ]
  },
  {
   "cell_type": "code",
   "execution_count": 381,
   "id": "500d2405-41c7-44ba-a14d-4142dc5b01cd",
   "metadata": {},
   "outputs": [
    {
     "data": {
      "text/plain": [
       "Nissan         81\n",
       "Toyota         81\n",
       "Toyota         81\n",
       "Ford           74\n",
       "Nissan         84\n",
       "             ... \n",
       "BMW            77\n",
       "Genesis       103\n",
       "Genesis        97\n",
       "MINI          119\n",
       "Volkswagen    110\n",
       "Name: city08, Length: 454, dtype: int64"
      ]
     },
     "execution_count": 381,
     "metadata": {},
     "output_type": "execute_result"
    }
   ],
   "source": [
    "city2[mask]"
   ]
  },
  {
   "cell_type": "code",
   "execution_count": 382,
   "id": "27febf10-c5b3-4086-8e4e-6e2e8908b07f",
   "metadata": {},
   "outputs": [],
   "source": [
    "# a boolean array with iloc will fail\n",
    "# city2.iloc[mask]"
   ]
  },
  {
   "cell_type": "code",
   "execution_count": 383,
   "id": "1131eec0-cbea-41a5-8a27-f3b4f345b0b6",
   "metadata": {},
   "outputs": [
    {
     "data": {
      "text/plain": [
       "Nissan         81\n",
       "Toyota         81\n",
       "Toyota         81\n",
       "Ford           74\n",
       "Nissan         84\n",
       "             ... \n",
       "BMW            77\n",
       "Genesis       103\n",
       "Genesis        97\n",
       "MINI          119\n",
       "Volkswagen    110\n",
       "Name: city08, Length: 454, dtype: int64"
      ]
     },
     "execution_count": 383,
     "metadata": {},
     "output_type": "execute_result"
    }
   ],
   "source": [
    "# First convert to a numpy array\n",
    "city2.iloc[mask.to_numpy()]"
   ]
  },
  {
   "cell_type": "code",
   "execution_count": 384,
   "id": "a08204eb-e8b1-49bd-9f03-2c188181dddd",
   "metadata": {},
   "outputs": [
    {
     "data": {
      "text/plain": [
       "Nissan         81\n",
       "Toyota         81\n",
       "Toyota         81\n",
       "Ford           74\n",
       "Nissan         84\n",
       "             ... \n",
       "BMW            77\n",
       "Genesis       103\n",
       "Genesis        97\n",
       "MINI          119\n",
       "Volkswagen    110\n",
       "Name: city08, Length: 454, dtype: int64"
      ]
     },
     "execution_count": 384,
     "metadata": {},
     "output_type": "execute_result"
    }
   ],
   "source": [
    "city2.iloc[list(mask)]"
   ]
  },
  {
   "cell_type": "markdown",
   "id": "9bd83f55-6a9d-4c22-8b75-a9e4a4747c87",
   "metadata": {},
   "source": [
    "## 10.7 Filtering Index Values"
   ]
  },
  {
   "cell_type": "code",
   "execution_count": 385,
   "id": "929d1493-21e6-4c6b-8780-392e15af4025",
   "metadata": {},
   "outputs": [
    {
     "data": {
      "text/plain": [
       "Ford    18\n",
       "Ford    16\n",
       "Ford    17\n",
       "Ford    17\n",
       "Ford    15\n",
       "        ..\n",
       "Ford    26\n",
       "Ford    19\n",
       "Ford    21\n",
       "Ford    18\n",
       "Ford    19\n",
       "Name: city08, Length: 3644, dtype: int64"
      ]
     },
     "execution_count": 385,
     "metadata": {},
     "output_type": "execute_result"
    }
   ],
   "source": [
    "city2.filter(like = 'rd')"
   ]
  },
  {
   "cell_type": "code",
   "execution_count": 386,
   "id": "e8016564-e224-45d6-9f76-42edd265ebd1",
   "metadata": {},
   "outputs": [],
   "source": [
    "# error because of duplicate index\n",
    "# city2.filter(items = ['Ford', 'Subaru'])"
   ]
  },
  {
   "cell_type": "code",
   "execution_count": 387,
   "id": "3ba5ed26-9b6e-49be-8775-5f9e3bb7c86d",
   "metadata": {},
   "outputs": [
    {
     "data": {
      "text/plain": [
       "{'index': ['Paul', 'John', 'George', 'Ringo'],\n",
       " 'data': [145, 142, 38, 13],\n",
       " 'name': 'counts'}"
      ]
     },
     "execution_count": 387,
     "metadata": {},
     "output_type": "execute_result"
    }
   ],
   "source": [
    "songs"
   ]
  },
  {
   "cell_type": "code",
   "execution_count": 388,
   "id": "368ef0ab-3361-4b99-9d62-4c4a8a6b8b6f",
   "metadata": {},
   "outputs": [
    {
     "data": {
      "text/plain": [
       "Subaru    17\n",
       "Subaru    21\n",
       "Subaru    22\n",
       "Ford      18\n",
       "Ford      16\n",
       "          ..\n",
       "Subaru    19\n",
       "Subaru    20\n",
       "Subaru    18\n",
       "Subaru    18\n",
       "Subaru    16\n",
       "Name: city08, Length: 4605, dtype: int64"
      ]
     },
     "execution_count": 388,
     "metadata": {},
     "output_type": "execute_result"
    }
   ],
   "source": [
    "city2.filter(regex='(Ford)|(Subaru)')"
   ]
  },
  {
   "cell_type": "markdown",
   "id": "0bda916a-b98b-40f7-9a2e-c1d05b6a365f",
   "metadata": {},
   "source": [
    "## 10.8 Reindexing"
   ]
  },
  {
   "cell_type": "code",
   "execution_count": 389,
   "id": "aa16522d-6cac-45f2-ae37-a3504f0ae676",
   "metadata": {},
   "outputs": [],
   "source": [
    "# .reindex allows you to pull out values by index label.\n",
    "# returns a series with the order of the index labels provided\n",
    "# errors if duplicate index labels\n",
    "# city2.reindex[['Missing', 'Ford']]"
   ]
  },
  {
   "cell_type": "code",
   "execution_count": 390,
   "id": "92a628db-247d-49f4-bf14-ee1987ff85f2",
   "metadata": {},
   "outputs": [
    {
     "data": {
      "text/plain": [
       "0          19.0\n",
       "0          19.0\n",
       "10         23.0\n",
       "20         14.0\n",
       "2000000     NaN\n",
       "Name: city08, dtype: float64"
      ]
     },
     "execution_count": 390,
     "metadata": {},
     "output_type": "execute_result"
    }
   ],
   "source": [
    "city_mpg.reindex([0, 0, 10, 20, 2_000_000])"
   ]
  },
  {
   "cell_type": "markdown",
   "id": "864752c5-b250-43a7-a01e-211f7b3f3fd3",
   "metadata": {},
   "source": [
    "Use if you have a series that have portions of index labels that are the same and you want one to have the index of the other"
   ]
  },
  {
   "cell_type": "code",
   "execution_count": 391,
   "id": "fec84df4-207a-4c31-8cd3-a536035a6814",
   "metadata": {},
   "outputs": [],
   "source": [
    "s1 = pd.Series([10, 20, 30], index = ['a', 'b', 'c'])"
   ]
  },
  {
   "cell_type": "code",
   "execution_count": 392,
   "id": "70bc908e-2321-4664-8460-90b3edadb119",
   "metadata": {},
   "outputs": [],
   "source": [
    "s2 = pd.Series([15, 25, 35], index = ['b', 'c', 'd'])"
   ]
  },
  {
   "cell_type": "code",
   "execution_count": 393,
   "id": "4bc98d72-facf-4c2c-804b-e5f94627fca0",
   "metadata": {},
   "outputs": [
    {
     "data": {
      "text/plain": [
       "a    10\n",
       "b    20\n",
       "c    30\n",
       "dtype: int64"
      ]
     },
     "execution_count": 393,
     "metadata": {},
     "output_type": "execute_result"
    }
   ],
   "source": [
    "s1"
   ]
  },
  {
   "cell_type": "code",
   "execution_count": 394,
   "id": "fa69bbfd-3ca0-4965-95c0-f5b5864c08de",
   "metadata": {},
   "outputs": [
    {
     "data": {
      "text/plain": [
       "b    15\n",
       "c    25\n",
       "d    35\n",
       "dtype: int64"
      ]
     },
     "execution_count": 394,
     "metadata": {},
     "output_type": "execute_result"
    }
   ],
   "source": [
    "s2"
   ]
  },
  {
   "cell_type": "code",
   "execution_count": 395,
   "id": "0b779d44-e5bf-4f27-b204-b12ce104b3b1",
   "metadata": {},
   "outputs": [
    {
     "data": {
      "text/plain": [
       "a     NaN\n",
       "b    15.0\n",
       "c    25.0\n",
       "dtype: float64"
      ]
     },
     "execution_count": 395,
     "metadata": {},
     "output_type": "execute_result"
    }
   ],
   "source": [
    "s2.reindex(s1.index)"
   ]
  },
  {
   "cell_type": "markdown",
   "id": "341f524f-7520-4487-996d-dbb2cd0d1bbb",
   "metadata": {},
   "source": [
    "## 10.10 Exercises"
   ]
  },
  {
   "cell_type": "code",
   "execution_count": 396,
   "id": "0bea8fe2-ab49-4019-9d73-ec22c5ddac6c",
   "metadata": {},
   "outputs": [
    {
     "data": {
      "text/plain": [
       "RangeIndex(start=0, stop=44986, step=1)"
      ]
     },
     "execution_count": 396,
     "metadata": {},
     "output_type": "execute_result"
    }
   ],
   "source": [
    "df.index"
   ]
  },
  {
   "cell_type": "code",
   "execution_count": 397,
   "id": "c0ad1e75-6307-4934-af75-d8057cdca514",
   "metadata": {},
   "outputs": [
    {
     "data": {
      "text/html": [
       "<div>\n",
       "<style scoped>\n",
       "    .dataframe tbody tr th:only-of-type {\n",
       "        vertical-align: middle;\n",
       "    }\n",
       "\n",
       "    .dataframe tbody tr th {\n",
       "        vertical-align: top;\n",
       "    }\n",
       "\n",
       "    .dataframe thead th {\n",
       "        text-align: right;\n",
       "    }\n",
       "</style>\n",
       "<table border=\"1\" class=\"dataframe\">\n",
       "  <thead>\n",
       "    <tr style=\"text-align: right;\">\n",
       "      <th></th>\n",
       "      <th>barrels08</th>\n",
       "      <th>barrelsA08</th>\n",
       "      <th>charge120</th>\n",
       "      <th>charge240</th>\n",
       "      <th>city08</th>\n",
       "      <th>city08U</th>\n",
       "      <th>cityA08</th>\n",
       "      <th>cityA08U</th>\n",
       "      <th>cityCD</th>\n",
       "      <th>cityE</th>\n",
       "      <th>...</th>\n",
       "      <th>mfrCode</th>\n",
       "      <th>c240Dscr</th>\n",
       "      <th>charge240b</th>\n",
       "      <th>c240bDscr</th>\n",
       "      <th>createdOn</th>\n",
       "      <th>modifiedOn</th>\n",
       "      <th>startStop</th>\n",
       "      <th>phevCity</th>\n",
       "      <th>phevHwy</th>\n",
       "      <th>phevComb</th>\n",
       "    </tr>\n",
       "  </thead>\n",
       "  <tbody>\n",
       "    <tr>\n",
       "      <th>0</th>\n",
       "      <td>14.167143</td>\n",
       "      <td>0.0</td>\n",
       "      <td>0.0</td>\n",
       "      <td>0.0</td>\n",
       "      <td>19</td>\n",
       "      <td>0.0</td>\n",
       "      <td>0</td>\n",
       "      <td>0.0</td>\n",
       "      <td>0.0</td>\n",
       "      <td>0.0</td>\n",
       "      <td>...</td>\n",
       "      <td>NaN</td>\n",
       "      <td>NaN</td>\n",
       "      <td>0.0</td>\n",
       "      <td>NaN</td>\n",
       "      <td>Tue Jan 01 00:00:00 EST 2013</td>\n",
       "      <td>Tue Jan 01 00:00:00 EST 2013</td>\n",
       "      <td>NaN</td>\n",
       "      <td>0</td>\n",
       "      <td>0</td>\n",
       "      <td>0</td>\n",
       "    </tr>\n",
       "    <tr>\n",
       "      <th>1</th>\n",
       "      <td>27.046364</td>\n",
       "      <td>0.0</td>\n",
       "      <td>0.0</td>\n",
       "      <td>0.0</td>\n",
       "      <td>9</td>\n",
       "      <td>0.0</td>\n",
       "      <td>0</td>\n",
       "      <td>0.0</td>\n",
       "      <td>0.0</td>\n",
       "      <td>0.0</td>\n",
       "      <td>...</td>\n",
       "      <td>NaN</td>\n",
       "      <td>NaN</td>\n",
       "      <td>0.0</td>\n",
       "      <td>NaN</td>\n",
       "      <td>Tue Jan 01 00:00:00 EST 2013</td>\n",
       "      <td>Tue Jan 01 00:00:00 EST 2013</td>\n",
       "      <td>NaN</td>\n",
       "      <td>0</td>\n",
       "      <td>0</td>\n",
       "      <td>0</td>\n",
       "    </tr>\n",
       "    <tr>\n",
       "      <th>2</th>\n",
       "      <td>11.018889</td>\n",
       "      <td>0.0</td>\n",
       "      <td>0.0</td>\n",
       "      <td>0.0</td>\n",
       "      <td>23</td>\n",
       "      <td>0.0</td>\n",
       "      <td>0</td>\n",
       "      <td>0.0</td>\n",
       "      <td>0.0</td>\n",
       "      <td>0.0</td>\n",
       "      <td>...</td>\n",
       "      <td>NaN</td>\n",
       "      <td>NaN</td>\n",
       "      <td>0.0</td>\n",
       "      <td>NaN</td>\n",
       "      <td>Tue Jan 01 00:00:00 EST 2013</td>\n",
       "      <td>Tue Jan 01 00:00:00 EST 2013</td>\n",
       "      <td>NaN</td>\n",
       "      <td>0</td>\n",
       "      <td>0</td>\n",
       "      <td>0</td>\n",
       "    </tr>\n",
       "    <tr>\n",
       "      <th>3</th>\n",
       "      <td>27.046364</td>\n",
       "      <td>0.0</td>\n",
       "      <td>0.0</td>\n",
       "      <td>0.0</td>\n",
       "      <td>10</td>\n",
       "      <td>0.0</td>\n",
       "      <td>0</td>\n",
       "      <td>0.0</td>\n",
       "      <td>0.0</td>\n",
       "      <td>0.0</td>\n",
       "      <td>...</td>\n",
       "      <td>NaN</td>\n",
       "      <td>NaN</td>\n",
       "      <td>0.0</td>\n",
       "      <td>NaN</td>\n",
       "      <td>Tue Jan 01 00:00:00 EST 2013</td>\n",
       "      <td>Tue Jan 01 00:00:00 EST 2013</td>\n",
       "      <td>NaN</td>\n",
       "      <td>0</td>\n",
       "      <td>0</td>\n",
       "      <td>0</td>\n",
       "    </tr>\n",
       "    <tr>\n",
       "      <th>4</th>\n",
       "      <td>15.658421</td>\n",
       "      <td>0.0</td>\n",
       "      <td>0.0</td>\n",
       "      <td>0.0</td>\n",
       "      <td>17</td>\n",
       "      <td>0.0</td>\n",
       "      <td>0</td>\n",
       "      <td>0.0</td>\n",
       "      <td>0.0</td>\n",
       "      <td>0.0</td>\n",
       "      <td>...</td>\n",
       "      <td>NaN</td>\n",
       "      <td>NaN</td>\n",
       "      <td>0.0</td>\n",
       "      <td>NaN</td>\n",
       "      <td>Tue Jan 01 00:00:00 EST 2013</td>\n",
       "      <td>Tue Jan 01 00:00:00 EST 2013</td>\n",
       "      <td>NaN</td>\n",
       "      <td>0</td>\n",
       "      <td>0</td>\n",
       "      <td>0</td>\n",
       "    </tr>\n",
       "    <tr>\n",
       "      <th>...</th>\n",
       "      <td>...</td>\n",
       "      <td>...</td>\n",
       "      <td>...</td>\n",
       "      <td>...</td>\n",
       "      <td>...</td>\n",
       "      <td>...</td>\n",
       "      <td>...</td>\n",
       "      <td>...</td>\n",
       "      <td>...</td>\n",
       "      <td>...</td>\n",
       "      <td>...</td>\n",
       "      <td>...</td>\n",
       "      <td>...</td>\n",
       "      <td>...</td>\n",
       "      <td>...</td>\n",
       "      <td>...</td>\n",
       "      <td>...</td>\n",
       "      <td>...</td>\n",
       "      <td>...</td>\n",
       "      <td>...</td>\n",
       "      <td>...</td>\n",
       "    </tr>\n",
       "    <tr>\n",
       "      <th>44981</th>\n",
       "      <td>13.523182</td>\n",
       "      <td>0.0</td>\n",
       "      <td>0.0</td>\n",
       "      <td>0.0</td>\n",
       "      <td>19</td>\n",
       "      <td>0.0</td>\n",
       "      <td>0</td>\n",
       "      <td>0.0</td>\n",
       "      <td>0.0</td>\n",
       "      <td>0.0</td>\n",
       "      <td>...</td>\n",
       "      <td>NaN</td>\n",
       "      <td>NaN</td>\n",
       "      <td>0.0</td>\n",
       "      <td>NaN</td>\n",
       "      <td>Tue Jan 01 00:00:00 EST 2013</td>\n",
       "      <td>Tue Jan 01 00:00:00 EST 2013</td>\n",
       "      <td>NaN</td>\n",
       "      <td>0</td>\n",
       "      <td>0</td>\n",
       "      <td>0</td>\n",
       "    </tr>\n",
       "    <tr>\n",
       "      <th>44982</th>\n",
       "      <td>12.935217</td>\n",
       "      <td>0.0</td>\n",
       "      <td>0.0</td>\n",
       "      <td>0.0</td>\n",
       "      <td>20</td>\n",
       "      <td>0.0</td>\n",
       "      <td>0</td>\n",
       "      <td>0.0</td>\n",
       "      <td>0.0</td>\n",
       "      <td>0.0</td>\n",
       "      <td>...</td>\n",
       "      <td>NaN</td>\n",
       "      <td>NaN</td>\n",
       "      <td>0.0</td>\n",
       "      <td>NaN</td>\n",
       "      <td>Tue Jan 01 00:00:00 EST 2013</td>\n",
       "      <td>Tue Jan 01 00:00:00 EST 2013</td>\n",
       "      <td>NaN</td>\n",
       "      <td>0</td>\n",
       "      <td>0</td>\n",
       "      <td>0</td>\n",
       "    </tr>\n",
       "    <tr>\n",
       "      <th>44983</th>\n",
       "      <td>14.167143</td>\n",
       "      <td>0.0</td>\n",
       "      <td>0.0</td>\n",
       "      <td>0.0</td>\n",
       "      <td>18</td>\n",
       "      <td>0.0</td>\n",
       "      <td>0</td>\n",
       "      <td>0.0</td>\n",
       "      <td>0.0</td>\n",
       "      <td>0.0</td>\n",
       "      <td>...</td>\n",
       "      <td>NaN</td>\n",
       "      <td>NaN</td>\n",
       "      <td>0.0</td>\n",
       "      <td>NaN</td>\n",
       "      <td>Tue Jan 01 00:00:00 EST 2013</td>\n",
       "      <td>Tue Jan 01 00:00:00 EST 2013</td>\n",
       "      <td>NaN</td>\n",
       "      <td>0</td>\n",
       "      <td>0</td>\n",
       "      <td>0</td>\n",
       "    </tr>\n",
       "    <tr>\n",
       "      <th>44984</th>\n",
       "      <td>14.167143</td>\n",
       "      <td>0.0</td>\n",
       "      <td>0.0</td>\n",
       "      <td>0.0</td>\n",
       "      <td>18</td>\n",
       "      <td>0.0</td>\n",
       "      <td>0</td>\n",
       "      <td>0.0</td>\n",
       "      <td>0.0</td>\n",
       "      <td>0.0</td>\n",
       "      <td>...</td>\n",
       "      <td>NaN</td>\n",
       "      <td>NaN</td>\n",
       "      <td>0.0</td>\n",
       "      <td>NaN</td>\n",
       "      <td>Tue Jan 01 00:00:00 EST 2013</td>\n",
       "      <td>Tue Jan 01 00:00:00 EST 2013</td>\n",
       "      <td>NaN</td>\n",
       "      <td>0</td>\n",
       "      <td>0</td>\n",
       "      <td>0</td>\n",
       "    </tr>\n",
       "    <tr>\n",
       "      <th>44985</th>\n",
       "      <td>16.528333</td>\n",
       "      <td>0.0</td>\n",
       "      <td>0.0</td>\n",
       "      <td>0.0</td>\n",
       "      <td>16</td>\n",
       "      <td>0.0</td>\n",
       "      <td>0</td>\n",
       "      <td>0.0</td>\n",
       "      <td>0.0</td>\n",
       "      <td>0.0</td>\n",
       "      <td>...</td>\n",
       "      <td>NaN</td>\n",
       "      <td>NaN</td>\n",
       "      <td>0.0</td>\n",
       "      <td>NaN</td>\n",
       "      <td>Tue Jan 01 00:00:00 EST 2013</td>\n",
       "      <td>Tue Jan 01 00:00:00 EST 2013</td>\n",
       "      <td>NaN</td>\n",
       "      <td>0</td>\n",
       "      <td>0</td>\n",
       "      <td>0</td>\n",
       "    </tr>\n",
       "  </tbody>\n",
       "</table>\n",
       "<p>44986 rows × 83 columns</p>\n",
       "</div>"
      ],
      "text/plain": [
       "       barrels08  barrelsA08  charge120  charge240 city08  city08U  cityA08  \\\n",
       "0      14.167143         0.0        0.0        0.0     19      0.0        0   \n",
       "1      27.046364         0.0        0.0        0.0      9      0.0        0   \n",
       "2      11.018889         0.0        0.0        0.0     23      0.0        0   \n",
       "3      27.046364         0.0        0.0        0.0     10      0.0        0   \n",
       "4      15.658421         0.0        0.0        0.0     17      0.0        0   \n",
       "...          ...         ...        ...        ...    ...      ...      ...   \n",
       "44981  13.523182         0.0        0.0        0.0     19      0.0        0   \n",
       "44982  12.935217         0.0        0.0        0.0     20      0.0        0   \n",
       "44983  14.167143         0.0        0.0        0.0     18      0.0        0   \n",
       "44984  14.167143         0.0        0.0        0.0     18      0.0        0   \n",
       "44985  16.528333         0.0        0.0        0.0     16      0.0        0   \n",
       "\n",
       "       cityA08U  cityCD  cityE  ...  mfrCode  c240Dscr  charge240b  c240bDscr  \\\n",
       "0           0.0     0.0    0.0  ...      NaN       NaN         0.0        NaN   \n",
       "1           0.0     0.0    0.0  ...      NaN       NaN         0.0        NaN   \n",
       "2           0.0     0.0    0.0  ...      NaN       NaN         0.0        NaN   \n",
       "3           0.0     0.0    0.0  ...      NaN       NaN         0.0        NaN   \n",
       "4           0.0     0.0    0.0  ...      NaN       NaN         0.0        NaN   \n",
       "...         ...     ...    ...  ...      ...       ...         ...        ...   \n",
       "44981       0.0     0.0    0.0  ...      NaN       NaN         0.0        NaN   \n",
       "44982       0.0     0.0    0.0  ...      NaN       NaN         0.0        NaN   \n",
       "44983       0.0     0.0    0.0  ...      NaN       NaN         0.0        NaN   \n",
       "44984       0.0     0.0    0.0  ...      NaN       NaN         0.0        NaN   \n",
       "44985       0.0     0.0    0.0  ...      NaN       NaN         0.0        NaN   \n",
       "\n",
       "                          createdOn                    modifiedOn  startStop  \\\n",
       "0      Tue Jan 01 00:00:00 EST 2013  Tue Jan 01 00:00:00 EST 2013        NaN   \n",
       "1      Tue Jan 01 00:00:00 EST 2013  Tue Jan 01 00:00:00 EST 2013        NaN   \n",
       "2      Tue Jan 01 00:00:00 EST 2013  Tue Jan 01 00:00:00 EST 2013        NaN   \n",
       "3      Tue Jan 01 00:00:00 EST 2013  Tue Jan 01 00:00:00 EST 2013        NaN   \n",
       "4      Tue Jan 01 00:00:00 EST 2013  Tue Jan 01 00:00:00 EST 2013        NaN   \n",
       "...                             ...                           ...        ...   \n",
       "44981  Tue Jan 01 00:00:00 EST 2013  Tue Jan 01 00:00:00 EST 2013        NaN   \n",
       "44982  Tue Jan 01 00:00:00 EST 2013  Tue Jan 01 00:00:00 EST 2013        NaN   \n",
       "44983  Tue Jan 01 00:00:00 EST 2013  Tue Jan 01 00:00:00 EST 2013        NaN   \n",
       "44984  Tue Jan 01 00:00:00 EST 2013  Tue Jan 01 00:00:00 EST 2013        NaN   \n",
       "44985  Tue Jan 01 00:00:00 EST 2013  Tue Jan 01 00:00:00 EST 2013        NaN   \n",
       "\n",
       "       phevCity  phevHwy  phevComb  \n",
       "0             0        0         0  \n",
       "1             0        0         0  \n",
       "2             0        0         0  \n",
       "3             0        0         0  \n",
       "4             0        0         0  \n",
       "...         ...      ...       ...  \n",
       "44981         0        0         0  \n",
       "44982         0        0         0  \n",
       "44983         0        0         0  \n",
       "44984         0        0         0  \n",
       "44985         0        0         0  \n",
       "\n",
       "[44986 rows x 83 columns]"
      ]
     },
     "execution_count": 397,
     "metadata": {},
     "output_type": "execute_result"
    }
   ],
   "source": [
    "df.sort_index()"
   ]
  },
  {
   "cell_type": "code",
   "execution_count": 398,
   "id": "f1c59658-e5c9-4f7e-977b-cec5800e0f88",
   "metadata": {},
   "outputs": [
    {
     "data": {
      "text/html": [
       "<div>\n",
       "<style scoped>\n",
       "    .dataframe tbody tr th:only-of-type {\n",
       "        vertical-align: middle;\n",
       "    }\n",
       "\n",
       "    .dataframe tbody tr th {\n",
       "        vertical-align: top;\n",
       "    }\n",
       "\n",
       "    .dataframe thead th {\n",
       "        text-align: right;\n",
       "    }\n",
       "</style>\n",
       "<table border=\"1\" class=\"dataframe\">\n",
       "  <thead>\n",
       "    <tr style=\"text-align: right;\">\n",
       "      <th></th>\n",
       "      <th>index</th>\n",
       "      <th>barrels08</th>\n",
       "      <th>barrelsA08</th>\n",
       "      <th>charge120</th>\n",
       "      <th>charge240</th>\n",
       "      <th>city08</th>\n",
       "      <th>city08U</th>\n",
       "      <th>cityA08</th>\n",
       "      <th>cityA08U</th>\n",
       "      <th>cityCD</th>\n",
       "      <th>...</th>\n",
       "      <th>mfrCode</th>\n",
       "      <th>c240Dscr</th>\n",
       "      <th>charge240b</th>\n",
       "      <th>c240bDscr</th>\n",
       "      <th>createdOn</th>\n",
       "      <th>modifiedOn</th>\n",
       "      <th>startStop</th>\n",
       "      <th>phevCity</th>\n",
       "      <th>phevHwy</th>\n",
       "      <th>phevComb</th>\n",
       "    </tr>\n",
       "  </thead>\n",
       "  <tbody>\n",
       "    <tr>\n",
       "      <th>0</th>\n",
       "      <td>0</td>\n",
       "      <td>14.167143</td>\n",
       "      <td>0.0</td>\n",
       "      <td>0.0</td>\n",
       "      <td>0.0</td>\n",
       "      <td>19</td>\n",
       "      <td>0.0</td>\n",
       "      <td>0</td>\n",
       "      <td>0.0</td>\n",
       "      <td>0.0</td>\n",
       "      <td>...</td>\n",
       "      <td>NaN</td>\n",
       "      <td>NaN</td>\n",
       "      <td>0.0</td>\n",
       "      <td>NaN</td>\n",
       "      <td>Tue Jan 01 00:00:00 EST 2013</td>\n",
       "      <td>Tue Jan 01 00:00:00 EST 2013</td>\n",
       "      <td>NaN</td>\n",
       "      <td>0</td>\n",
       "      <td>0</td>\n",
       "      <td>0</td>\n",
       "    </tr>\n",
       "    <tr>\n",
       "      <th>1</th>\n",
       "      <td>1</td>\n",
       "      <td>27.046364</td>\n",
       "      <td>0.0</td>\n",
       "      <td>0.0</td>\n",
       "      <td>0.0</td>\n",
       "      <td>9</td>\n",
       "      <td>0.0</td>\n",
       "      <td>0</td>\n",
       "      <td>0.0</td>\n",
       "      <td>0.0</td>\n",
       "      <td>...</td>\n",
       "      <td>NaN</td>\n",
       "      <td>NaN</td>\n",
       "      <td>0.0</td>\n",
       "      <td>NaN</td>\n",
       "      <td>Tue Jan 01 00:00:00 EST 2013</td>\n",
       "      <td>Tue Jan 01 00:00:00 EST 2013</td>\n",
       "      <td>NaN</td>\n",
       "      <td>0</td>\n",
       "      <td>0</td>\n",
       "      <td>0</td>\n",
       "    </tr>\n",
       "    <tr>\n",
       "      <th>2</th>\n",
       "      <td>2</td>\n",
       "      <td>11.018889</td>\n",
       "      <td>0.0</td>\n",
       "      <td>0.0</td>\n",
       "      <td>0.0</td>\n",
       "      <td>23</td>\n",
       "      <td>0.0</td>\n",
       "      <td>0</td>\n",
       "      <td>0.0</td>\n",
       "      <td>0.0</td>\n",
       "      <td>...</td>\n",
       "      <td>NaN</td>\n",
       "      <td>NaN</td>\n",
       "      <td>0.0</td>\n",
       "      <td>NaN</td>\n",
       "      <td>Tue Jan 01 00:00:00 EST 2013</td>\n",
       "      <td>Tue Jan 01 00:00:00 EST 2013</td>\n",
       "      <td>NaN</td>\n",
       "      <td>0</td>\n",
       "      <td>0</td>\n",
       "      <td>0</td>\n",
       "    </tr>\n",
       "    <tr>\n",
       "      <th>3</th>\n",
       "      <td>3</td>\n",
       "      <td>27.046364</td>\n",
       "      <td>0.0</td>\n",
       "      <td>0.0</td>\n",
       "      <td>0.0</td>\n",
       "      <td>10</td>\n",
       "      <td>0.0</td>\n",
       "      <td>0</td>\n",
       "      <td>0.0</td>\n",
       "      <td>0.0</td>\n",
       "      <td>...</td>\n",
       "      <td>NaN</td>\n",
       "      <td>NaN</td>\n",
       "      <td>0.0</td>\n",
       "      <td>NaN</td>\n",
       "      <td>Tue Jan 01 00:00:00 EST 2013</td>\n",
       "      <td>Tue Jan 01 00:00:00 EST 2013</td>\n",
       "      <td>NaN</td>\n",
       "      <td>0</td>\n",
       "      <td>0</td>\n",
       "      <td>0</td>\n",
       "    </tr>\n",
       "    <tr>\n",
       "      <th>4</th>\n",
       "      <td>4</td>\n",
       "      <td>15.658421</td>\n",
       "      <td>0.0</td>\n",
       "      <td>0.0</td>\n",
       "      <td>0.0</td>\n",
       "      <td>17</td>\n",
       "      <td>0.0</td>\n",
       "      <td>0</td>\n",
       "      <td>0.0</td>\n",
       "      <td>0.0</td>\n",
       "      <td>...</td>\n",
       "      <td>NaN</td>\n",
       "      <td>NaN</td>\n",
       "      <td>0.0</td>\n",
       "      <td>NaN</td>\n",
       "      <td>Tue Jan 01 00:00:00 EST 2013</td>\n",
       "      <td>Tue Jan 01 00:00:00 EST 2013</td>\n",
       "      <td>NaN</td>\n",
       "      <td>0</td>\n",
       "      <td>0</td>\n",
       "      <td>0</td>\n",
       "    </tr>\n",
       "    <tr>\n",
       "      <th>...</th>\n",
       "      <td>...</td>\n",
       "      <td>...</td>\n",
       "      <td>...</td>\n",
       "      <td>...</td>\n",
       "      <td>...</td>\n",
       "      <td>...</td>\n",
       "      <td>...</td>\n",
       "      <td>...</td>\n",
       "      <td>...</td>\n",
       "      <td>...</td>\n",
       "      <td>...</td>\n",
       "      <td>...</td>\n",
       "      <td>...</td>\n",
       "      <td>...</td>\n",
       "      <td>...</td>\n",
       "      <td>...</td>\n",
       "      <td>...</td>\n",
       "      <td>...</td>\n",
       "      <td>...</td>\n",
       "      <td>...</td>\n",
       "      <td>...</td>\n",
       "    </tr>\n",
       "    <tr>\n",
       "      <th>44981</th>\n",
       "      <td>44981</td>\n",
       "      <td>13.523182</td>\n",
       "      <td>0.0</td>\n",
       "      <td>0.0</td>\n",
       "      <td>0.0</td>\n",
       "      <td>19</td>\n",
       "      <td>0.0</td>\n",
       "      <td>0</td>\n",
       "      <td>0.0</td>\n",
       "      <td>0.0</td>\n",
       "      <td>...</td>\n",
       "      <td>NaN</td>\n",
       "      <td>NaN</td>\n",
       "      <td>0.0</td>\n",
       "      <td>NaN</td>\n",
       "      <td>Tue Jan 01 00:00:00 EST 2013</td>\n",
       "      <td>Tue Jan 01 00:00:00 EST 2013</td>\n",
       "      <td>NaN</td>\n",
       "      <td>0</td>\n",
       "      <td>0</td>\n",
       "      <td>0</td>\n",
       "    </tr>\n",
       "    <tr>\n",
       "      <th>44982</th>\n",
       "      <td>44982</td>\n",
       "      <td>12.935217</td>\n",
       "      <td>0.0</td>\n",
       "      <td>0.0</td>\n",
       "      <td>0.0</td>\n",
       "      <td>20</td>\n",
       "      <td>0.0</td>\n",
       "      <td>0</td>\n",
       "      <td>0.0</td>\n",
       "      <td>0.0</td>\n",
       "      <td>...</td>\n",
       "      <td>NaN</td>\n",
       "      <td>NaN</td>\n",
       "      <td>0.0</td>\n",
       "      <td>NaN</td>\n",
       "      <td>Tue Jan 01 00:00:00 EST 2013</td>\n",
       "      <td>Tue Jan 01 00:00:00 EST 2013</td>\n",
       "      <td>NaN</td>\n",
       "      <td>0</td>\n",
       "      <td>0</td>\n",
       "      <td>0</td>\n",
       "    </tr>\n",
       "    <tr>\n",
       "      <th>44983</th>\n",
       "      <td>44983</td>\n",
       "      <td>14.167143</td>\n",
       "      <td>0.0</td>\n",
       "      <td>0.0</td>\n",
       "      <td>0.0</td>\n",
       "      <td>18</td>\n",
       "      <td>0.0</td>\n",
       "      <td>0</td>\n",
       "      <td>0.0</td>\n",
       "      <td>0.0</td>\n",
       "      <td>...</td>\n",
       "      <td>NaN</td>\n",
       "      <td>NaN</td>\n",
       "      <td>0.0</td>\n",
       "      <td>NaN</td>\n",
       "      <td>Tue Jan 01 00:00:00 EST 2013</td>\n",
       "      <td>Tue Jan 01 00:00:00 EST 2013</td>\n",
       "      <td>NaN</td>\n",
       "      <td>0</td>\n",
       "      <td>0</td>\n",
       "      <td>0</td>\n",
       "    </tr>\n",
       "    <tr>\n",
       "      <th>44984</th>\n",
       "      <td>44984</td>\n",
       "      <td>14.167143</td>\n",
       "      <td>0.0</td>\n",
       "      <td>0.0</td>\n",
       "      <td>0.0</td>\n",
       "      <td>18</td>\n",
       "      <td>0.0</td>\n",
       "      <td>0</td>\n",
       "      <td>0.0</td>\n",
       "      <td>0.0</td>\n",
       "      <td>...</td>\n",
       "      <td>NaN</td>\n",
       "      <td>NaN</td>\n",
       "      <td>0.0</td>\n",
       "      <td>NaN</td>\n",
       "      <td>Tue Jan 01 00:00:00 EST 2013</td>\n",
       "      <td>Tue Jan 01 00:00:00 EST 2013</td>\n",
       "      <td>NaN</td>\n",
       "      <td>0</td>\n",
       "      <td>0</td>\n",
       "      <td>0</td>\n",
       "    </tr>\n",
       "    <tr>\n",
       "      <th>44985</th>\n",
       "      <td>44985</td>\n",
       "      <td>16.528333</td>\n",
       "      <td>0.0</td>\n",
       "      <td>0.0</td>\n",
       "      <td>0.0</td>\n",
       "      <td>16</td>\n",
       "      <td>0.0</td>\n",
       "      <td>0</td>\n",
       "      <td>0.0</td>\n",
       "      <td>0.0</td>\n",
       "      <td>...</td>\n",
       "      <td>NaN</td>\n",
       "      <td>NaN</td>\n",
       "      <td>0.0</td>\n",
       "      <td>NaN</td>\n",
       "      <td>Tue Jan 01 00:00:00 EST 2013</td>\n",
       "      <td>Tue Jan 01 00:00:00 EST 2013</td>\n",
       "      <td>NaN</td>\n",
       "      <td>0</td>\n",
       "      <td>0</td>\n",
       "      <td>0</td>\n",
       "    </tr>\n",
       "  </tbody>\n",
       "</table>\n",
       "<p>44986 rows × 84 columns</p>\n",
       "</div>"
      ],
      "text/plain": [
       "       index  barrels08  barrelsA08  charge120  charge240 city08  city08U  \\\n",
       "0          0  14.167143         0.0        0.0        0.0     19      0.0   \n",
       "1          1  27.046364         0.0        0.0        0.0      9      0.0   \n",
       "2          2  11.018889         0.0        0.0        0.0     23      0.0   \n",
       "3          3  27.046364         0.0        0.0        0.0     10      0.0   \n",
       "4          4  15.658421         0.0        0.0        0.0     17      0.0   \n",
       "...      ...        ...         ...        ...        ...    ...      ...   \n",
       "44981  44981  13.523182         0.0        0.0        0.0     19      0.0   \n",
       "44982  44982  12.935217         0.0        0.0        0.0     20      0.0   \n",
       "44983  44983  14.167143         0.0        0.0        0.0     18      0.0   \n",
       "44984  44984  14.167143         0.0        0.0        0.0     18      0.0   \n",
       "44985  44985  16.528333         0.0        0.0        0.0     16      0.0   \n",
       "\n",
       "       cityA08  cityA08U  cityCD  ...  mfrCode  c240Dscr  charge240b  \\\n",
       "0            0       0.0     0.0  ...      NaN       NaN         0.0   \n",
       "1            0       0.0     0.0  ...      NaN       NaN         0.0   \n",
       "2            0       0.0     0.0  ...      NaN       NaN         0.0   \n",
       "3            0       0.0     0.0  ...      NaN       NaN         0.0   \n",
       "4            0       0.0     0.0  ...      NaN       NaN         0.0   \n",
       "...        ...       ...     ...  ...      ...       ...         ...   \n",
       "44981        0       0.0     0.0  ...      NaN       NaN         0.0   \n",
       "44982        0       0.0     0.0  ...      NaN       NaN         0.0   \n",
       "44983        0       0.0     0.0  ...      NaN       NaN         0.0   \n",
       "44984        0       0.0     0.0  ...      NaN       NaN         0.0   \n",
       "44985        0       0.0     0.0  ...      NaN       NaN         0.0   \n",
       "\n",
       "       c240bDscr                     createdOn                    modifiedOn  \\\n",
       "0            NaN  Tue Jan 01 00:00:00 EST 2013  Tue Jan 01 00:00:00 EST 2013   \n",
       "1            NaN  Tue Jan 01 00:00:00 EST 2013  Tue Jan 01 00:00:00 EST 2013   \n",
       "2            NaN  Tue Jan 01 00:00:00 EST 2013  Tue Jan 01 00:00:00 EST 2013   \n",
       "3            NaN  Tue Jan 01 00:00:00 EST 2013  Tue Jan 01 00:00:00 EST 2013   \n",
       "4            NaN  Tue Jan 01 00:00:00 EST 2013  Tue Jan 01 00:00:00 EST 2013   \n",
       "...          ...                           ...                           ...   \n",
       "44981        NaN  Tue Jan 01 00:00:00 EST 2013  Tue Jan 01 00:00:00 EST 2013   \n",
       "44982        NaN  Tue Jan 01 00:00:00 EST 2013  Tue Jan 01 00:00:00 EST 2013   \n",
       "44983        NaN  Tue Jan 01 00:00:00 EST 2013  Tue Jan 01 00:00:00 EST 2013   \n",
       "44984        NaN  Tue Jan 01 00:00:00 EST 2013  Tue Jan 01 00:00:00 EST 2013   \n",
       "44985        NaN  Tue Jan 01 00:00:00 EST 2013  Tue Jan 01 00:00:00 EST 2013   \n",
       "\n",
       "       startStop  phevCity  phevHwy  phevComb  \n",
       "0            NaN         0        0         0  \n",
       "1            NaN         0        0         0  \n",
       "2            NaN         0        0         0  \n",
       "3            NaN         0        0         0  \n",
       "4            NaN         0        0         0  \n",
       "...          ...       ...      ...       ...  \n",
       "44981        NaN         0        0         0  \n",
       "44982        NaN         0        0         0  \n",
       "44983        NaN         0        0         0  \n",
       "44984        NaN         0        0         0  \n",
       "44985        NaN         0        0         0  \n",
       "\n",
       "[44986 rows x 84 columns]"
      ]
     },
     "execution_count": 398,
     "metadata": {},
     "output_type": "execute_result"
    }
   ],
   "source": [
    "df.reset_index()"
   ]
  },
  {
   "cell_type": "code",
   "execution_count": 399,
   "id": "40f10363-a1f9-4e6c-b13a-c1705076e3a1",
   "metadata": {},
   "outputs": [
    {
     "data": {
      "text/plain": [
       "0        Alfa Romeo\n",
       "1           Ferrari\n",
       "2             Dodge\n",
       "3             Dodge\n",
       "4            Subaru\n",
       "            ...    \n",
       "44981        Subaru\n",
       "44982        Subaru\n",
       "44983        Subaru\n",
       "44984        Subaru\n",
       "44985        Subaru\n",
       "Name: make, Length: 44986, dtype: object"
      ]
     },
     "execution_count": 399,
     "metadata": {},
     "output_type": "execute_result"
    }
   ],
   "source": [
    "make"
   ]
  },
  {
   "cell_type": "code",
   "execution_count": 400,
   "id": "ed39e99f-23c0-4519-8aa7-a7e33828de58",
   "metadata": {},
   "outputs": [
    {
     "data": {
      "text/plain": [
       "RangeIndex(start=0, stop=44986, step=1)"
      ]
     },
     "execution_count": 400,
     "metadata": {},
     "output_type": "execute_result"
    }
   ],
   "source": [
    "df.index"
   ]
  },
  {
   "cell_type": "code",
   "execution_count": 401,
   "id": "76e9f27f-9d03-4bb0-be22-291d19fe4e99",
   "metadata": {},
   "outputs": [
    {
     "data": {
      "text/plain": [
       "Index(['0', '1', '2', '3', '4', '5', '6', '7', '8', '9',\n",
       "       ...\n",
       "       '44976', '44977', '44978', '44979', '44980', '44981', '44982', '44983',\n",
       "       '44984', '44985'],\n",
       "      dtype='object', length=44986)"
      ]
     },
     "execution_count": 401,
     "metadata": {},
     "output_type": "execute_result"
    }
   ],
   "source": [
    "df.index.map(str)"
   ]
  },
  {
   "cell_type": "code",
   "execution_count": 402,
   "id": "bb6e9368-2e5f-4f76-b94a-e0ab207cf74f",
   "metadata": {},
   "outputs": [],
   "source": [
    "s2 = df.set_index(df.index.map(str))"
   ]
  },
  {
   "cell_type": "code",
   "execution_count": 403,
   "id": "afbe80b0-5c0c-4801-8987-a85142ba96fd",
   "metadata": {},
   "outputs": [
    {
     "data": {
      "text/plain": [
       "Index(['0', '1', '2', '3', '4', '5', '6', '7', '8', '9',\n",
       "       ...\n",
       "       '44976', '44977', '44978', '44979', '44980', '44981', '44982', '44983',\n",
       "       '44984', '44985'],\n",
       "      dtype='object', length=44986)"
      ]
     },
     "execution_count": 403,
     "metadata": {},
     "output_type": "execute_result"
    }
   ],
   "source": [
    "s2.index"
   ]
  },
  {
   "cell_type": "code",
   "execution_count": 404,
   "id": "7329264d-a8e5-4ba1-aa3b-e5e1fe7aba3c",
   "metadata": {},
   "outputs": [
    {
     "data": {
      "text/html": [
       "<div>\n",
       "<style scoped>\n",
       "    .dataframe tbody tr th:only-of-type {\n",
       "        vertical-align: middle;\n",
       "    }\n",
       "\n",
       "    .dataframe tbody tr th {\n",
       "        vertical-align: top;\n",
       "    }\n",
       "\n",
       "    .dataframe thead th {\n",
       "        text-align: right;\n",
       "    }\n",
       "</style>\n",
       "<table border=\"1\" class=\"dataframe\">\n",
       "  <thead>\n",
       "    <tr style=\"text-align: right;\">\n",
       "      <th></th>\n",
       "      <th>barrels08</th>\n",
       "      <th>barrelsA08</th>\n",
       "      <th>charge120</th>\n",
       "      <th>charge240</th>\n",
       "      <th>city08</th>\n",
       "      <th>city08U</th>\n",
       "      <th>cityA08</th>\n",
       "      <th>cityA08U</th>\n",
       "      <th>cityCD</th>\n",
       "      <th>cityE</th>\n",
       "      <th>...</th>\n",
       "      <th>mfrCode</th>\n",
       "      <th>c240Dscr</th>\n",
       "      <th>charge240b</th>\n",
       "      <th>c240bDscr</th>\n",
       "      <th>createdOn</th>\n",
       "      <th>modifiedOn</th>\n",
       "      <th>startStop</th>\n",
       "      <th>phevCity</th>\n",
       "      <th>phevHwy</th>\n",
       "      <th>phevComb</th>\n",
       "    </tr>\n",
       "  </thead>\n",
       "  <tbody>\n",
       "    <tr>\n",
       "      <th>0</th>\n",
       "      <td>14.167143</td>\n",
       "      <td>0.0</td>\n",
       "      <td>0.0</td>\n",
       "      <td>0.0</td>\n",
       "      <td>19</td>\n",
       "      <td>0.0</td>\n",
       "      <td>0</td>\n",
       "      <td>0.0</td>\n",
       "      <td>0.0</td>\n",
       "      <td>0.0</td>\n",
       "      <td>...</td>\n",
       "      <td>NaN</td>\n",
       "      <td>NaN</td>\n",
       "      <td>0.0</td>\n",
       "      <td>NaN</td>\n",
       "      <td>Tue Jan 01 00:00:00 EST 2013</td>\n",
       "      <td>Tue Jan 01 00:00:00 EST 2013</td>\n",
       "      <td>NaN</td>\n",
       "      <td>0</td>\n",
       "      <td>0</td>\n",
       "      <td>0</td>\n",
       "    </tr>\n",
       "    <tr>\n",
       "      <th>1</th>\n",
       "      <td>27.046364</td>\n",
       "      <td>0.0</td>\n",
       "      <td>0.0</td>\n",
       "      <td>0.0</td>\n",
       "      <td>9</td>\n",
       "      <td>0.0</td>\n",
       "      <td>0</td>\n",
       "      <td>0.0</td>\n",
       "      <td>0.0</td>\n",
       "      <td>0.0</td>\n",
       "      <td>...</td>\n",
       "      <td>NaN</td>\n",
       "      <td>NaN</td>\n",
       "      <td>0.0</td>\n",
       "      <td>NaN</td>\n",
       "      <td>Tue Jan 01 00:00:00 EST 2013</td>\n",
       "      <td>Tue Jan 01 00:00:00 EST 2013</td>\n",
       "      <td>NaN</td>\n",
       "      <td>0</td>\n",
       "      <td>0</td>\n",
       "      <td>0</td>\n",
       "    </tr>\n",
       "    <tr>\n",
       "      <th>2</th>\n",
       "      <td>11.018889</td>\n",
       "      <td>0.0</td>\n",
       "      <td>0.0</td>\n",
       "      <td>0.0</td>\n",
       "      <td>23</td>\n",
       "      <td>0.0</td>\n",
       "      <td>0</td>\n",
       "      <td>0.0</td>\n",
       "      <td>0.0</td>\n",
       "      <td>0.0</td>\n",
       "      <td>...</td>\n",
       "      <td>NaN</td>\n",
       "      <td>NaN</td>\n",
       "      <td>0.0</td>\n",
       "      <td>NaN</td>\n",
       "      <td>Tue Jan 01 00:00:00 EST 2013</td>\n",
       "      <td>Tue Jan 01 00:00:00 EST 2013</td>\n",
       "      <td>NaN</td>\n",
       "      <td>0</td>\n",
       "      <td>0</td>\n",
       "      <td>0</td>\n",
       "    </tr>\n",
       "    <tr>\n",
       "      <th>3</th>\n",
       "      <td>27.046364</td>\n",
       "      <td>0.0</td>\n",
       "      <td>0.0</td>\n",
       "      <td>0.0</td>\n",
       "      <td>10</td>\n",
       "      <td>0.0</td>\n",
       "      <td>0</td>\n",
       "      <td>0.0</td>\n",
       "      <td>0.0</td>\n",
       "      <td>0.0</td>\n",
       "      <td>...</td>\n",
       "      <td>NaN</td>\n",
       "      <td>NaN</td>\n",
       "      <td>0.0</td>\n",
       "      <td>NaN</td>\n",
       "      <td>Tue Jan 01 00:00:00 EST 2013</td>\n",
       "      <td>Tue Jan 01 00:00:00 EST 2013</td>\n",
       "      <td>NaN</td>\n",
       "      <td>0</td>\n",
       "      <td>0</td>\n",
       "      <td>0</td>\n",
       "    </tr>\n",
       "    <tr>\n",
       "      <th>4</th>\n",
       "      <td>15.658421</td>\n",
       "      <td>0.0</td>\n",
       "      <td>0.0</td>\n",
       "      <td>0.0</td>\n",
       "      <td>17</td>\n",
       "      <td>0.0</td>\n",
       "      <td>0</td>\n",
       "      <td>0.0</td>\n",
       "      <td>0.0</td>\n",
       "      <td>0.0</td>\n",
       "      <td>...</td>\n",
       "      <td>NaN</td>\n",
       "      <td>NaN</td>\n",
       "      <td>0.0</td>\n",
       "      <td>NaN</td>\n",
       "      <td>Tue Jan 01 00:00:00 EST 2013</td>\n",
       "      <td>Tue Jan 01 00:00:00 EST 2013</td>\n",
       "      <td>NaN</td>\n",
       "      <td>0</td>\n",
       "      <td>0</td>\n",
       "      <td>0</td>\n",
       "    </tr>\n",
       "  </tbody>\n",
       "</table>\n",
       "<p>5 rows × 83 columns</p>\n",
       "</div>"
      ],
      "text/plain": [
       "   barrels08  barrelsA08  charge120  charge240 city08  city08U  cityA08  \\\n",
       "0  14.167143         0.0        0.0        0.0     19      0.0        0   \n",
       "1  27.046364         0.0        0.0        0.0      9      0.0        0   \n",
       "2  11.018889         0.0        0.0        0.0     23      0.0        0   \n",
       "3  27.046364         0.0        0.0        0.0     10      0.0        0   \n",
       "4  15.658421         0.0        0.0        0.0     17      0.0        0   \n",
       "\n",
       "   cityA08U  cityCD  cityE  ...  mfrCode  c240Dscr  charge240b  c240bDscr  \\\n",
       "0       0.0     0.0    0.0  ...      NaN       NaN         0.0        NaN   \n",
       "1       0.0     0.0    0.0  ...      NaN       NaN         0.0        NaN   \n",
       "2       0.0     0.0    0.0  ...      NaN       NaN         0.0        NaN   \n",
       "3       0.0     0.0    0.0  ...      NaN       NaN         0.0        NaN   \n",
       "4       0.0     0.0    0.0  ...      NaN       NaN         0.0        NaN   \n",
       "\n",
       "                      createdOn                    modifiedOn  startStop  \\\n",
       "0  Tue Jan 01 00:00:00 EST 2013  Tue Jan 01 00:00:00 EST 2013        NaN   \n",
       "1  Tue Jan 01 00:00:00 EST 2013  Tue Jan 01 00:00:00 EST 2013        NaN   \n",
       "2  Tue Jan 01 00:00:00 EST 2013  Tue Jan 01 00:00:00 EST 2013        NaN   \n",
       "3  Tue Jan 01 00:00:00 EST 2013  Tue Jan 01 00:00:00 EST 2013        NaN   \n",
       "4  Tue Jan 01 00:00:00 EST 2013  Tue Jan 01 00:00:00 EST 2013        NaN   \n",
       "\n",
       "   phevCity  phevHwy  phevComb  \n",
       "0         0        0         0  \n",
       "1         0        0         0  \n",
       "2         0        0         0  \n",
       "3         0        0         0  \n",
       "4         0        0         0  \n",
       "\n",
       "[5 rows x 83 columns]"
      ]
     },
     "execution_count": 404,
     "metadata": {},
     "output_type": "execute_result"
    }
   ],
   "source": [
    "s2['0':'4']"
   ]
  },
  {
   "cell_type": "code",
   "execution_count": 405,
   "id": "d941b16c-d665-4bd9-85e4-b128b2c15b29",
   "metadata": {},
   "outputs": [
    {
     "data": {
      "text/html": [
       "<div>\n",
       "<style scoped>\n",
       "    .dataframe tbody tr th:only-of-type {\n",
       "        vertical-align: middle;\n",
       "    }\n",
       "\n",
       "    .dataframe tbody tr th {\n",
       "        vertical-align: top;\n",
       "    }\n",
       "\n",
       "    .dataframe thead th {\n",
       "        text-align: right;\n",
       "    }\n",
       "</style>\n",
       "<table border=\"1\" class=\"dataframe\">\n",
       "  <thead>\n",
       "    <tr style=\"text-align: right;\">\n",
       "      <th></th>\n",
       "      <th>barrels08</th>\n",
       "      <th>barrelsA08</th>\n",
       "      <th>charge120</th>\n",
       "      <th>charge240</th>\n",
       "      <th>city08</th>\n",
       "      <th>city08U</th>\n",
       "      <th>cityA08</th>\n",
       "      <th>cityA08U</th>\n",
       "      <th>cityCD</th>\n",
       "      <th>cityE</th>\n",
       "      <th>...</th>\n",
       "      <th>mfrCode</th>\n",
       "      <th>c240Dscr</th>\n",
       "      <th>charge240b</th>\n",
       "      <th>c240bDscr</th>\n",
       "      <th>createdOn</th>\n",
       "      <th>modifiedOn</th>\n",
       "      <th>startStop</th>\n",
       "      <th>phevCity</th>\n",
       "      <th>phevHwy</th>\n",
       "      <th>phevComb</th>\n",
       "    </tr>\n",
       "  </thead>\n",
       "  <tbody>\n",
       "    <tr>\n",
       "      <th>0</th>\n",
       "      <td>14.167143</td>\n",
       "      <td>0.0</td>\n",
       "      <td>0.0</td>\n",
       "      <td>0.0</td>\n",
       "      <td>19</td>\n",
       "      <td>0.0</td>\n",
       "      <td>0</td>\n",
       "      <td>0.0</td>\n",
       "      <td>0.0</td>\n",
       "      <td>0.0</td>\n",
       "      <td>...</td>\n",
       "      <td>NaN</td>\n",
       "      <td>NaN</td>\n",
       "      <td>0.0</td>\n",
       "      <td>NaN</td>\n",
       "      <td>Tue Jan 01 00:00:00 EST 2013</td>\n",
       "      <td>Tue Jan 01 00:00:00 EST 2013</td>\n",
       "      <td>NaN</td>\n",
       "      <td>0</td>\n",
       "      <td>0</td>\n",
       "      <td>0</td>\n",
       "    </tr>\n",
       "    <tr>\n",
       "      <th>1</th>\n",
       "      <td>27.046364</td>\n",
       "      <td>0.0</td>\n",
       "      <td>0.0</td>\n",
       "      <td>0.0</td>\n",
       "      <td>9</td>\n",
       "      <td>0.0</td>\n",
       "      <td>0</td>\n",
       "      <td>0.0</td>\n",
       "      <td>0.0</td>\n",
       "      <td>0.0</td>\n",
       "      <td>...</td>\n",
       "      <td>NaN</td>\n",
       "      <td>NaN</td>\n",
       "      <td>0.0</td>\n",
       "      <td>NaN</td>\n",
       "      <td>Tue Jan 01 00:00:00 EST 2013</td>\n",
       "      <td>Tue Jan 01 00:00:00 EST 2013</td>\n",
       "      <td>NaN</td>\n",
       "      <td>0</td>\n",
       "      <td>0</td>\n",
       "      <td>0</td>\n",
       "    </tr>\n",
       "    <tr>\n",
       "      <th>2</th>\n",
       "      <td>11.018889</td>\n",
       "      <td>0.0</td>\n",
       "      <td>0.0</td>\n",
       "      <td>0.0</td>\n",
       "      <td>23</td>\n",
       "      <td>0.0</td>\n",
       "      <td>0</td>\n",
       "      <td>0.0</td>\n",
       "      <td>0.0</td>\n",
       "      <td>0.0</td>\n",
       "      <td>...</td>\n",
       "      <td>NaN</td>\n",
       "      <td>NaN</td>\n",
       "      <td>0.0</td>\n",
       "      <td>NaN</td>\n",
       "      <td>Tue Jan 01 00:00:00 EST 2013</td>\n",
       "      <td>Tue Jan 01 00:00:00 EST 2013</td>\n",
       "      <td>NaN</td>\n",
       "      <td>0</td>\n",
       "      <td>0</td>\n",
       "      <td>0</td>\n",
       "    </tr>\n",
       "    <tr>\n",
       "      <th>3</th>\n",
       "      <td>27.046364</td>\n",
       "      <td>0.0</td>\n",
       "      <td>0.0</td>\n",
       "      <td>0.0</td>\n",
       "      <td>10</td>\n",
       "      <td>0.0</td>\n",
       "      <td>0</td>\n",
       "      <td>0.0</td>\n",
       "      <td>0.0</td>\n",
       "      <td>0.0</td>\n",
       "      <td>...</td>\n",
       "      <td>NaN</td>\n",
       "      <td>NaN</td>\n",
       "      <td>0.0</td>\n",
       "      <td>NaN</td>\n",
       "      <td>Tue Jan 01 00:00:00 EST 2013</td>\n",
       "      <td>Tue Jan 01 00:00:00 EST 2013</td>\n",
       "      <td>NaN</td>\n",
       "      <td>0</td>\n",
       "      <td>0</td>\n",
       "      <td>0</td>\n",
       "    </tr>\n",
       "  </tbody>\n",
       "</table>\n",
       "<p>4 rows × 83 columns</p>\n",
       "</div>"
      ],
      "text/plain": [
       "   barrels08  barrelsA08  charge120  charge240 city08  city08U  cityA08  \\\n",
       "0  14.167143         0.0        0.0        0.0     19      0.0        0   \n",
       "1  27.046364         0.0        0.0        0.0      9      0.0        0   \n",
       "2  11.018889         0.0        0.0        0.0     23      0.0        0   \n",
       "3  27.046364         0.0        0.0        0.0     10      0.0        0   \n",
       "\n",
       "   cityA08U  cityCD  cityE  ...  mfrCode  c240Dscr  charge240b  c240bDscr  \\\n",
       "0       0.0     0.0    0.0  ...      NaN       NaN         0.0        NaN   \n",
       "1       0.0     0.0    0.0  ...      NaN       NaN         0.0        NaN   \n",
       "2       0.0     0.0    0.0  ...      NaN       NaN         0.0        NaN   \n",
       "3       0.0     0.0    0.0  ...      NaN       NaN         0.0        NaN   \n",
       "\n",
       "                      createdOn                    modifiedOn  startStop  \\\n",
       "0  Tue Jan 01 00:00:00 EST 2013  Tue Jan 01 00:00:00 EST 2013        NaN   \n",
       "1  Tue Jan 01 00:00:00 EST 2013  Tue Jan 01 00:00:00 EST 2013        NaN   \n",
       "2  Tue Jan 01 00:00:00 EST 2013  Tue Jan 01 00:00:00 EST 2013        NaN   \n",
       "3  Tue Jan 01 00:00:00 EST 2013  Tue Jan 01 00:00:00 EST 2013        NaN   \n",
       "\n",
       "   phevCity  phevHwy  phevComb  \n",
       "0         0        0         0  \n",
       "1         0        0         0  \n",
       "2         0        0         0  \n",
       "3         0        0         0  \n",
       "\n",
       "[4 rows x 83 columns]"
      ]
     },
     "execution_count": 405,
     "metadata": {},
     "output_type": "execute_result"
    }
   ],
   "source": [
    "df[0:4]"
   ]
  },
  {
   "cell_type": "code",
   "execution_count": 406,
   "id": "156810d6-3187-4c7e-b503-1427fbe6f495",
   "metadata": {},
   "outputs": [
    {
     "data": {
      "text/html": [
       "<div>\n",
       "<style scoped>\n",
       "    .dataframe tbody tr th:only-of-type {\n",
       "        vertical-align: middle;\n",
       "    }\n",
       "\n",
       "    .dataframe tbody tr th {\n",
       "        vertical-align: top;\n",
       "    }\n",
       "\n",
       "    .dataframe thead th {\n",
       "        text-align: right;\n",
       "    }\n",
       "</style>\n",
       "<table border=\"1\" class=\"dataframe\">\n",
       "  <thead>\n",
       "    <tr style=\"text-align: right;\">\n",
       "      <th></th>\n",
       "      <th>barrels08</th>\n",
       "      <th>barrelsA08</th>\n",
       "      <th>charge120</th>\n",
       "      <th>charge240</th>\n",
       "      <th>city08</th>\n",
       "      <th>city08U</th>\n",
       "      <th>cityA08</th>\n",
       "      <th>cityA08U</th>\n",
       "      <th>cityCD</th>\n",
       "      <th>cityE</th>\n",
       "      <th>...</th>\n",
       "      <th>mfrCode</th>\n",
       "      <th>c240Dscr</th>\n",
       "      <th>charge240b</th>\n",
       "      <th>c240bDscr</th>\n",
       "      <th>createdOn</th>\n",
       "      <th>modifiedOn</th>\n",
       "      <th>startStop</th>\n",
       "      <th>phevCity</th>\n",
       "      <th>phevHwy</th>\n",
       "      <th>phevComb</th>\n",
       "    </tr>\n",
       "  </thead>\n",
       "  <tbody>\n",
       "    <tr>\n",
       "      <th>44981</th>\n",
       "      <td>13.523182</td>\n",
       "      <td>0.0</td>\n",
       "      <td>0.0</td>\n",
       "      <td>0.0</td>\n",
       "      <td>19</td>\n",
       "      <td>0.0</td>\n",
       "      <td>0</td>\n",
       "      <td>0.0</td>\n",
       "      <td>0.0</td>\n",
       "      <td>0.0</td>\n",
       "      <td>...</td>\n",
       "      <td>NaN</td>\n",
       "      <td>NaN</td>\n",
       "      <td>0.0</td>\n",
       "      <td>NaN</td>\n",
       "      <td>Tue Jan 01 00:00:00 EST 2013</td>\n",
       "      <td>Tue Jan 01 00:00:00 EST 2013</td>\n",
       "      <td>NaN</td>\n",
       "      <td>0</td>\n",
       "      <td>0</td>\n",
       "      <td>0</td>\n",
       "    </tr>\n",
       "    <tr>\n",
       "      <th>44982</th>\n",
       "      <td>12.935217</td>\n",
       "      <td>0.0</td>\n",
       "      <td>0.0</td>\n",
       "      <td>0.0</td>\n",
       "      <td>20</td>\n",
       "      <td>0.0</td>\n",
       "      <td>0</td>\n",
       "      <td>0.0</td>\n",
       "      <td>0.0</td>\n",
       "      <td>0.0</td>\n",
       "      <td>...</td>\n",
       "      <td>NaN</td>\n",
       "      <td>NaN</td>\n",
       "      <td>0.0</td>\n",
       "      <td>NaN</td>\n",
       "      <td>Tue Jan 01 00:00:00 EST 2013</td>\n",
       "      <td>Tue Jan 01 00:00:00 EST 2013</td>\n",
       "      <td>NaN</td>\n",
       "      <td>0</td>\n",
       "      <td>0</td>\n",
       "      <td>0</td>\n",
       "    </tr>\n",
       "    <tr>\n",
       "      <th>44983</th>\n",
       "      <td>14.167143</td>\n",
       "      <td>0.0</td>\n",
       "      <td>0.0</td>\n",
       "      <td>0.0</td>\n",
       "      <td>18</td>\n",
       "      <td>0.0</td>\n",
       "      <td>0</td>\n",
       "      <td>0.0</td>\n",
       "      <td>0.0</td>\n",
       "      <td>0.0</td>\n",
       "      <td>...</td>\n",
       "      <td>NaN</td>\n",
       "      <td>NaN</td>\n",
       "      <td>0.0</td>\n",
       "      <td>NaN</td>\n",
       "      <td>Tue Jan 01 00:00:00 EST 2013</td>\n",
       "      <td>Tue Jan 01 00:00:00 EST 2013</td>\n",
       "      <td>NaN</td>\n",
       "      <td>0</td>\n",
       "      <td>0</td>\n",
       "      <td>0</td>\n",
       "    </tr>\n",
       "    <tr>\n",
       "      <th>44984</th>\n",
       "      <td>14.167143</td>\n",
       "      <td>0.0</td>\n",
       "      <td>0.0</td>\n",
       "      <td>0.0</td>\n",
       "      <td>18</td>\n",
       "      <td>0.0</td>\n",
       "      <td>0</td>\n",
       "      <td>0.0</td>\n",
       "      <td>0.0</td>\n",
       "      <td>0.0</td>\n",
       "      <td>...</td>\n",
       "      <td>NaN</td>\n",
       "      <td>NaN</td>\n",
       "      <td>0.0</td>\n",
       "      <td>NaN</td>\n",
       "      <td>Tue Jan 01 00:00:00 EST 2013</td>\n",
       "      <td>Tue Jan 01 00:00:00 EST 2013</td>\n",
       "      <td>NaN</td>\n",
       "      <td>0</td>\n",
       "      <td>0</td>\n",
       "      <td>0</td>\n",
       "    </tr>\n",
       "    <tr>\n",
       "      <th>44985</th>\n",
       "      <td>16.528333</td>\n",
       "      <td>0.0</td>\n",
       "      <td>0.0</td>\n",
       "      <td>0.0</td>\n",
       "      <td>16</td>\n",
       "      <td>0.0</td>\n",
       "      <td>0</td>\n",
       "      <td>0.0</td>\n",
       "      <td>0.0</td>\n",
       "      <td>0.0</td>\n",
       "      <td>...</td>\n",
       "      <td>NaN</td>\n",
       "      <td>NaN</td>\n",
       "      <td>0.0</td>\n",
       "      <td>NaN</td>\n",
       "      <td>Tue Jan 01 00:00:00 EST 2013</td>\n",
       "      <td>Tue Jan 01 00:00:00 EST 2013</td>\n",
       "      <td>NaN</td>\n",
       "      <td>0</td>\n",
       "      <td>0</td>\n",
       "      <td>0</td>\n",
       "    </tr>\n",
       "  </tbody>\n",
       "</table>\n",
       "<p>5 rows × 83 columns</p>\n",
       "</div>"
      ],
      "text/plain": [
       "       barrels08  barrelsA08  charge120  charge240 city08  city08U  cityA08  \\\n",
       "44981  13.523182         0.0        0.0        0.0     19      0.0        0   \n",
       "44982  12.935217         0.0        0.0        0.0     20      0.0        0   \n",
       "44983  14.167143         0.0        0.0        0.0     18      0.0        0   \n",
       "44984  14.167143         0.0        0.0        0.0     18      0.0        0   \n",
       "44985  16.528333         0.0        0.0        0.0     16      0.0        0   \n",
       "\n",
       "       cityA08U  cityCD  cityE  ...  mfrCode  c240Dscr  charge240b  c240bDscr  \\\n",
       "44981       0.0     0.0    0.0  ...      NaN       NaN         0.0        NaN   \n",
       "44982       0.0     0.0    0.0  ...      NaN       NaN         0.0        NaN   \n",
       "44983       0.0     0.0    0.0  ...      NaN       NaN         0.0        NaN   \n",
       "44984       0.0     0.0    0.0  ...      NaN       NaN         0.0        NaN   \n",
       "44985       0.0     0.0    0.0  ...      NaN       NaN         0.0        NaN   \n",
       "\n",
       "                          createdOn                    modifiedOn  startStop  \\\n",
       "44981  Tue Jan 01 00:00:00 EST 2013  Tue Jan 01 00:00:00 EST 2013        NaN   \n",
       "44982  Tue Jan 01 00:00:00 EST 2013  Tue Jan 01 00:00:00 EST 2013        NaN   \n",
       "44983  Tue Jan 01 00:00:00 EST 2013  Tue Jan 01 00:00:00 EST 2013        NaN   \n",
       "44984  Tue Jan 01 00:00:00 EST 2013  Tue Jan 01 00:00:00 EST 2013        NaN   \n",
       "44985  Tue Jan 01 00:00:00 EST 2013  Tue Jan 01 00:00:00 EST 2013        NaN   \n",
       "\n",
       "       phevCity  phevHwy  phevComb  \n",
       "44981         0        0         0  \n",
       "44982         0        0         0  \n",
       "44983         0        0         0  \n",
       "44984         0        0         0  \n",
       "44985         0        0         0  \n",
       "\n",
       "[5 rows x 83 columns]"
      ]
     },
     "execution_count": 406,
     "metadata": {},
     "output_type": "execute_result"
    }
   ],
   "source": [
    "s2[-5:]"
   ]
  },
  {
   "cell_type": "code",
   "execution_count": 407,
   "id": "4e609b37-c9f6-485c-a256-3b1418823b4b",
   "metadata": {},
   "outputs": [
    {
     "data": {
      "text/html": [
       "<div>\n",
       "<style scoped>\n",
       "    .dataframe tbody tr th:only-of-type {\n",
       "        vertical-align: middle;\n",
       "    }\n",
       "\n",
       "    .dataframe tbody tr th {\n",
       "        vertical-align: top;\n",
       "    }\n",
       "\n",
       "    .dataframe thead th {\n",
       "        text-align: right;\n",
       "    }\n",
       "</style>\n",
       "<table border=\"1\" class=\"dataframe\">\n",
       "  <thead>\n",
       "    <tr style=\"text-align: right;\">\n",
       "      <th></th>\n",
       "      <th>barrels08</th>\n",
       "      <th>barrelsA08</th>\n",
       "      <th>charge120</th>\n",
       "      <th>charge240</th>\n",
       "      <th>city08</th>\n",
       "      <th>city08U</th>\n",
       "      <th>cityA08</th>\n",
       "      <th>cityA08U</th>\n",
       "      <th>cityCD</th>\n",
       "      <th>cityE</th>\n",
       "      <th>...</th>\n",
       "      <th>mfrCode</th>\n",
       "      <th>c240Dscr</th>\n",
       "      <th>charge240b</th>\n",
       "      <th>c240bDscr</th>\n",
       "      <th>createdOn</th>\n",
       "      <th>modifiedOn</th>\n",
       "      <th>startStop</th>\n",
       "      <th>phevCity</th>\n",
       "      <th>phevHwy</th>\n",
       "      <th>phevComb</th>\n",
       "    </tr>\n",
       "  </thead>\n",
       "  <tbody>\n",
       "    <tr>\n",
       "      <th>10</th>\n",
       "      <td>11.442692</td>\n",
       "      <td>0.0</td>\n",
       "      <td>0.0</td>\n",
       "      <td>0.0</td>\n",
       "      <td>23</td>\n",
       "      <td>0.0</td>\n",
       "      <td>0</td>\n",
       "      <td>0.0</td>\n",
       "      <td>0.0</td>\n",
       "      <td>0.0</td>\n",
       "      <td>...</td>\n",
       "      <td>NaN</td>\n",
       "      <td>NaN</td>\n",
       "      <td>0.0</td>\n",
       "      <td>NaN</td>\n",
       "      <td>Tue Jan 01 00:00:00 EST 2013</td>\n",
       "      <td>Tue Jan 01 00:00:00 EST 2013</td>\n",
       "      <td>NaN</td>\n",
       "      <td>0</td>\n",
       "      <td>0</td>\n",
       "      <td>0</td>\n",
       "    </tr>\n",
       "    <tr>\n",
       "      <th>11</th>\n",
       "      <td>14.167143</td>\n",
       "      <td>0.0</td>\n",
       "      <td>0.0</td>\n",
       "      <td>0.0</td>\n",
       "      <td>18</td>\n",
       "      <td>0.0</td>\n",
       "      <td>0</td>\n",
       "      <td>0.0</td>\n",
       "      <td>0.0</td>\n",
       "      <td>0.0</td>\n",
       "      <td>...</td>\n",
       "      <td>NaN</td>\n",
       "      <td>NaN</td>\n",
       "      <td>0.0</td>\n",
       "      <td>NaN</td>\n",
       "      <td>Tue Jan 01 00:00:00 EST 2013</td>\n",
       "      <td>Tue Jan 01 00:00:00 EST 2013</td>\n",
       "      <td>NaN</td>\n",
       "      <td>0</td>\n",
       "      <td>0</td>\n",
       "      <td>0</td>\n",
       "    </tr>\n",
       "    <tr>\n",
       "      <th>12</th>\n",
       "      <td>12.396250</td>\n",
       "      <td>0.0</td>\n",
       "      <td>0.0</td>\n",
       "      <td>0.0</td>\n",
       "      <td>21</td>\n",
       "      <td>0.0</td>\n",
       "      <td>0</td>\n",
       "      <td>0.0</td>\n",
       "      <td>0.0</td>\n",
       "      <td>0.0</td>\n",
       "      <td>...</td>\n",
       "      <td>NaN</td>\n",
       "      <td>NaN</td>\n",
       "      <td>0.0</td>\n",
       "      <td>NaN</td>\n",
       "      <td>Tue Jan 01 00:00:00 EST 2013</td>\n",
       "      <td>Tue Jan 01 00:00:00 EST 2013</td>\n",
       "      <td>NaN</td>\n",
       "      <td>0</td>\n",
       "      <td>0</td>\n",
       "      <td>0</td>\n",
       "    </tr>\n",
       "    <tr>\n",
       "      <th>13</th>\n",
       "      <td>14.167143</td>\n",
       "      <td>0.0</td>\n",
       "      <td>0.0</td>\n",
       "      <td>0.0</td>\n",
       "      <td>18</td>\n",
       "      <td>0.0</td>\n",
       "      <td>0</td>\n",
       "      <td>0.0</td>\n",
       "      <td>0.0</td>\n",
       "      <td>0.0</td>\n",
       "      <td>...</td>\n",
       "      <td>NaN</td>\n",
       "      <td>NaN</td>\n",
       "      <td>0.0</td>\n",
       "      <td>NaN</td>\n",
       "      <td>Tue Jan 01 00:00:00 EST 2013</td>\n",
       "      <td>Tue Jan 01 00:00:00 EST 2013</td>\n",
       "      <td>NaN</td>\n",
       "      <td>0</td>\n",
       "      <td>0</td>\n",
       "      <td>0</td>\n",
       "    </tr>\n",
       "    <tr>\n",
       "      <th>14</th>\n",
       "      <td>22.885385</td>\n",
       "      <td>0.0</td>\n",
       "      <td>0.0</td>\n",
       "      <td>0.0</td>\n",
       "      <td>12</td>\n",
       "      <td>0.0</td>\n",
       "      <td>0</td>\n",
       "      <td>0.0</td>\n",
       "      <td>0.0</td>\n",
       "      <td>0.0</td>\n",
       "      <td>...</td>\n",
       "      <td>NaN</td>\n",
       "      <td>NaN</td>\n",
       "      <td>0.0</td>\n",
       "      <td>NaN</td>\n",
       "      <td>Tue Jan 01 00:00:00 EST 2013</td>\n",
       "      <td>Tue Jan 01 00:00:00 EST 2013</td>\n",
       "      <td>NaN</td>\n",
       "      <td>0</td>\n",
       "      <td>0</td>\n",
       "      <td>0</td>\n",
       "    </tr>\n",
       "    <tr>\n",
       "      <th>...</th>\n",
       "      <td>...</td>\n",
       "      <td>...</td>\n",
       "      <td>...</td>\n",
       "      <td>...</td>\n",
       "      <td>...</td>\n",
       "      <td>...</td>\n",
       "      <td>...</td>\n",
       "      <td>...</td>\n",
       "      <td>...</td>\n",
       "      <td>...</td>\n",
       "      <td>...</td>\n",
       "      <td>...</td>\n",
       "      <td>...</td>\n",
       "      <td>...</td>\n",
       "      <td>...</td>\n",
       "      <td>...</td>\n",
       "      <td>...</td>\n",
       "      <td>...</td>\n",
       "      <td>...</td>\n",
       "      <td>...</td>\n",
       "      <td>...</td>\n",
       "    </tr>\n",
       "    <tr>\n",
       "      <th>105</th>\n",
       "      <td>15.658421</td>\n",
       "      <td>0.0</td>\n",
       "      <td>0.0</td>\n",
       "      <td>0.0</td>\n",
       "      <td>16</td>\n",
       "      <td>0.0</td>\n",
       "      <td>0</td>\n",
       "      <td>0.0</td>\n",
       "      <td>0.0</td>\n",
       "      <td>0.0</td>\n",
       "      <td>...</td>\n",
       "      <td>NaN</td>\n",
       "      <td>NaN</td>\n",
       "      <td>0.0</td>\n",
       "      <td>NaN</td>\n",
       "      <td>Tue Jan 01 00:00:00 EST 2013</td>\n",
       "      <td>Tue Jan 01 00:00:00 EST 2013</td>\n",
       "      <td>NaN</td>\n",
       "      <td>0</td>\n",
       "      <td>0</td>\n",
       "      <td>0</td>\n",
       "    </tr>\n",
       "    <tr>\n",
       "      <th>106</th>\n",
       "      <td>16.528333</td>\n",
       "      <td>0.0</td>\n",
       "      <td>0.0</td>\n",
       "      <td>0.0</td>\n",
       "      <td>16</td>\n",
       "      <td>0.0</td>\n",
       "      <td>0</td>\n",
       "      <td>0.0</td>\n",
       "      <td>0.0</td>\n",
       "      <td>0.0</td>\n",
       "      <td>...</td>\n",
       "      <td>NaN</td>\n",
       "      <td>NaN</td>\n",
       "      <td>0.0</td>\n",
       "      <td>NaN</td>\n",
       "      <td>Tue Jan 01 00:00:00 EST 2013</td>\n",
       "      <td>Tue Jan 01 00:00:00 EST 2013</td>\n",
       "      <td>NaN</td>\n",
       "      <td>0</td>\n",
       "      <td>0</td>\n",
       "      <td>0</td>\n",
       "    </tr>\n",
       "    <tr>\n",
       "      <th>107</th>\n",
       "      <td>14.167143</td>\n",
       "      <td>0.0</td>\n",
       "      <td>0.0</td>\n",
       "      <td>0.0</td>\n",
       "      <td>18</td>\n",
       "      <td>0.0</td>\n",
       "      <td>0</td>\n",
       "      <td>0.0</td>\n",
       "      <td>0.0</td>\n",
       "      <td>0.0</td>\n",
       "      <td>...</td>\n",
       "      <td>NaN</td>\n",
       "      <td>NaN</td>\n",
       "      <td>0.0</td>\n",
       "      <td>NaN</td>\n",
       "      <td>Tue Jan 01 00:00:00 EST 2013</td>\n",
       "      <td>Tue Jan 01 00:00:00 EST 2013</td>\n",
       "      <td>NaN</td>\n",
       "      <td>0</td>\n",
       "      <td>0</td>\n",
       "      <td>0</td>\n",
       "    </tr>\n",
       "    <tr>\n",
       "      <th>108</th>\n",
       "      <td>13.523182</td>\n",
       "      <td>0.0</td>\n",
       "      <td>0.0</td>\n",
       "      <td>0.0</td>\n",
       "      <td>18</td>\n",
       "      <td>0.0</td>\n",
       "      <td>0</td>\n",
       "      <td>0.0</td>\n",
       "      <td>0.0</td>\n",
       "      <td>0.0</td>\n",
       "      <td>...</td>\n",
       "      <td>NaN</td>\n",
       "      <td>NaN</td>\n",
       "      <td>0.0</td>\n",
       "      <td>NaN</td>\n",
       "      <td>Tue Jan 01 00:00:00 EST 2013</td>\n",
       "      <td>Tue Jan 01 00:00:00 EST 2013</td>\n",
       "      <td>NaN</td>\n",
       "      <td>0</td>\n",
       "      <td>0</td>\n",
       "      <td>0</td>\n",
       "    </tr>\n",
       "    <tr>\n",
       "      <th>109</th>\n",
       "      <td>16.528333</td>\n",
       "      <td>0.0</td>\n",
       "      <td>0.0</td>\n",
       "      <td>0.0</td>\n",
       "      <td>15</td>\n",
       "      <td>0.0</td>\n",
       "      <td>0</td>\n",
       "      <td>0.0</td>\n",
       "      <td>0.0</td>\n",
       "      <td>0.0</td>\n",
       "      <td>...</td>\n",
       "      <td>NaN</td>\n",
       "      <td>NaN</td>\n",
       "      <td>0.0</td>\n",
       "      <td>NaN</td>\n",
       "      <td>Tue Jan 01 00:00:00 EST 2013</td>\n",
       "      <td>Tue Jan 01 00:00:00 EST 2013</td>\n",
       "      <td>NaN</td>\n",
       "      <td>0</td>\n",
       "      <td>0</td>\n",
       "      <td>0</td>\n",
       "    </tr>\n",
       "  </tbody>\n",
       "</table>\n",
       "<p>100 rows × 83 columns</p>\n",
       "</div>"
      ],
      "text/plain": [
       "     barrels08  barrelsA08  charge120  charge240 city08  city08U  cityA08  \\\n",
       "10   11.442692         0.0        0.0        0.0     23      0.0        0   \n",
       "11   14.167143         0.0        0.0        0.0     18      0.0        0   \n",
       "12   12.396250         0.0        0.0        0.0     21      0.0        0   \n",
       "13   14.167143         0.0        0.0        0.0     18      0.0        0   \n",
       "14   22.885385         0.0        0.0        0.0     12      0.0        0   \n",
       "..         ...         ...        ...        ...    ...      ...      ...   \n",
       "105  15.658421         0.0        0.0        0.0     16      0.0        0   \n",
       "106  16.528333         0.0        0.0        0.0     16      0.0        0   \n",
       "107  14.167143         0.0        0.0        0.0     18      0.0        0   \n",
       "108  13.523182         0.0        0.0        0.0     18      0.0        0   \n",
       "109  16.528333         0.0        0.0        0.0     15      0.0        0   \n",
       "\n",
       "     cityA08U  cityCD  cityE  ...  mfrCode  c240Dscr  charge240b  c240bDscr  \\\n",
       "10        0.0     0.0    0.0  ...      NaN       NaN         0.0        NaN   \n",
       "11        0.0     0.0    0.0  ...      NaN       NaN         0.0        NaN   \n",
       "12        0.0     0.0    0.0  ...      NaN       NaN         0.0        NaN   \n",
       "13        0.0     0.0    0.0  ...      NaN       NaN         0.0        NaN   \n",
       "14        0.0     0.0    0.0  ...      NaN       NaN         0.0        NaN   \n",
       "..        ...     ...    ...  ...      ...       ...         ...        ...   \n",
       "105       0.0     0.0    0.0  ...      NaN       NaN         0.0        NaN   \n",
       "106       0.0     0.0    0.0  ...      NaN       NaN         0.0        NaN   \n",
       "107       0.0     0.0    0.0  ...      NaN       NaN         0.0        NaN   \n",
       "108       0.0     0.0    0.0  ...      NaN       NaN         0.0        NaN   \n",
       "109       0.0     0.0    0.0  ...      NaN       NaN         0.0        NaN   \n",
       "\n",
       "                        createdOn                    modifiedOn  startStop  \\\n",
       "10   Tue Jan 01 00:00:00 EST 2013  Tue Jan 01 00:00:00 EST 2013        NaN   \n",
       "11   Tue Jan 01 00:00:00 EST 2013  Tue Jan 01 00:00:00 EST 2013        NaN   \n",
       "12   Tue Jan 01 00:00:00 EST 2013  Tue Jan 01 00:00:00 EST 2013        NaN   \n",
       "13   Tue Jan 01 00:00:00 EST 2013  Tue Jan 01 00:00:00 EST 2013        NaN   \n",
       "14   Tue Jan 01 00:00:00 EST 2013  Tue Jan 01 00:00:00 EST 2013        NaN   \n",
       "..                            ...                           ...        ...   \n",
       "105  Tue Jan 01 00:00:00 EST 2013  Tue Jan 01 00:00:00 EST 2013        NaN   \n",
       "106  Tue Jan 01 00:00:00 EST 2013  Tue Jan 01 00:00:00 EST 2013        NaN   \n",
       "107  Tue Jan 01 00:00:00 EST 2013  Tue Jan 01 00:00:00 EST 2013        NaN   \n",
       "108  Tue Jan 01 00:00:00 EST 2013  Tue Jan 01 00:00:00 EST 2013        NaN   \n",
       "109  Tue Jan 01 00:00:00 EST 2013  Tue Jan 01 00:00:00 EST 2013        NaN   \n",
       "\n",
       "     phevCity  phevHwy  phevComb  \n",
       "10          0        0         0  \n",
       "11          0        0         0  \n",
       "12          0        0         0  \n",
       "13          0        0         0  \n",
       "14          0        0         0  \n",
       "..        ...      ...       ...  \n",
       "105         0        0         0  \n",
       "106         0        0         0  \n",
       "107         0        0         0  \n",
       "108         0        0         0  \n",
       "109         0        0         0  \n",
       "\n",
       "[100 rows x 83 columns]"
      ]
     },
     "execution_count": 407,
     "metadata": {},
     "output_type": "execute_result"
    }
   ],
   "source": [
    "s2[10:110]"
   ]
  },
  {
   "cell_type": "code",
   "execution_count": 408,
   "id": "3330cf19-6f94-41f9-8d03-9056ceacb039",
   "metadata": {},
   "outputs": [
    {
     "data": {
      "text/html": [
       "<div>\n",
       "<style scoped>\n",
       "    .dataframe tbody tr th:only-of-type {\n",
       "        vertical-align: middle;\n",
       "    }\n",
       "\n",
       "    .dataframe tbody tr th {\n",
       "        vertical-align: top;\n",
       "    }\n",
       "\n",
       "    .dataframe thead th {\n",
       "        text-align: right;\n",
       "    }\n",
       "</style>\n",
       "<table border=\"1\" class=\"dataframe\">\n",
       "  <thead>\n",
       "    <tr style=\"text-align: right;\">\n",
       "      <th></th>\n",
       "      <th>barrels08</th>\n",
       "      <th>barrelsA08</th>\n",
       "      <th>charge120</th>\n",
       "      <th>charge240</th>\n",
       "      <th>city08</th>\n",
       "      <th>city08U</th>\n",
       "      <th>cityA08</th>\n",
       "      <th>cityA08U</th>\n",
       "      <th>cityCD</th>\n",
       "      <th>cityE</th>\n",
       "      <th>...</th>\n",
       "      <th>mfrCode</th>\n",
       "      <th>c240Dscr</th>\n",
       "      <th>charge240b</th>\n",
       "      <th>c240bDscr</th>\n",
       "      <th>createdOn</th>\n",
       "      <th>modifiedOn</th>\n",
       "      <th>startStop</th>\n",
       "      <th>phevCity</th>\n",
       "      <th>phevHwy</th>\n",
       "      <th>phevComb</th>\n",
       "    </tr>\n",
       "  </thead>\n",
       "  <tbody>\n",
       "    <tr>\n",
       "      <th>10</th>\n",
       "      <td>11.442692</td>\n",
       "      <td>0.0</td>\n",
       "      <td>0.0</td>\n",
       "      <td>0.0</td>\n",
       "      <td>23</td>\n",
       "      <td>0.0</td>\n",
       "      <td>0</td>\n",
       "      <td>0.0</td>\n",
       "      <td>0.0</td>\n",
       "      <td>0.0</td>\n",
       "      <td>...</td>\n",
       "      <td>NaN</td>\n",
       "      <td>NaN</td>\n",
       "      <td>0.0</td>\n",
       "      <td>NaN</td>\n",
       "      <td>Tue Jan 01 00:00:00 EST 2013</td>\n",
       "      <td>Tue Jan 01 00:00:00 EST 2013</td>\n",
       "      <td>NaN</td>\n",
       "      <td>0</td>\n",
       "      <td>0</td>\n",
       "      <td>0</td>\n",
       "    </tr>\n",
       "    <tr>\n",
       "      <th>11</th>\n",
       "      <td>14.167143</td>\n",
       "      <td>0.0</td>\n",
       "      <td>0.0</td>\n",
       "      <td>0.0</td>\n",
       "      <td>18</td>\n",
       "      <td>0.0</td>\n",
       "      <td>0</td>\n",
       "      <td>0.0</td>\n",
       "      <td>0.0</td>\n",
       "      <td>0.0</td>\n",
       "      <td>...</td>\n",
       "      <td>NaN</td>\n",
       "      <td>NaN</td>\n",
       "      <td>0.0</td>\n",
       "      <td>NaN</td>\n",
       "      <td>Tue Jan 01 00:00:00 EST 2013</td>\n",
       "      <td>Tue Jan 01 00:00:00 EST 2013</td>\n",
       "      <td>NaN</td>\n",
       "      <td>0</td>\n",
       "      <td>0</td>\n",
       "      <td>0</td>\n",
       "    </tr>\n",
       "    <tr>\n",
       "      <th>12</th>\n",
       "      <td>12.396250</td>\n",
       "      <td>0.0</td>\n",
       "      <td>0.0</td>\n",
       "      <td>0.0</td>\n",
       "      <td>21</td>\n",
       "      <td>0.0</td>\n",
       "      <td>0</td>\n",
       "      <td>0.0</td>\n",
       "      <td>0.0</td>\n",
       "      <td>0.0</td>\n",
       "      <td>...</td>\n",
       "      <td>NaN</td>\n",
       "      <td>NaN</td>\n",
       "      <td>0.0</td>\n",
       "      <td>NaN</td>\n",
       "      <td>Tue Jan 01 00:00:00 EST 2013</td>\n",
       "      <td>Tue Jan 01 00:00:00 EST 2013</td>\n",
       "      <td>NaN</td>\n",
       "      <td>0</td>\n",
       "      <td>0</td>\n",
       "      <td>0</td>\n",
       "    </tr>\n",
       "    <tr>\n",
       "      <th>13</th>\n",
       "      <td>14.167143</td>\n",
       "      <td>0.0</td>\n",
       "      <td>0.0</td>\n",
       "      <td>0.0</td>\n",
       "      <td>18</td>\n",
       "      <td>0.0</td>\n",
       "      <td>0</td>\n",
       "      <td>0.0</td>\n",
       "      <td>0.0</td>\n",
       "      <td>0.0</td>\n",
       "      <td>...</td>\n",
       "      <td>NaN</td>\n",
       "      <td>NaN</td>\n",
       "      <td>0.0</td>\n",
       "      <td>NaN</td>\n",
       "      <td>Tue Jan 01 00:00:00 EST 2013</td>\n",
       "      <td>Tue Jan 01 00:00:00 EST 2013</td>\n",
       "      <td>NaN</td>\n",
       "      <td>0</td>\n",
       "      <td>0</td>\n",
       "      <td>0</td>\n",
       "    </tr>\n",
       "    <tr>\n",
       "      <th>14</th>\n",
       "      <td>22.885385</td>\n",
       "      <td>0.0</td>\n",
       "      <td>0.0</td>\n",
       "      <td>0.0</td>\n",
       "      <td>12</td>\n",
       "      <td>0.0</td>\n",
       "      <td>0</td>\n",
       "      <td>0.0</td>\n",
       "      <td>0.0</td>\n",
       "      <td>0.0</td>\n",
       "      <td>...</td>\n",
       "      <td>NaN</td>\n",
       "      <td>NaN</td>\n",
       "      <td>0.0</td>\n",
       "      <td>NaN</td>\n",
       "      <td>Tue Jan 01 00:00:00 EST 2013</td>\n",
       "      <td>Tue Jan 01 00:00:00 EST 2013</td>\n",
       "      <td>NaN</td>\n",
       "      <td>0</td>\n",
       "      <td>0</td>\n",
       "      <td>0</td>\n",
       "    </tr>\n",
       "    <tr>\n",
       "      <th>...</th>\n",
       "      <td>...</td>\n",
       "      <td>...</td>\n",
       "      <td>...</td>\n",
       "      <td>...</td>\n",
       "      <td>...</td>\n",
       "      <td>...</td>\n",
       "      <td>...</td>\n",
       "      <td>...</td>\n",
       "      <td>...</td>\n",
       "      <td>...</td>\n",
       "      <td>...</td>\n",
       "      <td>...</td>\n",
       "      <td>...</td>\n",
       "      <td>...</td>\n",
       "      <td>...</td>\n",
       "      <td>...</td>\n",
       "      <td>...</td>\n",
       "      <td>...</td>\n",
       "      <td>...</td>\n",
       "      <td>...</td>\n",
       "      <td>...</td>\n",
       "    </tr>\n",
       "    <tr>\n",
       "      <th>106</th>\n",
       "      <td>16.528333</td>\n",
       "      <td>0.0</td>\n",
       "      <td>0.0</td>\n",
       "      <td>0.0</td>\n",
       "      <td>16</td>\n",
       "      <td>0.0</td>\n",
       "      <td>0</td>\n",
       "      <td>0.0</td>\n",
       "      <td>0.0</td>\n",
       "      <td>0.0</td>\n",
       "      <td>...</td>\n",
       "      <td>NaN</td>\n",
       "      <td>NaN</td>\n",
       "      <td>0.0</td>\n",
       "      <td>NaN</td>\n",
       "      <td>Tue Jan 01 00:00:00 EST 2013</td>\n",
       "      <td>Tue Jan 01 00:00:00 EST 2013</td>\n",
       "      <td>NaN</td>\n",
       "      <td>0</td>\n",
       "      <td>0</td>\n",
       "      <td>0</td>\n",
       "    </tr>\n",
       "    <tr>\n",
       "      <th>107</th>\n",
       "      <td>14.167143</td>\n",
       "      <td>0.0</td>\n",
       "      <td>0.0</td>\n",
       "      <td>0.0</td>\n",
       "      <td>18</td>\n",
       "      <td>0.0</td>\n",
       "      <td>0</td>\n",
       "      <td>0.0</td>\n",
       "      <td>0.0</td>\n",
       "      <td>0.0</td>\n",
       "      <td>...</td>\n",
       "      <td>NaN</td>\n",
       "      <td>NaN</td>\n",
       "      <td>0.0</td>\n",
       "      <td>NaN</td>\n",
       "      <td>Tue Jan 01 00:00:00 EST 2013</td>\n",
       "      <td>Tue Jan 01 00:00:00 EST 2013</td>\n",
       "      <td>NaN</td>\n",
       "      <td>0</td>\n",
       "      <td>0</td>\n",
       "      <td>0</td>\n",
       "    </tr>\n",
       "    <tr>\n",
       "      <th>108</th>\n",
       "      <td>13.523182</td>\n",
       "      <td>0.0</td>\n",
       "      <td>0.0</td>\n",
       "      <td>0.0</td>\n",
       "      <td>18</td>\n",
       "      <td>0.0</td>\n",
       "      <td>0</td>\n",
       "      <td>0.0</td>\n",
       "      <td>0.0</td>\n",
       "      <td>0.0</td>\n",
       "      <td>...</td>\n",
       "      <td>NaN</td>\n",
       "      <td>NaN</td>\n",
       "      <td>0.0</td>\n",
       "      <td>NaN</td>\n",
       "      <td>Tue Jan 01 00:00:00 EST 2013</td>\n",
       "      <td>Tue Jan 01 00:00:00 EST 2013</td>\n",
       "      <td>NaN</td>\n",
       "      <td>0</td>\n",
       "      <td>0</td>\n",
       "      <td>0</td>\n",
       "    </tr>\n",
       "    <tr>\n",
       "      <th>109</th>\n",
       "      <td>16.528333</td>\n",
       "      <td>0.0</td>\n",
       "      <td>0.0</td>\n",
       "      <td>0.0</td>\n",
       "      <td>15</td>\n",
       "      <td>0.0</td>\n",
       "      <td>0</td>\n",
       "      <td>0.0</td>\n",
       "      <td>0.0</td>\n",
       "      <td>0.0</td>\n",
       "      <td>...</td>\n",
       "      <td>NaN</td>\n",
       "      <td>NaN</td>\n",
       "      <td>0.0</td>\n",
       "      <td>NaN</td>\n",
       "      <td>Tue Jan 01 00:00:00 EST 2013</td>\n",
       "      <td>Tue Jan 01 00:00:00 EST 2013</td>\n",
       "      <td>NaN</td>\n",
       "      <td>0</td>\n",
       "      <td>0</td>\n",
       "      <td>0</td>\n",
       "    </tr>\n",
       "    <tr>\n",
       "      <th>110</th>\n",
       "      <td>14.875500</td>\n",
       "      <td>0.0</td>\n",
       "      <td>0.0</td>\n",
       "      <td>0.0</td>\n",
       "      <td>17</td>\n",
       "      <td>0.0</td>\n",
       "      <td>0</td>\n",
       "      <td>0.0</td>\n",
       "      <td>0.0</td>\n",
       "      <td>0.0</td>\n",
       "      <td>...</td>\n",
       "      <td>NaN</td>\n",
       "      <td>NaN</td>\n",
       "      <td>0.0</td>\n",
       "      <td>NaN</td>\n",
       "      <td>Tue Jan 01 00:00:00 EST 2013</td>\n",
       "      <td>Tue Jan 01 00:00:00 EST 2013</td>\n",
       "      <td>NaN</td>\n",
       "      <td>0</td>\n",
       "      <td>0</td>\n",
       "      <td>0</td>\n",
       "    </tr>\n",
       "  </tbody>\n",
       "</table>\n",
       "<p>101 rows × 83 columns</p>\n",
       "</div>"
      ],
      "text/plain": [
       "     barrels08  barrelsA08  charge120  charge240 city08  city08U  cityA08  \\\n",
       "10   11.442692         0.0        0.0        0.0     23      0.0        0   \n",
       "11   14.167143         0.0        0.0        0.0     18      0.0        0   \n",
       "12   12.396250         0.0        0.0        0.0     21      0.0        0   \n",
       "13   14.167143         0.0        0.0        0.0     18      0.0        0   \n",
       "14   22.885385         0.0        0.0        0.0     12      0.0        0   \n",
       "..         ...         ...        ...        ...    ...      ...      ...   \n",
       "106  16.528333         0.0        0.0        0.0     16      0.0        0   \n",
       "107  14.167143         0.0        0.0        0.0     18      0.0        0   \n",
       "108  13.523182         0.0        0.0        0.0     18      0.0        0   \n",
       "109  16.528333         0.0        0.0        0.0     15      0.0        0   \n",
       "110  14.875500         0.0        0.0        0.0     17      0.0        0   \n",
       "\n",
       "     cityA08U  cityCD  cityE  ...  mfrCode  c240Dscr  charge240b  c240bDscr  \\\n",
       "10        0.0     0.0    0.0  ...      NaN       NaN         0.0        NaN   \n",
       "11        0.0     0.0    0.0  ...      NaN       NaN         0.0        NaN   \n",
       "12        0.0     0.0    0.0  ...      NaN       NaN         0.0        NaN   \n",
       "13        0.0     0.0    0.0  ...      NaN       NaN         0.0        NaN   \n",
       "14        0.0     0.0    0.0  ...      NaN       NaN         0.0        NaN   \n",
       "..        ...     ...    ...  ...      ...       ...         ...        ...   \n",
       "106       0.0     0.0    0.0  ...      NaN       NaN         0.0        NaN   \n",
       "107       0.0     0.0    0.0  ...      NaN       NaN         0.0        NaN   \n",
       "108       0.0     0.0    0.0  ...      NaN       NaN         0.0        NaN   \n",
       "109       0.0     0.0    0.0  ...      NaN       NaN         0.0        NaN   \n",
       "110       0.0     0.0    0.0  ...      NaN       NaN         0.0        NaN   \n",
       "\n",
       "                        createdOn                    modifiedOn  startStop  \\\n",
       "10   Tue Jan 01 00:00:00 EST 2013  Tue Jan 01 00:00:00 EST 2013        NaN   \n",
       "11   Tue Jan 01 00:00:00 EST 2013  Tue Jan 01 00:00:00 EST 2013        NaN   \n",
       "12   Tue Jan 01 00:00:00 EST 2013  Tue Jan 01 00:00:00 EST 2013        NaN   \n",
       "13   Tue Jan 01 00:00:00 EST 2013  Tue Jan 01 00:00:00 EST 2013        NaN   \n",
       "14   Tue Jan 01 00:00:00 EST 2013  Tue Jan 01 00:00:00 EST 2013        NaN   \n",
       "..                            ...                           ...        ...   \n",
       "106  Tue Jan 01 00:00:00 EST 2013  Tue Jan 01 00:00:00 EST 2013        NaN   \n",
       "107  Tue Jan 01 00:00:00 EST 2013  Tue Jan 01 00:00:00 EST 2013        NaN   \n",
       "108  Tue Jan 01 00:00:00 EST 2013  Tue Jan 01 00:00:00 EST 2013        NaN   \n",
       "109  Tue Jan 01 00:00:00 EST 2013  Tue Jan 01 00:00:00 EST 2013        NaN   \n",
       "110  Tue Jan 01 00:00:00 EST 2013  Tue Jan 01 00:00:00 EST 2013        NaN   \n",
       "\n",
       "     phevCity  phevHwy  phevComb  \n",
       "10          0        0         0  \n",
       "11          0        0         0  \n",
       "12          0        0         0  \n",
       "13          0        0         0  \n",
       "14          0        0         0  \n",
       "..        ...      ...       ...  \n",
       "106         0        0         0  \n",
       "107         0        0         0  \n",
       "108         0        0         0  \n",
       "109         0        0         0  \n",
       "110         0        0         0  \n",
       "\n",
       "[101 rows x 83 columns]"
      ]
     },
     "execution_count": 408,
     "metadata": {},
     "output_type": "execute_result"
    }
   ],
   "source": [
    "s2['10':'110']"
   ]
  },
  {
   "cell_type": "code",
   "execution_count": 409,
   "id": "fe96ff78-2a5a-4535-9d21-02096526e375",
   "metadata": {},
   "outputs": [
    {
     "data": {
      "text/html": [
       "<div>\n",
       "<style scoped>\n",
       "    .dataframe tbody tr th:only-of-type {\n",
       "        vertical-align: middle;\n",
       "    }\n",
       "\n",
       "    .dataframe tbody tr th {\n",
       "        vertical-align: top;\n",
       "    }\n",
       "\n",
       "    .dataframe thead th {\n",
       "        text-align: right;\n",
       "    }\n",
       "</style>\n",
       "<table border=\"1\" class=\"dataframe\">\n",
       "  <thead>\n",
       "    <tr style=\"text-align: right;\">\n",
       "      <th></th>\n",
       "      <th>barrels08</th>\n",
       "      <th>barrelsA08</th>\n",
       "      <th>charge120</th>\n",
       "      <th>charge240</th>\n",
       "      <th>city08</th>\n",
       "      <th>city08U</th>\n",
       "      <th>cityA08</th>\n",
       "      <th>cityA08U</th>\n",
       "      <th>cityCD</th>\n",
       "      <th>cityE</th>\n",
       "      <th>...</th>\n",
       "      <th>mfrCode</th>\n",
       "      <th>c240Dscr</th>\n",
       "      <th>charge240b</th>\n",
       "      <th>c240bDscr</th>\n",
       "      <th>createdOn</th>\n",
       "      <th>modifiedOn</th>\n",
       "      <th>startStop</th>\n",
       "      <th>phevCity</th>\n",
       "      <th>phevHwy</th>\n",
       "      <th>phevComb</th>\n",
       "    </tr>\n",
       "  </thead>\n",
       "  <tbody>\n",
       "    <tr>\n",
       "      <th>20</th>\n",
       "      <td>18.594375</td>\n",
       "      <td>0.0</td>\n",
       "      <td>0.0</td>\n",
       "      <td>0.0</td>\n",
       "      <td>14</td>\n",
       "      <td>0.0</td>\n",
       "      <td>0</td>\n",
       "      <td>0.0</td>\n",
       "      <td>0.0</td>\n",
       "      <td>0.0</td>\n",
       "      <td>...</td>\n",
       "      <td>NaN</td>\n",
       "      <td>NaN</td>\n",
       "      <td>0.0</td>\n",
       "      <td>NaN</td>\n",
       "      <td>Tue Jan 01 00:00:00 EST 2013</td>\n",
       "      <td>Tue Jan 01 00:00:00 EST 2013</td>\n",
       "      <td>NaN</td>\n",
       "      <td>0</td>\n",
       "      <td>0</td>\n",
       "      <td>0</td>\n",
       "    </tr>\n",
       "    <tr>\n",
       "      <th>10</th>\n",
       "      <td>11.442692</td>\n",
       "      <td>0.0</td>\n",
       "      <td>0.0</td>\n",
       "      <td>0.0</td>\n",
       "      <td>23</td>\n",
       "      <td>0.0</td>\n",
       "      <td>0</td>\n",
       "      <td>0.0</td>\n",
       "      <td>0.0</td>\n",
       "      <td>0.0</td>\n",
       "      <td>...</td>\n",
       "      <td>NaN</td>\n",
       "      <td>NaN</td>\n",
       "      <td>0.0</td>\n",
       "      <td>NaN</td>\n",
       "      <td>Tue Jan 01 00:00:00 EST 2013</td>\n",
       "      <td>Tue Jan 01 00:00:00 EST 2013</td>\n",
       "      <td>NaN</td>\n",
       "      <td>0</td>\n",
       "      <td>0</td>\n",
       "      <td>0</td>\n",
       "    </tr>\n",
       "    <tr>\n",
       "      <th>2</th>\n",
       "      <td>11.018889</td>\n",
       "      <td>0.0</td>\n",
       "      <td>0.0</td>\n",
       "      <td>0.0</td>\n",
       "      <td>23</td>\n",
       "      <td>0.0</td>\n",
       "      <td>0</td>\n",
       "      <td>0.0</td>\n",
       "      <td>0.0</td>\n",
       "      <td>0.0</td>\n",
       "      <td>...</td>\n",
       "      <td>NaN</td>\n",
       "      <td>NaN</td>\n",
       "      <td>0.0</td>\n",
       "      <td>NaN</td>\n",
       "      <td>Tue Jan 01 00:00:00 EST 2013</td>\n",
       "      <td>Tue Jan 01 00:00:00 EST 2013</td>\n",
       "      <td>NaN</td>\n",
       "      <td>0</td>\n",
       "      <td>0</td>\n",
       "      <td>0</td>\n",
       "    </tr>\n",
       "  </tbody>\n",
       "</table>\n",
       "<p>3 rows × 83 columns</p>\n",
       "</div>"
      ],
      "text/plain": [
       "    barrels08  barrelsA08  charge120  charge240 city08  city08U  cityA08  \\\n",
       "20  18.594375         0.0        0.0        0.0     14      0.0        0   \n",
       "10  11.442692         0.0        0.0        0.0     23      0.0        0   \n",
       "2   11.018889         0.0        0.0        0.0     23      0.0        0   \n",
       "\n",
       "    cityA08U  cityCD  cityE  ...  mfrCode  c240Dscr  charge240b  c240bDscr  \\\n",
       "20       0.0     0.0    0.0  ...      NaN       NaN         0.0        NaN   \n",
       "10       0.0     0.0    0.0  ...      NaN       NaN         0.0        NaN   \n",
       "2        0.0     0.0    0.0  ...      NaN       NaN         0.0        NaN   \n",
       "\n",
       "                       createdOn                    modifiedOn  startStop  \\\n",
       "20  Tue Jan 01 00:00:00 EST 2013  Tue Jan 01 00:00:00 EST 2013        NaN   \n",
       "10  Tue Jan 01 00:00:00 EST 2013  Tue Jan 01 00:00:00 EST 2013        NaN   \n",
       "2   Tue Jan 01 00:00:00 EST 2013  Tue Jan 01 00:00:00 EST 2013        NaN   \n",
       "\n",
       "    phevCity  phevHwy  phevComb  \n",
       "20         0        0         0  \n",
       "10         0        0         0  \n",
       "2          0        0         0  \n",
       "\n",
       "[3 rows x 83 columns]"
      ]
     },
     "execution_count": 409,
     "metadata": {},
     "output_type": "execute_result"
    }
   ],
   "source": [
    "s2.loc[['20', '10', '2']]"
   ]
  },
  {
   "cell_type": "code",
   "execution_count": 410,
   "id": "efcd8944-0fc7-44a9-b274-b5a260cff997",
   "metadata": {},
   "outputs": [
    {
     "data": {
      "text/html": [
       "<div>\n",
       "<style scoped>\n",
       "    .dataframe tbody tr th:only-of-type {\n",
       "        vertical-align: middle;\n",
       "    }\n",
       "\n",
       "    .dataframe tbody tr th {\n",
       "        vertical-align: top;\n",
       "    }\n",
       "\n",
       "    .dataframe thead th {\n",
       "        text-align: right;\n",
       "    }\n",
       "</style>\n",
       "<table border=\"1\" class=\"dataframe\">\n",
       "  <thead>\n",
       "    <tr style=\"text-align: right;\">\n",
       "      <th></th>\n",
       "      <th>barrels08</th>\n",
       "      <th>barrelsA08</th>\n",
       "      <th>charge120</th>\n",
       "      <th>charge240</th>\n",
       "      <th>city08</th>\n",
       "      <th>city08U</th>\n",
       "      <th>cityA08</th>\n",
       "      <th>cityA08U</th>\n",
       "      <th>cityCD</th>\n",
       "      <th>cityE</th>\n",
       "      <th>...</th>\n",
       "      <th>mfrCode</th>\n",
       "      <th>c240Dscr</th>\n",
       "      <th>charge240b</th>\n",
       "      <th>c240bDscr</th>\n",
       "      <th>createdOn</th>\n",
       "      <th>modifiedOn</th>\n",
       "      <th>startStop</th>\n",
       "      <th>phevCity</th>\n",
       "      <th>phevHwy</th>\n",
       "      <th>phevComb</th>\n",
       "    </tr>\n",
       "  </thead>\n",
       "  <tbody>\n",
       "    <tr>\n",
       "      <th>20</th>\n",
       "      <td>18.594375</td>\n",
       "      <td>0.0</td>\n",
       "      <td>0.0</td>\n",
       "      <td>0.0</td>\n",
       "      <td>14</td>\n",
       "      <td>0.0</td>\n",
       "      <td>0</td>\n",
       "      <td>0.0</td>\n",
       "      <td>0.0</td>\n",
       "      <td>0.0</td>\n",
       "      <td>...</td>\n",
       "      <td>NaN</td>\n",
       "      <td>NaN</td>\n",
       "      <td>0.0</td>\n",
       "      <td>NaN</td>\n",
       "      <td>Tue Jan 01 00:00:00 EST 2013</td>\n",
       "      <td>Tue Jan 01 00:00:00 EST 2013</td>\n",
       "      <td>NaN</td>\n",
       "      <td>0</td>\n",
       "      <td>0</td>\n",
       "      <td>0</td>\n",
       "    </tr>\n",
       "    <tr>\n",
       "      <th>10</th>\n",
       "      <td>11.442692</td>\n",
       "      <td>0.0</td>\n",
       "      <td>0.0</td>\n",
       "      <td>0.0</td>\n",
       "      <td>23</td>\n",
       "      <td>0.0</td>\n",
       "      <td>0</td>\n",
       "      <td>0.0</td>\n",
       "      <td>0.0</td>\n",
       "      <td>0.0</td>\n",
       "      <td>...</td>\n",
       "      <td>NaN</td>\n",
       "      <td>NaN</td>\n",
       "      <td>0.0</td>\n",
       "      <td>NaN</td>\n",
       "      <td>Tue Jan 01 00:00:00 EST 2013</td>\n",
       "      <td>Tue Jan 01 00:00:00 EST 2013</td>\n",
       "      <td>NaN</td>\n",
       "      <td>0</td>\n",
       "      <td>0</td>\n",
       "      <td>0</td>\n",
       "    </tr>\n",
       "    <tr>\n",
       "      <th>2</th>\n",
       "      <td>11.018889</td>\n",
       "      <td>0.0</td>\n",
       "      <td>0.0</td>\n",
       "      <td>0.0</td>\n",
       "      <td>23</td>\n",
       "      <td>0.0</td>\n",
       "      <td>0</td>\n",
       "      <td>0.0</td>\n",
       "      <td>0.0</td>\n",
       "      <td>0.0</td>\n",
       "      <td>...</td>\n",
       "      <td>NaN</td>\n",
       "      <td>NaN</td>\n",
       "      <td>0.0</td>\n",
       "      <td>NaN</td>\n",
       "      <td>Tue Jan 01 00:00:00 EST 2013</td>\n",
       "      <td>Tue Jan 01 00:00:00 EST 2013</td>\n",
       "      <td>NaN</td>\n",
       "      <td>0</td>\n",
       "      <td>0</td>\n",
       "      <td>0</td>\n",
       "    </tr>\n",
       "  </tbody>\n",
       "</table>\n",
       "<p>3 rows × 83 columns</p>\n",
       "</div>"
      ],
      "text/plain": [
       "    barrels08  barrelsA08  charge120  charge240 city08  city08U  cityA08  \\\n",
       "20  18.594375         0.0        0.0        0.0     14      0.0        0   \n",
       "10  11.442692         0.0        0.0        0.0     23      0.0        0   \n",
       "2   11.018889         0.0        0.0        0.0     23      0.0        0   \n",
       "\n",
       "    cityA08U  cityCD  cityE  ...  mfrCode  c240Dscr  charge240b  c240bDscr  \\\n",
       "20       0.0     0.0    0.0  ...      NaN       NaN         0.0        NaN   \n",
       "10       0.0     0.0    0.0  ...      NaN       NaN         0.0        NaN   \n",
       "2        0.0     0.0    0.0  ...      NaN       NaN         0.0        NaN   \n",
       "\n",
       "                       createdOn                    modifiedOn  startStop  \\\n",
       "20  Tue Jan 01 00:00:00 EST 2013  Tue Jan 01 00:00:00 EST 2013        NaN   \n",
       "10  Tue Jan 01 00:00:00 EST 2013  Tue Jan 01 00:00:00 EST 2013        NaN   \n",
       "2   Tue Jan 01 00:00:00 EST 2013  Tue Jan 01 00:00:00 EST 2013        NaN   \n",
       "\n",
       "    phevCity  phevHwy  phevComb  \n",
       "20         0        0         0  \n",
       "10         0        0         0  \n",
       "2          0        0         0  \n",
       "\n",
       "[3 rows x 83 columns]"
      ]
     },
     "execution_count": 410,
     "metadata": {},
     "output_type": "execute_result"
    }
   ],
   "source": [
    "s2.iloc[[20, 10, 2]]"
   ]
  },
  {
   "cell_type": "markdown",
   "id": "035b8f19-6ffd-4ae2-9d88-d26fe98bf4ce",
   "metadata": {},
   "source": [
    "# Chapter 11"
   ]
  },
  {
   "cell_type": "code",
   "execution_count": 411,
   "id": "06d4b822-9e9d-4440-87e2-fbf82d0bd803",
   "metadata": {},
   "outputs": [
    {
     "data": {
      "text/plain": [
       "0        Alfa Romeo\n",
       "1           Ferrari\n",
       "2             Dodge\n",
       "3             Dodge\n",
       "4            Subaru\n",
       "            ...    \n",
       "44981        Subaru\n",
       "44982        Subaru\n",
       "44983        Subaru\n",
       "44984        Subaru\n",
       "44985        Subaru\n",
       "Name: make, Length: 44986, dtype: object"
      ]
     },
     "execution_count": 411,
     "metadata": {},
     "output_type": "execute_result"
    }
   ],
   "source": [
    "make"
   ]
  },
  {
   "cell_type": "code",
   "execution_count": 412,
   "id": "6d5bad28-0e04-461d-9153-866568eca9f9",
   "metadata": {},
   "outputs": [
    {
     "data": {
      "text/plain": [
       "0        Alfa Romeo\n",
       "1           Ferrari\n",
       "2             Dodge\n",
       "3             Dodge\n",
       "4            Subaru\n",
       "            ...    \n",
       "44981        Subaru\n",
       "44982        Subaru\n",
       "44983        Subaru\n",
       "44984        Subaru\n",
       "44985        Subaru\n",
       "Name: make, Length: 44986, dtype: string"
      ]
     },
     "execution_count": 412,
     "metadata": {},
     "output_type": "execute_result"
    }
   ],
   "source": [
    "make.astype('string')"
   ]
  },
  {
   "cell_type": "markdown",
   "id": "0808d35e-6c63-4aee-9d92-411d4c1c1f9d",
   "metadata": {},
   "source": [
    "Categorial strings offer a memory savings"
   ]
  },
  {
   "cell_type": "code",
   "execution_count": 413,
   "id": "b52200b3-043b-497a-89a9-e119e063cab9",
   "metadata": {},
   "outputs": [
    {
     "data": {
      "text/plain": [
       "0        Alfa Romeo\n",
       "1           Ferrari\n",
       "2             Dodge\n",
       "3             Dodge\n",
       "4            Subaru\n",
       "            ...    \n",
       "44981        Subaru\n",
       "44982        Subaru\n",
       "44983        Subaru\n",
       "44984        Subaru\n",
       "44985        Subaru\n",
       "Name: make, Length: 44986, dtype: category\n",
       "Categories (141, object): ['AM General', 'ASC Incorporated', 'Acura', 'Alfa Romeo', ..., 'Volvo', 'Wallace Environmental', 'Yugo', 'smart']"
      ]
     },
     "execution_count": 413,
     "metadata": {},
     "output_type": "execute_result"
    }
   ],
   "source": [
    "make.astype('category')"
   ]
  },
  {
   "cell_type": "markdown",
   "id": "ca1561c4-14b8-4780-8a86-5781bf816169",
   "metadata": {},
   "source": [
    "## 11.3 The .str Accessor"
   ]
  },
  {
   "cell_type": "code",
   "execution_count": 414,
   "id": "5b99b924-1af2-496e-b122-8c2d5c0c9fa0",
   "metadata": {},
   "outputs": [
    {
     "data": {
      "text/plain": [
       "'ford'"
      ]
     },
     "execution_count": 414,
     "metadata": {},
     "output_type": "execute_result"
    }
   ],
   "source": [
    "'Ford'.lower()"
   ]
  },
  {
   "cell_type": "code",
   "execution_count": 415,
   "id": "a261572b-e9ae-4bef-82a2-40608c13402a",
   "metadata": {},
   "outputs": [
    {
     "data": {
      "text/plain": [
       "0        alfa romeo\n",
       "1           ferrari\n",
       "2             dodge\n",
       "3             dodge\n",
       "4            subaru\n",
       "            ...    \n",
       "44981        subaru\n",
       "44982        subaru\n",
       "44983        subaru\n",
       "44984        subaru\n",
       "44985        subaru\n",
       "Name: make, Length: 44986, dtype: object"
      ]
     },
     "execution_count": 415,
     "metadata": {},
     "output_type": "execute_result"
    }
   ],
   "source": [
    "make.str.lower()"
   ]
  },
  {
   "cell_type": "code",
   "execution_count": 416,
   "id": "06235e40-d803-4cf7-9d1f-a06a5349296b",
   "metadata": {},
   "outputs": [
    {
     "data": {
      "text/plain": [
       "0"
      ]
     },
     "execution_count": 416,
     "metadata": {},
     "output_type": "execute_result"
    }
   ],
   "source": [
    "'Alfa Romeo'.find('A')"
   ]
  },
  {
   "cell_type": "code",
   "execution_count": 417,
   "id": "7c89750d-f10b-4428-8530-ca0d05b3c36d",
   "metadata": {},
   "outputs": [
    {
     "data": {
      "text/plain": [
       "0        0\n",
       "1       -1\n",
       "2       -1\n",
       "3       -1\n",
       "4       -1\n",
       "        ..\n",
       "44981   -1\n",
       "44982   -1\n",
       "44983   -1\n",
       "44984   -1\n",
       "44985   -1\n",
       "Name: make, Length: 44986, dtype: int64"
      ]
     },
     "execution_count": 417,
     "metadata": {},
     "output_type": "execute_result"
    }
   ],
   "source": [
    "make.str.find('A')"
   ]
  },
  {
   "cell_type": "markdown",
   "id": "bc1140af-505b-4d0d-9676-dcd90ba9eebf",
   "metadata": {},
   "source": [
    "Boolean strings"
   ]
  },
  {
   "cell_type": "code",
   "execution_count": 418,
   "id": "08db5f9a-b9b9-4dc9-9cb8-06fd660d8e24",
   "metadata": {},
   "outputs": [
    {
     "data": {
      "text/plain": [
       "0         True\n",
       "1        False\n",
       "2        False\n",
       "3        False\n",
       "4        False\n",
       "         ...  \n",
       "44981    False\n",
       "44982    False\n",
       "44983    False\n",
       "44984    False\n",
       "44985    False\n",
       "Name: make, Length: 44986, dtype: bool"
      ]
     },
     "execution_count": 418,
     "metadata": {},
     "output_type": "execute_result"
    }
   ],
   "source": [
    "(make\n",
    ".str\n",
    ".startswith('A'))"
   ]
  },
  {
   "cell_type": "code",
   "execution_count": 419,
   "id": "ca0377cb-e47b-4b53-a2e0-560f50535d5f",
   "metadata": {},
   "outputs": [
    {
     "data": {
      "text/plain": [
       "-    1963\n",
       ".      46\n",
       ",       9\n",
       "Name: make, dtype: int64"
      ]
     },
     "execution_count": 419,
     "metadata": {},
     "output_type": "execute_result"
    }
   ],
   "source": [
    "(make\n",
    ".str\n",
    ".extract(r'([^a-z A-Z])', expand = False)\n",
    ".value_counts())"
   ]
  },
  {
   "cell_type": "markdown",
   "id": "d6d885d8-bc4a-4140-9c43-a1823087adfc",
   "metadata": {},
   "source": [
    "Search for non-numeric characters in a column"
   ]
  },
  {
   "cell_type": "code",
   "execution_count": 420,
   "id": "f961c9ad-ff90-414b-9ec0-9a08bfa120dd",
   "metadata": {},
   "outputs": [
    {
     "data": {
      "text/plain": [
       "C    5746\n",
       "M    5332\n",
       "F    3989\n",
       "B    3140\n",
       "G    2936\n",
       "P    2835\n",
       "D    2751\n",
       "T    2398\n",
       "S    2311\n",
       "V    2149\n",
       "H    2032\n",
       "A    1838\n",
       "J    1597\n",
       "N    1577\n",
       "L    1524\n",
       "I     903\n",
       "K     742\n",
       "R     476\n",
       "O     462\n",
       "E     167\n",
       "s      38\n",
       "W      32\n",
       "Y       8\n",
       "Q       3\n",
       "Name: make, dtype: int64"
      ]
     },
     "execution_count": 420,
     "metadata": {},
     "output_type": "execute_result"
    }
   ],
   "source": [
    "(make\n",
    "    .str.extract(r'([^0-9.])', expand = False)\n",
    "    .value_counts()\n",
    ")"
   ]
  },
  {
   "cell_type": "markdown",
   "id": "5eb5fa3c-55dc-4c93-ad32-580e8a1cec1d",
   "metadata": {},
   "source": [
    "## 11.5 Splitting"
   ]
  },
  {
   "cell_type": "code",
   "execution_count": 421,
   "id": "28719265-bd66-4132-a3a6-31ea2b7df6b0",
   "metadata": {},
   "outputs": [],
   "source": [
    "age = pd.Series(['0-10', '11-15', '11-15', '61-65', '46-50'])"
   ]
  },
  {
   "cell_type": "code",
   "execution_count": 422,
   "id": "b3d9f734-4241-4af0-8f52-42f69e1002f0",
   "metadata": {},
   "outputs": [
    {
     "data": {
      "text/plain": [
       "0     0-10\n",
       "1    11-15\n",
       "2    11-15\n",
       "3    61-65\n",
       "4    46-50\n",
       "dtype: object"
      ]
     },
     "execution_count": 422,
     "metadata": {},
     "output_type": "execute_result"
    }
   ],
   "source": [
    "age"
   ]
  },
  {
   "cell_type": "code",
   "execution_count": 423,
   "id": "b5cbd119-d075-4752-9741-2a110add2be6",
   "metadata": {},
   "outputs": [
    {
     "data": {
      "text/plain": [
       "0     [0, 10]\n",
       "1    [11, 15]\n",
       "2    [11, 15]\n",
       "3    [61, 65]\n",
       "4    [46, 50]\n",
       "dtype: object"
      ]
     },
     "execution_count": 423,
     "metadata": {},
     "output_type": "execute_result"
    }
   ],
   "source": [
    "age.str.split('-')"
   ]
  },
  {
   "cell_type": "markdown",
   "id": "b7c906d3-5b3b-44fd-a833-3c2e4c552076",
   "metadata": {},
   "source": [
    "Pull the first number from the list"
   ]
  },
  {
   "cell_type": "code",
   "execution_count": 424,
   "id": "d616671f-c6fa-4644-b931-16e8515e9e1e",
   "metadata": {},
   "outputs": [
    {
     "data": {
      "text/plain": [
       "0     0\n",
       "1    11\n",
       "2    11\n",
       "3    61\n",
       "4    46\n",
       "Name: 0, dtype: int64"
      ]
     },
     "execution_count": 424,
     "metadata": {},
     "output_type": "execute_result"
    }
   ],
   "source": [
    "(age\n",
    "    .str.split('-', expand = True)\n",
    "    .iloc[:,0]\n",
    "    .astype(int))"
   ]
  },
  {
   "cell_type": "markdown",
   "id": "ca37e1d6-1161-49fc-99dd-c60cde0dac94",
   "metadata": {},
   "source": [
    "Or pull the tail end of the binned value"
   ]
  },
  {
   "cell_type": "code",
   "execution_count": 425,
   "id": "279643ff-9930-49f4-a985-41a60bb8734e",
   "metadata": {},
   "outputs": [
    {
     "data": {
      "text/plain": [
       "0    10\n",
       "1    15\n",
       "2    15\n",
       "3    65\n",
       "4    50\n",
       "Name: 1, dtype: int64"
      ]
     },
     "execution_count": 425,
     "metadata": {},
     "output_type": "execute_result"
    }
   ],
   "source": [
    "(age\n",
    "    .str.split('-', expand = True)\n",
    "    .iloc[:,1]\n",
    "    .astype(int))"
   ]
  },
  {
   "cell_type": "code",
   "execution_count": 426,
   "id": "f58795d4-46c5-42e5-8ae9-c5f07799bb03",
   "metadata": {},
   "outputs": [
    {
     "data": {
      "text/plain": [
       "0    10\n",
       "1    15\n",
       "2    15\n",
       "3    65\n",
       "4    50\n",
       "dtype: int64"
      ]
     },
     "execution_count": 426,
     "metadata": {},
     "output_type": "execute_result"
    }
   ],
   "source": [
    "(age\n",
    "    .str.slice(-2)\n",
    "    .astype(int))"
   ]
  },
  {
   "cell_type": "code",
   "execution_count": 427,
   "id": "d8e817f4-bcb3-4e97-8ebb-a16d5551743b",
   "metadata": {},
   "outputs": [
    {
     "data": {
      "text/plain": [
       "0    10\n",
       "1    15\n",
       "2    15\n",
       "3    65\n",
       "4    50\n",
       "dtype: int64"
      ]
     },
     "execution_count": 427,
     "metadata": {},
     "output_type": "execute_result"
    }
   ],
   "source": [
    "(age\n",
    "    .str[-2:]\n",
    "    .astype(int))"
   ]
  },
  {
   "cell_type": "code",
   "execution_count": 428,
   "id": "32f1e29a-a268-4e92-a2d8-75ebc319b6f2",
   "metadata": {},
   "outputs": [
    {
     "data": {
      "text/plain": [
       "0     5.0\n",
       "1    13.0\n",
       "2    13.0\n",
       "3    63.0\n",
       "4    48.0\n",
       "dtype: float64"
      ]
     },
     "execution_count": 428,
     "metadata": {},
     "output_type": "execute_result"
    }
   ],
   "source": [
    "(age\n",
    "    .str\n",
    "    .split('-', expand = True)\n",
    "    .astype(int)\n",
    "    .mean(axis = 'columns'))"
   ]
  },
  {
   "cell_type": "markdown",
   "id": "5ca28f47-e877-4c0f-96de-297da2a53ed2",
   "metadata": {},
   "source": [
    "### Generate a random number between the number ranges"
   ]
  },
  {
   "cell_type": "code",
   "execution_count": 429,
   "id": "9a753abb-9529-46cb-b4f0-783881116607",
   "metadata": {
    "jupyter": {
     "source_hidden": true
    },
    "tags": []
   },
   "outputs": [],
   "source": [
    "import random"
   ]
  },
  {
   "cell_type": "code",
   "execution_count": 430,
   "id": "36365087-b639-4e41-80ee-88e36ef41633",
   "metadata": {},
   "outputs": [],
   "source": [
    "def between(row):\n",
    "    return random.randint(*row.values)"
   ]
  },
  {
   "cell_type": "code",
   "execution_count": 431,
   "id": "8ac1af82-c807-40ae-903d-b29e4fca152d",
   "metadata": {},
   "outputs": [
    {
     "data": {
      "text/plain": [
       "0     7\n",
       "1    12\n",
       "2    12\n",
       "3    61\n",
       "4    49\n",
       "dtype: int64"
      ]
     },
     "execution_count": 431,
     "metadata": {},
     "output_type": "execute_result"
    }
   ],
   "source": [
    "(age\n",
    "    .str.split('-', expand = True)\n",
    "    .astype(int)\n",
    "    .apply(between, axis = 'columns'))"
   ]
  },
  {
   "cell_type": "code",
   "execution_count": 432,
   "id": "7d574634-d42a-4f77-a30a-c9779cc25c46",
   "metadata": {},
   "outputs": [
    {
     "data": {
      "text/plain": [
       "0     0-10\n",
       "1    11-15\n",
       "2    11-15\n",
       "3    61-65\n",
       "4    46-50\n",
       "dtype: object"
      ]
     },
     "execution_count": 432,
     "metadata": {},
     "output_type": "execute_result"
    }
   ],
   "source": [
    "age"
   ]
  },
  {
   "cell_type": "markdown",
   "id": "ae197af6-4700-40e0-8d98-7001289bccc3",
   "metadata": {},
   "source": [
    "## 11.6 Optimising .apply with Cython"
   ]
  },
  {
   "cell_type": "code",
   "execution_count": 436,
   "id": "de20748b-732a-4944-8f0e-a22b9ea1dd4f",
   "metadata": {},
   "outputs": [],
   "source": [
    "%load_ext Cython"
   ]
  },
  {
   "cell_type": "code",
   "execution_count": 438,
   "id": "e0f37b5a-0d79-43de-a8ef-9f6b9ead393c",
   "metadata": {},
   "outputs": [],
   "source": [
    "%%cython\n",
    "import random\n",
    "def between_cy(row):\n",
    "    return random.randint(*row.values)"
   ]
  },
  {
   "cell_type": "code",
   "execution_count": 439,
   "id": "49217518-d7a0-4c07-80e7-145d4d243cb9",
   "metadata": {},
   "outputs": [],
   "source": [
    "%%cython\n",
    "import random\n",
    "def between_cy3(row):\n",
    "    return random.randint(*row.values)"
   ]
  },
  {
   "cell_type": "code",
   "execution_count": 440,
   "id": "4382713a-4516-4f24-a7e4-5196eed8bafb",
   "metadata": {},
   "outputs": [],
   "source": [
    "%%cython\n",
    "import random\n",
    "cpdef int between_cy3(int x, int y):\n",
    "    return random.randint(x, y)"
   ]
  },
  {
   "cell_type": "code",
   "execution_count": 443,
   "id": "c69bb354-a264-4cfa-9c94-d33ac7e7addd",
   "metadata": {},
   "outputs": [
    {
     "name": "stdout",
     "output_type": "stream",
     "text": [
      "284 µs ± 1.24 µs per loop (mean ± std. dev. of 7 runs, 1,000 loops each)\n"
     ]
    }
   ],
   "source": [
    "%%timeit\n",
    "(age\n",
    "    .str.split('-', expand = True)\n",
    "    .astype(int)\n",
    "    .apply(between_cy, axis = 'columns'))"
   ]
  },
  {
   "cell_type": "code",
   "execution_count": 444,
   "id": "b6fc3930-d7cd-4cb5-b628-5298bf3a4837",
   "metadata": {},
   "outputs": [
    {
     "name": "stdout",
     "output_type": "stream",
     "text": [
      "287 µs ± 3.76 µs per loop (mean ± std. dev. of 7 runs, 1,000 loops each)\n"
     ]
    }
   ],
   "source": [
    "%%timeit\n",
    "(age\n",
    "    .str.split('-', expand = True)\n",
    "    .astype(int)\n",
    "    .apply(between, axis = 'columns'))"
   ]
  },
  {
   "cell_type": "code",
   "execution_count": 446,
   "id": "88f3183a-d53a-43ae-a7d2-f6bf2fca5ffd",
   "metadata": {},
   "outputs": [
    {
     "name": "stdout",
     "output_type": "stream",
     "text": [
      "300 µs ± 1.07 µs per loop (mean ± std. dev. of 7 runs, 1,000 loops each)\n"
     ]
    }
   ],
   "source": [
    "%%timeit\n",
    "(age\n",
    "    .str.split('-', expand = True)\n",
    "    .astype(int)\n",
    "    .apply(lambda row: between_cy3(row[0], row[1]), axis = 1))"
   ]
  },
  {
   "cell_type": "code",
   "execution_count": 447,
   "id": "eab908df-fbbf-4c56-a93c-5f1307189493",
   "metadata": {},
   "outputs": [
    {
     "data": {
      "text/plain": [
       "0     6\n",
       "1    12\n",
       "2    14\n",
       "3    62\n",
       "4    50\n",
       "dtype: int64"
      ]
     },
     "execution_count": 447,
     "metadata": {},
     "output_type": "execute_result"
    }
   ],
   "source": [
    "(age\n",
    "    .str.split('-', expand = True)\n",
    "    .astype(int)\n",
    "    .apply(lambda row: between_cy3(row[0], row[1]), axis = 1))"
   ]
  },
  {
   "cell_type": "code",
   "execution_count": 453,
   "id": "60ba5edd-1845-4028-869e-8b4a9f1ee6e8",
   "metadata": {},
   "outputs": [
    {
     "name": "stdout",
     "output_type": "stream",
     "text": [
      " "
     ]
    },
    {
     "data": {
      "text/plain": [
       "         1517 function calls (1498 primitive calls) in 0.003 seconds\n",
       "\n",
       "   Ordered by: internal time\n",
       "   List reduced from 295 to 10 due to restriction <10>\n",
       "\n",
       "   ncalls  tottime  percall  cumtime  percall filename:lineno(function)\n",
       "       11    0.000    0.000    0.000    0.000 typing.py:1374(cast)\n",
       "        1    0.000    0.000    0.003    0.003 {built-in method builtins.exec}\n",
       "  329/327    0.000    0.000    0.000    0.000 {built-in method builtins.isinstance}\n",
       "        4    0.000    0.000    0.000    0.000 {pandas._libs.lib.maybe_convert_objects}\n",
       "      3/2    0.000    0.000    0.001    0.000 series.py:323(__init__)\n",
       "        1    0.000    0.000    0.000    0.000 {pandas._libs.lib.map_infer_mask}\n",
       "      2/1    0.000    0.000    0.000    0.000 base.py:397(__new__)\n",
       "        5    0.000    0.000    0.001    0.000 construction.py:470(sanitize_array)\n",
       "       10    0.000    0.000    0.000    0.000 series.py:943(__getitem__)\n",
       "        3    0.000    0.000    0.000    0.000 {method 'reduce' of 'numpy.ufunc' objects}"
      ]
     },
     "metadata": {},
     "output_type": "display_data"
    }
   ],
   "source": [
    "%prun -l 10 (age.str.split('-', expand = True).astype(int).apply(lambda row: between_cy3(row[0], row[1]), axis = 1))"
   ]
  },
  {
   "cell_type": "code",
   "execution_count": 459,
   "id": "70c0593d-fc82-40fe-9e0b-1647a3525e1e",
   "metadata": {},
   "outputs": [
    {
     "name": "stderr",
     "output_type": "stream",
     "text": [
      "In file included from /Users/mattrosinski/.cache/ipython/cython/_cython_magic_1853a3090135ffc884abaa007259ecae.c:722:\n",
      "In file included from /Users/mattrosinski/mambaforge/lib/python3.9/site-packages/numpy/core/include/numpy/arrayobject.h:5:\n",
      "In file included from /Users/mattrosinski/mambaforge/lib/python3.9/site-packages/numpy/core/include/numpy/ndarrayobject.h:12:\n",
      "In file included from /Users/mattrosinski/mambaforge/lib/python3.9/site-packages/numpy/core/include/numpy/ndarraytypes.h:1960:\n",
      "/Users/mattrosinski/mambaforge/lib/python3.9/site-packages/numpy/core/include/numpy/npy_1_7_deprecated_api.h:17:2: warning: \"Using deprecated NumPy API, disable it with \"          \"#define NPY_NO_DEPRECATED_API NPY_1_7_API_VERSION\" [-W#warnings]\n",
      "#warning \"Using deprecated NumPy API, disable it with \" \\\n",
      " ^\n",
      "1 warning generated.\n"
     ]
    }
   ],
   "source": [
    "%%cython\n",
    "cimport numpy as np\n",
    "import numpy as np\n",
    "import random\n",
    "cpdef np.ndarray[int] apply_between_cy4(np.ndarray[int] x, np.ndarray[int] y):\n",
    "    cdef np.ndarray[int] res = np.empty(len(x), dtype = 'int32')\n",
    "    for i in range(len(x)):\n",
    "        res[i] = random.randint(x[i], y[i])\n",
    "    return res"
   ]
  },
  {
   "cell_type": "code",
   "execution_count": 461,
   "id": "38a4b181-8af4-4cd9-8f09-b111437a314c",
   "metadata": {},
   "outputs": [
    {
     "name": "stdout",
     "output_type": "stream",
     "text": [
      "186 µs ± 1.11 µs per loop (mean ± std. dev. of 7 runs, 10,000 loops each)\n"
     ]
    }
   ],
   "source": [
    "%%timeit\n",
    "(age\n",
    "    .str.split('-', expand=True)\n",
    "    .astype(int)\n",
    "    #.apply(between, axis = 'columns')\n",
    "    .pipe(lambda df_: apply_between_cy4(df_.iloc[:,0].to_numpy(dtype='int32'),\n",
    "                                       df_.iloc[:,1].to_numpy(dtype='int32')))\n",
    ")"
   ]
  },
  {
   "cell_type": "code",
   "execution_count": 462,
   "id": "913f1eb5-7af6-48ee-a2c5-56dccb93b293",
   "metadata": {},
   "outputs": [
    {
     "data": {
      "text/plain": [
       "array([10, 14, 14, 64, 48], dtype=int32)"
      ]
     },
     "execution_count": 462,
     "metadata": {},
     "output_type": "execute_result"
    }
   ],
   "source": [
    "(age\n",
    "    .str.split('-', expand=True)\n",
    "    .astype(int)\n",
    "    #.apply(between, axis = 'columns')\n",
    "    .pipe(lambda df_: apply_between_cy4(df_.iloc[:,0].to_numpy(dtype='int32'),\n",
    "                                       df_.iloc[:,1].to_numpy(dtype='int32')))\n",
    ")"
   ]
  },
  {
   "cell_type": "markdown",
   "id": "c34b6e02-ddf6-4a87-ae66-5bf9a70c1085",
   "metadata": {},
   "source": [
    "## 11.7 Replacing Text"
   ]
  },
  {
   "cell_type": "code",
   "execution_count": 463,
   "id": "d82113f6-ee4b-4bfd-a996-048f08ecb69a",
   "metadata": {},
   "outputs": [
    {
     "data": {
      "text/plain": [
       "0        Ålfa Romeo\n",
       "1           Ferrari\n",
       "2             Dodge\n",
       "3             Dodge\n",
       "4            Subaru\n",
       "            ...    \n",
       "44981        Subaru\n",
       "44982        Subaru\n",
       "44983        Subaru\n",
       "44984        Subaru\n",
       "44985        Subaru\n",
       "Name: make, Length: 44986, dtype: object"
      ]
     },
     "execution_count": 463,
     "metadata": {},
     "output_type": "execute_result"
    }
   ],
   "source": [
    "make.str.replace('A', 'Å')"
   ]
  },
  {
   "cell_type": "code",
   "execution_count": 465,
   "id": "d446a848-9c06-41e2-9b99-47f4908cf4f2",
   "metadata": {},
   "outputs": [
    {
     "data": {
      "text/plain": [
       "0        Alfa Romeo\n",
       "1           Ferrari\n",
       "2             Dodge\n",
       "3             Dodge\n",
       "4            Subaru\n",
       "            ...    \n",
       "44981        Subaru\n",
       "44982        Subaru\n",
       "44983        Subaru\n",
       "44984        Subaru\n",
       "44985        Subaru\n",
       "Name: make, Length: 44986, dtype: object"
      ]
     },
     "execution_count": 465,
     "metadata": {},
     "output_type": "execute_result"
    }
   ],
   "source": [
    "# This version attempts to replace the entire string and there are no makes with the name 'A'\n",
    "make.replace('A', 'Å')"
   ]
  },
  {
   "cell_type": "code",
   "execution_count": 467,
   "id": "25d33962-6722-42ab-85e9-a314bdc54f4c",
   "metadata": {},
   "outputs": [
    {
     "data": {
      "text/plain": [
       "0        Ålfa Romeo\n",
       "1           Ferrari\n",
       "2             Dodge\n",
       "3             Dodge\n",
       "4            Subaru\n",
       "            ...    \n",
       "44981        Subaru\n",
       "44982        Subaru\n",
       "44983        Subaru\n",
       "44984        Subaru\n",
       "44985        Subaru\n",
       "Name: make, Length: 44986, dtype: object"
      ]
     },
     "execution_count": 467,
     "metadata": {},
     "output_type": "execute_result"
    }
   ],
   "source": [
    "# Replace with a dictionary\n",
    "make.replace(\n",
    "    {\n",
    "        'Audi':'Åudi', 'Alfa Romeo':'Ålfa Romeo'\n",
    "    })"
   ]
  },
  {
   "cell_type": "code",
   "execution_count": 468,
   "id": "3214e8e9-5a62-4a84-abf0-c2e9907e5852",
   "metadata": {},
   "outputs": [
    {
     "data": {
      "text/plain": [
       "0        Ålfa Romeo\n",
       "1           Ferrari\n",
       "2             Dodge\n",
       "3             Dodge\n",
       "4            Subaru\n",
       "            ...    \n",
       "44981        Subaru\n",
       "44982        Subaru\n",
       "44983        Subaru\n",
       "44984        Subaru\n",
       "44985        Subaru\n",
       "Name: make, Length: 44986, dtype: object"
      ]
     },
     "execution_count": 468,
     "metadata": {},
     "output_type": "execute_result"
    }
   ],
   "source": [
    "make.replace('A', 'Å', regex=True)"
   ]
  },
  {
   "cell_type": "code",
   "execution_count": 471,
   "id": "6d5260f9-7110-4efd-850e-36c1081026ae",
   "metadata": {},
   "outputs": [
    {
     "data": {
      "text/plain": [
       "0         True\n",
       "1        False\n",
       "2        False\n",
       "3        False\n",
       "4        False\n",
       "         ...  \n",
       "44981    False\n",
       "44982    False\n",
       "44983    False\n",
       "44984    False\n",
       "44985    False\n",
       "Name: make, Length: 44986, dtype: bool"
      ]
     },
     "execution_count": 471,
     "metadata": {},
     "output_type": "execute_result"
    }
   ],
   "source": [
    "make.str.contains(pat='alfa', case=False, na=False)"
   ]
  },
  {
   "cell_type": "code",
   "execution_count": 502,
   "id": "7896f256-0e56-4f4b-b01a-a92f4cf8b1e6",
   "metadata": {},
   "outputs": [
    {
     "name": "stderr",
     "output_type": "stream",
     "text": [
      "/var/folders/xh/wmkr9jls0634tfc2zgq5yzk40000gn/T/ipykernel_23392/1016223558.py:1: UserWarning: This pattern is interpreted as a regular expression, and has match groups. To actually get the groups, use str.extract.\n",
      "  make.str.contains(pat=r'(alfa)|(ferrari)|(ford)', case=False, na=False, regex=True)\n"
     ]
    },
    {
     "data": {
      "text/plain": [
       "0         True\n",
       "1         True\n",
       "2        False\n",
       "3        False\n",
       "4        False\n",
       "         ...  \n",
       "44981    False\n",
       "44982    False\n",
       "44983    False\n",
       "44984    False\n",
       "44985    False\n",
       "Name: make, Length: 44986, dtype: bool"
      ]
     },
     "execution_count": 502,
     "metadata": {},
     "output_type": "execute_result"
    }
   ],
   "source": [
    "make.str.contains(pat=r'(alfa)|(ferrari)|(ford)', case=False, na=False, regex=True)"
   ]
  },
  {
   "cell_type": "code",
   "execution_count": 495,
   "id": "274b9207-c7dd-48bc-8fe2-4e7090fb2b52",
   "metadata": {},
   "outputs": [
    {
     "data": {
      "text/html": [
       "<div>\n",
       "<style scoped>\n",
       "    .dataframe tbody tr th:only-of-type {\n",
       "        vertical-align: middle;\n",
       "    }\n",
       "\n",
       "    .dataframe tbody tr th {\n",
       "        vertical-align: top;\n",
       "    }\n",
       "\n",
       "    .dataframe thead th {\n",
       "        text-align: right;\n",
       "    }\n",
       "</style>\n",
       "<table border=\"1\" class=\"dataframe\">\n",
       "  <thead>\n",
       "    <tr style=\"text-align: right;\">\n",
       "      <th></th>\n",
       "      <th>0</th>\n",
       "      <th>1</th>\n",
       "      <th>2</th>\n",
       "      <th>3</th>\n",
       "    </tr>\n",
       "  </thead>\n",
       "  <tbody>\n",
       "    <tr>\n",
       "      <th>0</th>\n",
       "      <td>Alfa</td>\n",
       "      <td>NaN</td>\n",
       "      <td>NaN</td>\n",
       "      <td>NaN</td>\n",
       "    </tr>\n",
       "    <tr>\n",
       "      <th>1</th>\n",
       "      <td>NaN</td>\n",
       "      <td>NaN</td>\n",
       "      <td>NaN</td>\n",
       "      <td>NaN</td>\n",
       "    </tr>\n",
       "    <tr>\n",
       "      <th>2</th>\n",
       "      <td>NaN</td>\n",
       "      <td>NaN</td>\n",
       "      <td>NaN</td>\n",
       "      <td>Dodge</td>\n",
       "    </tr>\n",
       "    <tr>\n",
       "      <th>3</th>\n",
       "      <td>NaN</td>\n",
       "      <td>NaN</td>\n",
       "      <td>NaN</td>\n",
       "      <td>Dodge</td>\n",
       "    </tr>\n",
       "    <tr>\n",
       "      <th>4</th>\n",
       "      <td>NaN</td>\n",
       "      <td>Subaru</td>\n",
       "      <td>NaN</td>\n",
       "      <td>NaN</td>\n",
       "    </tr>\n",
       "    <tr>\n",
       "      <th>...</th>\n",
       "      <td>...</td>\n",
       "      <td>...</td>\n",
       "      <td>...</td>\n",
       "      <td>...</td>\n",
       "    </tr>\n",
       "    <tr>\n",
       "      <th>44981</th>\n",
       "      <td>NaN</td>\n",
       "      <td>Subaru</td>\n",
       "      <td>NaN</td>\n",
       "      <td>NaN</td>\n",
       "    </tr>\n",
       "    <tr>\n",
       "      <th>44982</th>\n",
       "      <td>NaN</td>\n",
       "      <td>Subaru</td>\n",
       "      <td>NaN</td>\n",
       "      <td>NaN</td>\n",
       "    </tr>\n",
       "    <tr>\n",
       "      <th>44983</th>\n",
       "      <td>NaN</td>\n",
       "      <td>Subaru</td>\n",
       "      <td>NaN</td>\n",
       "      <td>NaN</td>\n",
       "    </tr>\n",
       "    <tr>\n",
       "      <th>44984</th>\n",
       "      <td>NaN</td>\n",
       "      <td>Subaru</td>\n",
       "      <td>NaN</td>\n",
       "      <td>NaN</td>\n",
       "    </tr>\n",
       "    <tr>\n",
       "      <th>44985</th>\n",
       "      <td>NaN</td>\n",
       "      <td>Subaru</td>\n",
       "      <td>NaN</td>\n",
       "      <td>NaN</td>\n",
       "    </tr>\n",
       "  </tbody>\n",
       "</table>\n",
       "<p>44986 rows × 4 columns</p>\n",
       "</div>"
      ],
      "text/plain": [
       "          0       1    2      3\n",
       "0      Alfa     NaN  NaN    NaN\n",
       "1       NaN     NaN  NaN    NaN\n",
       "2       NaN     NaN  NaN  Dodge\n",
       "3       NaN     NaN  NaN  Dodge\n",
       "4       NaN  Subaru  NaN    NaN\n",
       "...     ...     ...  ...    ...\n",
       "44981   NaN  Subaru  NaN    NaN\n",
       "44982   NaN  Subaru  NaN    NaN\n",
       "44983   NaN  Subaru  NaN    NaN\n",
       "44984   NaN  Subaru  NaN    NaN\n",
       "44985   NaN  Subaru  NaN    NaN\n",
       "\n",
       "[44986 rows x 4 columns]"
      ]
     },
     "execution_count": 495,
     "metadata": {},
     "output_type": "execute_result"
    }
   ],
   "source": [
    "import re\n",
    "make.str.extract(pat=r'(alfa)|(subaru)|(ford)|(dodge)', flags=re.IGNORECASE, expand=True, )"
   ]
  },
  {
   "cell_type": "markdown",
   "id": "3416b2ea-5189-4c8f-8afb-acb4fe2604bc",
   "metadata": {},
   "source": [
    "### Extract the matching values with a column for each group in the regex"
   ]
  },
  {
   "cell_type": "code",
   "execution_count": 515,
   "id": "308cddb1-d252-423c-87ef-09b151504842",
   "metadata": {},
   "outputs": [
    {
     "data": {
      "text/html": [
       "<div>\n",
       "<style scoped>\n",
       "    .dataframe tbody tr th:only-of-type {\n",
       "        vertical-align: middle;\n",
       "    }\n",
       "\n",
       "    .dataframe tbody tr th {\n",
       "        vertical-align: top;\n",
       "    }\n",
       "\n",
       "    .dataframe thead th {\n",
       "        text-align: right;\n",
       "    }\n",
       "</style>\n",
       "<table border=\"1\" class=\"dataframe\">\n",
       "  <thead>\n",
       "    <tr style=\"text-align: right;\">\n",
       "      <th></th>\n",
       "      <th></th>\n",
       "      <th>0</th>\n",
       "      <th>1</th>\n",
       "      <th>2</th>\n",
       "    </tr>\n",
       "    <tr>\n",
       "      <th></th>\n",
       "      <th>match</th>\n",
       "      <th></th>\n",
       "      <th></th>\n",
       "      <th></th>\n",
       "    </tr>\n",
       "  </thead>\n",
       "  <tbody>\n",
       "    <tr>\n",
       "      <th>0</th>\n",
       "      <th>0</th>\n",
       "      <td>Alfa Romeo</td>\n",
       "      <td>NaN</td>\n",
       "      <td>NaN</td>\n",
       "    </tr>\n",
       "    <tr>\n",
       "      <th>2</th>\n",
       "      <th>0</th>\n",
       "      <td>NaN</td>\n",
       "      <td>Dodge</td>\n",
       "      <td>NaN</td>\n",
       "    </tr>\n",
       "    <tr>\n",
       "      <th>3</th>\n",
       "      <th>0</th>\n",
       "      <td>NaN</td>\n",
       "      <td>Dodge</td>\n",
       "      <td>NaN</td>\n",
       "    </tr>\n",
       "    <tr>\n",
       "      <th>14</th>\n",
       "      <th>0</th>\n",
       "      <td>NaN</td>\n",
       "      <td>Dodge</td>\n",
       "      <td>NaN</td>\n",
       "    </tr>\n",
       "    <tr>\n",
       "      <th>25</th>\n",
       "      <th>0</th>\n",
       "      <td>NaN</td>\n",
       "      <td>Dodge</td>\n",
       "      <td>NaN</td>\n",
       "    </tr>\n",
       "    <tr>\n",
       "      <th>...</th>\n",
       "      <th>...</th>\n",
       "      <td>...</td>\n",
       "      <td>...</td>\n",
       "      <td>...</td>\n",
       "    </tr>\n",
       "    <tr>\n",
       "      <th>44892</th>\n",
       "      <th>0</th>\n",
       "      <td>NaN</td>\n",
       "      <td>Dodge</td>\n",
       "      <td>NaN</td>\n",
       "    </tr>\n",
       "    <tr>\n",
       "      <th>44893</th>\n",
       "      <th>0</th>\n",
       "      <td>NaN</td>\n",
       "      <td>Dodge</td>\n",
       "      <td>NaN</td>\n",
       "    </tr>\n",
       "    <tr>\n",
       "      <th>44953</th>\n",
       "      <th>0</th>\n",
       "      <td>NaN</td>\n",
       "      <td>Dodge</td>\n",
       "      <td>NaN</td>\n",
       "    </tr>\n",
       "    <tr>\n",
       "      <th>44964</th>\n",
       "      <th>0</th>\n",
       "      <td>NaN</td>\n",
       "      <td>Dodge</td>\n",
       "      <td>NaN</td>\n",
       "    </tr>\n",
       "    <tr>\n",
       "      <th>44975</th>\n",
       "      <th>0</th>\n",
       "      <td>NaN</td>\n",
       "      <td>Dodge</td>\n",
       "      <td>NaN</td>\n",
       "    </tr>\n",
       "  </tbody>\n",
       "</table>\n",
       "<p>2736 rows × 3 columns</p>\n",
       "</div>"
      ],
      "text/plain": [
       "                      0      1    2\n",
       "      match                        \n",
       "0     0      Alfa Romeo    NaN  NaN\n",
       "2     0             NaN  Dodge  NaN\n",
       "3     0             NaN  Dodge  NaN\n",
       "14    0             NaN  Dodge  NaN\n",
       "25    0             NaN  Dodge  NaN\n",
       "...                 ...    ...  ...\n",
       "44892 0             NaN  Dodge  NaN\n",
       "44893 0             NaN  Dodge  NaN\n",
       "44953 0             NaN  Dodge  NaN\n",
       "44964 0             NaN  Dodge  NaN\n",
       "44975 0             NaN  Dodge  NaN\n",
       "\n",
       "[2736 rows x 3 columns]"
      ]
     },
     "execution_count": 515,
     "metadata": {},
     "output_type": "execute_result"
    }
   ],
   "source": [
    "make.str.extractall(pat=r'(alfa romeo)|(dodge)|(romeo)', flags=re.IGNORECASE)"
   ]
  },
  {
   "cell_type": "markdown",
   "id": "524568cc-21ff-4fe3-9e77-873041efb3df",
   "metadata": {},
   "source": [
    "### Get dummy variables for columns with categorical values"
   ]
  },
  {
   "cell_type": "code",
   "execution_count": 517,
   "id": "0aedaec4-d041-42e3-baed-d65668b555f3",
   "metadata": {},
   "outputs": [
    {
     "data": {
      "text/html": [
       "<div>\n",
       "<style scoped>\n",
       "    .dataframe tbody tr th:only-of-type {\n",
       "        vertical-align: middle;\n",
       "    }\n",
       "\n",
       "    .dataframe tbody tr th {\n",
       "        vertical-align: top;\n",
       "    }\n",
       "\n",
       "    .dataframe thead th {\n",
       "        text-align: right;\n",
       "    }\n",
       "</style>\n",
       "<table border=\"1\" class=\"dataframe\">\n",
       "  <thead>\n",
       "    <tr style=\"text-align: right;\">\n",
       "      <th></th>\n",
       "      <th>AM General</th>\n",
       "      <th>ASC Incorporated</th>\n",
       "      <th>Acura</th>\n",
       "      <th>Alfa Romeo</th>\n",
       "      <th>American Motors Corporation</th>\n",
       "      <th>Aston Martin</th>\n",
       "      <th>Audi</th>\n",
       "      <th>Aurora Cars Ltd</th>\n",
       "      <th>Autokraft Limited</th>\n",
       "      <th>Avanti Motor Corporation</th>\n",
       "      <th>...</th>\n",
       "      <th>Toyota</th>\n",
       "      <th>VPG</th>\n",
       "      <th>Vector</th>\n",
       "      <th>Vixen Motor Company</th>\n",
       "      <th>Volga Associated Automobile</th>\n",
       "      <th>Volkswagen</th>\n",
       "      <th>Volvo</th>\n",
       "      <th>Wallace Environmental</th>\n",
       "      <th>Yugo</th>\n",
       "      <th>smart</th>\n",
       "    </tr>\n",
       "  </thead>\n",
       "  <tbody>\n",
       "    <tr>\n",
       "      <th>0</th>\n",
       "      <td>0</td>\n",
       "      <td>0</td>\n",
       "      <td>0</td>\n",
       "      <td>1</td>\n",
       "      <td>0</td>\n",
       "      <td>0</td>\n",
       "      <td>0</td>\n",
       "      <td>0</td>\n",
       "      <td>0</td>\n",
       "      <td>0</td>\n",
       "      <td>...</td>\n",
       "      <td>0</td>\n",
       "      <td>0</td>\n",
       "      <td>0</td>\n",
       "      <td>0</td>\n",
       "      <td>0</td>\n",
       "      <td>0</td>\n",
       "      <td>0</td>\n",
       "      <td>0</td>\n",
       "      <td>0</td>\n",
       "      <td>0</td>\n",
       "    </tr>\n",
       "    <tr>\n",
       "      <th>1</th>\n",
       "      <td>0</td>\n",
       "      <td>0</td>\n",
       "      <td>0</td>\n",
       "      <td>0</td>\n",
       "      <td>0</td>\n",
       "      <td>0</td>\n",
       "      <td>0</td>\n",
       "      <td>0</td>\n",
       "      <td>0</td>\n",
       "      <td>0</td>\n",
       "      <td>...</td>\n",
       "      <td>0</td>\n",
       "      <td>0</td>\n",
       "      <td>0</td>\n",
       "      <td>0</td>\n",
       "      <td>0</td>\n",
       "      <td>0</td>\n",
       "      <td>0</td>\n",
       "      <td>0</td>\n",
       "      <td>0</td>\n",
       "      <td>0</td>\n",
       "    </tr>\n",
       "    <tr>\n",
       "      <th>2</th>\n",
       "      <td>0</td>\n",
       "      <td>0</td>\n",
       "      <td>0</td>\n",
       "      <td>0</td>\n",
       "      <td>0</td>\n",
       "      <td>0</td>\n",
       "      <td>0</td>\n",
       "      <td>0</td>\n",
       "      <td>0</td>\n",
       "      <td>0</td>\n",
       "      <td>...</td>\n",
       "      <td>0</td>\n",
       "      <td>0</td>\n",
       "      <td>0</td>\n",
       "      <td>0</td>\n",
       "      <td>0</td>\n",
       "      <td>0</td>\n",
       "      <td>0</td>\n",
       "      <td>0</td>\n",
       "      <td>0</td>\n",
       "      <td>0</td>\n",
       "    </tr>\n",
       "    <tr>\n",
       "      <th>3</th>\n",
       "      <td>0</td>\n",
       "      <td>0</td>\n",
       "      <td>0</td>\n",
       "      <td>0</td>\n",
       "      <td>0</td>\n",
       "      <td>0</td>\n",
       "      <td>0</td>\n",
       "      <td>0</td>\n",
       "      <td>0</td>\n",
       "      <td>0</td>\n",
       "      <td>...</td>\n",
       "      <td>0</td>\n",
       "      <td>0</td>\n",
       "      <td>0</td>\n",
       "      <td>0</td>\n",
       "      <td>0</td>\n",
       "      <td>0</td>\n",
       "      <td>0</td>\n",
       "      <td>0</td>\n",
       "      <td>0</td>\n",
       "      <td>0</td>\n",
       "    </tr>\n",
       "    <tr>\n",
       "      <th>4</th>\n",
       "      <td>0</td>\n",
       "      <td>0</td>\n",
       "      <td>0</td>\n",
       "      <td>0</td>\n",
       "      <td>0</td>\n",
       "      <td>0</td>\n",
       "      <td>0</td>\n",
       "      <td>0</td>\n",
       "      <td>0</td>\n",
       "      <td>0</td>\n",
       "      <td>...</td>\n",
       "      <td>0</td>\n",
       "      <td>0</td>\n",
       "      <td>0</td>\n",
       "      <td>0</td>\n",
       "      <td>0</td>\n",
       "      <td>0</td>\n",
       "      <td>0</td>\n",
       "      <td>0</td>\n",
       "      <td>0</td>\n",
       "      <td>0</td>\n",
       "    </tr>\n",
       "    <tr>\n",
       "      <th>...</th>\n",
       "      <td>...</td>\n",
       "      <td>...</td>\n",
       "      <td>...</td>\n",
       "      <td>...</td>\n",
       "      <td>...</td>\n",
       "      <td>...</td>\n",
       "      <td>...</td>\n",
       "      <td>...</td>\n",
       "      <td>...</td>\n",
       "      <td>...</td>\n",
       "      <td>...</td>\n",
       "      <td>...</td>\n",
       "      <td>...</td>\n",
       "      <td>...</td>\n",
       "      <td>...</td>\n",
       "      <td>...</td>\n",
       "      <td>...</td>\n",
       "      <td>...</td>\n",
       "      <td>...</td>\n",
       "      <td>...</td>\n",
       "      <td>...</td>\n",
       "    </tr>\n",
       "    <tr>\n",
       "      <th>44981</th>\n",
       "      <td>0</td>\n",
       "      <td>0</td>\n",
       "      <td>0</td>\n",
       "      <td>0</td>\n",
       "      <td>0</td>\n",
       "      <td>0</td>\n",
       "      <td>0</td>\n",
       "      <td>0</td>\n",
       "      <td>0</td>\n",
       "      <td>0</td>\n",
       "      <td>...</td>\n",
       "      <td>0</td>\n",
       "      <td>0</td>\n",
       "      <td>0</td>\n",
       "      <td>0</td>\n",
       "      <td>0</td>\n",
       "      <td>0</td>\n",
       "      <td>0</td>\n",
       "      <td>0</td>\n",
       "      <td>0</td>\n",
       "      <td>0</td>\n",
       "    </tr>\n",
       "    <tr>\n",
       "      <th>44982</th>\n",
       "      <td>0</td>\n",
       "      <td>0</td>\n",
       "      <td>0</td>\n",
       "      <td>0</td>\n",
       "      <td>0</td>\n",
       "      <td>0</td>\n",
       "      <td>0</td>\n",
       "      <td>0</td>\n",
       "      <td>0</td>\n",
       "      <td>0</td>\n",
       "      <td>...</td>\n",
       "      <td>0</td>\n",
       "      <td>0</td>\n",
       "      <td>0</td>\n",
       "      <td>0</td>\n",
       "      <td>0</td>\n",
       "      <td>0</td>\n",
       "      <td>0</td>\n",
       "      <td>0</td>\n",
       "      <td>0</td>\n",
       "      <td>0</td>\n",
       "    </tr>\n",
       "    <tr>\n",
       "      <th>44983</th>\n",
       "      <td>0</td>\n",
       "      <td>0</td>\n",
       "      <td>0</td>\n",
       "      <td>0</td>\n",
       "      <td>0</td>\n",
       "      <td>0</td>\n",
       "      <td>0</td>\n",
       "      <td>0</td>\n",
       "      <td>0</td>\n",
       "      <td>0</td>\n",
       "      <td>...</td>\n",
       "      <td>0</td>\n",
       "      <td>0</td>\n",
       "      <td>0</td>\n",
       "      <td>0</td>\n",
       "      <td>0</td>\n",
       "      <td>0</td>\n",
       "      <td>0</td>\n",
       "      <td>0</td>\n",
       "      <td>0</td>\n",
       "      <td>0</td>\n",
       "    </tr>\n",
       "    <tr>\n",
       "      <th>44984</th>\n",
       "      <td>0</td>\n",
       "      <td>0</td>\n",
       "      <td>0</td>\n",
       "      <td>0</td>\n",
       "      <td>0</td>\n",
       "      <td>0</td>\n",
       "      <td>0</td>\n",
       "      <td>0</td>\n",
       "      <td>0</td>\n",
       "      <td>0</td>\n",
       "      <td>...</td>\n",
       "      <td>0</td>\n",
       "      <td>0</td>\n",
       "      <td>0</td>\n",
       "      <td>0</td>\n",
       "      <td>0</td>\n",
       "      <td>0</td>\n",
       "      <td>0</td>\n",
       "      <td>0</td>\n",
       "      <td>0</td>\n",
       "      <td>0</td>\n",
       "    </tr>\n",
       "    <tr>\n",
       "      <th>44985</th>\n",
       "      <td>0</td>\n",
       "      <td>0</td>\n",
       "      <td>0</td>\n",
       "      <td>0</td>\n",
       "      <td>0</td>\n",
       "      <td>0</td>\n",
       "      <td>0</td>\n",
       "      <td>0</td>\n",
       "      <td>0</td>\n",
       "      <td>0</td>\n",
       "      <td>...</td>\n",
       "      <td>0</td>\n",
       "      <td>0</td>\n",
       "      <td>0</td>\n",
       "      <td>0</td>\n",
       "      <td>0</td>\n",
       "      <td>0</td>\n",
       "      <td>0</td>\n",
       "      <td>0</td>\n",
       "      <td>0</td>\n",
       "      <td>0</td>\n",
       "    </tr>\n",
       "  </tbody>\n",
       "</table>\n",
       "<p>44986 rows × 141 columns</p>\n",
       "</div>"
      ],
      "text/plain": [
       "       AM General  ASC Incorporated  Acura  Alfa Romeo  \\\n",
       "0               0                 0      0           1   \n",
       "1               0                 0      0           0   \n",
       "2               0                 0      0           0   \n",
       "3               0                 0      0           0   \n",
       "4               0                 0      0           0   \n",
       "...           ...               ...    ...         ...   \n",
       "44981           0                 0      0           0   \n",
       "44982           0                 0      0           0   \n",
       "44983           0                 0      0           0   \n",
       "44984           0                 0      0           0   \n",
       "44985           0                 0      0           0   \n",
       "\n",
       "       American Motors Corporation  Aston Martin  Audi  Aurora Cars Ltd  \\\n",
       "0                                0             0     0                0   \n",
       "1                                0             0     0                0   \n",
       "2                                0             0     0                0   \n",
       "3                                0             0     0                0   \n",
       "4                                0             0     0                0   \n",
       "...                            ...           ...   ...              ...   \n",
       "44981                            0             0     0                0   \n",
       "44982                            0             0     0                0   \n",
       "44983                            0             0     0                0   \n",
       "44984                            0             0     0                0   \n",
       "44985                            0             0     0                0   \n",
       "\n",
       "       Autokraft Limited  Avanti Motor Corporation  ...  Toyota  VPG  Vector  \\\n",
       "0                      0                         0  ...       0    0       0   \n",
       "1                      0                         0  ...       0    0       0   \n",
       "2                      0                         0  ...       0    0       0   \n",
       "3                      0                         0  ...       0    0       0   \n",
       "4                      0                         0  ...       0    0       0   \n",
       "...                  ...                       ...  ...     ...  ...     ...   \n",
       "44981                  0                         0  ...       0    0       0   \n",
       "44982                  0                         0  ...       0    0       0   \n",
       "44983                  0                         0  ...       0    0       0   \n",
       "44984                  0                         0  ...       0    0       0   \n",
       "44985                  0                         0  ...       0    0       0   \n",
       "\n",
       "       Vixen Motor Company  Volga Associated Automobile  Volkswagen  Volvo  \\\n",
       "0                        0                            0           0      0   \n",
       "1                        0                            0           0      0   \n",
       "2                        0                            0           0      0   \n",
       "3                        0                            0           0      0   \n",
       "4                        0                            0           0      0   \n",
       "...                    ...                          ...         ...    ...   \n",
       "44981                    0                            0           0      0   \n",
       "44982                    0                            0           0      0   \n",
       "44983                    0                            0           0      0   \n",
       "44984                    0                            0           0      0   \n",
       "44985                    0                            0           0      0   \n",
       "\n",
       "       Wallace Environmental  Yugo  smart  \n",
       "0                          0     0      0  \n",
       "1                          0     0      0  \n",
       "2                          0     0      0  \n",
       "3                          0     0      0  \n",
       "4                          0     0      0  \n",
       "...                      ...   ...    ...  \n",
       "44981                      0     0      0  \n",
       "44982                      0     0      0  \n",
       "44983                      0     0      0  \n",
       "44984                      0     0      0  \n",
       "44985                      0     0      0  \n",
       "\n",
       "[44986 rows x 141 columns]"
      ]
     },
     "execution_count": 517,
     "metadata": {},
     "output_type": "execute_result"
    }
   ],
   "source": [
    "make.str.get_dummies()"
   ]
  },
  {
   "cell_type": "markdown",
   "id": "eb802d04-f3e5-4ce1-b65a-8dad122d7e35",
   "metadata": {},
   "source": [
    "### Count the frequency of regex patterns"
   ]
  },
  {
   "cell_type": "code",
   "execution_count": 526,
   "id": "d83d4f9f-28e3-4bdf-a510-6441c6045774",
   "metadata": {
    "tags": []
   },
   "outputs": [
    {
     "data": {
      "text/plain": [
       "0        5\n",
       "1        1\n",
       "2        3\n",
       "3        3\n",
       "4        2\n",
       "        ..\n",
       "44981    2\n",
       "44982    2\n",
       "44983    2\n",
       "44984    2\n",
       "44985    2\n",
       "Name: make, Length: 44986, dtype: int64"
      ]
     },
     "execution_count": 526,
     "metadata": {},
     "output_type": "execute_result"
    }
   ],
   "source": [
    "make.str.count(pat=r'(a)|(d)|(l)|(o)|(s)', flags=re.IGNORECASE)"
   ]
  },
  {
   "cell_type": "code",
   "execution_count": 530,
   "id": "d421edd3-2b95-4cc0-8588-e1296e680cf1",
   "metadata": {},
   "outputs": [
    {
     "data": {
      "text/plain": [
       "0        Alfa Romeo\n",
       "1        000Ferrari\n",
       "2        00000Dodge\n",
       "3        00000Dodge\n",
       "4        0000Subaru\n",
       "            ...    \n",
       "44981    0000Subaru\n",
       "44982    0000Subaru\n",
       "44983    0000Subaru\n",
       "44984    0000Subaru\n",
       "44985    0000Subaru\n",
       "Name: make, Length: 44986, dtype: object"
      ]
     },
     "execution_count": 530,
     "metadata": {},
     "output_type": "execute_result"
    }
   ],
   "source": [
    "make.str.zfill(width=10)"
   ]
  },
  {
   "cell_type": "code",
   "execution_count": 531,
   "id": "33c4d7ba-fdb6-475c-bdaf-23ab713274e2",
   "metadata": {},
   "outputs": [
    {
     "data": {
      "text/plain": [
       "0        Alfa Romeo\n",
       "1        ___Ferrari\n",
       "2        _____Dodge\n",
       "3        _____Dodge\n",
       "4        ____Subaru\n",
       "            ...    \n",
       "44981    ____Subaru\n",
       "44982    ____Subaru\n",
       "44983    ____Subaru\n",
       "44984    ____Subaru\n",
       "44985    ____Subaru\n",
       "Name: make, Length: 44986, dtype: object"
      ]
     },
     "execution_count": 531,
     "metadata": {},
     "output_type": "execute_result"
    }
   ],
   "source": [
    "make.str.pad(width=10, fillchar='_')"
   ]
  },
  {
   "cell_type": "code",
   "execution_count": null,
   "id": "7d0dabc9-a9ef-4828-bf69-63e4ee9b6c63",
   "metadata": {},
   "outputs": [],
   "source": []
  }
 ],
 "metadata": {
  "kernelspec": {
   "display_name": "Python 3 (ipykernel)",
   "language": "python",
   "name": "python3"
  },
  "language_info": {
   "codemirror_mode": {
    "name": "ipython",
    "version": 3
   },
   "file_extension": ".py",
   "mimetype": "text/x-python",
   "name": "python",
   "nbconvert_exporter": "python",
   "pygments_lexer": "ipython3",
   "version": "3.9.10"
  },
  "toc-autonumbering": false,
  "toc-showcode": false,
  "toc-showmarkdowntxt": false
 },
 "nbformat": 4,
 "nbformat_minor": 5
}
